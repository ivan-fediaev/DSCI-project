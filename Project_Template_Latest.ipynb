{
 "cells": [
  {
   "cell_type": "markdown",
   "metadata": {},
   "source": [
    "# Quality Prediction of Red Wine and White Wine Based on Physicochemical Tests\n"
   ]
  },
  {
   "cell_type": "markdown",
   "metadata": {},
   "source": [
    "##  Introduction\n"
   ]
  },
  {
   "cell_type": "markdown",
   "metadata": {},
   "source": [
    "Wine is an alcoholic beverage made from the process of fermenting grapes with yeast to create a drink that is a 7 billion dollar industry in Canada ([Statistics Canada](https://www150.statcan.gc.ca/n1/daily-quotidien/170502/dq170502a-eng.htm)). White wine and red wine are two variants of wine that is widely known. Red wine is made from dark-colored grape varieties, while white wine is made from non-colored grape pulp ([Wikipedia](https://en.wikipedia.org/wiki/Wine)). Physicochemical properties (such as pH and acidity) depend on many different environmental factors (like climate and soil composition) ([Decanter](https://www.decanter.com/learn/wset/factors-that-influence-wine-conditions-and-growing-environment-wset-level-2-282900/)) that affect the taste and quality of wine. Knowing which concentrations of chemicals that make up a good wine could be useful to somebody that is involved in the production or selling of wine by giving them knowledge that could help them decide to make or sell specific wines based on their chemical compositions. This brings us to our question: can we accurately predict the quality of red and whites wines with a k-nn regression model based on the results of the physicochemical tests?\n",
    "\n",
    "The two serparate data sets that we will be working with are related to the red and white variants of the Portuguese \"Vinho Verde\" wine. They both contain 11 physicochemical parameters (fixed acidity, volatile acidity, citric acid, residual sugar, chlorides, free sulfur dioxide, total sulfur dioxide, density, pH,  sulphates, alcohol) and the quality index on a scale of 0-10. The red wine and white wine data sets have 1599 and 4898 samples respectively with a distrubtion of average wines being more common and poor/superb wines being uncommon.   \n"
   ]
  },
  {
   "cell_type": "markdown",
   "metadata": {},
   "source": [
    "## Methods and Results"
   ]
  },
  {
   "cell_type": "code",
   "execution_count": null,
   "metadata": {},
   "outputs": [],
   "source": []
  },
  {
   "cell_type": "code",
   "execution_count": 3,
   "metadata": {},
   "outputs": [
    {
     "name": "stderr",
     "output_type": "stream",
     "text": [
      "Loading tidyverse: ggplot2\n",
      "Loading tidyverse: tibble\n",
      "Loading tidyverse: tidyr\n",
      "Loading tidyverse: readr\n",
      "Loading tidyverse: purrr\n",
      "Loading tidyverse: dplyr\n",
      "Conflicts with tidy packages ---------------------------------------------------\n",
      "filter(): dplyr, stats\n",
      "lag():    dplyr, stats\n",
      "\n",
      "Attaching package: ‘testthat’\n",
      "\n",
      "The following object is masked from ‘package:dplyr’:\n",
      "\n",
      "    matches\n",
      "\n",
      "The following object is masked from ‘package:purrr’:\n",
      "\n",
      "    is_null\n",
      "\n",
      "Loading required package: lattice\n",
      "\n",
      "Attaching package: ‘caret’\n",
      "\n",
      "The following object is masked from ‘package:purrr’:\n",
      "\n",
      "    lift\n",
      "\n",
      "Updating HTML index of packages in '.Library'\n",
      "Making 'packages.html' ... done\n",
      "also installing the dependencies ‘progress’, ‘reshape’\n",
      "\n",
      "Updating HTML index of packages in '.Library'\n",
      "Making 'packages.html' ... done\n",
      "\n",
      "Attaching package: ‘GGally’\n",
      "\n",
      "The following object is masked from ‘package:dplyr’:\n",
      "\n",
      "    nasa\n",
      "\n",
      "Updating HTML index of packages in '.Library'\n",
      "Making 'packages.html' ... done\n",
      "\n",
      "Attaching package: ‘gridExtra’\n",
      "\n",
      "The following object is masked from ‘package:dplyr’:\n",
      "\n",
      "    combine\n",
      "\n",
      "Updating HTML index of packages in '.Library'\n",
      "Making 'packages.html' ... done\n",
      "Loaded ROSE 0.0-3\n",
      "\n"
     ]
    }
   ],
   "source": [
    "library(tidyverse)\n",
    "library(testthat)\n",
    "library(digest)\n",
    "library(repr)\n",
    "library(caret)\n",
    "install.packages(\"e1071\")\n",
    "library(e1071)\n",
    "install.packages(\"GGally\")\n",
    "library(GGally)\n",
    "install.packages(\"gridExtra\")\n",
    "library(gridExtra)\n",
    "install.packages(\"ROSE\")\n",
    "library(ROSE)"
   ]
  },
  {
   "cell_type": "markdown",
   "metadata": {},
   "source": [
    "The data sets were downloaded from [here](https://archive.ics.uci.edu/ml/machine-learning-databases/wine-quality/), placed in the same folder that this notebook is in and read in using read.csv with the semi-colon as the separater argument."
   ]
  },
  {
   "cell_type": "code",
   "execution_count": 4,
   "metadata": {
    "scrolled": true
   },
   "outputs": [
    {
     "data": {
      "text/html": [
       "<table>\n",
       "<thead><tr><th scope=col>fixed.acidity</th><th scope=col>volatile.acidity</th><th scope=col>citric.acid</th><th scope=col>residual.sugar</th><th scope=col>chlorides</th><th scope=col>free.sulfur.dioxide</th><th scope=col>total.sulfur.dioxide</th><th scope=col>density</th><th scope=col>pH</th><th scope=col>sulphates</th><th scope=col>alcohol</th><th scope=col>quality</th></tr></thead>\n",
       "<tbody>\n",
       "\t<tr><td> 7.4  </td><td>0.70  </td><td>0.00  </td><td>1.9   </td><td>0.076 </td><td>11    </td><td>34    </td><td>0.9978</td><td>3.51  </td><td>0.56  </td><td>9.4   </td><td>5     </td></tr>\n",
       "\t<tr><td> 7.8  </td><td>0.88  </td><td>0.00  </td><td>2.6   </td><td>0.098 </td><td>25    </td><td>67    </td><td>0.9968</td><td>3.20  </td><td>0.68  </td><td>9.8   </td><td>5     </td></tr>\n",
       "\t<tr><td> 7.8  </td><td>0.76  </td><td>0.04  </td><td>2.3   </td><td>0.092 </td><td>15    </td><td>54    </td><td>0.9970</td><td>3.26  </td><td>0.65  </td><td>9.8   </td><td>5     </td></tr>\n",
       "\t<tr><td>11.2  </td><td>0.28  </td><td>0.56  </td><td>1.9   </td><td>0.075 </td><td>17    </td><td>60    </td><td>0.9980</td><td>3.16  </td><td>0.58  </td><td>9.8   </td><td>6     </td></tr>\n",
       "\t<tr><td> 7.4  </td><td>0.70  </td><td>0.00  </td><td>1.9   </td><td>0.076 </td><td>11    </td><td>34    </td><td>0.9978</td><td>3.51  </td><td>0.56  </td><td>9.4   </td><td>5     </td></tr>\n",
       "\t<tr><td> 7.4  </td><td>0.66  </td><td>0.00  </td><td>1.8   </td><td>0.075 </td><td>13    </td><td>40    </td><td>0.9978</td><td>3.51  </td><td>0.56  </td><td>9.4   </td><td>5     </td></tr>\n",
       "</tbody>\n",
       "</table>\n"
      ],
      "text/latex": [
       "\\begin{tabular}{r|llllllllllll}\n",
       " fixed.acidity & volatile.acidity & citric.acid & residual.sugar & chlorides & free.sulfur.dioxide & total.sulfur.dioxide & density & pH & sulphates & alcohol & quality\\\\\n",
       "\\hline\n",
       "\t  7.4   & 0.70   & 0.00   & 1.9    & 0.076  & 11     & 34     & 0.9978 & 3.51   & 0.56   & 9.4    & 5     \\\\\n",
       "\t  7.8   & 0.88   & 0.00   & 2.6    & 0.098  & 25     & 67     & 0.9968 & 3.20   & 0.68   & 9.8    & 5     \\\\\n",
       "\t  7.8   & 0.76   & 0.04   & 2.3    & 0.092  & 15     & 54     & 0.9970 & 3.26   & 0.65   & 9.8    & 5     \\\\\n",
       "\t 11.2   & 0.28   & 0.56   & 1.9    & 0.075  & 17     & 60     & 0.9980 & 3.16   & 0.58   & 9.8    & 6     \\\\\n",
       "\t  7.4   & 0.70   & 0.00   & 1.9    & 0.076  & 11     & 34     & 0.9978 & 3.51   & 0.56   & 9.4    & 5     \\\\\n",
       "\t  7.4   & 0.66   & 0.00   & 1.8    & 0.075  & 13     & 40     & 0.9978 & 3.51   & 0.56   & 9.4    & 5     \\\\\n",
       "\\end{tabular}\n"
      ],
      "text/markdown": [
       "\n",
       "fixed.acidity | volatile.acidity | citric.acid | residual.sugar | chlorides | free.sulfur.dioxide | total.sulfur.dioxide | density | pH | sulphates | alcohol | quality | \n",
       "|---|---|---|---|---|---|\n",
       "|  7.4   | 0.70   | 0.00   | 1.9    | 0.076  | 11     | 34     | 0.9978 | 3.51   | 0.56   | 9.4    | 5      | \n",
       "|  7.8   | 0.88   | 0.00   | 2.6    | 0.098  | 25     | 67     | 0.9968 | 3.20   | 0.68   | 9.8    | 5      | \n",
       "|  7.8   | 0.76   | 0.04   | 2.3    | 0.092  | 15     | 54     | 0.9970 | 3.26   | 0.65   | 9.8    | 5      | \n",
       "| 11.2   | 0.28   | 0.56   | 1.9    | 0.075  | 17     | 60     | 0.9980 | 3.16   | 0.58   | 9.8    | 6      | \n",
       "|  7.4   | 0.70   | 0.00   | 1.9    | 0.076  | 11     | 34     | 0.9978 | 3.51   | 0.56   | 9.4    | 5      | \n",
       "|  7.4   | 0.66   | 0.00   | 1.8    | 0.075  | 13     | 40     | 0.9978 | 3.51   | 0.56   | 9.4    | 5      | \n",
       "\n",
       "\n"
      ],
      "text/plain": [
       "  fixed.acidity volatile.acidity citric.acid residual.sugar chlorides\n",
       "1  7.4          0.70             0.00        1.9            0.076    \n",
       "2  7.8          0.88             0.00        2.6            0.098    \n",
       "3  7.8          0.76             0.04        2.3            0.092    \n",
       "4 11.2          0.28             0.56        1.9            0.075    \n",
       "5  7.4          0.70             0.00        1.9            0.076    \n",
       "6  7.4          0.66             0.00        1.8            0.075    \n",
       "  free.sulfur.dioxide total.sulfur.dioxide density pH   sulphates alcohol\n",
       "1 11                  34                   0.9978  3.51 0.56      9.4    \n",
       "2 25                  67                   0.9968  3.20 0.68      9.8    \n",
       "3 15                  54                   0.9970  3.26 0.65      9.8    \n",
       "4 17                  60                   0.9980  3.16 0.58      9.8    \n",
       "5 11                  34                   0.9978  3.51 0.56      9.4    \n",
       "6 13                  40                   0.9978  3.51 0.56      9.4    \n",
       "  quality\n",
       "1 5      \n",
       "2 5      \n",
       "3 5      \n",
       "4 6      \n",
       "5 5      \n",
       "6 5      "
      ]
     },
     "metadata": {},
     "output_type": "display_data"
    },
    {
     "data": {
      "text/html": [
       "<table>\n",
       "<thead><tr><th scope=col>fixed.acidity</th><th scope=col>volatile.acidity</th><th scope=col>citric.acid</th><th scope=col>residual.sugar</th><th scope=col>chlorides</th><th scope=col>free.sulfur.dioxide</th><th scope=col>total.sulfur.dioxide</th><th scope=col>density</th><th scope=col>pH</th><th scope=col>sulphates</th><th scope=col>alcohol</th><th scope=col>quality</th></tr></thead>\n",
       "<tbody>\n",
       "\t<tr><td>7.0   </td><td>0.27  </td><td>0.36  </td><td>20.7  </td><td>0.045 </td><td>45    </td><td>170   </td><td>1.0010</td><td>3.00  </td><td>0.45  </td><td> 8.8  </td><td>6     </td></tr>\n",
       "\t<tr><td>6.3   </td><td>0.30  </td><td>0.34  </td><td> 1.6  </td><td>0.049 </td><td>14    </td><td>132   </td><td>0.9940</td><td>3.30  </td><td>0.49  </td><td> 9.5  </td><td>6     </td></tr>\n",
       "\t<tr><td>8.1   </td><td>0.28  </td><td>0.40  </td><td> 6.9  </td><td>0.050 </td><td>30    </td><td> 97   </td><td>0.9951</td><td>3.26  </td><td>0.44  </td><td>10.1  </td><td>6     </td></tr>\n",
       "\t<tr><td>7.2   </td><td>0.23  </td><td>0.32  </td><td> 8.5  </td><td>0.058 </td><td>47    </td><td>186   </td><td>0.9956</td><td>3.19  </td><td>0.40  </td><td> 9.9  </td><td>6     </td></tr>\n",
       "\t<tr><td>7.2   </td><td>0.23  </td><td>0.32  </td><td> 8.5  </td><td>0.058 </td><td>47    </td><td>186   </td><td>0.9956</td><td>3.19  </td><td>0.40  </td><td> 9.9  </td><td>6     </td></tr>\n",
       "\t<tr><td>8.1   </td><td>0.28  </td><td>0.40  </td><td> 6.9  </td><td>0.050 </td><td>30    </td><td> 97   </td><td>0.9951</td><td>3.26  </td><td>0.44  </td><td>10.1  </td><td>6     </td></tr>\n",
       "</tbody>\n",
       "</table>\n"
      ],
      "text/latex": [
       "\\begin{tabular}{r|llllllllllll}\n",
       " fixed.acidity & volatile.acidity & citric.acid & residual.sugar & chlorides & free.sulfur.dioxide & total.sulfur.dioxide & density & pH & sulphates & alcohol & quality\\\\\n",
       "\\hline\n",
       "\t 7.0    & 0.27   & 0.36   & 20.7   & 0.045  & 45     & 170    & 1.0010 & 3.00   & 0.45   &  8.8   & 6     \\\\\n",
       "\t 6.3    & 0.30   & 0.34   &  1.6   & 0.049  & 14     & 132    & 0.9940 & 3.30   & 0.49   &  9.5   & 6     \\\\\n",
       "\t 8.1    & 0.28   & 0.40   &  6.9   & 0.050  & 30     &  97    & 0.9951 & 3.26   & 0.44   & 10.1   & 6     \\\\\n",
       "\t 7.2    & 0.23   & 0.32   &  8.5   & 0.058  & 47     & 186    & 0.9956 & 3.19   & 0.40   &  9.9   & 6     \\\\\n",
       "\t 7.2    & 0.23   & 0.32   &  8.5   & 0.058  & 47     & 186    & 0.9956 & 3.19   & 0.40   &  9.9   & 6     \\\\\n",
       "\t 8.1    & 0.28   & 0.40   &  6.9   & 0.050  & 30     &  97    & 0.9951 & 3.26   & 0.44   & 10.1   & 6     \\\\\n",
       "\\end{tabular}\n"
      ],
      "text/markdown": [
       "\n",
       "fixed.acidity | volatile.acidity | citric.acid | residual.sugar | chlorides | free.sulfur.dioxide | total.sulfur.dioxide | density | pH | sulphates | alcohol | quality | \n",
       "|---|---|---|---|---|---|\n",
       "| 7.0    | 0.27   | 0.36   | 20.7   | 0.045  | 45     | 170    | 1.0010 | 3.00   | 0.45   |  8.8   | 6      | \n",
       "| 6.3    | 0.30   | 0.34   |  1.6   | 0.049  | 14     | 132    | 0.9940 | 3.30   | 0.49   |  9.5   | 6      | \n",
       "| 8.1    | 0.28   | 0.40   |  6.9   | 0.050  | 30     |  97    | 0.9951 | 3.26   | 0.44   | 10.1   | 6      | \n",
       "| 7.2    | 0.23   | 0.32   |  8.5   | 0.058  | 47     | 186    | 0.9956 | 3.19   | 0.40   |  9.9   | 6      | \n",
       "| 7.2    | 0.23   | 0.32   |  8.5   | 0.058  | 47     | 186    | 0.9956 | 3.19   | 0.40   |  9.9   | 6      | \n",
       "| 8.1    | 0.28   | 0.40   |  6.9   | 0.050  | 30     |  97    | 0.9951 | 3.26   | 0.44   | 10.1   | 6      | \n",
       "\n",
       "\n"
      ],
      "text/plain": [
       "  fixed.acidity volatile.acidity citric.acid residual.sugar chlorides\n",
       "1 7.0           0.27             0.36        20.7           0.045    \n",
       "2 6.3           0.30             0.34         1.6           0.049    \n",
       "3 8.1           0.28             0.40         6.9           0.050    \n",
       "4 7.2           0.23             0.32         8.5           0.058    \n",
       "5 7.2           0.23             0.32         8.5           0.058    \n",
       "6 8.1           0.28             0.40         6.9           0.050    \n",
       "  free.sulfur.dioxide total.sulfur.dioxide density pH   sulphates alcohol\n",
       "1 45                  170                  1.0010  3.00 0.45       8.8   \n",
       "2 14                  132                  0.9940  3.30 0.49       9.5   \n",
       "3 30                   97                  0.9951  3.26 0.44      10.1   \n",
       "4 47                  186                  0.9956  3.19 0.40       9.9   \n",
       "5 47                  186                  0.9956  3.19 0.40       9.9   \n",
       "6 30                   97                  0.9951  3.26 0.44      10.1   \n",
       "  quality\n",
       "1 6      \n",
       "2 6      \n",
       "3 6      \n",
       "4 6      \n",
       "5 6      \n",
       "6 6      "
      ]
     },
     "metadata": {},
     "output_type": "display_data"
    }
   ],
   "source": [
    "# Import Red wine data\n",
    "red_data <- read.csv(\"winequality-red.csv\", sep = \";\") \n",
    "head(red_data)\n",
    "\n",
    "# Import white wine data\n",
    "white_data <- read.csv(\"winequality-white.csv\", sep = \";\")\n",
    "head(white_data)"
   ]
  },
  {
   "cell_type": "markdown",
   "metadata": {},
   "source": [
    "_Table 1_"
   ]
  },
  {
   "cell_type": "markdown",
   "metadata": {},
   "source": [
    "Since both of the data sets are already in a tidy format, we can leave them as is. However, since we are doing regression to answer our question, we need to scale the variables. "
   ]
  },
  {
   "cell_type": "code",
   "execution_count": 5,
   "metadata": {},
   "outputs": [
    {
     "data": {
      "text/html": [
       "<table>\n",
       "<thead><tr><th scope=col>quality</th><th scope=col>fixed.acidity</th><th scope=col>volatile.acidity</th><th scope=col>citric.acid</th><th scope=col>residual.sugar</th><th scope=col>chlorides</th><th scope=col>free.sulfur.dioxide</th><th scope=col>total.sulfur.dioxide</th><th scope=col>density</th><th scope=col>pH</th><th scope=col>sulphates</th><th scope=col>alcohol</th></tr></thead>\n",
       "<tbody>\n",
       "\t<tr><td>5        </td><td>0.8703407</td><td>1.255555 </td><td>0.0000000</td><td>0.6541052</td><td>0.7649761</td><td>0.5784783</td><td>0.5970695</td><td>1.0007419</td><td>1.0585855</td><td>0.8237400</td><td>0.8968984</td></tr>\n",
       "\t<tr><td>5        </td><td>0.9173862</td><td>1.578412 </td><td>0.0000000</td><td>0.8950914</td><td>0.9864165</td><td>1.3147233</td><td>1.1765782</td><td>0.9997389</td><td>0.9650922</td><td>1.0002557</td><td>0.9350642</td></tr>\n",
       "\t<tr><td>5        </td><td>0.9173862</td><td>1.363174 </td><td>0.1198329</td><td>0.7918116</td><td>0.9260236</td><td>0.7888340</td><td>0.9482869</td><td>0.9999395</td><td>0.9831877</td><td>0.9561268</td><td>0.9350642</td></tr>\n",
       "\t<tr><td>6        </td><td>1.3172725</td><td>0.502222 </td><td>1.6776605</td><td>0.6541052</td><td>0.7549106</td><td>0.8940119</td><td>1.0536521</td><td>1.0009425</td><td>0.9530286</td><td>0.8531593</td><td>0.9350642</td></tr>\n",
       "\t<tr><td>5        </td><td>0.8703407</td><td>1.255555 </td><td>0.0000000</td><td>0.6541052</td><td>0.7649761</td><td>0.5784783</td><td>0.5970695</td><td>1.0007419</td><td>1.0585855</td><td>0.8237400</td><td>0.8968984</td></tr>\n",
       "\t<tr><td>5        </td><td>0.8703407</td><td>1.183809 </td><td>0.0000000</td><td>0.6196787</td><td>0.7549106</td><td>0.6836561</td><td>0.7024347</td><td>1.0007419</td><td>1.0585855</td><td>0.8237400</td><td>0.8968984</td></tr>\n",
       "</tbody>\n",
       "</table>\n"
      ],
      "text/latex": [
       "\\begin{tabular}{r|llllllllllll}\n",
       " quality & fixed.acidity & volatile.acidity & citric.acid & residual.sugar & chlorides & free.sulfur.dioxide & total.sulfur.dioxide & density & pH & sulphates & alcohol\\\\\n",
       "\\hline\n",
       "\t 5         & 0.8703407 & 1.255555  & 0.0000000 & 0.6541052 & 0.7649761 & 0.5784783 & 0.5970695 & 1.0007419 & 1.0585855 & 0.8237400 & 0.8968984\\\\\n",
       "\t 5         & 0.9173862 & 1.578412  & 0.0000000 & 0.8950914 & 0.9864165 & 1.3147233 & 1.1765782 & 0.9997389 & 0.9650922 & 1.0002557 & 0.9350642\\\\\n",
       "\t 5         & 0.9173862 & 1.363174  & 0.1198329 & 0.7918116 & 0.9260236 & 0.7888340 & 0.9482869 & 0.9999395 & 0.9831877 & 0.9561268 & 0.9350642\\\\\n",
       "\t 6         & 1.3172725 & 0.502222  & 1.6776605 & 0.6541052 & 0.7549106 & 0.8940119 & 1.0536521 & 1.0009425 & 0.9530286 & 0.8531593 & 0.9350642\\\\\n",
       "\t 5         & 0.8703407 & 1.255555  & 0.0000000 & 0.6541052 & 0.7649761 & 0.5784783 & 0.5970695 & 1.0007419 & 1.0585855 & 0.8237400 & 0.8968984\\\\\n",
       "\t 5         & 0.8703407 & 1.183809  & 0.0000000 & 0.6196787 & 0.7549106 & 0.6836561 & 0.7024347 & 1.0007419 & 1.0585855 & 0.8237400 & 0.8968984\\\\\n",
       "\\end{tabular}\n"
      ],
      "text/markdown": [
       "\n",
       "quality | fixed.acidity | volatile.acidity | citric.acid | residual.sugar | chlorides | free.sulfur.dioxide | total.sulfur.dioxide | density | pH | sulphates | alcohol | \n",
       "|---|---|---|---|---|---|\n",
       "| 5         | 0.8703407 | 1.255555  | 0.0000000 | 0.6541052 | 0.7649761 | 0.5784783 | 0.5970695 | 1.0007419 | 1.0585855 | 0.8237400 | 0.8968984 | \n",
       "| 5         | 0.9173862 | 1.578412  | 0.0000000 | 0.8950914 | 0.9864165 | 1.3147233 | 1.1765782 | 0.9997389 | 0.9650922 | 1.0002557 | 0.9350642 | \n",
       "| 5         | 0.9173862 | 1.363174  | 0.1198329 | 0.7918116 | 0.9260236 | 0.7888340 | 0.9482869 | 0.9999395 | 0.9831877 | 0.9561268 | 0.9350642 | \n",
       "| 6         | 1.3172725 | 0.502222  | 1.6776605 | 0.6541052 | 0.7549106 | 0.8940119 | 1.0536521 | 1.0009425 | 0.9530286 | 0.8531593 | 0.9350642 | \n",
       "| 5         | 0.8703407 | 1.255555  | 0.0000000 | 0.6541052 | 0.7649761 | 0.5784783 | 0.5970695 | 1.0007419 | 1.0585855 | 0.8237400 | 0.8968984 | \n",
       "| 5         | 0.8703407 | 1.183809  | 0.0000000 | 0.6196787 | 0.7549106 | 0.6836561 | 0.7024347 | 1.0007419 | 1.0585855 | 0.8237400 | 0.8968984 | \n",
       "\n",
       "\n"
      ],
      "text/plain": [
       "  quality fixed.acidity volatile.acidity citric.acid residual.sugar chlorides\n",
       "1 5       0.8703407     1.255555         0.0000000   0.6541052      0.7649761\n",
       "2 5       0.9173862     1.578412         0.0000000   0.8950914      0.9864165\n",
       "3 5       0.9173862     1.363174         0.1198329   0.7918116      0.9260236\n",
       "4 6       1.3172725     0.502222         1.6776605   0.6541052      0.7549106\n",
       "5 5       0.8703407     1.255555         0.0000000   0.6541052      0.7649761\n",
       "6 5       0.8703407     1.183809         0.0000000   0.6196787      0.7549106\n",
       "  free.sulfur.dioxide total.sulfur.dioxide density   pH        sulphates\n",
       "1 0.5784783           0.5970695            1.0007419 1.0585855 0.8237400\n",
       "2 1.3147233           1.1765782            0.9997389 0.9650922 1.0002557\n",
       "3 0.7888340           0.9482869            0.9999395 0.9831877 0.9561268\n",
       "4 0.8940119           1.0536521            1.0009425 0.9530286 0.8531593\n",
       "5 0.5784783           0.5970695            1.0007419 1.0585855 0.8237400\n",
       "6 0.6836561           0.7024347            1.0007419 1.0585855 0.8237400\n",
       "  alcohol  \n",
       "1 0.8968984\n",
       "2 0.9350642\n",
       "3 0.9350642\n",
       "4 0.9350642\n",
       "5 0.8968984\n",
       "6 0.8968984"
      ]
     },
     "metadata": {},
     "output_type": "display_data"
    },
    {
     "data": {
      "text/html": [
       "<table>\n",
       "<thead><tr><th scope=col>quality</th><th scope=col>fixed.acidity</th><th scope=col>volatile.acidity</th><th scope=col>citric.acid</th><th scope=col>residual.sugar</th><th scope=col>chlorides</th><th scope=col>free.sulfur.dioxide</th><th scope=col>total.sulfur.dioxide</th><th scope=col>density</th><th scope=col>pH</th><th scope=col>sulphates</th><th scope=col>alcohol</th></tr></thead>\n",
       "<tbody>\n",
       "\t<tr><td>6        </td><td>1.0134309</td><td>0.9122795</td><td>1.0127692</td><td>2.5367895</td><td>0.8871633</td><td>1.1481392</td><td>1.1744078</td><td>1.0069072</td><td>0.9398009</td><td>0.8946063</td><td>0.8311998</td></tr>\n",
       "\t<tr><td>6        </td><td>0.9120878</td><td>1.0136438</td><td>0.9565042</td><td>0.1960804</td><td>0.9660223</td><td>0.3571989</td><td>0.9118931</td><td>0.9998658</td><td>1.0337810</td><td>0.9741268</td><td>0.8973179</td></tr>\n",
       "\t<tr><td>6        </td><td>1.1726843</td><td>0.9460676</td><td>1.1252991</td><td>0.8455965</td><td>0.9857370</td><td>0.7654261</td><td>0.6701032</td><td>1.0009723</td><td>1.0212503</td><td>0.8747261</td><td>0.9539906</td></tr>\n",
       "\t<tr><td>6        </td><td>1.0423861</td><td>0.7771269</td><td>0.9002393</td><td>1.0416769</td><td>1.1434550</td><td>1.1991676</td><td>1.2849402</td><td>1.0014753</td><td>0.9993216</td><td>0.7952056</td><td>0.9350997</td></tr>\n",
       "\t<tr><td>6        </td><td>1.0423861</td><td>0.7771269</td><td>0.9002393</td><td>1.0416769</td><td>1.1434550</td><td>1.1991676</td><td>1.2849402</td><td>1.0014753</td><td>0.9993216</td><td>0.7952056</td><td>0.9350997</td></tr>\n",
       "\t<tr><td>6        </td><td>1.1726843</td><td>0.9460676</td><td>1.1252991</td><td>0.8455965</td><td>0.9857370</td><td>0.7654261</td><td>0.6701032</td><td>1.0009723</td><td>1.0212503</td><td>0.8747261</td><td>0.9539906</td></tr>\n",
       "</tbody>\n",
       "</table>\n"
      ],
      "text/latex": [
       "\\begin{tabular}{r|llllllllllll}\n",
       " quality & fixed.acidity & volatile.acidity & citric.acid & residual.sugar & chlorides & free.sulfur.dioxide & total.sulfur.dioxide & density & pH & sulphates & alcohol\\\\\n",
       "\\hline\n",
       "\t 6         & 1.0134309 & 0.9122795 & 1.0127692 & 2.5367895 & 0.8871633 & 1.1481392 & 1.1744078 & 1.0069072 & 0.9398009 & 0.8946063 & 0.8311998\\\\\n",
       "\t 6         & 0.9120878 & 1.0136438 & 0.9565042 & 0.1960804 & 0.9660223 & 0.3571989 & 0.9118931 & 0.9998658 & 1.0337810 & 0.9741268 & 0.8973179\\\\\n",
       "\t 6         & 1.1726843 & 0.9460676 & 1.1252991 & 0.8455965 & 0.9857370 & 0.7654261 & 0.6701032 & 1.0009723 & 1.0212503 & 0.8747261 & 0.9539906\\\\\n",
       "\t 6         & 1.0423861 & 0.7771269 & 0.9002393 & 1.0416769 & 1.1434550 & 1.1991676 & 1.2849402 & 1.0014753 & 0.9993216 & 0.7952056 & 0.9350997\\\\\n",
       "\t 6         & 1.0423861 & 0.7771269 & 0.9002393 & 1.0416769 & 1.1434550 & 1.1991676 & 1.2849402 & 1.0014753 & 0.9993216 & 0.7952056 & 0.9350997\\\\\n",
       "\t 6         & 1.1726843 & 0.9460676 & 1.1252991 & 0.8455965 & 0.9857370 & 0.7654261 & 0.6701032 & 1.0009723 & 1.0212503 & 0.8747261 & 0.9539906\\\\\n",
       "\\end{tabular}\n"
      ],
      "text/markdown": [
       "\n",
       "quality | fixed.acidity | volatile.acidity | citric.acid | residual.sugar | chlorides | free.sulfur.dioxide | total.sulfur.dioxide | density | pH | sulphates | alcohol | \n",
       "|---|---|---|---|---|---|\n",
       "| 6         | 1.0134309 | 0.9122795 | 1.0127692 | 2.5367895 | 0.8871633 | 1.1481392 | 1.1744078 | 1.0069072 | 0.9398009 | 0.8946063 | 0.8311998 | \n",
       "| 6         | 0.9120878 | 1.0136438 | 0.9565042 | 0.1960804 | 0.9660223 | 0.3571989 | 0.9118931 | 0.9998658 | 1.0337810 | 0.9741268 | 0.8973179 | \n",
       "| 6         | 1.1726843 | 0.9460676 | 1.1252991 | 0.8455965 | 0.9857370 | 0.7654261 | 0.6701032 | 1.0009723 | 1.0212503 | 0.8747261 | 0.9539906 | \n",
       "| 6         | 1.0423861 | 0.7771269 | 0.9002393 | 1.0416769 | 1.1434550 | 1.1991676 | 1.2849402 | 1.0014753 | 0.9993216 | 0.7952056 | 0.9350997 | \n",
       "| 6         | 1.0423861 | 0.7771269 | 0.9002393 | 1.0416769 | 1.1434550 | 1.1991676 | 1.2849402 | 1.0014753 | 0.9993216 | 0.7952056 | 0.9350997 | \n",
       "| 6         | 1.1726843 | 0.9460676 | 1.1252991 | 0.8455965 | 0.9857370 | 0.7654261 | 0.6701032 | 1.0009723 | 1.0212503 | 0.8747261 | 0.9539906 | \n",
       "\n",
       "\n"
      ],
      "text/plain": [
       "  quality fixed.acidity volatile.acidity citric.acid residual.sugar chlorides\n",
       "1 6       1.0134309     0.9122795        1.0127692   2.5367895      0.8871633\n",
       "2 6       0.9120878     1.0136438        0.9565042   0.1960804      0.9660223\n",
       "3 6       1.1726843     0.9460676        1.1252991   0.8455965      0.9857370\n",
       "4 6       1.0423861     0.7771269        0.9002393   1.0416769      1.1434550\n",
       "5 6       1.0423861     0.7771269        0.9002393   1.0416769      1.1434550\n",
       "6 6       1.1726843     0.9460676        1.1252991   0.8455965      0.9857370\n",
       "  free.sulfur.dioxide total.sulfur.dioxide density   pH        sulphates\n",
       "1 1.1481392           1.1744078            1.0069072 0.9398009 0.8946063\n",
       "2 0.3571989           0.9118931            0.9998658 1.0337810 0.9741268\n",
       "3 0.7654261           0.6701032            1.0009723 1.0212503 0.8747261\n",
       "4 1.1991676           1.2849402            1.0014753 0.9993216 0.7952056\n",
       "5 1.1991676           1.2849402            1.0014753 0.9993216 0.7952056\n",
       "6 0.7654261           0.6701032            1.0009723 1.0212503 0.8747261\n",
       "  alcohol  \n",
       "1 0.8311998\n",
       "2 0.8973179\n",
       "3 0.9539906\n",
       "4 0.9350997\n",
       "5 0.9350997\n",
       "6 0.9539906"
      ]
     },
     "metadata": {},
     "output_type": "display_data"
    }
   ],
   "source": [
    "# Scale the data\n",
    "red_scaled <- red_data %>% \n",
    "  select(-quality) %>% \n",
    "  scale(center = FALSE) \n",
    "\n",
    "red_scaled <- data.frame(quality = red_data$quality, red_scaled)\n",
    "head(red_scaled)\n",
    "\n",
    "white_scaled <- white_data %>% \n",
    "  select(-quality) %>% \n",
    "  scale(center = FALSE) \n",
    "\n",
    "white_scaled <- data.frame(quality = white_data$quality, white_scaled)\n",
    "head(white_scaled)"
   ]
  },
  {
   "cell_type": "markdown",
   "metadata": {},
   "source": [
    "_Table 2_"
   ]
  },
  {
   "cell_type": "markdown",
   "metadata": {},
   "source": [
    "%% performs a summary of the data set that is relevant for exploratory data analysis related to the planned classification, regression or clustering analysis "
   ]
  },
  {
   "cell_type": "code",
   "execution_count": 84,
   "metadata": {},
   "outputs": [
    {
     "data": {
      "text/html": [
       "<table>\n",
       "<thead><tr><th scope=col>quality</th><th scope=col>n</th></tr></thead>\n",
       "<tbody>\n",
       "\t<tr><td>3  </td><td> 10</td></tr>\n",
       "\t<tr><td>4  </td><td> 53</td></tr>\n",
       "\t<tr><td>5  </td><td>681</td></tr>\n",
       "\t<tr><td>6  </td><td>638</td></tr>\n",
       "\t<tr><td>7  </td><td>199</td></tr>\n",
       "\t<tr><td>8  </td><td> 18</td></tr>\n",
       "</tbody>\n",
       "</table>\n"
      ],
      "text/latex": [
       "\\begin{tabular}{r|ll}\n",
       " quality & n\\\\\n",
       "\\hline\n",
       "\t 3   &  10\\\\\n",
       "\t 4   &  53\\\\\n",
       "\t 5   & 681\\\\\n",
       "\t 6   & 638\\\\\n",
       "\t 7   & 199\\\\\n",
       "\t 8   &  18\\\\\n",
       "\\end{tabular}\n"
      ],
      "text/markdown": [
       "\n",
       "quality | n | \n",
       "|---|---|---|---|---|---|\n",
       "| 3   |  10 | \n",
       "| 4   |  53 | \n",
       "| 5   | 681 | \n",
       "| 6   | 638 | \n",
       "| 7   | 199 | \n",
       "| 8   |  18 | \n",
       "\n",
       "\n"
      ],
      "text/plain": [
       "  quality n  \n",
       "1 3        10\n",
       "2 4        53\n",
       "3 5       681\n",
       "4 6       638\n",
       "5 7       199\n",
       "6 8        18"
      ]
     },
     "metadata": {},
     "output_type": "display_data"
    },
    {
     "data": {
      "text/html": [
       "1599"
      ],
      "text/latex": [
       "1599"
      ],
      "text/markdown": [
       "1599"
      ],
      "text/plain": [
       "[1] 1599"
      ]
     },
     "metadata": {},
     "output_type": "display_data"
    },
    {
     "data": {
      "text/html": [
       "<table>\n",
       "<thead><tr><th scope=col>quality</th><th scope=col>n</th></tr></thead>\n",
       "<tbody>\n",
       "\t<tr><td>3   </td><td>  20</td></tr>\n",
       "\t<tr><td>4   </td><td> 163</td></tr>\n",
       "\t<tr><td>5   </td><td>1457</td></tr>\n",
       "\t<tr><td>6   </td><td>2198</td></tr>\n",
       "\t<tr><td>7   </td><td> 880</td></tr>\n",
       "\t<tr><td>8   </td><td> 175</td></tr>\n",
       "\t<tr><td>9   </td><td>   5</td></tr>\n",
       "</tbody>\n",
       "</table>\n"
      ],
      "text/latex": [
       "\\begin{tabular}{r|ll}\n",
       " quality & n\\\\\n",
       "\\hline\n",
       "\t 3    &   20\\\\\n",
       "\t 4    &  163\\\\\n",
       "\t 5    & 1457\\\\\n",
       "\t 6    & 2198\\\\\n",
       "\t 7    &  880\\\\\n",
       "\t 8    &  175\\\\\n",
       "\t 9    &    5\\\\\n",
       "\\end{tabular}\n"
      ],
      "text/markdown": [
       "\n",
       "quality | n | \n",
       "|---|---|---|---|---|---|---|\n",
       "| 3    |   20 | \n",
       "| 4    |  163 | \n",
       "| 5    | 1457 | \n",
       "| 6    | 2198 | \n",
       "| 7    |  880 | \n",
       "| 8    |  175 | \n",
       "| 9    |    5 | \n",
       "\n",
       "\n"
      ],
      "text/plain": [
       "  quality n   \n",
       "1 3         20\n",
       "2 4        163\n",
       "3 5       1457\n",
       "4 6       2198\n",
       "5 7        880\n",
       "6 8        175\n",
       "7 9          5"
      ]
     },
     "metadata": {},
     "output_type": "display_data"
    },
    {
     "data": {
      "text/html": [
       "4898"
      ],
      "text/latex": [
       "4898"
      ],
      "text/markdown": [
       "4898"
      ],
      "text/plain": [
       "[1] 4898"
      ]
     },
     "metadata": {},
     "output_type": "display_data"
    }
   ],
   "source": [
    "# See the distribution of quality level\n",
    "red_data %>% \n",
    "    group_by(quality) %>%\n",
    "    summarize(n = n()) %>% \n",
    "    data.frame()\n",
    "nrow(red_data)\n",
    "\n",
    "white_data %>%\n",
    "    group_by(quality) %>%\n",
    "    summarize(n=n()) %>% \n",
    "    data.frame()\n",
    "nrow(white_data)"
   ]
  },
  {
   "cell_type": "markdown",
   "metadata": {},
   "source": [
    "_Table 3_"
   ]
  },
  {
   "cell_type": "markdown",
   "metadata": {},
   "source": [
    "From the table above we can see that every observation has a quality level (i.e. no observation with quality unknown)."
   ]
  },
  {
   "cell_type": "markdown",
   "metadata": {},
   "source": [
    "For our exploratory data analysis, we are going to graph the relationships between each of the physicochemical variables vs. the quality of the wine using box plots to see which predictors could possibly be useful in making our model.\n",
    "\n",
    "Here are the exploratory plots for the red wine. "
   ]
  },
  {
   "cell_type": "code",
   "execution_count": 144,
   "metadata": {},
   "outputs": [
    {
     "data": {
      "image/png": "[encoded data removed]",
      "text/plain": [
       "plot without title"
      ]
     },
     "metadata": {},
     "output_type": "display_data"
    }
   ],
   "source": [
    "red_data_quality_factor <- red_data %>%\n",
    "    mutate(quality = as.factor(quality))\n",
    "\n",
    "plot_fa <- red_data_quality_factor %>% \n",
    "    ggplot(aes(x = quality, y = fixed.acidity)) + \n",
    "    geom_boxplot()\n",
    "\n",
    "plot_va <- red_data_quality_factor %>% \n",
    "    ggplot(aes(x = quality, y = volatile.acidity)) +\n",
    "    geom_boxplot()\n",
    "\n",
    "plot_ca <- red_data_quality_factor %>% \n",
    "    ggplot(aes(x = quality, y = citric.acid)) +\n",
    "    geom_boxplot()\n",
    "\n",
    "plot_rs <- red_data_quality_factor %>%  \n",
    "    ggplot(aes(x = quality, y = residual.sugar)) +\n",
    "    geom_boxplot()\n",
    "\n",
    "plot_cl <- red_data_quality_factor %>% \n",
    "    ggplot(aes(x = quality, y = chlorides)) +\n",
    "    geom_boxplot()\n",
    "\n",
    "plot_fsd <- red_data_quality_factor %>% \n",
    "    ggplot(aes(x = quality, y = free.sulfur.dioxide)) +\n",
    "    geom_boxplot()\n",
    "\n",
    "plot_tsd <- red_data_quality_factor %>% \n",
    "    ggplot(aes(x = quality, y = total.sulfur.dioxide)) +\n",
    "    geom_boxplot()\n",
    "\n",
    "plot_ph <- red_data_quality_factor %>%  \n",
    "    ggplot(aes(x = quality, y = pH)) +\n",
    "    geom_boxplot()\n",
    "\n",
    "plot_den <- red_data_quality_factor %>% \n",
    "    ggplot(aes(x = quality, y = density)) +\n",
    "    geom_boxplot()\n",
    "\n",
    "plot_alc <- red_data_quality_factor %>% \n",
    "    ggplot(aes(x = quality, y = alcohol)) +\n",
    "    geom_boxplot()\n",
    "\n",
    "plot_sulp <- red_data_quality_factor %>% \n",
    "    ggplot(aes(x = quality, y = sulphates)) +\n",
    "    geom_boxplot()\n",
    "\n",
    "\n",
    "grid.arrange(plot_fa, plot_va, plot_ca, plot_rs, plot_cl, plot_fsd, plot_tsd, plot_ph, plot_den, plot_alc, plot_sulp, ncol = 4, top = \"Relationships of Predictors vs. Quality of Red Wine\")"
   ]
  },
  {
   "cell_type": "markdown",
   "metadata": {},
   "source": [
    "_Figure 1_"
   ]
  },
  {
   "cell_type": "markdown",
   "metadata": {},
   "source": [
    "Judging from the results of the boxplots, volatile acidity, citric acid, and alcohol content should be good predictors to use because of the lower number of outliers compared to other predictors and some sort of visible relationship between the predictor and wine quality. "
   ]
  },
  {
   "cell_type": "markdown",
   "metadata": {},
   "source": [
    "Doing the same exploratory data analysis with the white wine data set. "
   ]
  },
  {
   "cell_type": "code",
   "execution_count": 145,
   "metadata": {},
   "outputs": [
    {
     "data": {
      "image/png": "[encoded data removed]",
      "text/plain": [
       "plot without title"
      ]
     },
     "metadata": {},
     "output_type": "display_data"
    }
   ],
   "source": [
    "white_data_quality_factor <- white_data %>%\n",
    "    mutate(quality = as.factor(quality))\n",
    "\n",
    "plot_fa <- white_data_quality_factor %>% \n",
    "    ggplot(aes(x = quality, y = fixed.acidity)) + \n",
    "    geom_boxplot()\n",
    "\n",
    "plot_va <- white_data_quality_factor %>% \n",
    "    ggplot(aes(x = quality, y = volatile.acidity)) +\n",
    "    geom_boxplot()\n",
    "\n",
    "plot_ca <- white_data_quality_factor %>% \n",
    "    ggplot(aes(x = quality, y = citric.acid)) +\n",
    "    geom_boxplot()\n",
    "\n",
    "plot_rs <- white_data_quality_factor %>%  \n",
    "    ggplot(aes(x = quality, y = residual.sugar)) +\n",
    "    geom_boxplot()\n",
    "\n",
    "plot_cl <- white_data_quality_factor %>% \n",
    "    ggplot(aes(x = quality, y = chlorides)) +\n",
    "    geom_boxplot()\n",
    "\n",
    "plot_fsd <- white_data_quality_factor %>% \n",
    "    ggplot(aes(x = quality, y = free.sulfur.dioxide)) +\n",
    "    geom_boxplot()\n",
    "\n",
    "plot_tsd <- white_data_quality_factor %>% \n",
    "    ggplot(aes(x = quality, y = total.sulfur.dioxide)) +\n",
    "    geom_boxplot()\n",
    "\n",
    "plot_ph <- white_data_quality_factor %>%  \n",
    "    ggplot(aes(x = quality, y = pH)) +\n",
    "    geom_boxplot()\n",
    "\n",
    "plot_den <- white_data_quality_factor %>% \n",
    "    ggplot(aes(x = quality, y = density)) +\n",
    "    geom_boxplot()\n",
    "\n",
    "plot_alc <- white_data_quality_factor %>% \n",
    "    ggplot(aes(x = quality, y = alcohol)) +\n",
    "    geom_boxplot()\n",
    "\n",
    "plot_sulp <- white_data_quality_factor %>% \n",
    "    ggplot(aes(x = quality, y = sulphates)) +\n",
    "    geom_boxplot()\n",
    "\n",
    "grid.arrange(plot_fa, plot_va, plot_ca, plot_rs, plot_cl, plot_fsd, plot_tsd, plot_ph, plot_den, plot_alc, plot_sulp, ncol = 4, top = \"Relationships of Predictors vs. Quality of White Wine\")"
   ]
  },
  {
   "cell_type": "markdown",
   "metadata": {},
   "source": [
    "_Figure 2_"
   ]
  },
  {
   "cell_type": "markdown",
   "metadata": {},
   "source": [
    "Also looking at these boxplots, residual sugar, density, and alcohol content should be good predictors to use because of the lower outliers compared to other predictors and some sort of visible relationship between the predictor and wine quality. "
   ]
  },
  {
   "cell_type": "markdown",
   "metadata": {},
   "source": [
    "## KNN Regression with physicochemical variables"
   ]
  },
  {
   "cell_type": "markdown",
   "metadata": {},
   "source": [
    "### Red Wine"
   ]
  },
  {
   "cell_type": "markdown",
   "metadata": {},
   "source": [
    "First, we will do k-nn regression on the red wine data set using all the physicochemical variables as predictors as a control model to later compare it to other models that will make to see if we have improved. "
   ]
  },
  {
   "cell_type": "markdown",
   "metadata": {},
   "source": [
    "Here, we split the red wine data set into training and testing sets using an 80/20 split. "
   ]
  },
  {
   "cell_type": "code",
   "execution_count": 7,
   "metadata": {},
   "outputs": [],
   "source": [
    "set.seed(100)\n",
    "\n",
    "training_rows <- red_scaled %>% \n",
    "    select(quality) %>% \n",
    "    unlist() %>% \n",
    "    createDataPartition(p = 0.80, list = FALSE)\n",
    "\n",
    "X_train <- training_rows %>% \n",
    "    select(-quality) %>% \n",
    "    slice(training_rows) %>% \n",
    "    data.frame()\n",
    "\n",
    "Y_train <- training_rows %>% \n",
    "    select(quality) %>% \n",
    "    slice(training_rows) %>% \n",
    "    unlist()\n",
    "\n",
    "X_test <- training_rows %>% \n",
    "    select(-quality) %>% \n",
    "    slice(-training_rows) %>% \n",
    "    data.frame()\n",
    "\n",
    "Y_test <- training_rows %>% \n",
    "    select(quality) %>% \n",
    "    slice(-training_rows) %>% \n",
    "    unlist()"
   ]
  },
  {
   "cell_type": "markdown",
   "metadata": {},
   "source": [
    "Using 10 fold cross validation to find the best value of k to use. "
   ]
  },
  {
   "cell_type": "code",
   "execution_count": 8,
   "metadata": {},
   "outputs": [
    {
     "data": {
      "text/plain": [
       "k-Nearest Neighbors \n",
       "\n",
       "1281 samples\n",
       "  11 predictor\n",
       "\n",
       "No pre-processing\n",
       "Resampling: Cross-Validated (10 fold) \n",
       "Summary of sample sizes: 1153, 1152, 1152, 1154, 1154, 1153, ... \n",
       "Resampling results across tuning parameters:\n",
       "\n",
       "  k   RMSE       Rsquared   MAE      \n",
       "   1  0.7975416  0.2501362  0.4684284\n",
       "   2  0.7466745  0.2470331  0.5231170\n",
       "   3  0.7283019  0.2420591  0.5448059\n",
       "   4  0.7164770  0.2451099  0.5482398\n",
       "   5  0.7115841  0.2427249  0.5479540\n",
       "   6  0.7035250  0.2517749  0.5455386\n",
       "   7  0.6963584  0.2612551  0.5389980\n",
       "   8  0.6949164  0.2616176  0.5424115\n",
       "   9  0.6925330  0.2640492  0.5458515\n",
       "  10  0.6900828  0.2665583  0.5445147\n",
       "  11  0.6879881  0.2703780  0.5437551\n",
       "  12  0.6839562  0.2781686  0.5429961\n",
       "  13  0.6830984  0.2788136  0.5425267\n",
       "  14  0.6807511  0.2829661  0.5418957\n",
       "  15  0.6805427  0.2828378  0.5413993\n",
       "  16  0.6816772  0.2806594  0.5425618\n",
       "  17  0.6831690  0.2775737  0.5443973\n",
       "  18  0.6812243  0.2821486  0.5435638\n",
       "  19  0.6832611  0.2782056  0.5447006\n",
       "  20  0.6839267  0.2774854  0.5460595\n",
       "  21  0.6857717  0.2734703  0.5478949\n",
       "  22  0.6873875  0.2703246  0.5484889\n",
       "  23  0.6875392  0.2701537  0.5473695\n",
       "  24  0.6883649  0.2684743  0.5474040\n",
       "  25  0.6892128  0.2664530  0.5481324\n",
       "  26  0.6902966  0.2635203  0.5489288\n",
       "  27  0.6921040  0.2592433  0.5508017\n",
       "  28  0.6903558  0.2632833  0.5493554\n",
       "  29  0.6910825  0.2621008  0.5509642\n",
       "  30  0.6925501  0.2590206  0.5525024\n",
       "  31  0.6928363  0.2588666  0.5528705\n",
       "  32  0.6947843  0.2542429  0.5544714\n",
       "  33  0.6957295  0.2522842  0.5559527\n",
       "  34  0.6955150  0.2528261  0.5560903\n",
       "  35  0.6960076  0.2517480  0.5562650\n",
       "  36  0.6949735  0.2544605  0.5553034\n",
       "  37  0.6950934  0.2544327  0.5553165\n",
       "  38  0.6966886  0.2510553  0.5571372\n",
       "  39  0.6977978  0.2484138  0.5578205\n",
       "  40  0.6983611  0.2474133  0.5584047\n",
       "  41  0.6984785  0.2477719  0.5593138\n",
       "  42  0.6991482  0.2463691  0.5606914\n",
       "  43  0.7009661  0.2423435  0.5626537\n",
       "  44  0.7009308  0.2427410  0.5628397\n",
       "  45  0.7010691  0.2425910  0.5625429\n",
       "  46  0.7006667  0.2440333  0.5622748\n",
       "  47  0.7012337  0.2428571  0.5632145\n",
       "  48  0.7023345  0.2402588  0.5640117\n",
       "  49  0.7024990  0.2402219  0.5642063\n",
       "  50  0.7028060  0.2400042  0.5644906\n",
       "\n",
       "RMSE was used to select the optimal model using the smallest value.\n",
       "The final value used for the model was k = 15."
      ]
     },
     "metadata": {},
     "output_type": "display_data"
    }
   ],
   "source": [
    "set.seed(100)\n",
    "\n",
    "train_control <- trainControl(method = \"cv\", number = 10)\n",
    "\n",
    "k_red = data.frame(k = seq(from = 1, to = 50, by = 1))\n",
    "\n",
    "knn_red <- train(x = X_train, y = Y_train, method = \"knn\", tuneGrid = k_red, trControl = train_control)\n",
    "\n",
    "knn_red"
   ]
  },
  {
   "cell_type": "markdown",
   "metadata": {},
   "source": [
    "The k that gives the lowest RMSE is 15, so that is the k we will use to form the final k-nn regression model with all the variabled as predictors. "
   ]
  },
  {
   "cell_type": "code",
   "execution_count": 9,
   "metadata": {},
   "outputs": [
    {
     "data": {
      "text/plain": [
       "k-Nearest Neighbors \n",
       "\n",
       "1281 samples\n",
       "  11 predictor\n",
       "\n",
       "No pre-processing\n",
       "Resampling: Bootstrapped (25 reps) \n",
       "Summary of sample sizes: 1281, 1281, 1281, 1281, 1281, 1281, ... \n",
       "Resampling results:\n",
       "\n",
       "  RMSE       Rsquared   MAE      \n",
       "  0.7097263  0.2335073  0.5591935\n",
       "\n",
       "Tuning parameter 'k' was held constant at a value of 15"
      ]
     },
     "metadata": {},
     "output_type": "display_data"
    }
   ],
   "source": [
    "set.seed(100)\n",
    "k_best_red <- data.frame(k = 15)\n",
    "knn_red <- train(x = X_train, y = Y_train, method = \"knn\", tuneGrid = k_best_red)\n",
    "knn_red"
   ]
  },
  {
   "cell_type": "markdown",
   "metadata": {},
   "source": [
    "Testing the final model on the test data. "
   ]
  },
  {
   "cell_type": "code",
   "execution_count": 90,
   "metadata": {},
   "outputs": [
    {
     "data": {
      "text/html": [
       "<dl class=dl-horizontal>\n",
       "\t<dt>RMSE</dt>\n",
       "\t\t<dd>0.689598362218414</dd>\n",
       "\t<dt>Rsquared</dt>\n",
       "\t\t<dd>0.322630114650231</dd>\n",
       "\t<dt>MAE</dt>\n",
       "\t\t<dd>0.550684424713281</dd>\n",
       "</dl>\n"
      ],
      "text/latex": [
       "\\begin{description*}\n",
       "\\item[RMSE] 0.689598362218414\n",
       "\\item[Rsquared] 0.322630114650231\n",
       "\\item[MAE] 0.550684424713281\n",
       "\\end{description*}\n"
      ],
      "text/markdown": [
       "RMSE\n",
       ":   0.689598362218414Rsquared\n",
       ":   0.322630114650231MAE\n",
       ":   0.550684424713281\n",
       "\n"
      ],
      "text/plain": [
       "     RMSE  Rsquared       MAE \n",
       "0.6895984 0.3226301 0.5506844 "
      ]
     },
     "metadata": {},
     "output_type": "display_data"
    }
   ],
   "source": [
    "set.seed(100)\n",
    "test <- predict(knn_red, X_test)\n",
    "\n",
    "predictions <- data.frame(obs = Y_test, pred = test)\n",
    "\n",
    "test_error <- defaultSummary(predictions)\n",
    "test_error"
   ]
  },
  {
   "cell_type": "markdown",
   "metadata": {},
   "source": [
    "_Table 4_"
   ]
  },
  {
   "cell_type": "markdown",
   "metadata": {},
   "source": [
    "The RMSPE for using all the variables in the red wine data set is 0.68959. Considering that the range of qualities is from 3 to 8, the error is quite large. Let's try to reduce it using the predictors that we determined should be good."
   ]
  },
  {
   "cell_type": "markdown",
   "metadata": {},
   "source": [
    "Using the predictors that look good on the red wine data: volatile acidity, citric acidity, and alcohol."
   ]
  },
  {
   "cell_type": "code",
   "execution_count": 13,
   "metadata": {},
   "outputs": [],
   "source": [
    "set.seed(100)\n",
    "\n",
    "training_rows <- red_scaled %>% \n",
    "    select(quality) %>% \n",
    "    unlist() %>% \n",
    "    createDataPartition(p = 0.80, list = FALSE)\n",
    "\n",
    "X_train <- red_scaled %>% \n",
    "    select(volatile.acidity, citric.acid, alcohol) %>% \n",
    "    slice(training_rows) %>% \n",
    "    data.frame()\n",
    "\n",
    "Y_train <- red_scaled %>% \n",
    "    select(quality) %>% \n",
    "    slice(training_rows) %>% \n",
    "    unlist()\n",
    "\n",
    "X_test <- red_scaled %>% \n",
    "    select(volatile.acidity, citric.acid, alcohol) %>% \n",
    "    slice(-training_rows) %>% \n",
    "    data.frame()\n",
    "\n",
    "Y_test <- red_scaled %>% \n",
    "    select(quality) %>% \n",
    "    slice(-training_rows) %>% \n",
    "    unlist()"
   ]
  },
  {
   "cell_type": "markdown",
   "metadata": {},
   "source": [
    "10 fold cross validation to choose the best value of k."
   ]
  },
  {
   "cell_type": "code",
   "execution_count": 16,
   "metadata": {},
   "outputs": [
    {
     "data": {
      "text/plain": [
       "k-Nearest Neighbors \n",
       "\n",
       "1281 samples\n",
       "   3 predictor\n",
       "\n",
       "No pre-processing\n",
       "Resampling: Cross-Validated (10 fold) \n",
       "Summary of sample sizes: 1153, 1152, 1152, 1154, 1154, 1153, ... \n",
       "Resampling results across tuning parameters:\n",
       "\n",
       "  k   RMSE       Rsquared   MAE      \n",
       "   1  0.8303233  0.2158594  0.4993744\n",
       "   2  0.7567825  0.2297416  0.5509205\n",
       "   3  0.7244730  0.2540604  0.5445054\n",
       "   4  0.7091074  0.2615369  0.5432350\n",
       "   5  0.7000280  0.2674456  0.5413718\n",
       "   6  0.6959591  0.2679169  0.5421212\n",
       "   7  0.6907164  0.2727634  0.5404114\n",
       "   8  0.6900435  0.2712129  0.5393109\n",
       "   9  0.6897938  0.2694502  0.5405403\n",
       "  10  0.6887275  0.2704598  0.5421620\n",
       "  11  0.6857679  0.2753332  0.5408146\n",
       "  12  0.6833090  0.2787866  0.5406661\n",
       "  13  0.6817122  0.2809549  0.5390328\n",
       "  14  0.6823879  0.2797218  0.5406092\n",
       "  15  0.6843495  0.2754244  0.5414372\n",
       "  16  0.6839085  0.2760713  0.5419507\n",
       "  17  0.6848699  0.2734467  0.5423863\n",
       "  18  0.6845752  0.2736430  0.5425031\n",
       "  19  0.6843295  0.2743015  0.5438914\n",
       "  20  0.6822172  0.2790219  0.5412737\n",
       "  21  0.6808423  0.2817553  0.5415642\n",
       "  22  0.6798066  0.2844793  0.5405443\n",
       "  23  0.6778763  0.2887464  0.5400601\n",
       "  24  0.6779513  0.2889003  0.5411563\n",
       "  25  0.6775587  0.2903820  0.5415050\n",
       "  26  0.6772722  0.2913768  0.5418442\n",
       "  27  0.6776562  0.2905665  0.5429078\n",
       "  28  0.6797321  0.2868216  0.5451988\n",
       "  29  0.6798112  0.2867315  0.5459983\n",
       "  30  0.6801354  0.2859645  0.5477960\n",
       "  31  0.6818648  0.2822830  0.5490861\n",
       "  32  0.6817661  0.2831957  0.5495657\n",
       "  33  0.6814878  0.2837872  0.5502178\n",
       "  34  0.6820602  0.2826039  0.5502864\n",
       "  35  0.6822381  0.2826772  0.5507915\n",
       "  36  0.6827298  0.2816041  0.5512960\n",
       "  37  0.6831296  0.2809791  0.5515620\n",
       "  38  0.6834349  0.2803206  0.5518917\n",
       "  39  0.6834500  0.2805980  0.5525337\n",
       "  40  0.6834062  0.2813783  0.5526618\n",
       "  41  0.6831676  0.2818135  0.5521470\n",
       "  42  0.6845279  0.2789835  0.5532228\n",
       "  43  0.6853616  0.2771803  0.5542381\n",
       "  44  0.6857832  0.2764468  0.5548181\n",
       "  45  0.6865866  0.2748429  0.5555896\n",
       "  46  0.6867151  0.2751729  0.5558693\n",
       "  47  0.6867686  0.2752807  0.5563875\n",
       "  48  0.6874939  0.2736302  0.5569675\n",
       "  49  0.6883460  0.2716220  0.5577610\n",
       "  50  0.6886215  0.2709232  0.5578096\n",
       "\n",
       "RMSE was used to select the optimal model using the smallest value.\n",
       "The final value used for the model was k = 26."
      ]
     },
     "metadata": {},
     "output_type": "display_data"
    }
   ],
   "source": [
    "set.seed(100)\n",
    "\n",
    "train_control <- trainControl(method = \"cv\", number = 10)\n",
    "\n",
    "k_red_n = data.frame(k = seq(from = 1, to = 50, by = 1))\n",
    "\n",
    "knn_red_n <- train(x = X_train, y = Y_train, method = \"knn\", tuneGrid = k_red_n, trControl = train_control)\n",
    "\n",
    "knn_red_n"
   ]
  },
  {
   "cell_type": "markdown",
   "metadata": {},
   "source": [
    "The value of k that gives the lowest RMSE is 26, so we will form our final model with that. "
   ]
  },
  {
   "cell_type": "code",
   "execution_count": 17,
   "metadata": {},
   "outputs": [
    {
     "data": {
      "text/plain": [
       "k-Nearest Neighbors \n",
       "\n",
       "1281 samples\n",
       "   3 predictor\n",
       "\n",
       "No pre-processing\n",
       "Resampling: Bootstrapped (25 reps) \n",
       "Summary of sample sizes: 1281, 1281, 1281, 1281, 1281, 1281, ... \n",
       "Resampling results:\n",
       "\n",
       "  RMSE       Rsquared   MAE      \n",
       "  0.6945227  0.2563285  0.5533583\n",
       "\n",
       "Tuning parameter 'k' was held constant at a value of 26"
      ]
     },
     "metadata": {},
     "output_type": "display_data"
    }
   ],
   "source": [
    "set.seed(100)\n",
    "\n",
    "k_best <- data.frame(k = 26)\n",
    "knn_red_n <- train(x = X_train, y = Y_train, method = \"knn\", tuneGrid = k_best)\n",
    "knn_red_n"
   ]
  },
  {
   "cell_type": "markdown",
   "metadata": {},
   "source": [
    "Testing the model on the test data"
   ]
  },
  {
   "cell_type": "code",
   "execution_count": 88,
   "metadata": {},
   "outputs": [
    {
     "data": {
      "text/html": [
       "<dl class=dl-horizontal>\n",
       "\t<dt>RMSE</dt>\n",
       "\t\t<dd>0.657249976153155</dd>\n",
       "\t<dt>Rsquared</dt>\n",
       "\t\t<dd>0.395426503679193</dd>\n",
       "\t<dt>MAE</dt>\n",
       "\t\t<dd>0.535903067349608</dd>\n",
       "</dl>\n"
      ],
      "text/latex": [
       "\\begin{description*}\n",
       "\\item[RMSE] 0.657249976153155\n",
       "\\item[Rsquared] 0.395426503679193\n",
       "\\item[MAE] 0.535903067349608\n",
       "\\end{description*}\n"
      ],
      "text/markdown": [
       "RMSE\n",
       ":   0.657249976153155Rsquared\n",
       ":   0.395426503679193MAE\n",
       ":   0.535903067349608\n",
       "\n"
      ],
      "text/plain": [
       "     RMSE  Rsquared       MAE \n",
       "0.6572500 0.3954265 0.5359031 "
      ]
     },
     "metadata": {},
     "output_type": "display_data"
    }
   ],
   "source": [
    "set.seed(100)\n",
    "\n",
    "test <- predict(knn_red_n, X_test)\n",
    "\n",
    "predictions <- data.frame(obs = Y_test, pred = test)\n",
    "\n",
    "test_error <- defaultSummary(predictions)\n",
    "test_error"
   ]
  },
  {
   "cell_type": "markdown",
   "metadata": {},
   "source": [
    "_Table 5_"
   ]
  },
  {
   "cell_type": "markdown",
   "metadata": {},
   "source": [
    "Using the predictors that we determined should be good to use in the model gives us an RMSPE of 0.6572. Compared to the RMSPE from the model that uses all the predictors of 0.6895, there is an improvement of 4.68%. Small, but nontheless and improvement improvement. "
   ]
  },
  {
   "cell_type": "markdown",
   "metadata": {},
   "source": [
    "We will stop our modeling on the red wine data set here, considering that we made an improvement on the control model with the predictors that we chose. Additionally, we could make models for every combination of predictors and see which model gives the lowest RMSPE. "
   ]
  },
  {
   "cell_type": "markdown",
   "metadata": {},
   "source": [
    "### White Wine"
   ]
  },
  {
   "cell_type": "markdown",
   "metadata": {},
   "source": [
    "Just like the red wine, we are first going to use every physicochemical variables as predictors and see if we could improve on that. "
   ]
  },
  {
   "cell_type": "markdown",
   "metadata": {},
   "source": [
    "Splitting the white wine data set into training and testing sets using an 80/20 split. "
   ]
  },
  {
   "cell_type": "code",
   "execution_count": 99,
   "metadata": {},
   "outputs": [],
   "source": [
    "set.seed(100)\n",
    "\n",
    "training_rows <- white_scaled %>% \n",
    "    select(quality) %>% \n",
    "    unlist() %>% \n",
    "    createDataPartition(p = 0.80, list = FALSE)\n",
    "\n",
    "X_train <- white_scaled %>% \n",
    "    select(-quality) %>% \n",
    "    slice(training_rows) %>% \n",
    "    data.frame()\n",
    "\n",
    "Y_train <- white_scaled %>% \n",
    "    select(quality) %>% \n",
    "    slice(training_rows) %>% \n",
    "    unlist()\n",
    "\n",
    "X_test <- white_scaled %>% \n",
    "    select(-quality) %>% \n",
    "    slice(-training_rows) %>% \n",
    "    data.frame()\n",
    "\n",
    "Y_test <- white_scaled %>% \n",
    "    select(quality) %>% \n",
    "    slice(-training_rows) %>% \n",
    "    unlist()"
   ]
  },
  {
   "cell_type": "markdown",
   "metadata": {},
   "source": [
    "Using 10 fold cross validation to choose the best value of k."
   ]
  },
  {
   "cell_type": "code",
   "execution_count": 95,
   "metadata": {},
   "outputs": [
    {
     "data": {
      "text/plain": [
       "k-Nearest Neighbors \n",
       "\n",
       "3919 samples\n",
       "  11 predictor\n",
       "\n",
       "No pre-processing\n",
       "Resampling: Cross-Validated (10 fold) \n",
       "Summary of sample sizes: 3527, 3527, 3526, 3527, 3526, 3529, ... \n",
       "Resampling results across tuning parameters:\n",
       "\n",
       "  k   RMSE       Rsquared   MAE      \n",
       "   1  0.8245596  0.3200122  0.4728051\n",
       "   2  0.7843719  0.3085805  0.5374274\n",
       "   3  0.7591199  0.3130239  0.5511620\n",
       "   4  0.7471215  0.3168095  0.5574062\n",
       "   5  0.7420983  0.3161124  0.5588848\n",
       "   6  0.7358852  0.3209154  0.5582212\n",
       "   7  0.7339887  0.3214014  0.5585451\n",
       "   8  0.7314869  0.3232781  0.5571125\n",
       "   9  0.7315740  0.3217282  0.5610772\n",
       "  10  0.7301549  0.3228409  0.5622646\n",
       "  11  0.7279918  0.3260225  0.5621811\n",
       "  12  0.7271507  0.3274581  0.5636264\n",
       "  13  0.7281811  0.3254989  0.5657620\n",
       "  14  0.7289175  0.3242917  0.5674366\n",
       "  15  0.7297375  0.3230431  0.5690988\n",
       "  16  0.7293823  0.3236869  0.5691030\n",
       "  17  0.7299006  0.3230011  0.5699549\n",
       "  18  0.7318802  0.3194982  0.5731515\n",
       "  19  0.7317515  0.3202322  0.5731765\n",
       "  20  0.7322055  0.3197641  0.5737211\n",
       "  21  0.7326358  0.3194346  0.5737250\n",
       "  22  0.7330274  0.3191696  0.5733632\n",
       "  23  0.7342179  0.3172612  0.5746665\n",
       "  24  0.7340580  0.3179775  0.5749488\n",
       "  25  0.7340841  0.3183587  0.5749735\n",
       "  26  0.7343433  0.3184347  0.5762246\n",
       "  27  0.7346813  0.3182566  0.5766396\n",
       "  28  0.7361057  0.3159475  0.5785909\n",
       "  29  0.7365531  0.3155503  0.5790246\n",
       "  30  0.7371501  0.3147161  0.5792981\n",
       "  31  0.7376319  0.3141433  0.5795130\n",
       "  32  0.7381656  0.3137028  0.5804471\n",
       "  33  0.7393668  0.3115529  0.5813371\n",
       "  34  0.7401718  0.3101709  0.5823253\n",
       "  35  0.7404472  0.3101883  0.5827759\n",
       "  36  0.7415885  0.3083748  0.5836946\n",
       "  37  0.7422866  0.3075031  0.5839830\n",
       "  38  0.7426050  0.3072600  0.5845907\n",
       "  39  0.7432819  0.3061492  0.5852557\n",
       "  40  0.7437269  0.3056162  0.5857295\n",
       "  41  0.7438790  0.3057067  0.5860833\n",
       "  42  0.7440734  0.3059351  0.5868355\n",
       "  43  0.7450343  0.3044100  0.5877189\n",
       "  44  0.7460055  0.3028060  0.5884273\n",
       "  45  0.7465764  0.3020353  0.5888804\n",
       "  46  0.7463251  0.3031080  0.5885418\n",
       "  47  0.7467396  0.3025052  0.5888656\n",
       "  48  0.7472525  0.3018143  0.5897320\n",
       "  49  0.7477366  0.3012787  0.5901172\n",
       "  50  0.7481039  0.3011494  0.5906858\n",
       "\n",
       "RMSE was used to select the optimal model using the smallest value.\n",
       "The final value used for the model was k = 12."
      ]
     },
     "metadata": {},
     "output_type": "display_data"
    }
   ],
   "source": [
    "set.seed(100)\n",
    "\n",
    "train_control <- trainControl(method = \"cv\", number = 10)\n",
    "\n",
    "k_white = data.frame(k = seq(from = 1, to = 50, by = 1))\n",
    "\n",
    "knn_white <- train(x = X_train, y = Y_train, method = \"knn\", tuneGrid = k_white, trControl = train_control)\n",
    "\n",
    "knn_white"
   ]
  },
  {
   "cell_type": "markdown",
   "metadata": {},
   "source": [
    "The lowest RMSE is given when k is 12, so that is what we use when we form the final model. "
   ]
  },
  {
   "cell_type": "code",
   "execution_count": 96,
   "metadata": {},
   "outputs": [
    {
     "data": {
      "text/plain": [
       "k-Nearest Neighbors \n",
       "\n",
       "3919 samples\n",
       "  11 predictor\n",
       "\n",
       "No pre-processing\n",
       "Resampling: Bootstrapped (25 reps) \n",
       "Summary of sample sizes: 3919, 3919, 3919, 3919, 3919, 3919, ... \n",
       "Resampling results:\n",
       "\n",
       "  RMSE       Rsquared   MAE      \n",
       "  0.7533703  0.2851869  0.5795348\n",
       "\n",
       "Tuning parameter 'k' was held constant at a value of 12"
      ]
     },
     "metadata": {},
     "output_type": "display_data"
    }
   ],
   "source": [
    "set.seed(100)\n",
    "\n",
    "k_best <- data.frame(k = 12)\n",
    "knn_white <- train(x = X_train, y = Y_train, method = \"knn\", tuneGrid = k_best)\n",
    "knn_white"
   ]
  },
  {
   "cell_type": "markdown",
   "metadata": {},
   "source": [
    "Testing the final model on the testing data set. "
   ]
  },
  {
   "cell_type": "code",
   "execution_count": 97,
   "metadata": {},
   "outputs": [
    {
     "data": {
      "text/html": [
       "<dl class=dl-horizontal>\n",
       "\t<dt>RMSE</dt>\n",
       "\t\t<dd>0.748749411253541</dd>\n",
       "\t<dt>Rsquared</dt>\n",
       "\t\t<dd>0.294573286924488</dd>\n",
       "\t<dt>MAE</dt>\n",
       "\t\t<dd>0.577799400973558</dd>\n",
       "</dl>\n"
      ],
      "text/latex": [
       "\\begin{description*}\n",
       "\\item[RMSE] 0.748749411253541\n",
       "\\item[Rsquared] 0.294573286924488\n",
       "\\item[MAE] 0.577799400973558\n",
       "\\end{description*}\n"
      ],
      "text/markdown": [
       "RMSE\n",
       ":   0.748749411253541Rsquared\n",
       ":   0.294573286924488MAE\n",
       ":   0.577799400973558\n",
       "\n"
      ],
      "text/plain": [
       "     RMSE  Rsquared       MAE \n",
       "0.7487494 0.2945733 0.5777994 "
      ]
     },
     "metadata": {},
     "output_type": "display_data"
    }
   ],
   "source": [
    "set.seed(100)\n",
    "\n",
    "test <- predict(knn_white, X_test)\n",
    "\n",
    "predictions <- data.frame(obs = Y_test, pred = test)\n",
    "\n",
    "test_error <- defaultSummary(predictions)\n",
    "test_error"
   ]
  },
  {
   "cell_type": "markdown",
   "metadata": {},
   "source": [
    "_Table 6_"
   ]
  },
  {
   "cell_type": "markdown",
   "metadata": {},
   "source": [
    "Using all the variables as predictors gives an RMSPE of 0.7487. The range of qualities for the white wine data is one longer (3-9), so a larger RMSPE compared to the red wine model using every predictor could be explained by the white wines that are on the extreme edges of the quality index. Let's try to improve. "
   ]
  },
  {
   "cell_type": "markdown",
   "metadata": {},
   "source": [
    "Splitting the white wine data set into training and testing sets using an 80/20 split and using the predictors that look good: residual sugar, density, and alcohol."
   ]
  },
  {
   "cell_type": "code",
   "execution_count": 100,
   "metadata": {},
   "outputs": [],
   "source": [
    "set.seed(100)\n",
    "\n",
    "training_rows <- white_scaled %>% \n",
    "    select(quality) %>% \n",
    "    unlist() %>% \n",
    "    createDataPartition(p = 0.80, list = FALSE)\n",
    "\n",
    "X_train <- white_scaled %>% \n",
    "    select(residual.sugar, density, alcohol) %>% \n",
    "    slice(training_rows) %>% \n",
    "    data.frame()\n",
    "\n",
    "Y_train <- white_scaled %>% \n",
    "    select(quality) %>% \n",
    "    slice(training_rows) %>% \n",
    "    unlist()\n",
    "\n",
    "X_test <- white_scaled %>% \n",
    "    select(residual.sugar, density, alcohol) %>% \n",
    "    slice(-training_rows) %>% \n",
    "    data.frame()\n",
    "\n",
    "Y_test <- white_scaled %>% \n",
    "    select(quality) %>% \n",
    "    slice(-training_rows) %>% \n",
    "    unlist()"
   ]
  },
  {
   "cell_type": "markdown",
   "metadata": {},
   "source": [
    "Using 10 fold cross validation to determine the best value of k."
   ]
  },
  {
   "cell_type": "code",
   "execution_count": 26,
   "metadata": {},
   "outputs": [
    {
     "data": {
      "text/plain": [
       "k-Nearest Neighbors \n",
       "\n",
       "3919 samples\n",
       "   3 predictor\n",
       "\n",
       "No pre-processing\n",
       "Resampling: Cross-Validated (10 fold) \n",
       "Summary of sample sizes: 3527, 3527, 3526, 3527, 3526, 3529, ... \n",
       "Resampling results across tuning parameters:\n",
       "\n",
       "  k   RMSE       Rsquared   MAE      \n",
       "   1  0.9164080  0.2134555  0.5459037\n",
       "   2  0.8442017  0.2188912  0.5860170\n",
       "   3  0.8259954  0.2146228  0.6090314\n",
       "   4  0.8127714  0.2164298  0.6142320\n",
       "   5  0.8014801  0.2210934  0.6108744\n",
       "   6  0.7928281  0.2255593  0.6087146\n",
       "   7  0.7889748  0.2259824  0.6108543\n",
       "   8  0.7871658  0.2249270  0.6135331\n",
       "   9  0.7869197  0.2225627  0.6153668\n",
       "  10  0.7851134  0.2233352  0.6147515\n",
       "  11  0.7845023  0.2230229  0.6166133\n",
       "  12  0.7838832  0.2231596  0.6175671\n",
       "  13  0.7836037  0.2230813  0.6189406\n",
       "  14  0.7816480  0.2256204  0.6177626\n",
       "  15  0.7824643  0.2237442  0.6189343\n",
       "  16  0.7839416  0.2209631  0.6190444\n",
       "  17  0.7839622  0.2203566  0.6188330\n",
       "  18  0.7837199  0.2205043  0.6192498\n",
       "  19  0.7834738  0.2203222  0.6196186\n",
       "  20  0.7844504  0.2183098  0.6204481\n",
       "  21  0.7834088  0.2197791  0.6193795\n",
       "  22  0.7828055  0.2208254  0.6190136\n",
       "  23  0.7824173  0.2214045  0.6189026\n",
       "  24  0.7808027  0.2240957  0.6179990\n",
       "  25  0.7807335  0.2239449  0.6182491\n",
       "  26  0.7799735  0.2253548  0.6182968\n",
       "  27  0.7800591  0.2250395  0.6185573\n",
       "  28  0.7803157  0.2244472  0.6186901\n",
       "  29  0.7796387  0.2255513  0.6186007\n",
       "  30  0.7793578  0.2259898  0.6186472\n",
       "  31  0.7794349  0.2258367  0.6189371\n",
       "  32  0.7798336  0.2250576  0.6194185\n",
       "  33  0.7804076  0.2238925  0.6201314\n",
       "  34  0.7801186  0.2244247  0.6197586\n",
       "  35  0.7801773  0.2242895  0.6196072\n",
       "  36  0.7796076  0.2253694  0.6192964\n",
       "  37  0.7791271  0.2261200  0.6193544\n",
       "  38  0.7788469  0.2266695  0.6190851\n",
       "  39  0.7786717  0.2270581  0.6192604\n",
       "  40  0.7781766  0.2281350  0.6188934\n",
       "  41  0.7780127  0.2283629  0.6190686\n",
       "  42  0.7777879  0.2287580  0.6191114\n",
       "  43  0.7774851  0.2293260  0.6188968\n",
       "  44  0.7768821  0.2306655  0.6189700\n",
       "  45  0.7769618  0.2305486  0.6189248\n",
       "  46  0.7775557  0.2293201  0.6195274\n",
       "  47  0.7771437  0.2301943  0.6191167\n",
       "  48  0.7769760  0.2304903  0.6188405\n",
       "  49  0.7770992  0.2302003  0.6193139\n",
       "  50  0.7771326  0.2301029  0.6195099\n",
       "\n",
       "RMSE was used to select the optimal model using the smallest value.\n",
       "The final value used for the model was k = 44."
      ]
     },
     "metadata": {},
     "output_type": "display_data"
    }
   ],
   "source": [
    "set.seed(100)\n",
    "\n",
    "train_control <- trainControl(method = \"cv\", number = 10)\n",
    "\n",
    "k_white_n = data.frame(k = seq(from = 1, to = 50, by = 1))\n",
    "\n",
    "knn_white_n <- train(x = X_train, y = Y_train, method = \"knn\", tuneGrid = k_white_n, trControl = train_control)\n",
    "\n",
    "knn_white_n"
   ]
  },
  {
   "cell_type": "markdown",
   "metadata": {},
   "source": [
    "The lowest RMSE is given when k is 44, so that is the value we will use when we form our final model. "
   ]
  },
  {
   "cell_type": "code",
   "execution_count": 27,
   "metadata": {},
   "outputs": [
    {
     "data": {
      "text/plain": [
       "k-Nearest Neighbors \n",
       "\n",
       "3919 samples\n",
       "   3 predictor\n",
       "\n",
       "No pre-processing\n",
       "Resampling: Bootstrapped (25 reps) \n",
       "Summary of sample sizes: 3919, 3919, 3919, 3919, 3919, 3919, ... \n",
       "Resampling results:\n",
       "\n",
       "  RMSE       Rsquared   MAE      \n",
       "  0.7840064  0.2164321  0.6216951\n",
       "\n",
       "Tuning parameter 'k' was held constant at a value of 44"
      ]
     },
     "metadata": {},
     "output_type": "display_data"
    }
   ],
   "source": [
    "set.seed(100)\n",
    "\n",
    "k_best <- data.frame(k = 44)\n",
    "knn_white_n <- train(x = X_train, y = Y_train, method = \"knn\", tuneGrid = k_best)\n",
    "knn_white_n"
   ]
  },
  {
   "cell_type": "markdown",
   "metadata": {},
   "source": [
    "Testing the model on the test data"
   ]
  },
  {
   "cell_type": "code",
   "execution_count": 101,
   "metadata": {},
   "outputs": [
    {
     "data": {
      "text/html": [
       "<dl class=dl-horizontal>\n",
       "\t<dt>RMSE</dt>\n",
       "\t\t<dd>0.770001103771604</dd>\n",
       "\t<dt>Rsquared</dt>\n",
       "\t\t<dd>0.250963776656185</dd>\n",
       "\t<dt>MAE</dt>\n",
       "\t\t<dd>0.615529692895053</dd>\n",
       "</dl>\n"
      ],
      "text/latex": [
       "\\begin{description*}\n",
       "\\item[RMSE] 0.770001103771604\n",
       "\\item[Rsquared] 0.250963776656185\n",
       "\\item[MAE] 0.615529692895053\n",
       "\\end{description*}\n"
      ],
      "text/markdown": [
       "RMSE\n",
       ":   0.770001103771604Rsquared\n",
       ":   0.250963776656185MAE\n",
       ":   0.615529692895053\n",
       "\n"
      ],
      "text/plain": [
       "     RMSE  Rsquared       MAE \n",
       "0.7700011 0.2509638 0.6155297 "
      ]
     },
     "metadata": {},
     "output_type": "display_data"
    }
   ],
   "source": [
    "set.seed(100)\n",
    "\n",
    "test <- predict(knn_white_n, X_test)\n",
    "\n",
    "predictions <- data.frame(obs = Y_test, pred = test)\n",
    "\n",
    "test_error <- defaultSummary(predictions)\n",
    "test_error"
   ]
  },
  {
   "cell_type": "markdown",
   "metadata": {},
   "source": [
    "_Table 7_"
   ]
  },
  {
   "cell_type": "markdown",
   "metadata": {},
   "source": [
    "The RMSPE for using the predictors that we came to the conclusion should be good is 0.7700, while the RMSPE for using all the predictors is 0.7487 which is actually 2.8% worse. Not good. This could be because that there is a different pattern in the data set that we did not capture when we selected the predictors that we thought were good.  "
   ]
  },
  {
   "cell_type": "markdown",
   "metadata": {},
   "source": [
    "Now what if we use the same predictors that we used for the red wine model and see if that improves it? "
   ]
  },
  {
   "cell_type": "markdown",
   "metadata": {},
   "source": [
    "Splitting the data set into training and testing sets with an 80/20 split. "
   ]
  },
  {
   "cell_type": "code",
   "execution_count": 151,
   "metadata": {},
   "outputs": [],
   "source": [
    "set.seed(100)\n",
    "\n",
    "training_rows <- white_scaled %>% \n",
    "    select(quality) %>% \n",
    "    unlist() %>% \n",
    "    createDataPartition(p = 0.80, list = FALSE)\n",
    "\n",
    "X_train <- white_scaled %>% \n",
    "    select(volatile.acidity, citric.acid, alcohol) %>% \n",
    "    slice(training_rows) %>% \n",
    "    data.frame()\n",
    "\n",
    "Y_train <- white_scaled %>% \n",
    "    select(quality) %>% \n",
    "    slice(training_rows) %>% \n",
    "    unlist()\n",
    "\n",
    "X_test <- white_scaled %>% \n",
    "    select(volatile.acidity, citric.acid, alcohol) %>% \n",
    "    slice(-training_rows) %>% \n",
    "    data.frame()\n",
    "\n",
    "Y_test <- white_scaled %>% \n",
    "    select(quality) %>% \n",
    "    slice(-training_rows) %>% \n",
    "    unlist()"
   ]
  },
  {
   "cell_type": "markdown",
   "metadata": {},
   "source": [
    "Using 10 fold cross validation to determine the best value of k."
   ]
  },
  {
   "cell_type": "code",
   "execution_count": 152,
   "metadata": {},
   "outputs": [
    {
     "data": {
      "text/plain": [
       "k-Nearest Neighbors \n",
       "\n",
       "3919 samples\n",
       "   3 predictor\n",
       "\n",
       "No pre-processing\n",
       "Resampling: Cross-Validated (10 fold) \n",
       "Summary of sample sizes: 3527, 3527, 3526, 3527, 3526, 3529, ... \n",
       "Resampling results across tuning parameters:\n",
       "\n",
       "  k   RMSE       Rsquared   MAE      \n",
       "   1  0.8658994  0.2594451  0.5316040\n",
       "   2  0.8189343  0.2486475  0.5756812\n",
       "   3  0.7993979  0.2481253  0.5869018\n",
       "   4  0.7864213  0.2528410  0.5891836\n",
       "   5  0.7766875  0.2591490  0.5908367\n",
       "   6  0.7715215  0.2608462  0.5893073\n",
       "   7  0.7653039  0.2674575  0.5870409\n",
       "   8  0.7626337  0.2697079  0.5868126\n",
       "   9  0.7623779  0.2690828  0.5869172\n",
       "  10  0.7630665  0.2665081  0.5878645\n",
       "  11  0.7615793  0.2678220  0.5865788\n",
       "  12  0.7599596  0.2691591  0.5867472\n",
       "  13  0.7582429  0.2714347  0.5864224\n",
       "  14  0.7579160  0.2710650  0.5868924\n",
       "  15  0.7585736  0.2693806  0.5875569\n",
       "  16  0.7590409  0.2678871  0.5879077\n",
       "  17  0.7589177  0.2676861  0.5879578\n",
       "  18  0.7580738  0.2689509  0.5875599\n",
       "  19  0.7568921  0.2708430  0.5866822\n",
       "  20  0.7561360  0.2719670  0.5854882\n",
       "  21  0.7564743  0.2711636  0.5864595\n",
       "  22  0.7568856  0.2703684  0.5871199\n",
       "  23  0.7572450  0.2695983  0.5879983\n",
       "  24  0.7578455  0.2683873  0.5888563\n",
       "  25  0.7575930  0.2686918  0.5884990\n",
       "  26  0.7576516  0.2684196  0.5892049\n",
       "  27  0.7575697  0.2686219  0.5898469\n",
       "  28  0.7576787  0.2682210  0.5903572\n",
       "  29  0.7565236  0.2705280  0.5898682\n",
       "  30  0.7558524  0.2718429  0.5896842\n",
       "  31  0.7557163  0.2721717  0.5892933\n",
       "  32  0.7553140  0.2729977  0.5887927\n",
       "  33  0.7546701  0.2742298  0.5884951\n",
       "  34  0.7546621  0.2742133  0.5886208\n",
       "  35  0.7544263  0.2747716  0.5883507\n",
       "  36  0.7547741  0.2741038  0.5887503\n",
       "  37  0.7540822  0.2755317  0.5886002\n",
       "  38  0.7538866  0.2759218  0.5883146\n",
       "  39  0.7542859  0.2752622  0.5888946\n",
       "  40  0.7538923  0.2761022  0.5884134\n",
       "  41  0.7533987  0.2771367  0.5878554\n",
       "  42  0.7537363  0.2765606  0.5880489\n",
       "  43  0.7538239  0.2765187  0.5880187\n",
       "  44  0.7541591  0.2759652  0.5885416\n",
       "  45  0.7543333  0.2756767  0.5887881\n",
       "  46  0.7542929  0.2759213  0.5887455\n",
       "  47  0.7546791  0.2753225  0.5889375\n",
       "  48  0.7549892  0.2748337  0.5889784\n",
       "  49  0.7546891  0.2755934  0.5887097\n",
       "  50  0.7546047  0.2758151  0.5890704\n",
       "\n",
       "RMSE was used to select the optimal model using the smallest value.\n",
       "The final value used for the model was k = 41."
      ]
     },
     "metadata": {},
     "output_type": "display_data"
    }
   ],
   "source": [
    "set.seed(100)\n",
    "\n",
    "train_control <- trainControl(method = \"cv\", number = 10)\n",
    "\n",
    "k_white_one = data.frame(k = seq(from = 1, to = 50, by = 1))\n",
    "\n",
    "knn_white_one <- train(x = X_train, y = Y_train, method = \"knn\", tuneGrid = k_white_one, trControl = train_control)\n",
    "\n",
    "knn_white_one"
   ]
  },
  {
   "cell_type": "markdown",
   "metadata": {},
   "source": [
    "The lowest RMSE is given when k is 41, so that is the value we will use when we form our final model."
   ]
  },
  {
   "cell_type": "code",
   "execution_count": 153,
   "metadata": {},
   "outputs": [
    {
     "data": {
      "text/plain": [
       "k-Nearest Neighbors \n",
       "\n",
       "3919 samples\n",
       "   3 predictor\n",
       "\n",
       "No pre-processing\n",
       "Resampling: Bootstrapped (25 reps) \n",
       "Summary of sample sizes: 3919, 3919, 3919, 3919, 3919, 3919, ... \n",
       "Resampling results:\n",
       "\n",
       "  RMSE      Rsquared   MAE      \n",
       "  0.761671  0.2594458  0.5942685\n",
       "\n",
       "Tuning parameter 'k' was held constant at a value of 41"
      ]
     },
     "metadata": {},
     "output_type": "display_data"
    }
   ],
   "source": [
    "set.seed(100)\n",
    "\n",
    "k_best <- data.frame(k = 41)\n",
    "knn_white_one <- train(x = X_train, y = Y_train, method = \"knn\", tuneGrid = k_best)\n",
    "knn_white_one"
   ]
  },
  {
   "cell_type": "markdown",
   "metadata": {},
   "source": [
    "Testing the model on the test data."
   ]
  },
  {
   "cell_type": "code",
   "execution_count": 154,
   "metadata": {},
   "outputs": [
    {
     "data": {
      "text/html": [
       "<dl class=dl-horizontal>\n",
       "\t<dt>RMSE</dt>\n",
       "\t\t<dd>0.755453432094378</dd>\n",
       "\t<dt>Rsquared</dt>\n",
       "\t\t<dd>0.278554905919946</dd>\n",
       "\t<dt>MAE</dt>\n",
       "\t\t<dd>0.58764130079541</dd>\n",
       "</dl>\n"
      ],
      "text/latex": [
       "\\begin{description*}\n",
       "\\item[RMSE] 0.755453432094378\n",
       "\\item[Rsquared] 0.278554905919946\n",
       "\\item[MAE] 0.58764130079541\n",
       "\\end{description*}\n"
      ],
      "text/markdown": [
       "RMSE\n",
       ":   0.755453432094378Rsquared\n",
       ":   0.278554905919946MAE\n",
       ":   0.58764130079541\n",
       "\n"
      ],
      "text/plain": [
       "     RMSE  Rsquared       MAE \n",
       "0.7554534 0.2785549 0.5876413 "
      ]
     },
     "metadata": {},
     "output_type": "display_data"
    }
   ],
   "source": [
    "set.seed(100)\n",
    "\n",
    "test <- predict(knn_white_one, X_test)\n",
    "\n",
    "predictions <- data.frame(obs = Y_test, pred = test)\n",
    "\n",
    "test_error <- defaultSummary(predictions)\n",
    "test_error"
   ]
  },
  {
   "cell_type": "markdown",
   "metadata": {},
   "source": [
    "The RMSPE for using alcohol content as the only predictor is 0.7554, which is 1.9% better than the model that uses the good predictors (0.7700) and 0.9% worse than the model that uses all of the variables as predictors (0.7487). Changing the three predictors that we though would perform the best to the ones that the red wine used improved the accuracy of the model, which may indicate that the most useful predictors to use across different types of wine are volatile acidity, citric acid, and alcohol content. "
   ]
  },
  {
   "cell_type": "code",
   "execution_count": 120,
   "metadata": {},
   "outputs": [
    {
     "data": {
      "text/html": [
       "<table>\n",
       "<thead><tr><th scope=col>quality</th><th scope=col>n</th></tr></thead>\n",
       "<tbody>\n",
       "\t<tr><td>3   </td><td>  20</td></tr>\n",
       "\t<tr><td>4   </td><td> 163</td></tr>\n",
       "\t<tr><td>5   </td><td>1457</td></tr>\n",
       "\t<tr><td>6   </td><td>2198</td></tr>\n",
       "\t<tr><td>7   </td><td> 880</td></tr>\n",
       "\t<tr><td>8   </td><td> 175</td></tr>\n",
       "\t<tr><td>9   </td><td>   5</td></tr>\n",
       "</tbody>\n",
       "</table>\n"
      ],
      "text/latex": [
       "\\begin{tabular}{r|ll}\n",
       " quality & n\\\\\n",
       "\\hline\n",
       "\t 3    &   20\\\\\n",
       "\t 4    &  163\\\\\n",
       "\t 5    & 1457\\\\\n",
       "\t 6    & 2198\\\\\n",
       "\t 7    &  880\\\\\n",
       "\t 8    &  175\\\\\n",
       "\t 9    &    5\\\\\n",
       "\\end{tabular}\n"
      ],
      "text/markdown": [
       "\n",
       "quality | n | \n",
       "|---|---|---|---|---|---|---|\n",
       "| 3    |   20 | \n",
       "| 4    |  163 | \n",
       "| 5    | 1457 | \n",
       "| 6    | 2198 | \n",
       "| 7    |  880 | \n",
       "| 8    |  175 | \n",
       "| 9    |    5 | \n",
       "\n",
       "\n"
      ],
      "text/plain": [
       "  quality n   \n",
       "1 3         20\n",
       "2 4        163\n",
       "3 5       1457\n",
       "4 6       2198\n",
       "5 7        880\n",
       "6 8        175\n",
       "7 9          5"
      ]
     },
     "metadata": {},
     "output_type": "display_data"
    }
   ],
   "source": [
    "white_data %>%\n",
    "    group_by(quality) %>%\n",
    "    summarize(n=n()) %>% \n",
    "    data.frame()"
   ]
  },
  {
   "cell_type": "markdown",
   "metadata": {},
   "source": [
    "_Table 8_ "
   ]
  },
  {
   "cell_type": "markdown",
   "metadata": {},
   "source": [
    "Since the classes of the wine quality are imbalanced, what will happen to the model's accuracy if we balance them? Will it improve the white wine model that uses all the predictors if we balance all the classes? "
   ]
  },
  {
   "cell_type": "markdown",
   "metadata": {},
   "source": [
    "Splitting the white wine data set into a training set with an 80/20 split to balance and a test data set to test the model at the very end. "
   ]
  },
  {
   "cell_type": "code",
   "execution_count": 133,
   "metadata": {},
   "outputs": [],
   "source": [
    "set.seed(100)\n",
    "\n",
    "training_rows <- white_scaled %>% \n",
    "    select(quality) %>% \n",
    "    unlist() %>% \n",
    "    createDataPartition(p = 0.80, list = FALSE)\n",
    "\n",
    "##the test data to be balanced\n",
    "white_training <- white_scaled %>% \n",
    "    slice(training_rows) %>% \n",
    "    data.frame()\n",
    "##\n",
    "\n",
    "white_test <- white_scaled %>% \n",
    "    slice(-training_rows) %>% \n",
    "    data.frame()"
   ]
  },
  {
   "cell_type": "markdown",
   "metadata": {},
   "source": [
    "What we did here was filter two class of quality in the white wine data set: the quality that is most common in the data set (6), and another variable to balance the lesser class to the common class. Once we balance one class, we filter out the class 6 so that there is only now the new balanced class. We do this for every class until we have balanced every class against the most common class, and then combine them all back together at the end to get a balanced data set. "
   ]
  },
  {
   "cell_type": "code",
   "execution_count": 134,
   "metadata": {},
   "outputs": [
    {
     "data": {
      "text/html": [
       "<table>\n",
       "<thead><tr><th scope=col>quality</th><th scope=col>n</th></tr></thead>\n",
       "<tbody>\n",
       "\t<tr><td>3  </td><td>569</td></tr>\n",
       "\t<tr><td>4  </td><td>543</td></tr>\n",
       "\t<tr><td>5  </td><td>549</td></tr>\n",
       "\t<tr><td>6  </td><td>544</td></tr>\n",
       "\t<tr><td>7  </td><td>539</td></tr>\n",
       "\t<tr><td>8  </td><td>539</td></tr>\n",
       "</tbody>\n",
       "</table>\n"
      ],
      "text/latex": [
       "\\begin{tabular}{r|ll}\n",
       " quality & n\\\\\n",
       "\\hline\n",
       "\t 3   & 569\\\\\n",
       "\t 4   & 543\\\\\n",
       "\t 5   & 549\\\\\n",
       "\t 6   & 544\\\\\n",
       "\t 7   & 539\\\\\n",
       "\t 8   & 539\\\\\n",
       "\\end{tabular}\n"
      ],
      "text/markdown": [
       "\n",
       "quality | n | \n",
       "|---|---|---|---|---|---|\n",
       "| 3   | 569 | \n",
       "| 4   | 543 | \n",
       "| 5   | 549 | \n",
       "| 6   | 544 | \n",
       "| 7   | 539 | \n",
       "| 8   | 539 | \n",
       "\n",
       "\n"
      ],
      "text/plain": [
       "  quality n  \n",
       "1 3       569\n",
       "2 4       543\n",
       "3 5       549\n",
       "4 6       544\n",
       "5 7       539\n",
       "6 8       539"
      ]
     },
     "metadata": {},
     "output_type": "display_data"
    }
   ],
   "source": [
    "set.seed(100)\n",
    "\n",
    "list_1 <- c(6, 3)\n",
    "list_2 <- c(6, 4)\n",
    "list_3 <- c(6, 5)\n",
    "list_4 <- c(6, 7)\n",
    "list_5 <- c(6, 8) \n",
    "list_6 <- c(6, 9) \n",
    "\n",
    "white_filtered <- white_training %>%\n",
    "    filter(quality %in% list_1)\n",
    "balanced_data <- ovun.sample(quality ~ ., data = white_filtered, method = \"over\", p = 0.5)$data\n",
    "white_filtered_1 <- balanced_data %>% \n",
    "    filter(quality == 3)\n",
    "\n",
    "\n",
    "white_filtered <- white_training %>% \n",
    "    filter(quality %in% list_2)\n",
    "balanced_data <- ovun.sample(quality ~ ., data = white_filtered, method = \"over\", p = 0.5)$data\n",
    "white_filtered_2 <- balanced_data %>% \n",
    "    filter(quality == 4)\n",
    "\n",
    "\n",
    "white_filtered <- white_training %>% \n",
    "    filter(quality %in% list_3)\n",
    "balanced_data <- ovun.sample(quality ~ ., data = white_filtered, method = \"over\", p = 0.5)$data\n",
    "white_filtered_3 <- balanced_data %>% \n",
    "    filter(quality == 6)\n",
    "\n",
    "\n",
    "white_filtered <- white_training %>% \n",
    "    filter(quality %in% list_4)\n",
    "balanced_data <- ovun.sample(quality ~ ., data = white_filtered, method = \"over\", p = 0.5)$data\n",
    "white_filtered_4 <- balanced_data %>% \n",
    "    filter(quality == 7)\n",
    "\n",
    "\n",
    "white_filtered <- white_training %>% \n",
    "    filter(quality %in% list_5)\n",
    "balanced_data <- ovun.sample(quality ~ ., data = white_filtered, method = \"over\", p = 0.5)$data\n",
    "white_filtered_5 <- balanced_data %>% \n",
    "    filter(quality == 8)\n",
    "\n",
    "white_filtered <- white_training %>% \n",
    "    filter(quality %in% list_5)\n",
    "balanced_data <- ovun.sample(quality ~ ., data = white_filtered, method = \"over\", p = 0.5)$data\n",
    "white_filtered_6 <- balanced_data %>% \n",
    "    filter(quality == 9)\n",
    "\n",
    "\n",
    "white_filtered <- white_training %>% \n",
    "    filter(quality == 5)\n",
    "\n",
    "\n",
    "white_train_bal <- rbind(red_filtered_1, red_filtered_2, red_filtered_3, red_filtered_4, red_filtered_5, red_filtered_6)\n",
    "\n",
    "stats <- white_train_bal %>% \n",
    "    group_by(quality) %>% \n",
    "    summarize(n = n())\n",
    "stats\n"
   ]
  },
  {
   "cell_type": "markdown",
   "metadata": {},
   "source": [
    "_Table 9_"
   ]
  },
  {
   "cell_type": "markdown",
   "metadata": {},
   "source": [
    "Assigning the training and test sets to objects with appropriate data formats. "
   ]
  },
  {
   "cell_type": "code",
   "execution_count": 135,
   "metadata": {},
   "outputs": [],
   "source": [
    "X_train <- red_train_bal %>% \n",
    "    select(-quality) %>% \n",
    "    data.frame()\n",
    "\n",
    "Y_train <- red_train_bal %>% \n",
    "    select(quality) %>%\n",
    "    unlist()\n",
    "\n",
    "X_test <- red_test %>% \n",
    "    select(-quality) %>% \n",
    "    data.frame()\n",
    "\n",
    "Y_test <- red_test %>% \n",
    "    select(quality) %>% \n",
    "    unlist()"
   ]
  },
  {
   "cell_type": "markdown",
   "metadata": {},
   "source": [
    "10 fold cross validation to find the best value of k. "
   ]
  },
  {
   "cell_type": "code",
   "execution_count": 136,
   "metadata": {},
   "outputs": [
    {
     "data": {
      "text/plain": [
       "k-Nearest Neighbors \n",
       "\n",
       "3283 samples\n",
       "  11 predictor\n",
       "\n",
       "No pre-processing\n",
       "Resampling: Cross-Validated (10 fold) \n",
       "Summary of sample sizes: 2955, 2954, 2955, 2955, 2956, 2954, ... \n",
       "Resampling results across tuning parameters:\n",
       "\n",
       "  k   RMSE       Rsquared   MAE       \n",
       "   1  0.3539543  0.9581039  0.09777147\n",
       "   2  0.4024890  0.9464970  0.14577250\n",
       "   3  0.4429613  0.9355347  0.18298177\n",
       "   4  0.4799250  0.9246900  0.21434180\n",
       "   5  0.5037898  0.9172260  0.23598858\n",
       "   6  0.5440026  0.9038030  0.26390809\n",
       "   7  0.5691154  0.8949572  0.28379323\n",
       "   8  0.5876725  0.8882668  0.29731003\n",
       "   9  0.6027261  0.8826743  0.31027051\n",
       "  10  0.6163222  0.8773716  0.32126161\n",
       "  11  0.6364569  0.8691428  0.34328685\n",
       "  12  0.6522983  0.8626486  0.36190350\n",
       "  13  0.6609254  0.8590776  0.37598681\n",
       "  14  0.6754785  0.8533368  0.39235304\n",
       "  15  0.6853769  0.8494602  0.40776305\n",
       "  16  0.6952516  0.8453482  0.41901109\n",
       "  17  0.7112078  0.8390647  0.43096218\n",
       "  18  0.7189638  0.8358775  0.43799657\n",
       "  19  0.7225260  0.8342408  0.44159345\n",
       "  20  0.7227336  0.8339525  0.44376772\n",
       "  21  0.7334359  0.8296628  0.45249696\n",
       "  22  0.7454356  0.8248574  0.46266902\n",
       "  23  0.7599510  0.8187425  0.47571519\n",
       "  24  0.7685405  0.8152240  0.48269189\n",
       "  25  0.7772017  0.8116082  0.48972508\n",
       "  26  0.7942890  0.8036228  0.49922216\n",
       "  27  0.8097343  0.7960274  0.50875628\n",
       "  28  0.8143255  0.7942454  0.51366720\n",
       "  29  0.8213688  0.7906092  0.52089847\n",
       "  30  0.8235457  0.7894505  0.52496098\n",
       "  31  0.8284237  0.7870127  0.53098371\n",
       "  32  0.8336882  0.7842015  0.53763494\n",
       "  33  0.8381974  0.7816307  0.54247464\n",
       "  34  0.8482275  0.7759130  0.55261994\n",
       "  35  0.8523427  0.7731041  0.55812222\n",
       "  36  0.8568771  0.7705359  0.56337545\n",
       "  37  0.8596666  0.7685189  0.56828855\n",
       "  38  0.8606066  0.7673071  0.57265207\n",
       "  39  0.8625242  0.7657612  0.57803344\n",
       "  40  0.8608996  0.7662923  0.57896271\n",
       "  41  0.8646343  0.7637623  0.58447329\n",
       "  42  0.8660439  0.7623797  0.58866380\n",
       "  43  0.8658487  0.7622275  0.59077080\n",
       "  44  0.8686529  0.7603608  0.59575759\n",
       "  45  0.8740337  0.7570470  0.60317967\n",
       "  46  0.8779359  0.7541994  0.60830098\n",
       "  47  0.8786194  0.7533712  0.61108998\n",
       "  48  0.8827430  0.7504275  0.61699425\n",
       "  49  0.8860776  0.7480289  0.62204847\n",
       "  50  0.8881467  0.7464302  0.62511049\n",
       "\n",
       "RMSE was used to select the optimal model using the smallest value.\n",
       "The final value used for the model was k = 1."
      ]
     },
     "metadata": {},
     "output_type": "display_data"
    }
   ],
   "source": [
    "set.seed(100)\n",
    "\n",
    "train_control <- trainControl(method = \"cv\", number = 10)\n",
    "\n",
    "k_white_bal = data.frame(k = seq(from = 1, to = 50, by = 1))\n",
    "\n",
    "knn_white_bal <- train(x = X_train, y = Y_train, method = \"knn\", tuneGrid = k_white_bal, trControl = train_control)\n",
    "\n",
    "knn_white_bal"
   ]
  },
  {
   "cell_type": "markdown",
   "metadata": {},
   "source": [
    "Using k=1 to form the final model. "
   ]
  },
  {
   "cell_type": "code",
   "execution_count": 137,
   "metadata": {},
   "outputs": [
    {
     "data": {
      "text/plain": [
       "k-Nearest Neighbors \n",
       "\n",
       "3283 samples\n",
       "  11 predictor\n",
       "\n",
       "No pre-processing\n",
       "Resampling: Bootstrapped (25 reps) \n",
       "Summary of sample sizes: 3283, 3283, 3283, 3283, 3283, 3283, ... \n",
       "Resampling results:\n",
       "\n",
       "  RMSE      Rsquared   MAE      \n",
       "  0.410523  0.9442185  0.1280094\n",
       "\n",
       "Tuning parameter 'k' was held constant at a value of 1"
      ]
     },
     "metadata": {},
     "output_type": "display_data"
    }
   ],
   "source": [
    "set.seed(100)\n",
    "k_best <- data.frame(k = 1)\n",
    "knn_white_bal <- train(x = X_train, y = Y_train, method = \"knn\", tuneGrid = k_best)\n",
    "knn_white_bal"
   ]
  },
  {
   "cell_type": "code",
   "execution_count": 139,
   "metadata": {},
   "outputs": [
    {
     "data": {
      "text/html": [
       "<dl class=dl-horizontal>\n",
       "\t<dt>RMSE</dt>\n",
       "\t\t<dd>0.793051585718144</dd>\n",
       "\t<dt>Rsquared</dt>\n",
       "\t\t<dd>0.284851840801161</dd>\n",
       "\t<dt>MAE</dt>\n",
       "\t\t<dd>0.471698113207547</dd>\n",
       "</dl>\n"
      ],
      "text/latex": [
       "\\begin{description*}\n",
       "\\item[RMSE] 0.793051585718144\n",
       "\\item[Rsquared] 0.284851840801161\n",
       "\\item[MAE] 0.471698113207547\n",
       "\\end{description*}\n"
      ],
      "text/markdown": [
       "RMSE\n",
       ":   0.793051585718144Rsquared\n",
       ":   0.284851840801161MAE\n",
       ":   0.471698113207547\n",
       "\n"
      ],
      "text/plain": [
       "     RMSE  Rsquared       MAE \n",
       "0.7930516 0.2848518 0.4716981 "
      ]
     },
     "metadata": {},
     "output_type": "display_data"
    }
   ],
   "source": [
    "set.seed(100)\n",
    "\n",
    "test <- predict(knn_white_bal, X_test)\n",
    "\n",
    "predictions <- data.frame(obs = Y_test, pred = test)\n",
    "\n",
    "test_error <- defaultSummary(predictions)\n",
    "test_error"
   ]
  },
  {
   "cell_type": "markdown",
   "metadata": {},
   "source": [
    "_Table 10_"
   ]
  },
  {
   "cell_type": "markdown",
   "metadata": {},
   "source": [
    "The RMSPE from training on a balanced white wine data set is 0.7931, which is 5.6% worse than the model that uses all the predictors on the unbalanced white wine data set (0.7487). This could be because the model that trains on the balanced data set relies too much on the same data points which makes it really good at predicting those data points, but not ones that is hasn't seen before. "
   ]
  },
  {
   "cell_type": "markdown",
   "metadata": {},
   "source": [
    "We will conclude our modeling on the white wine data set with the conlusion that using every predictor on the unbalanced data set produces one of the best models possible. We will also extend this conclusion to the red wine data set and say that balancing that data set will also cause a deterioration to the red wine models. "
   ]
  },
  {
   "cell_type": "markdown",
   "metadata": {},
   "source": [
    "### Red and White Wine"
   ]
  },
  {
   "cell_type": "markdown",
   "metadata": {},
   "source": [
    "A final exploration that we will do on knn regression is that will combining the two data sets improve the accuracy of the models? "
   ]
  },
  {
   "cell_type": "markdown",
   "metadata": {},
   "source": [
    "Combining the two data sets and scaling them."
   ]
  },
  {
   "cell_type": "code",
   "execution_count": 141,
   "metadata": {},
   "outputs": [],
   "source": [
    "wine <- rbind(white_scaled, red_scaled)\n",
    "\n",
    "wine_scaled <- wine %>% \n",
    "  select(-quality) %>% \n",
    "  scale(center = FALSE) \n",
    "\n",
    "wine_scaled <- data.frame(quality = wine$quality, wine_scaled)"
   ]
  },
  {
   "cell_type": "code",
   "execution_count": 142,
   "metadata": {},
   "outputs": [
    {
     "data": {
      "text/html": [
       "<table>\n",
       "<thead><tr><th scope=col>quality</th><th scope=col>n</th></tr></thead>\n",
       "<tbody>\n",
       "\t<tr><td>3   </td><td>  30</td></tr>\n",
       "\t<tr><td>4   </td><td> 216</td></tr>\n",
       "\t<tr><td>5   </td><td>2138</td></tr>\n",
       "\t<tr><td>6   </td><td>2836</td></tr>\n",
       "\t<tr><td>7   </td><td>1079</td></tr>\n",
       "\t<tr><td>8   </td><td> 193</td></tr>\n",
       "\t<tr><td>9   </td><td>   5</td></tr>\n",
       "</tbody>\n",
       "</table>\n"
      ],
      "text/latex": [
       "\\begin{tabular}{r|ll}\n",
       " quality & n\\\\\n",
       "\\hline\n",
       "\t 3    &   30\\\\\n",
       "\t 4    &  216\\\\\n",
       "\t 5    & 2138\\\\\n",
       "\t 6    & 2836\\\\\n",
       "\t 7    & 1079\\\\\n",
       "\t 8    &  193\\\\\n",
       "\t 9    &    5\\\\\n",
       "\\end{tabular}\n"
      ],
      "text/markdown": [
       "\n",
       "quality | n | \n",
       "|---|---|---|---|---|---|---|\n",
       "| 3    |   30 | \n",
       "| 4    |  216 | \n",
       "| 5    | 2138 | \n",
       "| 6    | 2836 | \n",
       "| 7    | 1079 | \n",
       "| 8    |  193 | \n",
       "| 9    |    5 | \n",
       "\n",
       "\n"
      ],
      "text/plain": [
       "  quality n   \n",
       "1 3         30\n",
       "2 4        216\n",
       "3 5       2138\n",
       "4 6       2836\n",
       "5 7       1079\n",
       "6 8        193\n",
       "7 9          5"
      ]
     },
     "metadata": {},
     "output_type": "display_data"
    },
    {
     "data": {
      "text/html": [
       "6497"
      ],
      "text/latex": [
       "6497"
      ],
      "text/markdown": [
       "6497"
      ],
      "text/plain": [
       "[1] 6497"
      ]
     },
     "metadata": {},
     "output_type": "display_data"
    }
   ],
   "source": [
    "wine %>% group_by(quality) %>%\n",
    "    summarize(n = n()) \n",
    "\n",
    "nrow(wine)"
   ]
  },
  {
   "cell_type": "markdown",
   "metadata": {},
   "source": [
    "_Table 10_"
   ]
  },
  {
   "cell_type": "markdown",
   "metadata": {},
   "source": [
    "We will not balance the data set due to the conclusion of our previous modeling on a balanced data set. "
   ]
  },
  {
   "cell_type": "markdown",
   "metadata": {},
   "source": [
    "Exploratory data analysis on the combined data set. "
   ]
  },
  {
   "cell_type": "code",
   "execution_count": 146,
   "metadata": {},
   "outputs": [
    {
     "data": {
      "image/png": "[encoded data removed]",
      "text/plain": [
       "plot without title"
      ]
     },
     "metadata": {},
     "output_type": "display_data"
    }
   ],
   "source": [
    "wine_quality_factor <- wine %>%\n",
    "    mutate(quality = as.factor(quality))\n",
    "\n",
    "plot_fa <- wine_quality_factor %>% \n",
    "    ggplot(aes(x = quality, y = fixed.acidity)) + \n",
    "    geom_boxplot()\n",
    "\n",
    "plot_va <- wine_quality_factor %>% \n",
    "    ggplot(aes(x = quality, y = volatile.acidity)) +\n",
    "    geom_boxplot()\n",
    "\n",
    "plot_ca <- wine_quality_factor %>% \n",
    "    ggplot(aes(x = quality, y = citric.acid)) +\n",
    "    geom_boxplot()\n",
    "\n",
    "plot_rs <- wine_quality_factor %>%  \n",
    "    ggplot(aes(x = quality, y = residual.sugar)) +\n",
    "    geom_boxplot()\n",
    "\n",
    "plot_cl <- wine_quality_factor %>% \n",
    "    ggplot(aes(x = quality, y = chlorides)) +\n",
    "    geom_boxplot()\n",
    "\n",
    "plot_fsd <- wine_quality_factor %>% \n",
    "    ggplot(aes(x = quality, y = free.sulfur.dioxide)) +\n",
    "    geom_boxplot()\n",
    "\n",
    "plot_tsd <- wine_quality_factor %>% \n",
    "    ggplot(aes(x = quality, y = total.sulfur.dioxide)) +\n",
    "    geom_boxplot()\n",
    "\n",
    "plot_ph <- wine_quality_factor %>%  \n",
    "    ggplot(aes(x = quality, y = pH)) +\n",
    "    geom_boxplot()\n",
    "\n",
    "plot_den <- wine_quality_factor %>% \n",
    "    ggplot(aes(x = quality, y = density)) +\n",
    "    geom_boxplot()\n",
    "\n",
    "plot_alc <- wine_quality_factor %>% \n",
    "    ggplot(aes(x = quality, y = alcohol)) +\n",
    "    geom_boxplot()\n",
    "\n",
    "plot_sulp <- wine_quality_factor %>% \n",
    "    ggplot(aes(x = quality, y = sulphates)) +\n",
    "    geom_boxplot()\n",
    "\n",
    "\n",
    "grid.arrange(plot_fa, plot_va, plot_ca, plot_rs, plot_cl, plot_fsd, plot_tsd, plot_ph, plot_den, plot_alc, plot_sulp, ncol = 4, top = \"Relationships of Predictors vs. Quality of Combined Wine\")"
   ]
  },
  {
   "cell_type": "markdown",
   "metadata": {},
   "source": [
    "None of the variables look exceedingly good to be predictors in the models, but since using volatile acidity, citric acid, and alcohol content improved both red and white wine models, we will use them as predictors in this case. "
   ]
  },
  {
   "cell_type": "markdown",
   "metadata": {},
   "source": [
    "Splitting the combined data set into training and test data set with and 80/20 split. "
   ]
  },
  {
   "cell_type": "code",
   "execution_count": 155,
   "metadata": {},
   "outputs": [],
   "source": [
    "set.seed(100)\n",
    "\n",
    "training_set <- wine_scaled %>% \n",
    "    select(quality) %>% \n",
    "    unlist() %>% \n",
    "    createDataPartition(p = 0.80, list = FALSE)\n",
    "\n",
    "X_train <- wine_scaled %>% \n",
    "    select(volatile.acidity, citric.acid, alcohol) %>% \n",
    "    slice(training_set) %>% \n",
    "    data.frame()\n",
    "\n",
    "Y_train <- wine_scaled %>% \n",
    "    select(quality) %>% \n",
    "    slice(training_set) %>% \n",
    "    unlist()\n",
    "\n",
    "X_test <- wine_scaled %>% \n",
    "    select(volatile.acidity, citric.acid, alcohol) %>% \n",
    "    slice(-training_set) %>% \n",
    "    data.frame()\n",
    "\n",
    "Y_test <- wine_scaled %>% \n",
    "    select(quality) %>% \n",
    "    slice(-training_set) %>% \n",
    "    unlist()"
   ]
  },
  {
   "cell_type": "code",
   "execution_count": 156,
   "metadata": {},
   "outputs": [
    {
     "data": {
      "text/plain": [
       "k-Nearest Neighbors \n",
       "\n",
       "5199 samples\n",
       "   3 predictor\n",
       "\n",
       "No pre-processing\n",
       "Resampling: Cross-Validated (10 fold) \n",
       "Summary of sample sizes: 4679, 4679, 4680, 4679, 4679, 4680, ... \n",
       "Resampling results across tuning parameters:\n",
       "\n",
       "  k   RMSE       Rsquared   MAE      \n",
       "   1  0.8647516  0.2425061  0.5290018\n",
       "   2  0.8215533  0.2315035  0.5828526\n",
       "   3  0.7971382  0.2379727  0.5885409\n",
       "   4  0.7842142  0.2420488  0.5910291\n",
       "   5  0.7743487  0.2474980  0.5901628\n",
       "   6  0.7679869  0.2498404  0.5871798\n",
       "   7  0.7634344  0.2520441  0.5878551\n",
       "   8  0.7592375  0.2561117  0.5863117\n",
       "   9  0.7545929  0.2619046  0.5843439\n",
       "  10  0.7523460  0.2644636  0.5830068\n",
       "  11  0.7518035  0.2640172  0.5839906\n",
       "  12  0.7511085  0.2642515  0.5838646\n",
       "  13  0.7504325  0.2647320  0.5830975\n",
       "  14  0.7493053  0.2661946  0.5817072\n",
       "  15  0.7469350  0.2700567  0.5799726\n",
       "  16  0.7456120  0.2717291  0.5787996\n",
       "  17  0.7460765  0.2704980  0.5794473\n",
       "  18  0.7451703  0.2718278  0.5788082\n",
       "  19  0.7431915  0.2752358  0.5773760\n",
       "  20  0.7428027  0.2757334  0.5765801\n",
       "  21  0.7417876  0.2773858  0.5757785\n",
       "  22  0.7415906  0.2776037  0.5757529\n",
       "  23  0.7409947  0.2786009  0.5757271\n",
       "  24  0.7418942  0.2768833  0.5764868\n",
       "  25  0.7416723  0.2773314  0.5760887\n",
       "  26  0.7413304  0.2779338  0.5760666\n",
       "  27  0.7414898  0.2775550  0.5764679\n",
       "  28  0.7414205  0.2776377  0.5767452\n",
       "  29  0.7416555  0.2770893  0.5771010\n",
       "  30  0.7418360  0.2766539  0.5771066\n",
       "  31  0.7411755  0.2779136  0.5767502\n",
       "  32  0.7409231  0.2784551  0.5770699\n",
       "  33  0.7409833  0.2782535  0.5777302\n",
       "  34  0.7400651  0.2800278  0.5771317\n",
       "  35  0.7401288  0.2799535  0.5771657\n",
       "  36  0.7402422  0.2796633  0.5772926\n",
       "  37  0.7396413  0.2808285  0.5765621\n",
       "  38  0.7397203  0.2806934  0.5764797\n",
       "  39  0.7390862  0.2819223  0.5762480\n",
       "  40  0.7390532  0.2820621  0.5762464\n",
       "  41  0.7398970  0.2804140  0.5770498\n",
       "  42  0.7396937  0.2808803  0.5770790\n",
       "  43  0.7396390  0.2810905  0.5775232\n",
       "  44  0.7392221  0.2819822  0.5773381\n",
       "  45  0.7392764  0.2819814  0.5774933\n",
       "  46  0.7394892  0.2816613  0.5775752\n",
       "  47  0.7397102  0.2812415  0.5780427\n",
       "  48  0.7396492  0.2814337  0.5776760\n",
       "  49  0.7394622  0.2818143  0.5776065\n",
       "  50  0.7393931  0.2820387  0.5776948\n",
       "\n",
       "RMSE was used to select the optimal model using the smallest value.\n",
       "The final value used for the model was k = 40."
      ]
     },
     "metadata": {},
     "output_type": "display_data"
    }
   ],
   "source": [
    "set.seed(100)\n",
    "\n",
    "train_control <- trainControl(method = \"cv\", number = 10)\n",
    "\n",
    "k_wine = data.frame(k = seq(from = 1, to = 50, by = 1))\n",
    "\n",
    "knn_wine <- train(x = X_train, y = Y_train, method = \"knn\", tuneGrid = k_wine, trControl = train_control)\n",
    "\n",
    "knn_wine"
   ]
  },
  {
   "cell_type": "markdown",
   "metadata": {},
   "source": [
    "Using k=40 to form the final model. "
   ]
  },
  {
   "cell_type": "code",
   "execution_count": 157,
   "metadata": {},
   "outputs": [
    {
     "data": {
      "text/plain": [
       "k-Nearest Neighbors \n",
       "\n",
       "5199 samples\n",
       "   3 predictor\n",
       "\n",
       "No pre-processing\n",
       "Resampling: Bootstrapped (25 reps) \n",
       "Summary of sample sizes: 5199, 5199, 5199, 5199, 5199, 5199, ... \n",
       "Resampling results:\n",
       "\n",
       "  RMSE       Rsquared   MAE      \n",
       "  0.7472189  0.2662734  0.5815424\n",
       "\n",
       "Tuning parameter 'k' was held constant at a value of 40"
      ]
     },
     "metadata": {},
     "output_type": "display_data"
    }
   ],
   "source": [
    "set.seed(100)\n",
    "\n",
    "k_best <- data.frame(k = 40)\n",
    "knn_wine <- train(x = X_train, y = Y_train, method = \"knn\", tuneGrid = k_best)\n",
    "knn_wine"
   ]
  },
  {
   "cell_type": "markdown",
   "metadata": {},
   "source": [
    "Testing the final combined model on the test data. "
   ]
  },
  {
   "cell_type": "code",
   "execution_count": 158,
   "metadata": {},
   "outputs": [
    {
     "data": {
      "text/html": [
       "<dl class=dl-horizontal>\n",
       "\t<dt>RMSE</dt>\n",
       "\t\t<dd>0.752154403624828</dd>\n",
       "\t<dt>Rsquared</dt>\n",
       "\t\t<dd>0.269072800030909</dd>\n",
       "\t<dt>MAE</dt>\n",
       "\t\t<dd>0.587877274648151</dd>\n",
       "</dl>\n"
      ],
      "text/latex": [
       "\\begin{description*}\n",
       "\\item[RMSE] 0.752154403624828\n",
       "\\item[Rsquared] 0.269072800030909\n",
       "\\item[MAE] 0.587877274648151\n",
       "\\end{description*}\n"
      ],
      "text/markdown": [
       "RMSE\n",
       ":   0.752154403624828Rsquared\n",
       ":   0.269072800030909MAE\n",
       ":   0.587877274648151\n",
       "\n"
      ],
      "text/plain": [
       "     RMSE  Rsquared       MAE \n",
       "0.7521544 0.2690728 0.5878773 "
      ]
     },
     "metadata": {},
     "output_type": "display_data"
    }
   ],
   "source": [
    "set.seed(100)\n",
    "\n",
    "test <- predict(knn_wine, X_test)\n",
    "\n",
    "predictions <- data.frame(obs = Y_test, pred = test)\n",
    "\n",
    "test_error <- defaultSummary(predictions)\n",
    "test_error"
   ]
  },
  {
   "cell_type": "markdown",
   "metadata": {},
   "source": [
    "Combining the two wine data sets together gives an RMSPE of 0.7521 which is 0.45% worse than the of RMSPE of the model that uses all predictors on the white wine (0.7487) and 12.6% worse than the red wine model that uses the three predictors (0.6572). "
   ]
  },
  {
   "cell_type": "markdown",
   "metadata": {},
   "source": [
    "Combining the two data sets in an effort to make the model more accurate does not work. "
   ]
  },
  {
   "cell_type": "markdown",
   "metadata": {},
   "source": [
    "## Linear Regression"
   ]
  },
  {
   "cell_type": "markdown",
   "metadata": {},
   "source": [
    "### Red Wine"
   ]
  },
  {
   "cell_type": "markdown",
   "metadata": {},
   "source": [
    "First, we generate training set ans test set."
   ]
  },
  {
   "cell_type": "code",
   "execution_count": 6,
   "metadata": {},
   "outputs": [],
   "source": [
    "r_training_set <- red_scaled %>% \n",
    "    select(quality) %>% \n",
    "    unlist() %>% \n",
    "    createDataPartition(p = 0.80, list = FALSE)\n",
    "\n",
    "RX_train <- red_scaled %>% \n",
    "    select(-quality) %>% \n",
    "    slice(r_training_set) %>% \n",
    "    data.frame()\n",
    "\n",
    "RY_train <- red_scaled %>% \n",
    "    select(quality) %>% \n",
    "    slice(r_training_set) %>% \n",
    "    unlist()\n",
    "\n",
    "RX_test <- red_scaled %>% \n",
    "    select(-quality) %>% \n",
    "    slice(-r_training_set) %>% \n",
    "    data.frame()\n",
    "\n",
    "RY_test <- red_scaled %>% \n",
    "    select(quality) %>% \n",
    "    slice(-r_training_set) %>% \n",
    "    unlist()"
   ]
  },
  {
   "cell_type": "code",
   "execution_count": 7,
   "metadata": {},
   "outputs": [
    {
     "data": {
      "text/html": [
       "<table>\n",
       "<thead><tr><th scope=col>X.Intercept.</th><th scope=col>fixed.acidity</th><th scope=col>volatile.acidity</th><th scope=col>citric.acid</th><th scope=col>residual.sugar</th><th scope=col>chlorides</th><th scope=col>free.sulfur.dioxide</th><th scope=col>total.sulfur.dioxide</th><th scope=col>density</th><th scope=col>pH</th><th scope=col>sulphates</th><th scope=col>alcohol</th></tr></thead>\n",
       "<tbody>\n",
       "\t<tr><td>29.39343   </td><td>0.164331   </td><td>-0.6272253 </td><td>-0.04892171</td><td>0.05649911 </td><td>-0.1517426 </td><td>0.09023218 </td><td>-0.1722785 </td><td>-25.27902  </td><td>-1.347462  </td><td>0.5595277  </td><td>2.954285   </td></tr>\n",
       "</tbody>\n",
       "</table>\n"
      ],
      "text/latex": [
       "\\begin{tabular}{r|llllllllllll}\n",
       " X.Intercept. & fixed.acidity & volatile.acidity & citric.acid & residual.sugar & chlorides & free.sulfur.dioxide & total.sulfur.dioxide & density & pH & sulphates & alcohol\\\\\n",
       "\\hline\n",
       "\t 29.39343    & 0.164331    & -0.6272253  & -0.04892171 & 0.05649911  & -0.1517426  & 0.09023218  & -0.1722785  & -25.27902   & -1.347462   & 0.5595277   & 2.954285   \\\\\n",
       "\\end{tabular}\n"
      ],
      "text/markdown": [
       "\n",
       "X.Intercept. | fixed.acidity | volatile.acidity | citric.acid | residual.sugar | chlorides | free.sulfur.dioxide | total.sulfur.dioxide | density | pH | sulphates | alcohol | \n",
       "|---|\n",
       "| 29.39343    | 0.164331    | -0.6272253  | -0.04892171 | 0.05649911  | -0.1517426  | 0.09023218  | -0.1722785  | -25.27902   | -1.347462   | 0.5595277   | 2.954285    | \n",
       "\n",
       "\n"
      ],
      "text/plain": [
       "  X.Intercept. fixed.acidity volatile.acidity citric.acid residual.sugar\n",
       "1 29.39343     0.164331      -0.6272253       -0.04892171 0.05649911    \n",
       "  chlorides  free.sulfur.dioxide total.sulfur.dioxide density   pH       \n",
       "1 -0.1517426 0.09023218          -0.1722785           -25.27902 -1.347462\n",
       "  sulphates alcohol \n",
       "1 0.5595277 2.954285"
      ]
     },
     "metadata": {},
     "output_type": "display_data"
    }
   ],
   "source": [
    "lm_reg_r <- train(x = RX_train, y = RY_train, method = \"lm\")\n",
    "lm_coefs_r <- lm_reg_r$finalModel$coefficients %>% \n",
    "   t() %>%\n",
    "  data.frame()\n",
    "lm_coefs_r"
   ]
  },
  {
   "cell_type": "markdown",
   "metadata": {},
   "source": [
    "The best coefficients from red wine data is shown as above. \n",
    "\n",
    "The equation is: `quality` = 29.39343 + 0.164331*`fixed.acidity` - 0.6272253*`volatile.acidity` - 0.04892171*`citric.acid` +  0.05649911*`residual.sugar` + -0.1517426*`chlorides` + 0.09023218*`free.sulfur.dioxide` - 0.1722785*`total.sulfur.dioxide` - 25.27902*`density` - 1.347462*`pH` + 0.5595277*`sulphates` + 2.954285*`alcohol`alcohol"
   ]
  },
  {
   "cell_type": "markdown",
   "metadata": {},
   "source": [
    "Next, we will compute the rmspe of this linear regression model."
   ]
  },
  {
   "cell_type": "code",
   "execution_count": 8,
   "metadata": {},
   "outputs": [
    {
     "data": {
      "text/html": [
       "<strong>RMSE:</strong> 0.611138797204612"
      ],
      "text/latex": [
       "\\textbf{RMSE:} 0.611138797204612"
      ],
      "text/markdown": [
       "**RMSE:** 0.611138797204612"
      ],
      "text/plain": [
       "     RMSE \n",
       "0.6111388 "
      ]
     },
     "metadata": {},
     "output_type": "display_data"
    }
   ],
   "source": [
    "test_pred_r <- predict(lm_reg_r, RX_test)\n",
    "lm_modelvalues_r <- data.frame(obs = RY_test, pred = test_pred_r)\n",
    "lm_mult_test_results_r <- defaultSummary(lm_modelvalues_r)\n",
    "lm_rmspe_r <- lm_mult_test_results_r[1]\n",
    "lm_rmspe_r"
   ]
  },
  {
   "cell_type": "markdown",
   "metadata": {},
   "source": [
    "Red wine with chosen predictors"
   ]
  },
  {
   "cell_type": "code",
   "execution_count": 9,
   "metadata": {},
   "outputs": [],
   "source": [
    "r_training_set <- red_scaled %>% \n",
    "    select(quality) %>% \n",
    "    unlist() %>% \n",
    "    createDataPartition(p = 0.80, list = FALSE)\n",
    "\n",
    "RX_train <- red_scaled %>% \n",
    "    select(volatile.acidity, citric.acid, alcohol) %>% \n",
    "    slice(r_training_set) %>% \n",
    "    data.frame()\n",
    "\n",
    "RY_train <- red_scaled %>% \n",
    "    select(quality) %>% \n",
    "    slice(r_training_set) %>% \n",
    "    unlist()\n",
    "\n",
    "RX_test <- red_scaled %>% \n",
    "    select(volatile.acidity, citric.acid, alcohol) %>% \n",
    "    slice(-r_training_set) %>% \n",
    "    data.frame()\n",
    "\n",
    "RY_test <- red_scaled %>% \n",
    "    select(quality) %>% \n",
    "    slice(-r_training_set) %>% \n",
    "    unlist()"
   ]
  },
  {
   "cell_type": "code",
   "execution_count": 10,
   "metadata": {},
   "outputs": [
    {
     "data": {
      "text/html": [
       "<table>\n",
       "<thead><tr><th scope=col>X.Intercept.</th><th scope=col>volatile.acidity</th><th scope=col>citric.acid</th><th scope=col>alcohol</th></tr></thead>\n",
       "<tbody>\n",
       "\t<tr><td>3.096433 </td><td>-0.736092</td><td>0.0138929</td><td>3.241467 </td></tr>\n",
       "</tbody>\n",
       "</table>\n"
      ],
      "text/latex": [
       "\\begin{tabular}{r|llll}\n",
       " X.Intercept. & volatile.acidity & citric.acid & alcohol\\\\\n",
       "\\hline\n",
       "\t 3.096433  & -0.736092 & 0.0138929 & 3.241467 \\\\\n",
       "\\end{tabular}\n"
      ],
      "text/markdown": [
       "\n",
       "X.Intercept. | volatile.acidity | citric.acid | alcohol | \n",
       "|---|\n",
       "| 3.096433  | -0.736092 | 0.0138929 | 3.241467  | \n",
       "\n",
       "\n"
      ],
      "text/plain": [
       "  X.Intercept. volatile.acidity citric.acid alcohol \n",
       "1 3.096433     -0.736092        0.0138929   3.241467"
      ]
     },
     "metadata": {},
     "output_type": "display_data"
    }
   ],
   "source": [
    "lm_reg_r <- train(x = RX_train, y = RY_train, method = \"lm\")\n",
    "lm_coefs_r <- lm_reg_r$finalModel$coefficients %>% \n",
    "   t() %>%\n",
    "  data.frame()\n",
    "lm_coefs_r"
   ]
  },
  {
   "cell_type": "code",
   "execution_count": 17,
   "metadata": {},
   "outputs": [
    {
     "data": {
      "text/html": [
       "<strong>RMSE:</strong> 0.658783144603644"
      ],
      "text/latex": [
       "\\textbf{RMSE:} 0.658783144603644"
      ],
      "text/markdown": [
       "**RMSE:** 0.658783144603644"
      ],
      "text/plain": [
       "     RMSE \n",
       "0.6587831 "
      ]
     },
     "metadata": {},
     "output_type": "display_data"
    }
   ],
   "source": [
    "test_pred_r <- predict(lm_reg_r, RX_test)\n",
    "lm_modelvalues_r <- data.frame(obs = RY_test, pred = test_pred_r)\n",
    "lm_mult_test_results_r <- defaultSummary(lm_modelvalues_r)\n",
    "lm_rmspe_r <- lm_mult_test_results_r[1]\n",
    "lm_rmspe_r\n"
   ]
  },
  {
   "cell_type": "markdown",
   "metadata": {},
   "source": [
    "The rmspe of linear regression red wine model with all variable is: 0.758"
   ]
  },
  {
   "cell_type": "markdown",
   "metadata": {},
   "source": [
    "### White Wine "
   ]
  },
  {
   "cell_type": "markdown",
   "metadata": {},
   "source": [
    "We will do the same analysis on white wine data. First, set up training set and test set."
   ]
  },
  {
   "cell_type": "code",
   "execution_count": 12,
   "metadata": {},
   "outputs": [],
   "source": [
    "w_training_set <- white_scaled %>% \n",
    "    select(quality) %>% \n",
    "    unlist() %>% \n",
    "    createDataPartition(p = 0.80, list = FALSE)\n",
    "\n",
    "WX_train <- white_scaled %>% \n",
    "    select(-quality) %>% \n",
    "    slice(w_training_set) %>% \n",
    "    data.frame()\n",
    "\n",
    "WY_train <- white_scaled %>% \n",
    "    select(quality) %>% \n",
    "    slice(w_training_set) %>% \n",
    "    unlist()\n",
    "\n",
    "WX_test <- white_scaled %>% \n",
    "    select(-quality) %>% \n",
    "    slice(-w_training_set) %>% \n",
    "    data.frame()\n",
    "\n",
    "WY_test <- white_scaled %>% \n",
    "    select(quality) %>% \n",
    "    slice(-w_training_set) %>% \n",
    "    unlist()"
   ]
  },
  {
   "cell_type": "code",
   "execution_count": 13,
   "metadata": {},
   "outputs": [
    {
     "data": {
      "text/html": [
       "<table>\n",
       "<thead><tr><th scope=col>X.Intercept.</th><th scope=col>fixed.acidity</th><th scope=col>volatile.acidity</th><th scope=col>citric.acid</th><th scope=col>residual.sugar</th><th scope=col>chlorides</th><th scope=col>free.sulfur.dioxide</th><th scope=col>total.sulfur.dioxide</th><th scope=col>density</th><th scope=col>pH</th><th scope=col>sulphates</th><th scope=col>alcohol</th></tr></thead>\n",
       "<tbody>\n",
       "\t<tr><td>144.9611   </td><td>0.34407    </td><td>-0.5695284 </td><td>0.01537298 </td><td>0.6468946  </td><td>-0.05028594</td><td>0.1320934  </td><td>-0.05297706</td><td>-143.9147  </td><td>2.082308   </td><td>0.3512666  </td><td>2.056186   </td></tr>\n",
       "</tbody>\n",
       "</table>\n"
      ],
      "text/latex": [
       "\\begin{tabular}{r|llllllllllll}\n",
       " X.Intercept. & fixed.acidity & volatile.acidity & citric.acid & residual.sugar & chlorides & free.sulfur.dioxide & total.sulfur.dioxide & density & pH & sulphates & alcohol\\\\\n",
       "\\hline\n",
       "\t 144.9611    & 0.34407     & -0.5695284  & 0.01537298  & 0.6468946   & -0.05028594 & 0.1320934   & -0.05297706 & -143.9147   & 2.082308    & 0.3512666   & 2.056186   \\\\\n",
       "\\end{tabular}\n"
      ],
      "text/markdown": [
       "\n",
       "X.Intercept. | fixed.acidity | volatile.acidity | citric.acid | residual.sugar | chlorides | free.sulfur.dioxide | total.sulfur.dioxide | density | pH | sulphates | alcohol | \n",
       "|---|\n",
       "| 144.9611    | 0.34407     | -0.5695284  | 0.01537298  | 0.6468946   | -0.05028594 | 0.1320934   | -0.05297706 | -143.9147   | 2.082308    | 0.3512666   | 2.056186    | \n",
       "\n",
       "\n"
      ],
      "text/plain": [
       "  X.Intercept. fixed.acidity volatile.acidity citric.acid residual.sugar\n",
       "1 144.9611     0.34407       -0.5695284       0.01537298  0.6468946     \n",
       "  chlorides   free.sulfur.dioxide total.sulfur.dioxide density   pH      \n",
       "1 -0.05028594 0.1320934           -0.05297706          -143.9147 2.082308\n",
       "  sulphates alcohol \n",
       "1 0.3512666 2.056186"
      ]
     },
     "metadata": {},
     "output_type": "display_data"
    }
   ],
   "source": [
    "lm_reg_w <- train(x = WX_train, y = WY_train, method = \"lm\")\n",
    "lm_coefs_w <- lm_reg_w$finalModel$coefficients %>% \n",
    "   t() %>%\n",
    "  data.frame()\n",
    "lm_coefs_w"
   ]
  },
  {
   "cell_type": "markdown",
   "metadata": {},
   "source": [
    "The equation for white wine quality is: `quality` = 144.9611 + 0.34407*`fixed.acidity` - 0.5695284*`volatile.acidity` - 0.01537298*`citric.acid` +  0.6468946*`residual.sugar`  - 0.05028594*`chlorides` + 0.1320934*`free.sulfur.dioxide` - 0.05297706*`total.sulfur.dioxide` - 143.9147*`density` + 2.082308*`pH` + 0.3512666*`sulphates` + 2.056186\n",
    "*`alcohol`"
   ]
  },
  {
   "cell_type": "code",
   "execution_count": 18,
   "metadata": {},
   "outputs": [
    {
     "data": {
      "text/html": [
       "<strong>RMSE:</strong> 0.757797533960373"
      ],
      "text/latex": [
       "\\textbf{RMSE:} 0.757797533960373"
      ],
      "text/markdown": [
       "**RMSE:** 0.757797533960373"
      ],
      "text/plain": [
       "     RMSE \n",
       "0.7577975 "
      ]
     },
     "metadata": {},
     "output_type": "display_data"
    }
   ],
   "source": [
    "test_pred_w <- predict(lm_reg_w, WX_test)\n",
    "lm_modelvalues_w <- data.frame(obs = WY_test, pred = test_pred_w)\n",
    "lm_mult_test_results_w <- defaultSummary(lm_modelvalues_w)\n",
    "lm_rmspe_w<-lm_mult_test_results_w[1]\n",
    "lm_rmspe_w\n"
   ]
  },
  {
   "cell_type": "markdown",
   "metadata": {},
   "source": [
    "The rmspe of linear regression white wine model with all variable is: 0.758"
   ]
  },
  {
   "cell_type": "markdown",
   "metadata": {},
   "source": [
    "White wine with selected predictors. "
   ]
  },
  {
   "cell_type": "code",
   "execution_count": 203,
   "metadata": {},
   "outputs": [],
   "source": [
    "w_training_set <- white_scaled %>% \n",
    "    select(quality) %>% \n",
    "    unlist() %>% \n",
    "    createDataPartition(p = 0.80, list = FALSE)\n",
    "\n",
    "WX_train <- white_scaled %>% \n",
    "    select(residual.sugar, density, alcohol) %>% \n",
    "    slice(w_training_set) %>% \n",
    "    data.frame()\n",
    "\n",
    "WY_train <- white_scaled %>% \n",
    "    select(quality) %>% \n",
    "    slice(w_training_set) %>% \n",
    "    unlist()\n",
    "\n",
    "WX_test <- white_scaled %>% \n",
    "    select(residual.sugar, density, alcohol) %>% \n",
    "    slice(-w_training_set) %>% \n",
    "    data.frame()\n",
    "\n",
    "WY_test <- white_scaled %>% \n",
    "    select(quality) %>% \n",
    "    slice(-w_training_set) %>% \n",
    "    unlist()"
   ]
  },
  {
   "cell_type": "code",
   "execution_count": 204,
   "metadata": {},
   "outputs": [
    {
     "data": {
      "text/html": [
       "<table>\n",
       "<thead><tr><th scope=col>X.Intercept.</th><th scope=col>residual.sugar</th><th scope=col>density</th><th scope=col>alcohol</th></tr></thead>\n",
       "<tbody>\n",
       "\t<tr><td>94.01216 </td><td>0.4319463</td><td>-90.97611</td><td>2.509392 </td></tr>\n",
       "</tbody>\n",
       "</table>\n"
      ],
      "text/latex": [
       "\\begin{tabular}{r|llll}\n",
       " X.Intercept. & residual.sugar & density & alcohol\\\\\n",
       "\\hline\n",
       "\t 94.01216  & 0.4319463 & -90.97611 & 2.509392 \\\\\n",
       "\\end{tabular}\n"
      ],
      "text/markdown": [
       "\n",
       "X.Intercept. | residual.sugar | density | alcohol | \n",
       "|---|\n",
       "| 94.01216  | 0.4319463 | -90.97611 | 2.509392  | \n",
       "\n",
       "\n"
      ],
      "text/plain": [
       "  X.Intercept. residual.sugar density   alcohol \n",
       "1 94.01216     0.4319463      -90.97611 2.509392"
      ]
     },
     "metadata": {},
     "output_type": "display_data"
    }
   ],
   "source": [
    "lm_reg_w <- train(x = WX_train, y = WY_train, method = \"lm\")\n",
    "lm_coefs_w <- lm_reg_w$finalModel$coefficients %>% \n",
    "   t() %>%\n",
    "  data.frame()\n",
    "lm_coefs_w"
   ]
  },
  {
   "cell_type": "code",
   "execution_count": 205,
   "metadata": {},
   "outputs": [
    {
     "data": {
      "text/html": [
       "<strong>RMSE:</strong> 0.755435669224297"
      ],
      "text/latex": [
       "\\textbf{RMSE:} 0.755435669224297"
      ],
      "text/markdown": [
       "**RMSE:** 0.755435669224297"
      ],
      "text/plain": [
       "     RMSE \n",
       "0.7554357 "
      ]
     },
     "metadata": {},
     "output_type": "display_data"
    }
   ],
   "source": [
    "test_pred_w <- predict(lm_reg_w, WX_test)\n",
    "lm_modelvalues_w <- data.frame(obs = WY_test, pred = test_pred_w)\n",
    "lm_mult_test_results_w <- defaultSummary(lm_modelvalues_w)\n",
    "lm_rmspe_w<-lm_mult_test_results_w[1]\n",
    "lm_rmspe_w"
   ]
  },
  {
   "cell_type": "markdown",
   "metadata": {},
   "source": [
    " %% creates a visualization of the classification, regression  or clustering analysis "
   ]
  },
  {
   "cell_type": "markdown",
   "metadata": {},
   "source": [
    "## Discussion"
   ]
  },
  {
   "cell_type": "markdown",
   "metadata": {},
   "source": [
    "%% summarize what you found \n",
    "\n",
    "%% discuss whether this is what you expected to find?\n",
    "\n",
    "%% discuss what impact could such findings have?\n",
    "\n",
    "  In the wine making industry, wine makers need the help pf wine tasters or some specialists to evalute the quality of wine they made, which requires extra expenditure and time. However, getting the physicochemical properties of wine is easy. If a effective and accurate quality estimation model is used, wine makers can easily get the predicted wine quality with less money and time spent.\n",
    "  On the other hand, wine producers can improve the quality of wine based on the linear regression model. Fro example, the coefficient of `density` is relatively larger, therefore, it is convincing that wine with higher density might have higher quality. Wine peoducers can improve the quality of wine by increasing its density.\n",
    "  \n",
    "%% discuss what future questions could this lead to?\n",
    "  \n",
    "  Further wueations might be finding other models that can be more accurately estimate the quality of wine based on its physicochemical properties."
   ]
  },
  {
   "cell_type": "markdown",
   "metadata": {},
   "source": [
    "##  Reference"
   ]
  },
  {
   "cell_type": "markdown",
   "metadata": {},
   "source": [
    "P. Cortez, A. Cerdeira, F. Almeida, T. Matos and J. Reis. Modeling wine preferences by data mining from physicochemical properties. In Decision Support Systems, Elsevier, 47(4):547-553, 2009. \n",
    "\n",
    "Wikipedia contributors. (2019, February 12). Wine. In Wikipedia, The Free Encyclopedia. Retrieved 10:38, March 2, 2019, from https://en.wikipedia.org/w/index.php?title=Wine&oldid=882957942"
   ]
  },
  {
   "cell_type": "code",
   "execution_count": null,
   "metadata": {},
   "outputs": [],
   "source": []
  }
 ],
 "metadata": {
  "kernelspec": {
   "display_name": "R",
   "language": "R",
   "name": "ir"
  },
  "language_info": {
   "codemirror_mode": "r",
   "file_extension": ".r",
   "mimetype": "text/x-r-source",
   "name": "R",
   "pygments_lexer": "r",
   "version": "3.4.1"
  }
 },
 "nbformat": 4,
 "nbformat_minor": 2
}
