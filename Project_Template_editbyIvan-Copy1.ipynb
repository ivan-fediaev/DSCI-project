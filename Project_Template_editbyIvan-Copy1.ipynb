{
 "cells": [
  {
   "cell_type": "markdown",
   "metadata": {},
   "source": [
    "# Quality Prediction of Red Wine and White Wine Based on Physicochemical Tests\n"
   ]
  },
  {
   "cell_type": "markdown",
   "metadata": {},
   "source": [
    "## 1. Introduction\n"
   ]
  },
  {
   "cell_type": "markdown",
   "metadata": {},
   "source": [
    "   Wine is an alcoholic beverage made from grapes. White wine and red wine are two variants of wine that is widely known. Red wine is made from dark-colored grape varieties, while white wine is made from non-colored grape pulp (source: Wikipedia https://en.wikipedia.org/wiki/Wine). Physicochemical properties, such as pH and acidity,  influence the tasting and quality of wine. We will focus on predicting the quality of white wine and red wine based on results of physicochemical tests.\n",
    "Two separated datasets will be used in this research, which are related to red and white variants of the Portuguese \"Vinho Verde\" wine. One contains 11 physicochemical parameters (fixed acidity, volatile acidity, citric acid, residual sugar, chlorides, free sulfur dioxide, total sulfur dioxide, density, pH,  sulphates, alcohol) and the quality index (0-10), the other contains the data of red wine.\n"
   ]
  },
  {
   "cell_type": "markdown",
   "metadata": {},
   "source": [
    "## 2. Methods and results"
   ]
  },
  {
   "cell_type": "markdown",
   "metadata": {},
   "source": [
    " - describe in written english the methods you used to perform your analysis from beginning to end that narrates the code the does the analysis."
   ]
  },
  {
   "cell_type": "markdown",
   "metadata": {},
   "source": [
    " %% loads data from the original source on the web \n"
   ]
  },
  {
   "cell_type": "code",
   "execution_count": 69,
   "metadata": {},
   "outputs": [
    {
     "name": "stderr",
     "output_type": "stream",
     "text": [
      "Updating HTML index of packages in '.Library'\n",
      "Making 'packages.html' ... done\n",
      "Updating HTML index of packages in '.Library'\n",
      "Making 'packages.html' ... done\n",
      "Updating HTML index of packages in '.Library'\n",
      "Making 'packages.html' ... done\n",
      "Updating HTML index of packages in '.Library'\n",
      "Making 'packages.html' ... done\n",
      "Loaded ROSE 0.0-3\n",
      "\n"
     ]
    }
   ],
   "source": [
    "library(tidyverse)\n",
    "library(testthat)\n",
    "library(digest)\n",
    "library(repr)\n",
    "library(caret)\n",
    "install.packages(\"e1071\")\n",
    "install.packages(\"GGally\")\n",
    "library(e1071)\n",
    "library(GGally)\n",
    "install.packages(\"gridExtra\")\n",
    "library(gridExtra)\n",
    "install.packages(\"ROSE\")\n",
    "library(ROSE)"
   ]
  },
  {
   "cell_type": "code",
   "execution_count": 7,
   "metadata": {
    "scrolled": true
   },
   "outputs": [
    {
     "data": {
      "text/html": [
       "<table>\n",
       "<thead><tr><th scope=col>fixed.acidity</th><th scope=col>volatile.acidity</th><th scope=col>citric.acid</th><th scope=col>residual.sugar</th><th scope=col>chlorides</th><th scope=col>free.sulfur.dioxide</th><th scope=col>total.sulfur.dioxide</th><th scope=col>density</th><th scope=col>pH</th><th scope=col>sulphates</th><th scope=col>alcohol</th><th scope=col>quality</th></tr></thead>\n",
       "<tbody>\n",
       "\t<tr><td> 7.4  </td><td>0.70  </td><td>0.00  </td><td>1.9   </td><td>0.076 </td><td>11    </td><td>34    </td><td>0.9978</td><td>3.51  </td><td>0.56  </td><td>9.4   </td><td>5     </td></tr>\n",
       "\t<tr><td> 7.8  </td><td>0.88  </td><td>0.00  </td><td>2.6   </td><td>0.098 </td><td>25    </td><td>67    </td><td>0.9968</td><td>3.20  </td><td>0.68  </td><td>9.8   </td><td>5     </td></tr>\n",
       "\t<tr><td> 7.8  </td><td>0.76  </td><td>0.04  </td><td>2.3   </td><td>0.092 </td><td>15    </td><td>54    </td><td>0.9970</td><td>3.26  </td><td>0.65  </td><td>9.8   </td><td>5     </td></tr>\n",
       "\t<tr><td>11.2  </td><td>0.28  </td><td>0.56  </td><td>1.9   </td><td>0.075 </td><td>17    </td><td>60    </td><td>0.9980</td><td>3.16  </td><td>0.58  </td><td>9.8   </td><td>6     </td></tr>\n",
       "\t<tr><td> 7.4  </td><td>0.70  </td><td>0.00  </td><td>1.9   </td><td>0.076 </td><td>11    </td><td>34    </td><td>0.9978</td><td>3.51  </td><td>0.56  </td><td>9.4   </td><td>5     </td></tr>\n",
       "\t<tr><td> 7.4  </td><td>0.66  </td><td>0.00  </td><td>1.8   </td><td>0.075 </td><td>13    </td><td>40    </td><td>0.9978</td><td>3.51  </td><td>0.56  </td><td>9.4   </td><td>5     </td></tr>\n",
       "</tbody>\n",
       "</table>\n"
      ],
      "text/latex": [
       "\\begin{tabular}{r|llllllllllll}\n",
       " fixed.acidity & volatile.acidity & citric.acid & residual.sugar & chlorides & free.sulfur.dioxide & total.sulfur.dioxide & density & pH & sulphates & alcohol & quality\\\\\n",
       "\\hline\n",
       "\t  7.4   & 0.70   & 0.00   & 1.9    & 0.076  & 11     & 34     & 0.9978 & 3.51   & 0.56   & 9.4    & 5     \\\\\n",
       "\t  7.8   & 0.88   & 0.00   & 2.6    & 0.098  & 25     & 67     & 0.9968 & 3.20   & 0.68   & 9.8    & 5     \\\\\n",
       "\t  7.8   & 0.76   & 0.04   & 2.3    & 0.092  & 15     & 54     & 0.9970 & 3.26   & 0.65   & 9.8    & 5     \\\\\n",
       "\t 11.2   & 0.28   & 0.56   & 1.9    & 0.075  & 17     & 60     & 0.9980 & 3.16   & 0.58   & 9.8    & 6     \\\\\n",
       "\t  7.4   & 0.70   & 0.00   & 1.9    & 0.076  & 11     & 34     & 0.9978 & 3.51   & 0.56   & 9.4    & 5     \\\\\n",
       "\t  7.4   & 0.66   & 0.00   & 1.8    & 0.075  & 13     & 40     & 0.9978 & 3.51   & 0.56   & 9.4    & 5     \\\\\n",
       "\\end{tabular}\n"
      ],
      "text/markdown": [
       "\n",
       "fixed.acidity | volatile.acidity | citric.acid | residual.sugar | chlorides | free.sulfur.dioxide | total.sulfur.dioxide | density | pH | sulphates | alcohol | quality | \n",
       "|---|---|---|---|---|---|\n",
       "|  7.4   | 0.70   | 0.00   | 1.9    | 0.076  | 11     | 34     | 0.9978 | 3.51   | 0.56   | 9.4    | 5      | \n",
       "|  7.8   | 0.88   | 0.00   | 2.6    | 0.098  | 25     | 67     | 0.9968 | 3.20   | 0.68   | 9.8    | 5      | \n",
       "|  7.8   | 0.76   | 0.04   | 2.3    | 0.092  | 15     | 54     | 0.9970 | 3.26   | 0.65   | 9.8    | 5      | \n",
       "| 11.2   | 0.28   | 0.56   | 1.9    | 0.075  | 17     | 60     | 0.9980 | 3.16   | 0.58   | 9.8    | 6      | \n",
       "|  7.4   | 0.70   | 0.00   | 1.9    | 0.076  | 11     | 34     | 0.9978 | 3.51   | 0.56   | 9.4    | 5      | \n",
       "|  7.4   | 0.66   | 0.00   | 1.8    | 0.075  | 13     | 40     | 0.9978 | 3.51   | 0.56   | 9.4    | 5      | \n",
       "\n",
       "\n"
      ],
      "text/plain": [
       "  fixed.acidity volatile.acidity citric.acid residual.sugar chlorides\n",
       "1  7.4          0.70             0.00        1.9            0.076    \n",
       "2  7.8          0.88             0.00        2.6            0.098    \n",
       "3  7.8          0.76             0.04        2.3            0.092    \n",
       "4 11.2          0.28             0.56        1.9            0.075    \n",
       "5  7.4          0.70             0.00        1.9            0.076    \n",
       "6  7.4          0.66             0.00        1.8            0.075    \n",
       "  free.sulfur.dioxide total.sulfur.dioxide density pH   sulphates alcohol\n",
       "1 11                  34                   0.9978  3.51 0.56      9.4    \n",
       "2 25                  67                   0.9968  3.20 0.68      9.8    \n",
       "3 15                  54                   0.9970  3.26 0.65      9.8    \n",
       "4 17                  60                   0.9980  3.16 0.58      9.8    \n",
       "5 11                  34                   0.9978  3.51 0.56      9.4    \n",
       "6 13                  40                   0.9978  3.51 0.56      9.4    \n",
       "  quality\n",
       "1 5      \n",
       "2 5      \n",
       "3 5      \n",
       "4 6      \n",
       "5 5      \n",
       "6 5      "
      ]
     },
     "metadata": {},
     "output_type": "display_data"
    },
    {
     "data": {
      "text/html": [
       "<table>\n",
       "<thead><tr><th scope=col>fixed.acidity</th><th scope=col>volatile.acidity</th><th scope=col>citric.acid</th><th scope=col>residual.sugar</th><th scope=col>chlorides</th><th scope=col>free.sulfur.dioxide</th><th scope=col>total.sulfur.dioxide</th><th scope=col>density</th><th scope=col>pH</th><th scope=col>sulphates</th><th scope=col>alcohol</th><th scope=col>quality</th></tr></thead>\n",
       "<tbody>\n",
       "\t<tr><td>7.0   </td><td>0.27  </td><td>0.36  </td><td>20.7  </td><td>0.045 </td><td>45    </td><td>170   </td><td>1.0010</td><td>3.00  </td><td>0.45  </td><td> 8.8  </td><td>6     </td></tr>\n",
       "\t<tr><td>6.3   </td><td>0.30  </td><td>0.34  </td><td> 1.6  </td><td>0.049 </td><td>14    </td><td>132   </td><td>0.9940</td><td>3.30  </td><td>0.49  </td><td> 9.5  </td><td>6     </td></tr>\n",
       "\t<tr><td>8.1   </td><td>0.28  </td><td>0.40  </td><td> 6.9  </td><td>0.050 </td><td>30    </td><td> 97   </td><td>0.9951</td><td>3.26  </td><td>0.44  </td><td>10.1  </td><td>6     </td></tr>\n",
       "\t<tr><td>7.2   </td><td>0.23  </td><td>0.32  </td><td> 8.5  </td><td>0.058 </td><td>47    </td><td>186   </td><td>0.9956</td><td>3.19  </td><td>0.40  </td><td> 9.9  </td><td>6     </td></tr>\n",
       "\t<tr><td>7.2   </td><td>0.23  </td><td>0.32  </td><td> 8.5  </td><td>0.058 </td><td>47    </td><td>186   </td><td>0.9956</td><td>3.19  </td><td>0.40  </td><td> 9.9  </td><td>6     </td></tr>\n",
       "\t<tr><td>8.1   </td><td>0.28  </td><td>0.40  </td><td> 6.9  </td><td>0.050 </td><td>30    </td><td> 97   </td><td>0.9951</td><td>3.26  </td><td>0.44  </td><td>10.1  </td><td>6     </td></tr>\n",
       "</tbody>\n",
       "</table>\n"
      ],
      "text/latex": [
       "\\begin{tabular}{r|llllllllllll}\n",
       " fixed.acidity & volatile.acidity & citric.acid & residual.sugar & chlorides & free.sulfur.dioxide & total.sulfur.dioxide & density & pH & sulphates & alcohol & quality\\\\\n",
       "\\hline\n",
       "\t 7.0    & 0.27   & 0.36   & 20.7   & 0.045  & 45     & 170    & 1.0010 & 3.00   & 0.45   &  8.8   & 6     \\\\\n",
       "\t 6.3    & 0.30   & 0.34   &  1.6   & 0.049  & 14     & 132    & 0.9940 & 3.30   & 0.49   &  9.5   & 6     \\\\\n",
       "\t 8.1    & 0.28   & 0.40   &  6.9   & 0.050  & 30     &  97    & 0.9951 & 3.26   & 0.44   & 10.1   & 6     \\\\\n",
       "\t 7.2    & 0.23   & 0.32   &  8.5   & 0.058  & 47     & 186    & 0.9956 & 3.19   & 0.40   &  9.9   & 6     \\\\\n",
       "\t 7.2    & 0.23   & 0.32   &  8.5   & 0.058  & 47     & 186    & 0.9956 & 3.19   & 0.40   &  9.9   & 6     \\\\\n",
       "\t 8.1    & 0.28   & 0.40   &  6.9   & 0.050  & 30     &  97    & 0.9951 & 3.26   & 0.44   & 10.1   & 6     \\\\\n",
       "\\end{tabular}\n"
      ],
      "text/markdown": [
       "\n",
       "fixed.acidity | volatile.acidity | citric.acid | residual.sugar | chlorides | free.sulfur.dioxide | total.sulfur.dioxide | density | pH | sulphates | alcohol | quality | \n",
       "|---|---|---|---|---|---|\n",
       "| 7.0    | 0.27   | 0.36   | 20.7   | 0.045  | 45     | 170    | 1.0010 | 3.00   | 0.45   |  8.8   | 6      | \n",
       "| 6.3    | 0.30   | 0.34   |  1.6   | 0.049  | 14     | 132    | 0.9940 | 3.30   | 0.49   |  9.5   | 6      | \n",
       "| 8.1    | 0.28   | 0.40   |  6.9   | 0.050  | 30     |  97    | 0.9951 | 3.26   | 0.44   | 10.1   | 6      | \n",
       "| 7.2    | 0.23   | 0.32   |  8.5   | 0.058  | 47     | 186    | 0.9956 | 3.19   | 0.40   |  9.9   | 6      | \n",
       "| 7.2    | 0.23   | 0.32   |  8.5   | 0.058  | 47     | 186    | 0.9956 | 3.19   | 0.40   |  9.9   | 6      | \n",
       "| 8.1    | 0.28   | 0.40   |  6.9   | 0.050  | 30     |  97    | 0.9951 | 3.26   | 0.44   | 10.1   | 6      | \n",
       "\n",
       "\n"
      ],
      "text/plain": [
       "  fixed.acidity volatile.acidity citric.acid residual.sugar chlorides\n",
       "1 7.0           0.27             0.36        20.7           0.045    \n",
       "2 6.3           0.30             0.34         1.6           0.049    \n",
       "3 8.1           0.28             0.40         6.9           0.050    \n",
       "4 7.2           0.23             0.32         8.5           0.058    \n",
       "5 7.2           0.23             0.32         8.5           0.058    \n",
       "6 8.1           0.28             0.40         6.9           0.050    \n",
       "  free.sulfur.dioxide total.sulfur.dioxide density pH   sulphates alcohol\n",
       "1 45                  170                  1.0010  3.00 0.45       8.8   \n",
       "2 14                  132                  0.9940  3.30 0.49       9.5   \n",
       "3 30                   97                  0.9951  3.26 0.44      10.1   \n",
       "4 47                  186                  0.9956  3.19 0.40       9.9   \n",
       "5 47                  186                  0.9956  3.19 0.40       9.9   \n",
       "6 30                   97                  0.9951  3.26 0.44      10.1   \n",
       "  quality\n",
       "1 6      \n",
       "2 6      \n",
       "3 6      \n",
       "4 6      \n",
       "5 6      \n",
       "6 6      "
      ]
     },
     "metadata": {},
     "output_type": "display_data"
    }
   ],
   "source": [
    "# Import Red wine data\n",
    "red_data <- read.csv(\"winequality-red.csv\", sep = \";\") \n",
    "head(red_data)\n",
    "\n",
    "# Import white wine data\n",
    "white_data <- read.csv(\"winequality-white.csv\", sep = \";\")\n",
    "head(white_data)"
   ]
  },
  {
   "cell_type": "markdown",
   "metadata": {},
   "source": [
    "%% wrangles and cleans the data from it's original (downloaded) format to the format necessary for the planned classification or clustering analysis"
   ]
  },
  {
   "cell_type": "code",
   "execution_count": 8,
   "metadata": {},
   "outputs": [
    {
     "data": {
      "text/html": [
       "<table>\n",
       "<thead><tr><th scope=col>quality</th><th scope=col>fixed.acidity</th><th scope=col>volatile.acidity</th><th scope=col>citric.acid</th><th scope=col>residual.sugar</th><th scope=col>chlorides</th><th scope=col>free.sulfur.dioxide</th><th scope=col>total.sulfur.dioxide</th><th scope=col>density</th><th scope=col>pH</th><th scope=col>sulphates</th><th scope=col>alcohol</th></tr></thead>\n",
       "<tbody>\n",
       "\t<tr><td>5        </td><td>0.8703407</td><td>1.255555 </td><td>0.0000000</td><td>0.6541052</td><td>0.7649761</td><td>0.5784783</td><td>0.5970695</td><td>1.0007419</td><td>1.0585855</td><td>0.8237400</td><td>0.8968984</td></tr>\n",
       "\t<tr><td>5        </td><td>0.9173862</td><td>1.578412 </td><td>0.0000000</td><td>0.8950914</td><td>0.9864165</td><td>1.3147233</td><td>1.1765782</td><td>0.9997389</td><td>0.9650922</td><td>1.0002557</td><td>0.9350642</td></tr>\n",
       "\t<tr><td>5        </td><td>0.9173862</td><td>1.363174 </td><td>0.1198329</td><td>0.7918116</td><td>0.9260236</td><td>0.7888340</td><td>0.9482869</td><td>0.9999395</td><td>0.9831877</td><td>0.9561268</td><td>0.9350642</td></tr>\n",
       "\t<tr><td>6        </td><td>1.3172725</td><td>0.502222 </td><td>1.6776605</td><td>0.6541052</td><td>0.7549106</td><td>0.8940119</td><td>1.0536521</td><td>1.0009425</td><td>0.9530286</td><td>0.8531593</td><td>0.9350642</td></tr>\n",
       "\t<tr><td>5        </td><td>0.8703407</td><td>1.255555 </td><td>0.0000000</td><td>0.6541052</td><td>0.7649761</td><td>0.5784783</td><td>0.5970695</td><td>1.0007419</td><td>1.0585855</td><td>0.8237400</td><td>0.8968984</td></tr>\n",
       "\t<tr><td>5        </td><td>0.8703407</td><td>1.183809 </td><td>0.0000000</td><td>0.6196787</td><td>0.7549106</td><td>0.6836561</td><td>0.7024347</td><td>1.0007419</td><td>1.0585855</td><td>0.8237400</td><td>0.8968984</td></tr>\n",
       "</tbody>\n",
       "</table>\n"
      ],
      "text/latex": [
       "\\begin{tabular}{r|llllllllllll}\n",
       " quality & fixed.acidity & volatile.acidity & citric.acid & residual.sugar & chlorides & free.sulfur.dioxide & total.sulfur.dioxide & density & pH & sulphates & alcohol\\\\\n",
       "\\hline\n",
       "\t 5         & 0.8703407 & 1.255555  & 0.0000000 & 0.6541052 & 0.7649761 & 0.5784783 & 0.5970695 & 1.0007419 & 1.0585855 & 0.8237400 & 0.8968984\\\\\n",
       "\t 5         & 0.9173862 & 1.578412  & 0.0000000 & 0.8950914 & 0.9864165 & 1.3147233 & 1.1765782 & 0.9997389 & 0.9650922 & 1.0002557 & 0.9350642\\\\\n",
       "\t 5         & 0.9173862 & 1.363174  & 0.1198329 & 0.7918116 & 0.9260236 & 0.7888340 & 0.9482869 & 0.9999395 & 0.9831877 & 0.9561268 & 0.9350642\\\\\n",
       "\t 6         & 1.3172725 & 0.502222  & 1.6776605 & 0.6541052 & 0.7549106 & 0.8940119 & 1.0536521 & 1.0009425 & 0.9530286 & 0.8531593 & 0.9350642\\\\\n",
       "\t 5         & 0.8703407 & 1.255555  & 0.0000000 & 0.6541052 & 0.7649761 & 0.5784783 & 0.5970695 & 1.0007419 & 1.0585855 & 0.8237400 & 0.8968984\\\\\n",
       "\t 5         & 0.8703407 & 1.183809  & 0.0000000 & 0.6196787 & 0.7549106 & 0.6836561 & 0.7024347 & 1.0007419 & 1.0585855 & 0.8237400 & 0.8968984\\\\\n",
       "\\end{tabular}\n"
      ],
      "text/markdown": [
       "\n",
       "quality | fixed.acidity | volatile.acidity | citric.acid | residual.sugar | chlorides | free.sulfur.dioxide | total.sulfur.dioxide | density | pH | sulphates | alcohol | \n",
       "|---|---|---|---|---|---|\n",
       "| 5         | 0.8703407 | 1.255555  | 0.0000000 | 0.6541052 | 0.7649761 | 0.5784783 | 0.5970695 | 1.0007419 | 1.0585855 | 0.8237400 | 0.8968984 | \n",
       "| 5         | 0.9173862 | 1.578412  | 0.0000000 | 0.8950914 | 0.9864165 | 1.3147233 | 1.1765782 | 0.9997389 | 0.9650922 | 1.0002557 | 0.9350642 | \n",
       "| 5         | 0.9173862 | 1.363174  | 0.1198329 | 0.7918116 | 0.9260236 | 0.7888340 | 0.9482869 | 0.9999395 | 0.9831877 | 0.9561268 | 0.9350642 | \n",
       "| 6         | 1.3172725 | 0.502222  | 1.6776605 | 0.6541052 | 0.7549106 | 0.8940119 | 1.0536521 | 1.0009425 | 0.9530286 | 0.8531593 | 0.9350642 | \n",
       "| 5         | 0.8703407 | 1.255555  | 0.0000000 | 0.6541052 | 0.7649761 | 0.5784783 | 0.5970695 | 1.0007419 | 1.0585855 | 0.8237400 | 0.8968984 | \n",
       "| 5         | 0.8703407 | 1.183809  | 0.0000000 | 0.6196787 | 0.7549106 | 0.6836561 | 0.7024347 | 1.0007419 | 1.0585855 | 0.8237400 | 0.8968984 | \n",
       "\n",
       "\n"
      ],
      "text/plain": [
       "  quality fixed.acidity volatile.acidity citric.acid residual.sugar chlorides\n",
       "1 5       0.8703407     1.255555         0.0000000   0.6541052      0.7649761\n",
       "2 5       0.9173862     1.578412         0.0000000   0.8950914      0.9864165\n",
       "3 5       0.9173862     1.363174         0.1198329   0.7918116      0.9260236\n",
       "4 6       1.3172725     0.502222         1.6776605   0.6541052      0.7549106\n",
       "5 5       0.8703407     1.255555         0.0000000   0.6541052      0.7649761\n",
       "6 5       0.8703407     1.183809         0.0000000   0.6196787      0.7549106\n",
       "  free.sulfur.dioxide total.sulfur.dioxide density   pH        sulphates\n",
       "1 0.5784783           0.5970695            1.0007419 1.0585855 0.8237400\n",
       "2 1.3147233           1.1765782            0.9997389 0.9650922 1.0002557\n",
       "3 0.7888340           0.9482869            0.9999395 0.9831877 0.9561268\n",
       "4 0.8940119           1.0536521            1.0009425 0.9530286 0.8531593\n",
       "5 0.5784783           0.5970695            1.0007419 1.0585855 0.8237400\n",
       "6 0.6836561           0.7024347            1.0007419 1.0585855 0.8237400\n",
       "  alcohol  \n",
       "1 0.8968984\n",
       "2 0.9350642\n",
       "3 0.9350642\n",
       "4 0.9350642\n",
       "5 0.8968984\n",
       "6 0.8968984"
      ]
     },
     "metadata": {},
     "output_type": "display_data"
    },
    {
     "data": {
      "text/html": [
       "<table>\n",
       "<thead><tr><th scope=col>quality</th><th scope=col>fixed.acidity</th><th scope=col>volatile.acidity</th><th scope=col>citric.acid</th><th scope=col>residual.sugar</th><th scope=col>chlorides</th><th scope=col>free.sulfur.dioxide</th><th scope=col>total.sulfur.dioxide</th><th scope=col>density</th><th scope=col>pH</th><th scope=col>sulphates</th><th scope=col>alcohol</th></tr></thead>\n",
       "<tbody>\n",
       "\t<tr><td>6        </td><td>1.0134309</td><td>0.9122795</td><td>1.0127692</td><td>2.5367895</td><td>0.8871633</td><td>1.1481392</td><td>1.1744078</td><td>1.0069072</td><td>0.9398009</td><td>0.8946063</td><td>0.8311998</td></tr>\n",
       "\t<tr><td>6        </td><td>0.9120878</td><td>1.0136438</td><td>0.9565042</td><td>0.1960804</td><td>0.9660223</td><td>0.3571989</td><td>0.9118931</td><td>0.9998658</td><td>1.0337810</td><td>0.9741268</td><td>0.8973179</td></tr>\n",
       "\t<tr><td>6        </td><td>1.1726843</td><td>0.9460676</td><td>1.1252991</td><td>0.8455965</td><td>0.9857370</td><td>0.7654261</td><td>0.6701032</td><td>1.0009723</td><td>1.0212503</td><td>0.8747261</td><td>0.9539906</td></tr>\n",
       "\t<tr><td>6        </td><td>1.0423861</td><td>0.7771269</td><td>0.9002393</td><td>1.0416769</td><td>1.1434550</td><td>1.1991676</td><td>1.2849402</td><td>1.0014753</td><td>0.9993216</td><td>0.7952056</td><td>0.9350997</td></tr>\n",
       "\t<tr><td>6        </td><td>1.0423861</td><td>0.7771269</td><td>0.9002393</td><td>1.0416769</td><td>1.1434550</td><td>1.1991676</td><td>1.2849402</td><td>1.0014753</td><td>0.9993216</td><td>0.7952056</td><td>0.9350997</td></tr>\n",
       "\t<tr><td>6        </td><td>1.1726843</td><td>0.9460676</td><td>1.1252991</td><td>0.8455965</td><td>0.9857370</td><td>0.7654261</td><td>0.6701032</td><td>1.0009723</td><td>1.0212503</td><td>0.8747261</td><td>0.9539906</td></tr>\n",
       "</tbody>\n",
       "</table>\n"
      ],
      "text/latex": [
       "\\begin{tabular}{r|llllllllllll}\n",
       " quality & fixed.acidity & volatile.acidity & citric.acid & residual.sugar & chlorides & free.sulfur.dioxide & total.sulfur.dioxide & density & pH & sulphates & alcohol\\\\\n",
       "\\hline\n",
       "\t 6         & 1.0134309 & 0.9122795 & 1.0127692 & 2.5367895 & 0.8871633 & 1.1481392 & 1.1744078 & 1.0069072 & 0.9398009 & 0.8946063 & 0.8311998\\\\\n",
       "\t 6         & 0.9120878 & 1.0136438 & 0.9565042 & 0.1960804 & 0.9660223 & 0.3571989 & 0.9118931 & 0.9998658 & 1.0337810 & 0.9741268 & 0.8973179\\\\\n",
       "\t 6         & 1.1726843 & 0.9460676 & 1.1252991 & 0.8455965 & 0.9857370 & 0.7654261 & 0.6701032 & 1.0009723 & 1.0212503 & 0.8747261 & 0.9539906\\\\\n",
       "\t 6         & 1.0423861 & 0.7771269 & 0.9002393 & 1.0416769 & 1.1434550 & 1.1991676 & 1.2849402 & 1.0014753 & 0.9993216 & 0.7952056 & 0.9350997\\\\\n",
       "\t 6         & 1.0423861 & 0.7771269 & 0.9002393 & 1.0416769 & 1.1434550 & 1.1991676 & 1.2849402 & 1.0014753 & 0.9993216 & 0.7952056 & 0.9350997\\\\\n",
       "\t 6         & 1.1726843 & 0.9460676 & 1.1252991 & 0.8455965 & 0.9857370 & 0.7654261 & 0.6701032 & 1.0009723 & 1.0212503 & 0.8747261 & 0.9539906\\\\\n",
       "\\end{tabular}\n"
      ],
      "text/markdown": [
       "\n",
       "quality | fixed.acidity | volatile.acidity | citric.acid | residual.sugar | chlorides | free.sulfur.dioxide | total.sulfur.dioxide | density | pH | sulphates | alcohol | \n",
       "|---|---|---|---|---|---|\n",
       "| 6         | 1.0134309 | 0.9122795 | 1.0127692 | 2.5367895 | 0.8871633 | 1.1481392 | 1.1744078 | 1.0069072 | 0.9398009 | 0.8946063 | 0.8311998 | \n",
       "| 6         | 0.9120878 | 1.0136438 | 0.9565042 | 0.1960804 | 0.9660223 | 0.3571989 | 0.9118931 | 0.9998658 | 1.0337810 | 0.9741268 | 0.8973179 | \n",
       "| 6         | 1.1726843 | 0.9460676 | 1.1252991 | 0.8455965 | 0.9857370 | 0.7654261 | 0.6701032 | 1.0009723 | 1.0212503 | 0.8747261 | 0.9539906 | \n",
       "| 6         | 1.0423861 | 0.7771269 | 0.9002393 | 1.0416769 | 1.1434550 | 1.1991676 | 1.2849402 | 1.0014753 | 0.9993216 | 0.7952056 | 0.9350997 | \n",
       "| 6         | 1.0423861 | 0.7771269 | 0.9002393 | 1.0416769 | 1.1434550 | 1.1991676 | 1.2849402 | 1.0014753 | 0.9993216 | 0.7952056 | 0.9350997 | \n",
       "| 6         | 1.1726843 | 0.9460676 | 1.1252991 | 0.8455965 | 0.9857370 | 0.7654261 | 0.6701032 | 1.0009723 | 1.0212503 | 0.8747261 | 0.9539906 | \n",
       "\n",
       "\n"
      ],
      "text/plain": [
       "  quality fixed.acidity volatile.acidity citric.acid residual.sugar chlorides\n",
       "1 6       1.0134309     0.9122795        1.0127692   2.5367895      0.8871633\n",
       "2 6       0.9120878     1.0136438        0.9565042   0.1960804      0.9660223\n",
       "3 6       1.1726843     0.9460676        1.1252991   0.8455965      0.9857370\n",
       "4 6       1.0423861     0.7771269        0.9002393   1.0416769      1.1434550\n",
       "5 6       1.0423861     0.7771269        0.9002393   1.0416769      1.1434550\n",
       "6 6       1.1726843     0.9460676        1.1252991   0.8455965      0.9857370\n",
       "  free.sulfur.dioxide total.sulfur.dioxide density   pH        sulphates\n",
       "1 1.1481392           1.1744078            1.0069072 0.9398009 0.8946063\n",
       "2 0.3571989           0.9118931            0.9998658 1.0337810 0.9741268\n",
       "3 0.7654261           0.6701032            1.0009723 1.0212503 0.8747261\n",
       "4 1.1991676           1.2849402            1.0014753 0.9993216 0.7952056\n",
       "5 1.1991676           1.2849402            1.0014753 0.9993216 0.7952056\n",
       "6 0.7654261           0.6701032            1.0009723 1.0212503 0.8747261\n",
       "  alcohol  \n",
       "1 0.8311998\n",
       "2 0.8973179\n",
       "3 0.9539906\n",
       "4 0.9350997\n",
       "5 0.9350997\n",
       "6 0.9539906"
      ]
     },
     "metadata": {},
     "output_type": "display_data"
    }
   ],
   "source": [
    "# Scale the data\n",
    "red_scaled <- red_data %>% \n",
    "  select(-quality) %>% \n",
    "  scale(center = FALSE) \n",
    "\n",
    "red_scaled <- data.frame(quality = red_data$quality, red_scaled)\n",
    "head(red_scaled)\n",
    "\n",
    "white_scaled <- white_data %>% \n",
    "  select(-quality) %>% \n",
    "  scale(center = FALSE) \n",
    "\n",
    "white_scaled <- data.frame(quality = white_data$quality, white_scaled)\n",
    "head(white_scaled)"
   ]
  },
  {
   "cell_type": "markdown",
   "metadata": {},
   "source": [
    "%% performs a summary of the data set that is relevant for exploratory data analysis related to the planned classification, regression or clustering analysis "
   ]
  },
  {
   "cell_type": "code",
   "execution_count": 9,
   "metadata": {},
   "outputs": [
    {
     "data": {
      "text/html": [
       "<table>\n",
       "<thead><tr><th scope=col>quality</th><th scope=col>n</th></tr></thead>\n",
       "<tbody>\n",
       "\t<tr><td>3  </td><td> 10</td></tr>\n",
       "\t<tr><td>4  </td><td> 53</td></tr>\n",
       "\t<tr><td>5  </td><td>681</td></tr>\n",
       "\t<tr><td>6  </td><td>638</td></tr>\n",
       "\t<tr><td>7  </td><td>199</td></tr>\n",
       "\t<tr><td>8  </td><td> 18</td></tr>\n",
       "</tbody>\n",
       "</table>\n"
      ],
      "text/latex": [
       "\\begin{tabular}{r|ll}\n",
       " quality & n\\\\\n",
       "\\hline\n",
       "\t 3   &  10\\\\\n",
       "\t 4   &  53\\\\\n",
       "\t 5   & 681\\\\\n",
       "\t 6   & 638\\\\\n",
       "\t 7   & 199\\\\\n",
       "\t 8   &  18\\\\\n",
       "\\end{tabular}\n"
      ],
      "text/markdown": [
       "\n",
       "quality | n | \n",
       "|---|---|---|---|---|---|\n",
       "| 3   |  10 | \n",
       "| 4   |  53 | \n",
       "| 5   | 681 | \n",
       "| 6   | 638 | \n",
       "| 7   | 199 | \n",
       "| 8   |  18 | \n",
       "\n",
       "\n"
      ],
      "text/plain": [
       "  quality n  \n",
       "1 3        10\n",
       "2 4        53\n",
       "3 5       681\n",
       "4 6       638\n",
       "5 7       199\n",
       "6 8        18"
      ]
     },
     "metadata": {},
     "output_type": "display_data"
    },
    {
     "data": {
      "text/html": [
       "1599"
      ],
      "text/latex": [
       "1599"
      ],
      "text/markdown": [
       "1599"
      ],
      "text/plain": [
       "[1] 1599"
      ]
     },
     "metadata": {},
     "output_type": "display_data"
    },
    {
     "data": {
      "text/html": [
       "<table>\n",
       "<thead><tr><th scope=col>quality</th><th scope=col>n</th></tr></thead>\n",
       "<tbody>\n",
       "\t<tr><td>3   </td><td>  20</td></tr>\n",
       "\t<tr><td>4   </td><td> 163</td></tr>\n",
       "\t<tr><td>5   </td><td>1457</td></tr>\n",
       "\t<tr><td>6   </td><td>2198</td></tr>\n",
       "\t<tr><td>7   </td><td> 880</td></tr>\n",
       "\t<tr><td>8   </td><td> 175</td></tr>\n",
       "\t<tr><td>9   </td><td>   5</td></tr>\n",
       "</tbody>\n",
       "</table>\n"
      ],
      "text/latex": [
       "\\begin{tabular}{r|ll}\n",
       " quality & n\\\\\n",
       "\\hline\n",
       "\t 3    &   20\\\\\n",
       "\t 4    &  163\\\\\n",
       "\t 5    & 1457\\\\\n",
       "\t 6    & 2198\\\\\n",
       "\t 7    &  880\\\\\n",
       "\t 8    &  175\\\\\n",
       "\t 9    &    5\\\\\n",
       "\\end{tabular}\n"
      ],
      "text/markdown": [
       "\n",
       "quality | n | \n",
       "|---|---|---|---|---|---|---|\n",
       "| 3    |   20 | \n",
       "| 4    |  163 | \n",
       "| 5    | 1457 | \n",
       "| 6    | 2198 | \n",
       "| 7    |  880 | \n",
       "| 8    |  175 | \n",
       "| 9    |    5 | \n",
       "\n",
       "\n"
      ],
      "text/plain": [
       "  quality n   \n",
       "1 3         20\n",
       "2 4        163\n",
       "3 5       1457\n",
       "4 6       2198\n",
       "5 7        880\n",
       "6 8        175\n",
       "7 9          5"
      ]
     },
     "metadata": {},
     "output_type": "display_data"
    },
    {
     "data": {
      "text/html": [
       "4898"
      ],
      "text/latex": [
       "4898"
      ],
      "text/markdown": [
       "4898"
      ],
      "text/plain": [
       "[1] 4898"
      ]
     },
     "metadata": {},
     "output_type": "display_data"
    }
   ],
   "source": [
    "# See the distribution of quality level\n",
    "red_data %>% \n",
    "    group_by(quality) %>%\n",
    "    summarize(n = n()) \n",
    "nrow(red_data)\n",
    "\n",
    "white_data %>%\n",
    "    group_by(quality) %>%\n",
    "    summarize(n=n()) \n",
    "nrow(white_data)\n"
   ]
  },
  {
   "cell_type": "markdown",
   "metadata": {},
   "source": [
    "From the table above we can see that every observation has a quality level (i.e. no observation with quality unknown)."
   ]
  },
  {
   "cell_type": "markdown",
   "metadata": {},
   "source": [
    "%%  creates a visualization of the dataset that is relevant for exploratory data analysis related to the planned classification or clustering analysis\n",
    "\n",
    "%% red wine data"
   ]
  },
  {
   "cell_type": "code",
   "execution_count": 10,
   "metadata": {},
   "outputs": [
    {
     "data": {
      "image/png": "[encoded data removed]",
      "text/plain": [
       "plot without title"
      ]
     },
     "metadata": {},
     "output_type": "display_data"
    }
   ],
   "source": [
    "red_data_quality_factor <- red_data %>%\n",
    "    mutate(quality = as.factor(quality))\n",
    "\n",
    "plot_fa <- red_data_quality_factor %>% \n",
    "    ggplot(aes(x = quality, y = fixed.acidity)) + \n",
    "    geom_boxplot()\n",
    "\n",
    "plot_va <- red_data_quality_factor %>% \n",
    "    ggplot(aes(x = quality, y = volatile.acidity)) +\n",
    "    geom_boxplot()\n",
    "\n",
    "plot_ca <- red_data_quality_factor %>% \n",
    "    ggplot(aes(x = quality, y = citric.acid)) +\n",
    "    geom_boxplot()\n",
    "\n",
    "plot_rs <- red_data_quality_factor %>%  \n",
    "    ggplot(aes(x = quality, y = residual.sugar)) +\n",
    "    geom_boxplot()\n",
    "\n",
    "plot_cl <- red_data_quality_factor %>% \n",
    "    ggplot(aes(x = quality, y = chlorides)) +\n",
    "    geom_boxplot()\n",
    "\n",
    "plot_fsd <- red_data_quality_factor %>% \n",
    "    ggplot(aes(x = quality, y = free.sulfur.dioxide)) +\n",
    "    geom_boxplot()\n",
    "\n",
    "plot_tsd <- red_data_quality_factor %>% \n",
    "    ggplot(aes(x = quality, y = total.sulfur.dioxide)) +\n",
    "    geom_boxplot()\n",
    "\n",
    "plot_ph <- red_data_quality_factor %>%  \n",
    "    ggplot(aes(x = quality, y = pH)) +\n",
    "    geom_boxplot()\n",
    "\n",
    "plot_den <- red_data_quality_factor %>% \n",
    "    ggplot(aes(x = quality, y = density)) +\n",
    "    geom_boxplot()\n",
    "\n",
    "plot_alc <- red_data_quality_factor %>% \n",
    "    ggplot(aes(x = quality, y = alcohol)) +\n",
    "    geom_boxplot()\n",
    "\n",
    "plot_sulp <- red_data_quality_factor %>% \n",
    "    ggplot(aes(x = quality, y = sulphates)) +\n",
    "    geom_boxplot()\n",
    "\n",
    "\n",
    "grid.arrange(plot_fa, plot_va, plot_ca, plot_rs, plot_cl, plot_fsd, plot_tsd, plot_ph, plot_den, plot_alc, plot_sulp, ncol = 4)"
   ]
  },
  {
   "cell_type": "markdown",
   "metadata": {},
   "source": [
    "%% white wine"
   ]
  },
  {
   "cell_type": "markdown",
   "metadata": {},
   "source": [
    "%% good predictors to use for red wine \n",
    "- volatile acidity \n",
    "- citric acid \n",
    "- alcohol"
   ]
  },
  {
   "cell_type": "code",
   "execution_count": 11,
   "metadata": {},
   "outputs": [
    {
     "data": {
      "image/png": "[encoded data removed]",
      "text/plain": [
       "plot without title"
      ]
     },
     "metadata": {},
     "output_type": "display_data"
    }
   ],
   "source": [
    "white_data_quality_factor <- white_data %>%\n",
    "    mutate(quality = as.factor(quality))\n",
    "\n",
    "plot_fa <- white_data_quality_factor %>% \n",
    "    ggplot(aes(x = quality, y = fixed.acidity)) + \n",
    "    geom_boxplot()\n",
    "\n",
    "plot_va <- white_data_quality_factor %>% \n",
    "    ggplot(aes(x = quality, y = volatile.acidity)) +\n",
    "    geom_boxplot()\n",
    "\n",
    "plot_ca <- white_data_quality_factor %>% \n",
    "    ggplot(aes(x = quality, y = citric.acid)) +\n",
    "    geom_boxplot()\n",
    "\n",
    "plot_rs <- white_data_quality_factor %>%  \n",
    "    ggplot(aes(x = quality, y = residual.sugar)) +\n",
    "    geom_boxplot()\n",
    "\n",
    "plot_cl <- white_data_quality_factor %>% \n",
    "    ggplot(aes(x = quality, y = chlorides)) +\n",
    "    geom_boxplot()\n",
    "\n",
    "plot_fsd <- white_data_quality_factor %>% \n",
    "    ggplot(aes(x = quality, y = free.sulfur.dioxide)) +\n",
    "    geom_boxplot()\n",
    "\n",
    "plot_tsd <- white_data_quality_factor %>% \n",
    "    ggplot(aes(x = quality, y = total.sulfur.dioxide)) +\n",
    "    geom_boxplot()\n",
    "\n",
    "plot_ph <- white_data_quality_factor %>%  \n",
    "    ggplot(aes(x = quality, y = pH)) +\n",
    "    geom_boxplot()\n",
    "\n",
    "plot_den <- white_data_quality_factor %>% \n",
    "    ggplot(aes(x = quality, y = density)) +\n",
    "    geom_boxplot()\n",
    "\n",
    "plot_alc <- white_data_quality_factor %>% \n",
    "    ggplot(aes(x = quality, y = alcohol)) +\n",
    "    geom_boxplot()\n",
    "\n",
    "plot_sulp <- white_data_quality_factor %>% \n",
    "    ggplot(aes(x = quality, y = sulphates)) +\n",
    "    geom_boxplot()\n",
    "\n",
    "grid.arrange(plot_fa, plot_va, plot_ca, plot_rs, plot_cl, plot_fsd, plot_tsd, plot_ph, plot_den, plot_alc, plot_sulp, ncol = 4)"
   ]
  },
  {
   "cell_type": "markdown",
   "metadata": {},
   "source": [
    "%% Good predictors to use for white wine \n",
    "- residual sugar \n",
    "- density \n",
    "- alcohol "
   ]
  },
  {
   "cell_type": "markdown",
   "metadata": {},
   "source": [
    "%% performs either a classification, regression or clustering analysis"
   ]
  },
  {
   "cell_type": "markdown",
   "metadata": {},
   "source": [
    "### 2.1  Knn Regression "
   ]
  },
  {
   "cell_type": "markdown",
   "metadata": {},
   "source": [
    " - Red Wine"
   ]
  },
  {
   "cell_type": "markdown",
   "metadata": {},
   "source": [
    "%% using every single predictor on the scaled data set for a regression model"
   ]
  },
  {
   "cell_type": "code",
   "execution_count": 43,
   "metadata": {},
   "outputs": [],
   "source": [
    "set.seed(100)\n",
    "\n",
    "training_set <- red_scaled %>% \n",
    "    select(quality) %>% \n",
    "    unlist() %>% \n",
    "    createDataPartition(p = 0.80, list = FALSE)\n",
    "\n",
    "X_train <- red_scaled %>% \n",
    "    select(-quality) %>% \n",
    "    slice(training_set) %>% \n",
    "    data.frame()\n",
    "\n",
    "Y_train <- red_scaled %>% \n",
    "    select(quality) %>% \n",
    "    slice(training_set) %>% \n",
    "    unlist()\n",
    "\n",
    "X_test <- red_scaled %>% \n",
    "    select(-quality) %>% \n",
    "    slice(-training_set) %>% \n",
    "    data.frame()\n",
    "\n",
    "Y_test <- red_scaled %>% \n",
    "    select(quality) %>% \n",
    "    slice(-training_set) %>% \n",
    "    unlist()"
   ]
  },
  {
   "cell_type": "markdown",
   "metadata": {},
   "source": [
    "%% cross validation to choose best value of k"
   ]
  },
  {
   "cell_type": "code",
   "execution_count": 44,
   "metadata": {},
   "outputs": [
    {
     "data": {
      "text/plain": [
       "k-Nearest Neighbors \n",
       "\n",
       "1281 samples\n",
       "  11 predictor\n",
       "\n",
       "No pre-processing\n",
       "Resampling: Cross-Validated (10 fold) \n",
       "Summary of sample sizes: 1153, 1152, 1152, 1154, 1154, 1153, ... \n",
       "Resampling results across tuning parameters:\n",
       "\n",
       "  k    RMSE       Rsquared   MAE      \n",
       "    1  0.7975416  0.2501362  0.4684284\n",
       "    2  0.7466745  0.2470331  0.5231170\n",
       "    3  0.7283019  0.2420591  0.5448059\n",
       "    4  0.7164770  0.2451099  0.5482398\n",
       "    5  0.7115841  0.2427249  0.5479540\n",
       "    6  0.7035250  0.2517749  0.5455386\n",
       "    7  0.6963584  0.2612551  0.5389980\n",
       "    8  0.6949164  0.2616176  0.5424115\n",
       "    9  0.6925330  0.2640492  0.5458515\n",
       "   10  0.6900828  0.2665583  0.5445147\n",
       "   11  0.6879881  0.2703780  0.5437551\n",
       "   12  0.6839562  0.2781686  0.5429961\n",
       "   13  0.6830984  0.2788136  0.5425267\n",
       "   14  0.6807511  0.2829661  0.5418957\n",
       "   15  0.6805427  0.2828378  0.5413993\n",
       "   16  0.6816772  0.2806594  0.5425618\n",
       "   17  0.6831690  0.2775737  0.5443973\n",
       "   18  0.6812243  0.2821486  0.5435638\n",
       "   19  0.6832611  0.2782056  0.5447006\n",
       "   20  0.6839267  0.2774854  0.5460595\n",
       "   21  0.6857717  0.2734703  0.5478949\n",
       "   22  0.6873875  0.2703246  0.5484889\n",
       "   23  0.6875392  0.2701537  0.5473695\n",
       "   24  0.6883649  0.2684743  0.5474040\n",
       "   25  0.6892128  0.2664530  0.5481324\n",
       "   26  0.6902966  0.2635203  0.5489288\n",
       "   27  0.6921040  0.2592433  0.5508017\n",
       "   28  0.6903558  0.2632833  0.5493554\n",
       "   29  0.6910825  0.2621008  0.5509642\n",
       "   30  0.6925501  0.2590206  0.5525024\n",
       "   31  0.6928363  0.2588666  0.5528705\n",
       "   32  0.6947843  0.2542429  0.5544714\n",
       "   33  0.6957295  0.2522842  0.5559527\n",
       "   34  0.6955150  0.2528261  0.5560903\n",
       "   35  0.6960076  0.2517480  0.5562650\n",
       "   36  0.6949735  0.2544605  0.5553034\n",
       "   37  0.6950934  0.2544327  0.5553165\n",
       "   38  0.6966886  0.2510553  0.5571372\n",
       "   39  0.6977978  0.2484138  0.5578205\n",
       "   40  0.6983611  0.2474133  0.5584047\n",
       "   41  0.6984785  0.2477719  0.5593138\n",
       "   42  0.6991482  0.2463691  0.5606914\n",
       "   43  0.7009661  0.2423435  0.5626537\n",
       "   44  0.7009308  0.2427410  0.5628397\n",
       "   45  0.7010691  0.2425910  0.5625429\n",
       "   46  0.7006667  0.2440333  0.5622748\n",
       "   47  0.7012337  0.2428571  0.5632145\n",
       "   48  0.7023345  0.2402588  0.5640117\n",
       "   49  0.7024990  0.2402219  0.5642063\n",
       "   50  0.7028060  0.2400042  0.5644906\n",
       "   51  0.7024340  0.2409965  0.5643092\n",
       "   52  0.7029582  0.2402166  0.5646210\n",
       "   53  0.7026550  0.2414631  0.5647818\n",
       "   54  0.7028889  0.2413366  0.5651923\n",
       "   55  0.7028609  0.2417971  0.5652403\n",
       "   56  0.7033564  0.2411734  0.5660446\n",
       "   57  0.7029735  0.2423349  0.5656554\n",
       "   58  0.7033095  0.2420489  0.5657163\n",
       "   59  0.7034589  0.2418854  0.5659753\n",
       "   60  0.7038002  0.2412101  0.5663355\n",
       "   61  0.7045216  0.2396674  0.5672837\n",
       "   62  0.7051564  0.2385063  0.5680791\n",
       "   63  0.7054035  0.2381238  0.5682674\n",
       "   64  0.7052852  0.2386767  0.5681434\n",
       "   65  0.7048980  0.2399129  0.5677213\n",
       "   66  0.7055182  0.2387879  0.5680466\n",
       "   67  0.7061507  0.2375572  0.5685049\n",
       "   68  0.7070253  0.2355821  0.5693802\n",
       "   69  0.7069706  0.2360507  0.5691507\n",
       "   70  0.7072701  0.2353904  0.5696601\n",
       "   71  0.7082335  0.2326538  0.5704176\n",
       "   72  0.7083089  0.2327634  0.5705124\n",
       "   73  0.7083486  0.2331416  0.5707121\n",
       "   74  0.7088766  0.2318438  0.5712178\n",
       "   75  0.7089843  0.2319100  0.5712451\n",
       "   76  0.7093423  0.2312952  0.5715397\n",
       "   77  0.7101153  0.2293951  0.5721043\n",
       "   78  0.7106967  0.2277534  0.5726471\n",
       "   79  0.7112746  0.2265664  0.5732767\n",
       "   80  0.7114091  0.2266811  0.5735083\n",
       "   81  0.7119876  0.2255069  0.5740424\n",
       "   82  0.7124787  0.2244405  0.5744153\n",
       "   83  0.7125875  0.2245102  0.5745508\n",
       "   84  0.7128125  0.2241020  0.5747806\n",
       "   85  0.7133187  0.2229864  0.5753216\n",
       "   86  0.7132202  0.2232216  0.5752033\n",
       "   87  0.7131290  0.2238885  0.5751068\n",
       "   88  0.7139295  0.2221948  0.5760136\n",
       "   89  0.7140944  0.2217656  0.5764200\n",
       "   90  0.7143532  0.2213632  0.5765573\n",
       "   91  0.7139947  0.2225862  0.5763567\n",
       "   92  0.7138326  0.2231632  0.5764333\n",
       "   93  0.7139804  0.2228242  0.5766791\n",
       "   94  0.7141871  0.2226035  0.5768457\n",
       "   95  0.7145220  0.2218213  0.5771782\n",
       "   96  0.7146760  0.2218262  0.5772946\n",
       "   97  0.7147156  0.2219694  0.5771239\n",
       "   98  0.7147469  0.2221432  0.5771191\n",
       "   99  0.7148747  0.2219316  0.5773602\n",
       "  100  0.7147939  0.2227141  0.5772550\n",
       "\n",
       "RMSE was used to select the optimal model using the smallest value.\n",
       "The final value used for the model was k = 15."
      ]
     },
     "metadata": {},
     "output_type": "display_data"
    }
   ],
   "source": [
    "set.seed(100)\n",
    "\n",
    "train_control <- trainControl(method = \"cv\", number = 10)\n",
    "\n",
    "k_red = data.frame(k = seq(from = 1, to = 100, by = 1))\n",
    "\n",
    "knn_red <- train(x = X_train, y = Y_train, method = \"knn\", tuneGrid = k_red, trControl = train_control)\n",
    "\n",
    "knn_red"
   ]
  },
  {
   "cell_type": "markdown",
   "metadata": {},
   "source": [
    "%% best k is k = 20, forming the final model with k = 13"
   ]
  },
  {
   "cell_type": "code",
   "execution_count": 45,
   "metadata": {},
   "outputs": [
    {
     "data": {
      "text/plain": [
       "k-Nearest Neighbors \n",
       "\n",
       "1281 samples\n",
       "  11 predictor\n",
       "\n",
       "No pre-processing\n",
       "Resampling: Bootstrapped (25 reps) \n",
       "Summary of sample sizes: 1281, 1281, 1281, 1281, 1281, 1281, ... \n",
       "Resampling results:\n",
       "\n",
       "  RMSE       Rsquared   MAE      \n",
       "  0.7097263  0.2335073  0.5591935\n",
       "\n",
       "Tuning parameter 'k' was held constant at a value of 15"
      ]
     },
     "metadata": {},
     "output_type": "display_data"
    }
   ],
   "source": [
    "set.seed(100)\n",
    "k_best_red <- data.frame(k = 15)\n",
    "knn_red <- train(x = X_train, y = Y_train, method = \"knn\", tuneGrid = k_best_red)\n",
    "knn_red"
   ]
  },
  {
   "cell_type": "markdown",
   "metadata": {},
   "source": [
    "%% Testing the model on the test data"
   ]
  },
  {
   "cell_type": "code",
   "execution_count": 46,
   "metadata": {},
   "outputs": [
    {
     "data": {
      "text/html": [
       "<table>\n",
       "<thead><tr><th></th><th scope=col>obs</th><th scope=col>pred</th></tr></thead>\n",
       "<tbody>\n",
       "\t<tr><th scope=row>quality1</th><td>5       </td><td>5.466667</td></tr>\n",
       "\t<tr><th scope=row>quality2</th><td>5       </td><td>5.400000</td></tr>\n",
       "\t<tr><th scope=row>quality3</th><td>5       </td><td>5.470588</td></tr>\n",
       "\t<tr><th scope=row>quality4</th><td>5       </td><td>5.133333</td></tr>\n",
       "\t<tr><th scope=row>quality5</th><td>5       </td><td>5.800000</td></tr>\n",
       "\t<tr><th scope=row>quality6</th><td>4       </td><td>5.200000</td></tr>\n",
       "\t<tr><th scope=row>quality7</th><td>5       </td><td>5.562500</td></tr>\n",
       "\t<tr><th scope=row>quality8</th><td>6       </td><td>5.466667</td></tr>\n",
       "\t<tr><th scope=row>quality9</th><td>5       </td><td>5.266667</td></tr>\n",
       "\t<tr><th scope=row>quality10</th><td>6       </td><td>5.200000</td></tr>\n",
       "</tbody>\n",
       "</table>\n"
      ],
      "text/latex": [
       "\\begin{tabular}{r|ll}\n",
       "  & obs & pred\\\\\n",
       "\\hline\n",
       "\tquality1 & 5        & 5.466667\\\\\n",
       "\tquality2 & 5        & 5.400000\\\\\n",
       "\tquality3 & 5        & 5.470588\\\\\n",
       "\tquality4 & 5        & 5.133333\\\\\n",
       "\tquality5 & 5        & 5.800000\\\\\n",
       "\tquality6 & 4        & 5.200000\\\\\n",
       "\tquality7 & 5        & 5.562500\\\\\n",
       "\tquality8 & 6        & 5.466667\\\\\n",
       "\tquality9 & 5        & 5.266667\\\\\n",
       "\tquality10 & 6        & 5.200000\\\\\n",
       "\\end{tabular}\n"
      ],
      "text/markdown": [
       "\n",
       "| <!--/--> | obs | pred | \n",
       "|---|---|---|---|---|---|---|---|---|---|\n",
       "| quality1 | 5        | 5.466667 | \n",
       "| quality2 | 5        | 5.400000 | \n",
       "| quality3 | 5        | 5.470588 | \n",
       "| quality4 | 5        | 5.133333 | \n",
       "| quality5 | 5        | 5.800000 | \n",
       "| quality6 | 4        | 5.200000 | \n",
       "| quality7 | 5        | 5.562500 | \n",
       "| quality8 | 6        | 5.466667 | \n",
       "| quality9 | 5        | 5.266667 | \n",
       "| quality10 | 6        | 5.200000 | \n",
       "\n",
       "\n"
      ],
      "text/plain": [
       "          obs pred    \n",
       "quality1  5   5.466667\n",
       "quality2  5   5.400000\n",
       "quality3  5   5.470588\n",
       "quality4  5   5.133333\n",
       "quality5  5   5.800000\n",
       "quality6  4   5.200000\n",
       "quality7  5   5.562500\n",
       "quality8  6   5.466667\n",
       "quality9  5   5.266667\n",
       "quality10 6   5.200000"
      ]
     },
     "metadata": {},
     "output_type": "display_data"
    },
    {
     "data": {
      "text/html": [
       "<dl class=dl-horizontal>\n",
       "\t<dt>RMSE</dt>\n",
       "\t\t<dd>0.689598362218414</dd>\n",
       "\t<dt>Rsquared</dt>\n",
       "\t\t<dd>0.322630114650231</dd>\n",
       "\t<dt>MAE</dt>\n",
       "\t\t<dd>0.550684424713281</dd>\n",
       "</dl>\n"
      ],
      "text/latex": [
       "\\begin{description*}\n",
       "\\item[RMSE] 0.689598362218414\n",
       "\\item[Rsquared] 0.322630114650231\n",
       "\\item[MAE] 0.550684424713281\n",
       "\\end{description*}\n"
      ],
      "text/markdown": [
       "RMSE\n",
       ":   0.689598362218414Rsquared\n",
       ":   0.322630114650231MAE\n",
       ":   0.550684424713281\n",
       "\n"
      ],
      "text/plain": [
       "     RMSE  Rsquared       MAE \n",
       "0.6895984 0.3226301 0.5506844 "
      ]
     },
     "metadata": {},
     "output_type": "display_data"
    }
   ],
   "source": [
    "set.seed(100)\n",
    "test <- predict(knn_red, X_test)\n",
    "\n",
    "predictions <- data.frame(obs = Y_test, pred = test)\n",
    "\n",
    "head(predictions, n = 10)\n",
    "test_error <- defaultSummary(predictions)\n",
    "test_error"
   ]
  },
  {
   "cell_type": "markdown",
   "metadata": {},
   "source": [
    "The RMSE is 0.689598362218414 for using all predictors on the scaled data"
   ]
  },
  {
   "cell_type": "markdown",
   "metadata": {},
   "source": [
    "Using the predictors that look good on the red wine data: \n",
    "- volatile acidity \n",
    "- citric acid \n",
    "- alcohol"
   ]
  },
  {
   "cell_type": "code",
   "execution_count": 48,
   "metadata": {},
   "outputs": [],
   "source": [
    "set.seed(100)\n",
    "\n",
    "training_set <- red_scaled %>% \n",
    "    select(quality) %>% \n",
    "    unlist() %>% \n",
    "    createDataPartition(p = 0.80, list = FALSE)\n",
    "\n",
    "X_train <- red_scaled %>% \n",
    "    select(volatile.acidity, citric.acid, alcohol) %>% \n",
    "    slice(training_set) %>% \n",
    "    data.frame()\n",
    "\n",
    "Y_train <- red_scaled %>% \n",
    "    select(quality) %>% \n",
    "    slice(training_set) %>% \n",
    "    unlist()\n",
    "\n",
    "X_test <- red_scaled %>% \n",
    "    select(volatile.acidity, citric.acid, alcohol) %>% \n",
    "    slice(-training_set) %>% \n",
    "    data.frame()\n",
    "\n",
    "Y_test <- red_scaled %>% \n",
    "    select(quality) %>% \n",
    "    slice(-training_set) %>% \n",
    "    unlist()"
   ]
  },
  {
   "cell_type": "markdown",
   "metadata": {},
   "source": [
    "Choosing cross validation to choose the best value of k "
   ]
  },
  {
   "cell_type": "code",
   "execution_count": 49,
   "metadata": {},
   "outputs": [
    {
     "data": {
      "text/plain": [
       "k-Nearest Neighbors \n",
       "\n",
       "1281 samples\n",
       "   3 predictor\n",
       "\n",
       "No pre-processing\n",
       "Resampling: Cross-Validated (10 fold) \n",
       "Summary of sample sizes: 1153, 1152, 1152, 1154, 1154, 1153, ... \n",
       "Resampling results across tuning parameters:\n",
       "\n",
       "  k    RMSE       Rsquared   MAE      \n",
       "    1  0.8303233  0.2158594  0.4993744\n",
       "    2  0.7567825  0.2297416  0.5509205\n",
       "    3  0.7244730  0.2540604  0.5445054\n",
       "    4  0.7091074  0.2615369  0.5432350\n",
       "    5  0.7000280  0.2674456  0.5413718\n",
       "    6  0.6959591  0.2679169  0.5421212\n",
       "    7  0.6907164  0.2727634  0.5404114\n",
       "    8  0.6900435  0.2712129  0.5393109\n",
       "    9  0.6897938  0.2694502  0.5405403\n",
       "   10  0.6887275  0.2704598  0.5421620\n",
       "   11  0.6857679  0.2753332  0.5408146\n",
       "   12  0.6833090  0.2787866  0.5406661\n",
       "   13  0.6817122  0.2809549  0.5390328\n",
       "   14  0.6823879  0.2797218  0.5406092\n",
       "   15  0.6843495  0.2754244  0.5414372\n",
       "   16  0.6839085  0.2760713  0.5419507\n",
       "   17  0.6848699  0.2734467  0.5423863\n",
       "   18  0.6845752  0.2736430  0.5425031\n",
       "   19  0.6843295  0.2743015  0.5438914\n",
       "   20  0.6822172  0.2790219  0.5412737\n",
       "   21  0.6808423  0.2817553  0.5415642\n",
       "   22  0.6798066  0.2844793  0.5405443\n",
       "   23  0.6778763  0.2887464  0.5400601\n",
       "   24  0.6779513  0.2889003  0.5411563\n",
       "   25  0.6775587  0.2903820  0.5415050\n",
       "   26  0.6772722  0.2913768  0.5418442\n",
       "   27  0.6776562  0.2905665  0.5429078\n",
       "   28  0.6797321  0.2868216  0.5451988\n",
       "   29  0.6798112  0.2867315  0.5459983\n",
       "   30  0.6801354  0.2859645  0.5477960\n",
       "   31  0.6818648  0.2822830  0.5490861\n",
       "   32  0.6817661  0.2831957  0.5495657\n",
       "   33  0.6814878  0.2837872  0.5502178\n",
       "   34  0.6820602  0.2826039  0.5502864\n",
       "   35  0.6822381  0.2826772  0.5507915\n",
       "   36  0.6827298  0.2816041  0.5512960\n",
       "   37  0.6831296  0.2809791  0.5515620\n",
       "   38  0.6834349  0.2803206  0.5518917\n",
       "   39  0.6834500  0.2805980  0.5525337\n",
       "   40  0.6834062  0.2813783  0.5526618\n",
       "   41  0.6831676  0.2818135  0.5521470\n",
       "   42  0.6845279  0.2789835  0.5532228\n",
       "   43  0.6853616  0.2771803  0.5542381\n",
       "   44  0.6857832  0.2764468  0.5548181\n",
       "   45  0.6865866  0.2748429  0.5555896\n",
       "   46  0.6867151  0.2751729  0.5558693\n",
       "   47  0.6867686  0.2752807  0.5563875\n",
       "   48  0.6874939  0.2736302  0.5569675\n",
       "   49  0.6883460  0.2716220  0.5577610\n",
       "   50  0.6886215  0.2709232  0.5578096\n",
       "   51  0.6887389  0.2709109  0.5579753\n",
       "   52  0.6879727  0.2730896  0.5576765\n",
       "   53  0.6882842  0.2725227  0.5580279\n",
       "   54  0.6881814  0.2728432  0.5577627\n",
       "   55  0.6879679  0.2737312  0.5578135\n",
       "   56  0.6887322  0.2722412  0.5584778\n",
       "   57  0.6897738  0.2696806  0.5593266\n",
       "   58  0.6903598  0.2686360  0.5603722\n",
       "   59  0.6913591  0.2663325  0.5613740\n",
       "   60  0.6912836  0.2668980  0.5618040\n",
       "   61  0.6915678  0.2666059  0.5621494\n",
       "   62  0.6918688  0.2661553  0.5621934\n",
       "   63  0.6919049  0.2662755  0.5621935\n",
       "   64  0.6920368  0.2661182  0.5626351\n",
       "   65  0.6922742  0.2657438  0.5630781\n",
       "   66  0.6923084  0.2660362  0.5633769\n",
       "   67  0.6928407  0.2648882  0.5639951\n",
       "   68  0.6932190  0.2641795  0.5643475\n",
       "   69  0.6938129  0.2628639  0.5649468\n",
       "   70  0.6948201  0.2603262  0.5655903\n",
       "   71  0.6952431  0.2592772  0.5662801\n",
       "   72  0.6959825  0.2576820  0.5670472\n",
       "   73  0.6966070  0.2562953  0.5677105\n",
       "   74  0.6970747  0.2554693  0.5683922\n",
       "   75  0.6972435  0.2552815  0.5686616\n",
       "   76  0.6973067  0.2554262  0.5688026\n",
       "   77  0.6974359  0.2552311  0.5688467\n",
       "   78  0.6976650  0.2552077  0.5691266\n",
       "   79  0.6980727  0.2545736  0.5697526\n",
       "   80  0.6989087  0.2529333  0.5706695\n",
       "   81  0.6989816  0.2529029  0.5706209\n",
       "   82  0.6992751  0.2522879  0.5711025\n",
       "   83  0.6993818  0.2523414  0.5714305\n",
       "   84  0.6997272  0.2515647  0.5716119\n",
       "   85  0.6999972  0.2510932  0.5718085\n",
       "   86  0.6999939  0.2514425  0.5719485\n",
       "   87  0.7001286  0.2514105  0.5723317\n",
       "   88  0.7004361  0.2509826  0.5724931\n",
       "   89  0.7009433  0.2497462  0.5730616\n",
       "   90  0.7017626  0.2477842  0.5736260\n",
       "   91  0.7018671  0.2478812  0.5738729\n",
       "   92  0.7017724  0.2484326  0.5739500\n",
       "   93  0.7021628  0.2474491  0.5742253\n",
       "   94  0.7022761  0.2475333  0.5745196\n",
       "   95  0.7023158  0.2479894  0.5743710\n",
       "   96  0.7024024  0.2477671  0.5745903\n",
       "   97  0.7026820  0.2473711  0.5751700\n",
       "   98  0.7025963  0.2476993  0.5752748\n",
       "   99  0.7028687  0.2472150  0.5753475\n",
       "  100  0.7027401  0.2477232  0.5750526\n",
       "\n",
       "RMSE was used to select the optimal model using the smallest value.\n",
       "The final value used for the model was k = 26."
      ]
     },
     "metadata": {},
     "output_type": "display_data"
    }
   ],
   "source": [
    "set.seed(100)\n",
    "\n",
    "train_control <- trainControl(method = \"cv\", number = 10)\n",
    "\n",
    "k_red_n = data.frame(k = seq(from = 1, to = 100, by = 1))\n",
    "\n",
    "knn_red_n <- train(x = X_train, y = Y_train, method = \"knn\", tuneGrid = k_red, trControl = train_control)\n",
    "\n",
    "knn_red_n"
   ]
  },
  {
   "cell_type": "markdown",
   "metadata": {},
   "source": [
    "Forming the best model with k = 13"
   ]
  },
  {
   "cell_type": "code",
   "execution_count": 50,
   "metadata": {},
   "outputs": [
    {
     "data": {
      "text/plain": [
       "k-Nearest Neighbors \n",
       "\n",
       "1281 samples\n",
       "   3 predictor\n",
       "\n",
       "No pre-processing\n",
       "Resampling: Bootstrapped (25 reps) \n",
       "Summary of sample sizes: 1281, 1281, 1281, 1281, 1281, 1281, ... \n",
       "Resampling results:\n",
       "\n",
       "  RMSE       Rsquared   MAE      \n",
       "  0.6945227  0.2563285  0.5533583\n",
       "\n",
       "Tuning parameter 'k' was held constant at a value of 26"
      ]
     },
     "metadata": {},
     "output_type": "display_data"
    }
   ],
   "source": [
    "set.seed(100)\n",
    "\n",
    "k_best <- data.frame(k = 26)\n",
    "knn_red_n <- train(x = X_train, y = Y_train, method = \"knn\", tuneGrid = k_best)\n",
    "knn_red_n"
   ]
  },
  {
   "cell_type": "markdown",
   "metadata": {},
   "source": [
    "Testing the model on the test data"
   ]
  },
  {
   "cell_type": "code",
   "execution_count": 51,
   "metadata": {},
   "outputs": [
    {
     "data": {
      "text/html": [
       "<table>\n",
       "<thead><tr><th></th><th scope=col>obs</th><th scope=col>pred</th></tr></thead>\n",
       "<tbody>\n",
       "\t<tr><th scope=row>quality1</th><td>5       </td><td>4.961538</td></tr>\n",
       "\t<tr><th scope=row>quality2</th><td>5       </td><td>5.153846</td></tr>\n",
       "\t<tr><th scope=row>quality3</th><td>5       </td><td>5.115385</td></tr>\n",
       "\t<tr><th scope=row>quality4</th><td>5       </td><td>5.230769</td></tr>\n",
       "\t<tr><th scope=row>quality5</th><td>5       </td><td>5.333333</td></tr>\n",
       "\t<tr><th scope=row>quality6</th><td>4       </td><td>5.307692</td></tr>\n",
       "\t<tr><th scope=row>quality7</th><td>5       </td><td>5.423077</td></tr>\n",
       "\t<tr><th scope=row>quality8</th><td>6       </td><td>5.461538</td></tr>\n",
       "\t<tr><th scope=row>quality9</th><td>5       </td><td>5.269231</td></tr>\n",
       "\t<tr><th scope=row>quality10</th><td>6       </td><td>5.461538</td></tr>\n",
       "</tbody>\n",
       "</table>\n"
      ],
      "text/latex": [
       "\\begin{tabular}{r|ll}\n",
       "  & obs & pred\\\\\n",
       "\\hline\n",
       "\tquality1 & 5        & 4.961538\\\\\n",
       "\tquality2 & 5        & 5.153846\\\\\n",
       "\tquality3 & 5        & 5.115385\\\\\n",
       "\tquality4 & 5        & 5.230769\\\\\n",
       "\tquality5 & 5        & 5.333333\\\\\n",
       "\tquality6 & 4        & 5.307692\\\\\n",
       "\tquality7 & 5        & 5.423077\\\\\n",
       "\tquality8 & 6        & 5.461538\\\\\n",
       "\tquality9 & 5        & 5.269231\\\\\n",
       "\tquality10 & 6        & 5.461538\\\\\n",
       "\\end{tabular}\n"
      ],
      "text/markdown": [
       "\n",
       "| <!--/--> | obs | pred | \n",
       "|---|---|---|---|---|---|---|---|---|---|\n",
       "| quality1 | 5        | 4.961538 | \n",
       "| quality2 | 5        | 5.153846 | \n",
       "| quality3 | 5        | 5.115385 | \n",
       "| quality4 | 5        | 5.230769 | \n",
       "| quality5 | 5        | 5.333333 | \n",
       "| quality6 | 4        | 5.307692 | \n",
       "| quality7 | 5        | 5.423077 | \n",
       "| quality8 | 6        | 5.461538 | \n",
       "| quality9 | 5        | 5.269231 | \n",
       "| quality10 | 6        | 5.461538 | \n",
       "\n",
       "\n"
      ],
      "text/plain": [
       "          obs pred    \n",
       "quality1  5   4.961538\n",
       "quality2  5   5.153846\n",
       "quality3  5   5.115385\n",
       "quality4  5   5.230769\n",
       "quality5  5   5.333333\n",
       "quality6  4   5.307692\n",
       "quality7  5   5.423077\n",
       "quality8  6   5.461538\n",
       "quality9  5   5.269231\n",
       "quality10 6   5.461538"
      ]
     },
     "metadata": {},
     "output_type": "display_data"
    },
    {
     "data": {
      "text/html": [
       "<dl class=dl-horizontal>\n",
       "\t<dt>RMSE</dt>\n",
       "\t\t<dd>0.657249976153155</dd>\n",
       "\t<dt>Rsquared</dt>\n",
       "\t\t<dd>0.395426503679193</dd>\n",
       "\t<dt>MAE</dt>\n",
       "\t\t<dd>0.535903067349608</dd>\n",
       "</dl>\n"
      ],
      "text/latex": [
       "\\begin{description*}\n",
       "\\item[RMSE] 0.657249976153155\n",
       "\\item[Rsquared] 0.395426503679193\n",
       "\\item[MAE] 0.535903067349608\n",
       "\\end{description*}\n"
      ],
      "text/markdown": [
       "RMSE\n",
       ":   0.657249976153155Rsquared\n",
       ":   0.395426503679193MAE\n",
       ":   0.535903067349608\n",
       "\n"
      ],
      "text/plain": [
       "     RMSE  Rsquared       MAE \n",
       "0.6572500 0.3954265 0.5359031 "
      ]
     },
     "metadata": {},
     "output_type": "display_data"
    }
   ],
   "source": [
    "set.seed(100)\n",
    "\n",
    "test <- predict(knn_red_n, X_test)\n",
    "\n",
    "predictions <- data.frame(obs = Y_test, pred = test)\n",
    "\n",
    "head(predictions, n = 10)\n",
    "test_error <- defaultSummary(predictions)\n",
    "test_error"
   ]
  },
  {
   "cell_type": "markdown",
   "metadata": {},
   "source": [
    "RMSE of 0.657 using the selected predictors vs. the RMSE of 0.689598 using all predictors. Using the selected predictors makes it SLIGHTLY better in predicting the quality of red wine. "
   ]
  },
  {
   "cell_type": "markdown",
   "metadata": {},
   "source": [
    " - White Wine"
   ]
  },
  {
   "cell_type": "markdown",
   "metadata": {},
   "source": [
    "%% Using every predictors for the scaled white wine data"
   ]
  },
  {
   "cell_type": "code",
   "execution_count": 52,
   "metadata": {},
   "outputs": [],
   "source": [
    "set.seed(100)\n",
    "\n",
    "training_set <- white_scaled %>% \n",
    "    select(quality) %>% \n",
    "    unlist() %>% \n",
    "    createDataPartition(p = 0.80, list = FALSE)\n",
    "\n",
    "X_train <- white_scaled %>% \n",
    "    select(-quality) %>% \n",
    "    slice(training_set) %>% \n",
    "    data.frame()\n",
    "\n",
    "Y_train <- white_scaled %>% \n",
    "    select(quality) %>% \n",
    "    slice(training_set) %>% \n",
    "    unlist()\n",
    "\n",
    "X_test <- white_scaled %>% \n",
    "    select(-quality) %>% \n",
    "    slice(-training_set) %>% \n",
    "    data.frame()\n",
    "\n",
    "Y_test <- white_scaled %>% \n",
    "    select(quality) %>% \n",
    "    slice(-training_set) %>% \n",
    "    unlist()"
   ]
  },
  {
   "cell_type": "markdown",
   "metadata": {},
   "source": [
    "Choosing cross validation to choose the best value of k "
   ]
  },
  {
   "cell_type": "code",
   "execution_count": 53,
   "metadata": {},
   "outputs": [
    {
     "data": {
      "text/plain": [
       "k-Nearest Neighbors \n",
       "\n",
       "3919 samples\n",
       "  11 predictor\n",
       "\n",
       "No pre-processing\n",
       "Resampling: Cross-Validated (10 fold) \n",
       "Summary of sample sizes: 3527, 3527, 3526, 3527, 3526, 3529, ... \n",
       "Resampling results across tuning parameters:\n",
       "\n",
       "  k    RMSE       Rsquared   MAE      \n",
       "    1  0.8245596  0.3200122  0.4728051\n",
       "    2  0.7843719  0.3085805  0.5374274\n",
       "    3  0.7591199  0.3130239  0.5511620\n",
       "    4  0.7471215  0.3168095  0.5574062\n",
       "    5  0.7420983  0.3161124  0.5588848\n",
       "    6  0.7358852  0.3209154  0.5582212\n",
       "    7  0.7339887  0.3214014  0.5585451\n",
       "    8  0.7314869  0.3232781  0.5571125\n",
       "    9  0.7315740  0.3217282  0.5610772\n",
       "   10  0.7301549  0.3228409  0.5622646\n",
       "   11  0.7279918  0.3260225  0.5621811\n",
       "   12  0.7271507  0.3274581  0.5636264\n",
       "   13  0.7281811  0.3254989  0.5657620\n",
       "   14  0.7289175  0.3242917  0.5674366\n",
       "   15  0.7297375  0.3230431  0.5690988\n",
       "   16  0.7293823  0.3236869  0.5691030\n",
       "   17  0.7299006  0.3230011  0.5699549\n",
       "   18  0.7318802  0.3194982  0.5731515\n",
       "   19  0.7317515  0.3202322  0.5731765\n",
       "   20  0.7322055  0.3197641  0.5737211\n",
       "   21  0.7326358  0.3194346  0.5737250\n",
       "   22  0.7330274  0.3191696  0.5733632\n",
       "   23  0.7342179  0.3172612  0.5746665\n",
       "   24  0.7340580  0.3179775  0.5749488\n",
       "   25  0.7340841  0.3183587  0.5749735\n",
       "   26  0.7343433  0.3184347  0.5762246\n",
       "   27  0.7346813  0.3182566  0.5766396\n",
       "   28  0.7361057  0.3159475  0.5785909\n",
       "   29  0.7365531  0.3155503  0.5790246\n",
       "   30  0.7371501  0.3147161  0.5792981\n",
       "   31  0.7376319  0.3141433  0.5795130\n",
       "   32  0.7381656  0.3137028  0.5804471\n",
       "   33  0.7393668  0.3115529  0.5813371\n",
       "   34  0.7401718  0.3101709  0.5823253\n",
       "   35  0.7404472  0.3101883  0.5827759\n",
       "   36  0.7415885  0.3083748  0.5836946\n",
       "   37  0.7422866  0.3075031  0.5839830\n",
       "   38  0.7426050  0.3072600  0.5845907\n",
       "   39  0.7432819  0.3061492  0.5852557\n",
       "   40  0.7437269  0.3056162  0.5857295\n",
       "   41  0.7438790  0.3057067  0.5860833\n",
       "   42  0.7440734  0.3059351  0.5868355\n",
       "   43  0.7450343  0.3044100  0.5877189\n",
       "   44  0.7460055  0.3028060  0.5884273\n",
       "   45  0.7465764  0.3020353  0.5888804\n",
       "   46  0.7463251  0.3031080  0.5885418\n",
       "   47  0.7467396  0.3025052  0.5888656\n",
       "   48  0.7472525  0.3018143  0.5897320\n",
       "   49  0.7477366  0.3012787  0.5901172\n",
       "   50  0.7481039  0.3011494  0.5906858\n",
       "   51  0.7484593  0.3008690  0.5909741\n",
       "   52  0.7487641  0.3007277  0.5911042\n",
       "   53  0.7491805  0.3001141  0.5916659\n",
       "   54  0.7496008  0.2997507  0.5916291\n",
       "   55  0.7499339  0.2995505  0.5916357\n",
       "   56  0.7504615  0.2987218  0.5922013\n",
       "   57  0.7510637  0.2977202  0.5923201\n",
       "   58  0.7511779  0.2978420  0.5920872\n",
       "   59  0.7517665  0.2969836  0.5922837\n",
       "   60  0.7524656  0.2957847  0.5929755\n",
       "   61  0.7529503  0.2949875  0.5931251\n",
       "   62  0.7533991  0.2944670  0.5934049\n",
       "   63  0.7539225  0.2936039  0.5939463\n",
       "   64  0.7543702  0.2930142  0.5943195\n",
       "   65  0.7545110  0.2931353  0.5947135\n",
       "   66  0.7550017  0.2924945  0.5951065\n",
       "   67  0.7554209  0.2919016  0.5957029\n",
       "   68  0.7556032  0.2920073  0.5959138\n",
       "   69  0.7559194  0.2915941  0.5960746\n",
       "   70  0.7564236  0.2906668  0.5964179\n",
       "   71  0.7569510  0.2897874  0.5967889\n",
       "   72  0.7574699  0.2889171  0.5972586\n",
       "   73  0.7577610  0.2885553  0.5974797\n",
       "   74  0.7579658  0.2884561  0.5972348\n",
       "   75  0.7581902  0.2882305  0.5972596\n",
       "   76  0.7585338  0.2878741  0.5976866\n",
       "   77  0.7593142  0.2863209  0.5983173\n",
       "   78  0.7598383  0.2853847  0.5988377\n",
       "   79  0.7602548  0.2848221  0.5991389\n",
       "   80  0.7604447  0.2847278  0.5992270\n",
       "   81  0.7607379  0.2844480  0.5995148\n",
       "   82  0.7608556  0.2846180  0.5996330\n",
       "   83  0.7608564  0.2849969  0.5997140\n",
       "   84  0.7614102  0.2839450  0.5999007\n",
       "   85  0.7616319  0.2837718  0.5998328\n",
       "   86  0.7621759  0.2827766  0.6000730\n",
       "   87  0.7623851  0.2826106  0.6000471\n",
       "   88  0.7630150  0.2813646  0.6005898\n",
       "   89  0.7633302  0.2807556  0.6008927\n",
       "   90  0.7638152  0.2799824  0.6012603\n",
       "   91  0.7642572  0.2791805  0.6015164\n",
       "   92  0.7646448  0.2785457  0.6018546\n",
       "   93  0.7650831  0.2778865  0.6021916\n",
       "   94  0.7657211  0.2766135  0.6029567\n",
       "   95  0.7660117  0.2762505  0.6032708\n",
       "   96  0.7658727  0.2770804  0.6030955\n",
       "   97  0.7662268  0.2765514  0.6033931\n",
       "   98  0.7663080  0.2766995  0.6034053\n",
       "   99  0.7665781  0.2762678  0.6036268\n",
       "  100  0.7670644  0.2753358  0.6039050\n",
       "\n",
       "RMSE was used to select the optimal model using the smallest value.\n",
       "The final value used for the model was k = 12."
      ]
     },
     "metadata": {},
     "output_type": "display_data"
    }
   ],
   "source": [
    "set.seed(100)\n",
    "\n",
    "train_control <- trainControl(method = \"cv\", number = 10)\n",
    "\n",
    "k_white = data.frame(k = seq(from = 1, to = 100, by = 1))\n",
    "\n",
    "knn_white <- train(x = X_train, y = Y_train, method = \"knn\", tuneGrid = k_white, trControl = train_control)\n",
    "\n",
    "knn_white"
   ]
  },
  {
   "cell_type": "markdown",
   "metadata": {},
   "source": [
    "Forming the model with k = 12"
   ]
  },
  {
   "cell_type": "code",
   "execution_count": 55,
   "metadata": {},
   "outputs": [
    {
     "data": {
      "text/plain": [
       "k-Nearest Neighbors \n",
       "\n",
       "3919 samples\n",
       "  11 predictor\n",
       "\n",
       "No pre-processing\n",
       "Resampling: Bootstrapped (25 reps) \n",
       "Summary of sample sizes: 3919, 3919, 3919, 3919, 3919, 3919, ... \n",
       "Resampling results:\n",
       "\n",
       "  RMSE       Rsquared   MAE      \n",
       "  0.7533703  0.2851869  0.5795348\n",
       "\n",
       "Tuning parameter 'k' was held constant at a value of 12"
      ]
     },
     "metadata": {},
     "output_type": "display_data"
    }
   ],
   "source": [
    "set.seed(100)\n",
    "\n",
    "k_best <- data.frame(k = 12)\n",
    "knn_white <- train(x = X_train, y = Y_train, method = \"knn\", tuneGrid = k_best)\n",
    "knn_white"
   ]
  },
  {
   "cell_type": "code",
   "execution_count": 56,
   "metadata": {},
   "outputs": [
    {
     "data": {
      "text/html": [
       "<table>\n",
       "<thead><tr><th></th><th scope=col>obs</th><th scope=col>pred</th></tr></thead>\n",
       "<tbody>\n",
       "\t<tr><th scope=row>quality1</th><td>6       </td><td>5.615385</td></tr>\n",
       "\t<tr><th scope=row>quality2</th><td>6       </td><td>5.833333</td></tr>\n",
       "\t<tr><th scope=row>quality3</th><td>6       </td><td>5.583333</td></tr>\n",
       "\t<tr><th scope=row>quality4</th><td>5       </td><td>6.083333</td></tr>\n",
       "\t<tr><th scope=row>quality5</th><td>8       </td><td>5.500000</td></tr>\n",
       "\t<tr><th scope=row>quality6</th><td>6       </td><td>5.666667</td></tr>\n",
       "\t<tr><th scope=row>quality7</th><td>8       </td><td>6.250000</td></tr>\n",
       "\t<tr><th scope=row>quality8</th><td>6       </td><td>5.500000</td></tr>\n",
       "\t<tr><th scope=row>quality9</th><td>6       </td><td>6.333333</td></tr>\n",
       "\t<tr><th scope=row>quality10</th><td>7       </td><td>6.083333</td></tr>\n",
       "</tbody>\n",
       "</table>\n"
      ],
      "text/latex": [
       "\\begin{tabular}{r|ll}\n",
       "  & obs & pred\\\\\n",
       "\\hline\n",
       "\tquality1 & 6        & 5.615385\\\\\n",
       "\tquality2 & 6        & 5.833333\\\\\n",
       "\tquality3 & 6        & 5.583333\\\\\n",
       "\tquality4 & 5        & 6.083333\\\\\n",
       "\tquality5 & 8        & 5.500000\\\\\n",
       "\tquality6 & 6        & 5.666667\\\\\n",
       "\tquality7 & 8        & 6.250000\\\\\n",
       "\tquality8 & 6        & 5.500000\\\\\n",
       "\tquality9 & 6        & 6.333333\\\\\n",
       "\tquality10 & 7        & 6.083333\\\\\n",
       "\\end{tabular}\n"
      ],
      "text/markdown": [
       "\n",
       "| <!--/--> | obs | pred | \n",
       "|---|---|---|---|---|---|---|---|---|---|\n",
       "| quality1 | 6        | 5.615385 | \n",
       "| quality2 | 6        | 5.833333 | \n",
       "| quality3 | 6        | 5.583333 | \n",
       "| quality4 | 5        | 6.083333 | \n",
       "| quality5 | 8        | 5.500000 | \n",
       "| quality6 | 6        | 5.666667 | \n",
       "| quality7 | 8        | 6.250000 | \n",
       "| quality8 | 6        | 5.500000 | \n",
       "| quality9 | 6        | 6.333333 | \n",
       "| quality10 | 7        | 6.083333 | \n",
       "\n",
       "\n"
      ],
      "text/plain": [
       "          obs pred    \n",
       "quality1  6   5.615385\n",
       "quality2  6   5.833333\n",
       "quality3  6   5.583333\n",
       "quality4  5   6.083333\n",
       "quality5  8   5.500000\n",
       "quality6  6   5.666667\n",
       "quality7  8   6.250000\n",
       "quality8  6   5.500000\n",
       "quality9  6   6.333333\n",
       "quality10 7   6.083333"
      ]
     },
     "metadata": {},
     "output_type": "display_data"
    },
    {
     "data": {
      "text/html": [
       "<dl class=dl-horizontal>\n",
       "\t<dt>RMSE</dt>\n",
       "\t\t<dd>0.748749411253541</dd>\n",
       "\t<dt>Rsquared</dt>\n",
       "\t\t<dd>0.294573286924488</dd>\n",
       "\t<dt>MAE</dt>\n",
       "\t\t<dd>0.577799400973558</dd>\n",
       "</dl>\n"
      ],
      "text/latex": [
       "\\begin{description*}\n",
       "\\item[RMSE] 0.748749411253541\n",
       "\\item[Rsquared] 0.294573286924488\n",
       "\\item[MAE] 0.577799400973558\n",
       "\\end{description*}\n"
      ],
      "text/markdown": [
       "RMSE\n",
       ":   0.748749411253541Rsquared\n",
       ":   0.294573286924488MAE\n",
       ":   0.577799400973558\n",
       "\n"
      ],
      "text/plain": [
       "     RMSE  Rsquared       MAE \n",
       "0.7487494 0.2945733 0.5777994 "
      ]
     },
     "metadata": {},
     "output_type": "display_data"
    }
   ],
   "source": [
    "set.seed(100)\n",
    "\n",
    "test <- predict(knn_white, X_test)\n",
    "\n",
    "predictions <- data.frame(obs = Y_test, pred = test)\n",
    "\n",
    "head(predictions, n = 10)\n",
    "test_error <- defaultSummary(predictions)\n",
    "test_error"
   ]
  },
  {
   "cell_type": "markdown",
   "metadata": {},
   "source": [
    "Using the predictors that look good: \n",
    "- residual sugar \n",
    "- density \n",
    "- alcohol"
   ]
  },
  {
   "cell_type": "code",
   "execution_count": 58,
   "metadata": {},
   "outputs": [],
   "source": [
    "set.seed(100)\n",
    "\n",
    "training_set <- white_scaled %>% \n",
    "    select(quality) %>% \n",
    "    unlist() %>% \n",
    "    createDataPartition(p = 0.80, list = FALSE)\n",
    "\n",
    "X_train <- white_scaled %>% \n",
    "    select(residual.sugar, density, alcohol) %>% \n",
    "    slice(training_set) %>% \n",
    "    data.frame()\n",
    "\n",
    "Y_train <- white_scaled %>% \n",
    "    select(quality) %>% \n",
    "    slice(training_set) %>% \n",
    "    unlist()\n",
    "\n",
    "X_test <- white_scaled %>% \n",
    "    select(residual.sugar, density, alcohol) %>% \n",
    "    slice(-training_set) %>% \n",
    "    data.frame()\n",
    "\n",
    "Y_test <- white_scaled %>% \n",
    "    select(quality) %>% \n",
    "    slice(-training_set) %>% \n",
    "    unlist()"
   ]
  },
  {
   "cell_type": "markdown",
   "metadata": {},
   "source": [
    "Using cross validation to determine the best value of k "
   ]
  },
  {
   "cell_type": "code",
   "execution_count": 61,
   "metadata": {},
   "outputs": [
    {
     "data": {
      "text/plain": [
       "k-Nearest Neighbors \n",
       "\n",
       "3919 samples\n",
       "   3 predictor\n",
       "\n",
       "No pre-processing\n",
       "Resampling: Cross-Validated (10 fold) \n",
       "Summary of sample sizes: 3527, 3527, 3526, 3527, 3526, 3529, ... \n",
       "Resampling results across tuning parameters:\n",
       "\n",
       "  k    RMSE       Rsquared   MAE      \n",
       "    1  0.9164080  0.2134555  0.5459037\n",
       "    2  0.8442017  0.2188912  0.5860170\n",
       "    3  0.8259954  0.2146228  0.6090314\n",
       "    4  0.8127714  0.2164298  0.6142320\n",
       "    5  0.8014801  0.2210934  0.6108744\n",
       "    6  0.7928281  0.2255593  0.6087146\n",
       "    7  0.7889748  0.2259824  0.6108543\n",
       "    8  0.7871658  0.2249270  0.6135331\n",
       "    9  0.7869197  0.2225627  0.6153668\n",
       "   10  0.7851134  0.2233352  0.6147515\n",
       "   11  0.7845023  0.2230229  0.6166133\n",
       "   12  0.7838832  0.2231596  0.6175671\n",
       "   13  0.7836037  0.2230813  0.6189406\n",
       "   14  0.7816480  0.2256204  0.6177626\n",
       "   15  0.7824643  0.2237442  0.6189343\n",
       "   16  0.7839416  0.2209631  0.6190444\n",
       "   17  0.7839622  0.2203566  0.6188330\n",
       "   18  0.7837199  0.2205043  0.6192498\n",
       "   19  0.7834738  0.2203222  0.6196186\n",
       "   20  0.7844504  0.2183098  0.6204481\n",
       "   21  0.7834088  0.2197791  0.6193795\n",
       "   22  0.7828055  0.2208254  0.6190136\n",
       "   23  0.7824173  0.2214045  0.6189026\n",
       "   24  0.7808027  0.2240957  0.6179990\n",
       "   25  0.7807335  0.2239449  0.6182491\n",
       "   26  0.7799735  0.2253548  0.6182968\n",
       "   27  0.7800591  0.2250395  0.6185573\n",
       "   28  0.7803157  0.2244472  0.6186901\n",
       "   29  0.7796387  0.2255513  0.6186007\n",
       "   30  0.7793578  0.2259898  0.6186472\n",
       "   31  0.7794349  0.2258367  0.6189371\n",
       "   32  0.7798336  0.2250576  0.6194185\n",
       "   33  0.7804076  0.2238925  0.6201314\n",
       "   34  0.7801186  0.2244247  0.6197586\n",
       "   35  0.7801773  0.2242895  0.6196072\n",
       "   36  0.7796076  0.2253694  0.6192964\n",
       "   37  0.7791271  0.2261200  0.6193544\n",
       "   38  0.7788469  0.2266695  0.6190851\n",
       "   39  0.7786717  0.2270581  0.6192604\n",
       "   40  0.7781766  0.2281350  0.6188934\n",
       "   41  0.7780127  0.2283629  0.6190686\n",
       "   42  0.7777879  0.2287580  0.6191114\n",
       "   43  0.7774851  0.2293260  0.6188968\n",
       "   44  0.7768821  0.2306655  0.6189700\n",
       "   45  0.7769618  0.2305486  0.6189248\n",
       "   46  0.7775557  0.2293201  0.6195274\n",
       "   47  0.7771437  0.2301943  0.6191167\n",
       "   48  0.7769760  0.2304903  0.6188405\n",
       "   49  0.7770992  0.2302003  0.6193139\n",
       "   50  0.7771326  0.2301029  0.6195099\n",
       "   51  0.7773227  0.2297168  0.6196674\n",
       "   52  0.7776239  0.2291916  0.6201533\n",
       "   53  0.7775610  0.2293769  0.6201845\n",
       "   54  0.7777273  0.2291313  0.6204226\n",
       "   55  0.7777628  0.2290719  0.6207247\n",
       "   56  0.7781512  0.2281332  0.6211009\n",
       "   57  0.7782332  0.2279028  0.6213586\n",
       "   58  0.7783156  0.2276822  0.6215910\n",
       "   59  0.7785957  0.2270793  0.6219689\n",
       "   60  0.7788050  0.2266456  0.6221022\n",
       "   61  0.7793919  0.2254424  0.6226606\n",
       "   62  0.7795333  0.2252059  0.6227937\n",
       "   63  0.7794243  0.2254718  0.6226983\n",
       "   64  0.7796841  0.2249470  0.6226886\n",
       "   65  0.7801059  0.2241269  0.6228395\n",
       "   66  0.7804517  0.2234253  0.6232178\n",
       "   67  0.7806526  0.2230558  0.6233918\n",
       "   68  0.7805307  0.2233210  0.6232419\n",
       "   69  0.7806515  0.2231123  0.6232955\n",
       "   70  0.7807841  0.2229075  0.6234497\n",
       "   71  0.7804663  0.2235988  0.6233656\n",
       "   72  0.7807221  0.2230944  0.6235748\n",
       "   73  0.7806687  0.2232396  0.6237878\n",
       "   74  0.7808944  0.2227857  0.6241013\n",
       "   75  0.7812840  0.2219663  0.6244591\n",
       "   76  0.7813954  0.2217946  0.6245293\n",
       "   77  0.7813639  0.2218641  0.6246243\n",
       "   78  0.7813681  0.2219360  0.6246857\n",
       "   79  0.7814929  0.2217280  0.6245991\n",
       "   80  0.7811170  0.2224270  0.6243159\n",
       "   81  0.7812798  0.2221002  0.6244363\n",
       "   82  0.7817046  0.2213310  0.6249592\n",
       "   83  0.7815262  0.2217724  0.6247129\n",
       "   84  0.7813564  0.2222607  0.6245166\n",
       "   85  0.7810861  0.2228971  0.6241259\n",
       "   86  0.7814202  0.2222001  0.6243916\n",
       "   87  0.7811251  0.2228698  0.6241263\n",
       "   88  0.7811289  0.2229205  0.6242011\n",
       "   89  0.7809326  0.2234251  0.6240002\n",
       "   90  0.7809763  0.2233925  0.6242388\n",
       "   91  0.7810455  0.2233076  0.6244886\n",
       "   92  0.7810341  0.2233549  0.6243950\n",
       "   93  0.7811436  0.2232053  0.6244920\n",
       "   94  0.7810116  0.2235756  0.6244773\n",
       "   95  0.7812636  0.2231062  0.6247154\n",
       "   96  0.7811729  0.2233210  0.6246146\n",
       "   97  0.7810286  0.2237507  0.6244683\n",
       "   98  0.7812063  0.2234622  0.6246481\n",
       "   99  0.7813259  0.2232590  0.6247395\n",
       "  100  0.7813435  0.2232874  0.6248496\n",
       "\n",
       "RMSE was used to select the optimal model using the smallest value.\n",
       "The final value used for the model was k = 44."
      ]
     },
     "metadata": {},
     "output_type": "display_data"
    }
   ],
   "source": [
    "set.seed(100)\n",
    "\n",
    "train_control <- trainControl(method = \"cv\", number = 10)\n",
    "\n",
    "k_white_n = data.frame(k = seq(from = 1, to = 100, by = 1))\n",
    "\n",
    "knn_white_n <- train(x = X_train, y = Y_train, method = \"knn\", tuneGrid = k_white_n, trControl = train_control)\n",
    "\n",
    "knn_white_n"
   ]
  },
  {
   "cell_type": "markdown",
   "metadata": {},
   "source": [
    "Forming the final model with k = 44"
   ]
  },
  {
   "cell_type": "code",
   "execution_count": 62,
   "metadata": {},
   "outputs": [
    {
     "data": {
      "text/plain": [
       "k-Nearest Neighbors \n",
       "\n",
       "3919 samples\n",
       "   3 predictor\n",
       "\n",
       "No pre-processing\n",
       "Resampling: Bootstrapped (25 reps) \n",
       "Summary of sample sizes: 3919, 3919, 3919, 3919, 3919, 3919, ... \n",
       "Resampling results:\n",
       "\n",
       "  RMSE       Rsquared   MAE      \n",
       "  0.7840064  0.2164321  0.6216951\n",
       "\n",
       "Tuning parameter 'k' was held constant at a value of 44"
      ]
     },
     "metadata": {},
     "output_type": "display_data"
    }
   ],
   "source": [
    "set.seed(100)\n",
    "\n",
    "k_best <- data.frame(k = 44)\n",
    "knn_white_n <- train(x = X_train, y = Y_train, method = \"knn\", tuneGrid = k_best)\n",
    "knn_white_n"
   ]
  },
  {
   "cell_type": "code",
   "execution_count": 63,
   "metadata": {},
   "outputs": [
    {
     "data": {
      "text/html": [
       "<table>\n",
       "<thead><tr><th></th><th scope=col>obs</th><th scope=col>pred</th></tr></thead>\n",
       "<tbody>\n",
       "\t<tr><th scope=row>quality1</th><td>6       </td><td>5.425532</td></tr>\n",
       "\t<tr><th scope=row>quality2</th><td>6       </td><td>5.644444</td></tr>\n",
       "\t<tr><th scope=row>quality3</th><td>6       </td><td>6.295455</td></tr>\n",
       "\t<tr><th scope=row>quality4</th><td>5       </td><td>5.955556</td></tr>\n",
       "\t<tr><th scope=row>quality5</th><td>8       </td><td>6.409091</td></tr>\n",
       "\t<tr><th scope=row>quality6</th><td>6       </td><td>5.886364</td></tr>\n",
       "\t<tr><th scope=row>quality7</th><td>8       </td><td>5.822222</td></tr>\n",
       "\t<tr><th scope=row>quality8</th><td>6       </td><td>5.545455</td></tr>\n",
       "\t<tr><th scope=row>quality9</th><td>6       </td><td>5.340909</td></tr>\n",
       "\t<tr><th scope=row>quality10</th><td>7       </td><td>5.409091</td></tr>\n",
       "</tbody>\n",
       "</table>\n"
      ],
      "text/latex": [
       "\\begin{tabular}{r|ll}\n",
       "  & obs & pred\\\\\n",
       "\\hline\n",
       "\tquality1 & 6        & 5.425532\\\\\n",
       "\tquality2 & 6        & 5.644444\\\\\n",
       "\tquality3 & 6        & 6.295455\\\\\n",
       "\tquality4 & 5        & 5.955556\\\\\n",
       "\tquality5 & 8        & 6.409091\\\\\n",
       "\tquality6 & 6        & 5.886364\\\\\n",
       "\tquality7 & 8        & 5.822222\\\\\n",
       "\tquality8 & 6        & 5.545455\\\\\n",
       "\tquality9 & 6        & 5.340909\\\\\n",
       "\tquality10 & 7        & 5.409091\\\\\n",
       "\\end{tabular}\n"
      ],
      "text/markdown": [
       "\n",
       "| <!--/--> | obs | pred | \n",
       "|---|---|---|---|---|---|---|---|---|---|\n",
       "| quality1 | 6        | 5.425532 | \n",
       "| quality2 | 6        | 5.644444 | \n",
       "| quality3 | 6        | 6.295455 | \n",
       "| quality4 | 5        | 5.955556 | \n",
       "| quality5 | 8        | 6.409091 | \n",
       "| quality6 | 6        | 5.886364 | \n",
       "| quality7 | 8        | 5.822222 | \n",
       "| quality8 | 6        | 5.545455 | \n",
       "| quality9 | 6        | 5.340909 | \n",
       "| quality10 | 7        | 5.409091 | \n",
       "\n",
       "\n"
      ],
      "text/plain": [
       "          obs pred    \n",
       "quality1  6   5.425532\n",
       "quality2  6   5.644444\n",
       "quality3  6   6.295455\n",
       "quality4  5   5.955556\n",
       "quality5  8   6.409091\n",
       "quality6  6   5.886364\n",
       "quality7  8   5.822222\n",
       "quality8  6   5.545455\n",
       "quality9  6   5.340909\n",
       "quality10 7   5.409091"
      ]
     },
     "metadata": {},
     "output_type": "display_data"
    },
    {
     "data": {
      "text/html": [
       "<dl class=dl-horizontal>\n",
       "\t<dt>RMSE</dt>\n",
       "\t\t<dd>0.770001103771604</dd>\n",
       "\t<dt>Rsquared</dt>\n",
       "\t\t<dd>0.250963776656185</dd>\n",
       "\t<dt>MAE</dt>\n",
       "\t\t<dd>0.615529692895053</dd>\n",
       "</dl>\n"
      ],
      "text/latex": [
       "\\begin{description*}\n",
       "\\item[RMSE] 0.770001103771604\n",
       "\\item[Rsquared] 0.250963776656185\n",
       "\\item[MAE] 0.615529692895053\n",
       "\\end{description*}\n"
      ],
      "text/markdown": [
       "RMSE\n",
       ":   0.770001103771604Rsquared\n",
       ":   0.250963776656185MAE\n",
       ":   0.615529692895053\n",
       "\n"
      ],
      "text/plain": [
       "     RMSE  Rsquared       MAE \n",
       "0.7700011 0.2509638 0.6155297 "
      ]
     },
     "metadata": {},
     "output_type": "display_data"
    }
   ],
   "source": [
    "set.seed(100)\n",
    "\n",
    "test <- predict(knn_white_n, X_test)\n",
    "\n",
    "predictions <- data.frame(obs = Y_test, pred = test)\n",
    "\n",
    "head(predictions, n = 10)\n",
    "test_error <- defaultSummary(predictions)\n",
    "test_error"
   ]
  },
  {
   "cell_type": "markdown",
   "metadata": {},
   "source": [
    "The RMSE for using all the predictors for the scaled white wine data is 0.748749, while the RMSE for the selected predictors for the scaled white wine data is 0.77. The model performs WORSE using the predictors that look good. "
   ]
  },
  {
   "cell_type": "code",
   "execution_count": 82,
   "metadata": {},
   "outputs": [],
   "source": [
    "#balanced_data <- ovun.sample(quality ~ ., data = red_scaled, method = \"over\", p = 0.6)$red_scaled\n",
    "#head(balanced_data)"
   ]
  },
  {
   "cell_type": "code",
   "execution_count": 77,
   "metadata": {},
   "outputs": [
    {
     "data": {
      "text/html": [
       "<table>\n",
       "<thead><tr><th scope=col>quality</th><th scope=col>fixed.acidity</th><th scope=col>volatile.acidity</th><th scope=col>citric.acid</th><th scope=col>residual.sugar</th><th scope=col>chlorides</th><th scope=col>free.sulfur.dioxide</th><th scope=col>total.sulfur.dioxide</th><th scope=col>density</th><th scope=col>pH</th><th scope=col>sulphates</th><th scope=col>alcohol</th></tr></thead>\n",
       "<tbody>\n",
       "\t<tr><td>6        </td><td>1.013509 </td><td>0.9123497</td><td>1.0128471</td><td>2.5369848</td><td>0.8872316</td><td>1.1482276</td><td>1.1744982</td><td>1.0069847</td><td>0.9398732</td><td>0.8946751</td><td>0.8312637</td></tr>\n",
       "\t<tr><td>6        </td><td>0.912158 </td><td>1.0137219</td><td>0.9565778</td><td>0.1960954</td><td>0.9660967</td><td>0.3572264</td><td>0.9119633</td><td>0.9999428</td><td>1.0338605</td><td>0.9742018</td><td>0.8973870</td></tr>\n",
       "\t<tr><td>6        </td><td>1.172775 </td><td>0.9461404</td><td>1.1253857</td><td>0.8456616</td><td>0.9858129</td><td>0.7654851</td><td>0.6701548</td><td>1.0010494</td><td>1.0213289</td><td>0.8747935</td><td>0.9540641</td></tr>\n",
       "\t<tr><td>6        </td><td>1.042466 </td><td>0.7771868</td><td>0.9003086</td><td>1.0417571</td><td>1.1435430</td><td>1.1992599</td><td>1.2850392</td><td>1.0015524</td><td>0.9993985</td><td>0.7952668</td><td>0.9351717</td></tr>\n",
       "\t<tr><td>6        </td><td>1.042466 </td><td>0.7771868</td><td>0.9003086</td><td>1.0417571</td><td>1.1435430</td><td>1.1992599</td><td>1.2850392</td><td>1.0015524</td><td>0.9993985</td><td>0.7952668</td><td>0.9351717</td></tr>\n",
       "\t<tr><td>6        </td><td>1.172775 </td><td>0.9461404</td><td>1.1253857</td><td>0.8456616</td><td>0.9858129</td><td>0.7654851</td><td>0.6701548</td><td>1.0010494</td><td>1.0213289</td><td>0.8747935</td><td>0.9540641</td></tr>\n",
       "</tbody>\n",
       "</table>\n"
      ],
      "text/latex": [
       "\\begin{tabular}{r|llllllllllll}\n",
       " quality & fixed.acidity & volatile.acidity & citric.acid & residual.sugar & chlorides & free.sulfur.dioxide & total.sulfur.dioxide & density & pH & sulphates & alcohol\\\\\n",
       "\\hline\n",
       "\t 6         & 1.013509  & 0.9123497 & 1.0128471 & 2.5369848 & 0.8872316 & 1.1482276 & 1.1744982 & 1.0069847 & 0.9398732 & 0.8946751 & 0.8312637\\\\\n",
       "\t 6         & 0.912158  & 1.0137219 & 0.9565778 & 0.1960954 & 0.9660967 & 0.3572264 & 0.9119633 & 0.9999428 & 1.0338605 & 0.9742018 & 0.8973870\\\\\n",
       "\t 6         & 1.172775  & 0.9461404 & 1.1253857 & 0.8456616 & 0.9858129 & 0.7654851 & 0.6701548 & 1.0010494 & 1.0213289 & 0.8747935 & 0.9540641\\\\\n",
       "\t 6         & 1.042466  & 0.7771868 & 0.9003086 & 1.0417571 & 1.1435430 & 1.1992599 & 1.2850392 & 1.0015524 & 0.9993985 & 0.7952668 & 0.9351717\\\\\n",
       "\t 6         & 1.042466  & 0.7771868 & 0.9003086 & 1.0417571 & 1.1435430 & 1.1992599 & 1.2850392 & 1.0015524 & 0.9993985 & 0.7952668 & 0.9351717\\\\\n",
       "\t 6         & 1.172775  & 0.9461404 & 1.1253857 & 0.8456616 & 0.9858129 & 0.7654851 & 0.6701548 & 1.0010494 & 1.0213289 & 0.8747935 & 0.9540641\\\\\n",
       "\\end{tabular}\n"
      ],
      "text/markdown": [
       "\n",
       "quality | fixed.acidity | volatile.acidity | citric.acid | residual.sugar | chlorides | free.sulfur.dioxide | total.sulfur.dioxide | density | pH | sulphates | alcohol | \n",
       "|---|---|---|---|---|---|\n",
       "| 6         | 1.013509  | 0.9123497 | 1.0128471 | 2.5369848 | 0.8872316 | 1.1482276 | 1.1744982 | 1.0069847 | 0.9398732 | 0.8946751 | 0.8312637 | \n",
       "| 6         | 0.912158  | 1.0137219 | 0.9565778 | 0.1960954 | 0.9660967 | 0.3572264 | 0.9119633 | 0.9999428 | 1.0338605 | 0.9742018 | 0.8973870 | \n",
       "| 6         | 1.172775  | 0.9461404 | 1.1253857 | 0.8456616 | 0.9858129 | 0.7654851 | 0.6701548 | 1.0010494 | 1.0213289 | 0.8747935 | 0.9540641 | \n",
       "| 6         | 1.042466  | 0.7771868 | 0.9003086 | 1.0417571 | 1.1435430 | 1.1992599 | 1.2850392 | 1.0015524 | 0.9993985 | 0.7952668 | 0.9351717 | \n",
       "| 6         | 1.042466  | 0.7771868 | 0.9003086 | 1.0417571 | 1.1435430 | 1.1992599 | 1.2850392 | 1.0015524 | 0.9993985 | 0.7952668 | 0.9351717 | \n",
       "| 6         | 1.172775  | 0.9461404 | 1.1253857 | 0.8456616 | 0.9858129 | 0.7654851 | 0.6701548 | 1.0010494 | 1.0213289 | 0.8747935 | 0.9540641 | \n",
       "\n",
       "\n"
      ],
      "text/plain": [
       "  quality fixed.acidity volatile.acidity citric.acid residual.sugar chlorides\n",
       "1 6       1.013509      0.9123497        1.0128471   2.5369848      0.8872316\n",
       "2 6       0.912158      1.0137219        0.9565778   0.1960954      0.9660967\n",
       "3 6       1.172775      0.9461404        1.1253857   0.8456616      0.9858129\n",
       "4 6       1.042466      0.7771868        0.9003086   1.0417571      1.1435430\n",
       "5 6       1.042466      0.7771868        0.9003086   1.0417571      1.1435430\n",
       "6 6       1.172775      0.9461404        1.1253857   0.8456616      0.9858129\n",
       "  free.sulfur.dioxide total.sulfur.dioxide density   pH        sulphates\n",
       "1 1.1482276           1.1744982            1.0069847 0.9398732 0.8946751\n",
       "2 0.3572264           0.9119633            0.9999428 1.0338605 0.9742018\n",
       "3 0.7654851           0.6701548            1.0010494 1.0213289 0.8747935\n",
       "4 1.1992599           1.2850392            1.0015524 0.9993985 0.7952668\n",
       "5 1.1992599           1.2850392            1.0015524 0.9993985 0.7952668\n",
       "6 0.7654851           0.6701548            1.0010494 1.0213289 0.8747935\n",
       "  alcohol  \n",
       "1 0.8312637\n",
       "2 0.8973870\n",
       "3 0.9540641\n",
       "4 0.9351717\n",
       "5 0.9351717\n",
       "6 0.9540641"
      ]
     },
     "metadata": {},
     "output_type": "display_data"
    }
   ],
   "source": [
    "wine <- rbind(white_scaled, red_scaled)\n",
    "\n",
    "wine_scaled <- wine %>% \n",
    "  select(-quality) %>% \n",
    "  scale(center = FALSE) \n",
    "\n",
    "wine_scaled <- data.frame(quality = wine$quality, wine_scaled)\n",
    "head(wine_scaled)"
   ]
  },
  {
   "cell_type": "code",
   "execution_count": 78,
   "metadata": {},
   "outputs": [
    {
     "data": {
      "text/html": [
       "<table>\n",
       "<thead><tr><th scope=col>quality</th><th scope=col>n</th></tr></thead>\n",
       "<tbody>\n",
       "\t<tr><td>3   </td><td>  30</td></tr>\n",
       "\t<tr><td>4   </td><td> 216</td></tr>\n",
       "\t<tr><td>5   </td><td>2138</td></tr>\n",
       "\t<tr><td>6   </td><td>2836</td></tr>\n",
       "\t<tr><td>7   </td><td>1079</td></tr>\n",
       "\t<tr><td>8   </td><td> 193</td></tr>\n",
       "\t<tr><td>9   </td><td>   5</td></tr>\n",
       "</tbody>\n",
       "</table>\n"
      ],
      "text/latex": [
       "\\begin{tabular}{r|ll}\n",
       " quality & n\\\\\n",
       "\\hline\n",
       "\t 3    &   30\\\\\n",
       "\t 4    &  216\\\\\n",
       "\t 5    & 2138\\\\\n",
       "\t 6    & 2836\\\\\n",
       "\t 7    & 1079\\\\\n",
       "\t 8    &  193\\\\\n",
       "\t 9    &    5\\\\\n",
       "\\end{tabular}\n"
      ],
      "text/markdown": [
       "\n",
       "quality | n | \n",
       "|---|---|---|---|---|---|---|\n",
       "| 3    |   30 | \n",
       "| 4    |  216 | \n",
       "| 5    | 2138 | \n",
       "| 6    | 2836 | \n",
       "| 7    | 1079 | \n",
       "| 8    |  193 | \n",
       "| 9    |    5 | \n",
       "\n",
       "\n"
      ],
      "text/plain": [
       "  quality n   \n",
       "1 3         30\n",
       "2 4        216\n",
       "3 5       2138\n",
       "4 6       2836\n",
       "5 7       1079\n",
       "6 8        193\n",
       "7 9          5"
      ]
     },
     "metadata": {},
     "output_type": "display_data"
    },
    {
     "data": {
      "text/html": [
       "6497"
      ],
      "text/latex": [
       "6497"
      ],
      "text/markdown": [
       "6497"
      ],
      "text/plain": [
       "[1] 6497"
      ]
     },
     "metadata": {},
     "output_type": "display_data"
    }
   ],
   "source": [
    "wine %>% group_by(quality) %>%\n",
    "    summarize(n = n()) \n",
    "\n",
    "nrow(wine)"
   ]
  },
  {
   "cell_type": "code",
   "execution_count": 79,
   "metadata": {},
   "outputs": [
    {
     "data": {
      "image/png": "[encoded data removed]",
      "text/plain": [
       "plot without title"
      ]
     },
     "metadata": {},
     "output_type": "display_data"
    }
   ],
   "source": [
    "wine_quality_factor <- wine %>%\n",
    "    mutate(quality = as.factor(quality))\n",
    "\n",
    "plot_fa <- wine_quality_factor %>% \n",
    "    ggplot(aes(x = quality, y = fixed.acidity)) + \n",
    "    geom_boxplot()\n",
    "\n",
    "plot_va <- wine_quality_factor %>% \n",
    "    ggplot(aes(x = quality, y = volatile.acidity)) +\n",
    "    geom_boxplot()\n",
    "\n",
    "plot_ca <- wine_quality_factor %>% \n",
    "    ggplot(aes(x = quality, y = citric.acid)) +\n",
    "    geom_boxplot()\n",
    "\n",
    "plot_rs <- wine_quality_factor %>%  \n",
    "    ggplot(aes(x = quality, y = residual.sugar)) +\n",
    "    geom_boxplot()\n",
    "\n",
    "plot_cl <- wine_quality_factor %>% \n",
    "    ggplot(aes(x = quality, y = chlorides)) +\n",
    "    geom_boxplot()\n",
    "\n",
    "plot_fsd <- wine_quality_factor %>% \n",
    "    ggplot(aes(x = quality, y = free.sulfur.dioxide)) +\n",
    "    geom_boxplot()\n",
    "\n",
    "plot_tsd <- wine_quality_factor %>% \n",
    "    ggplot(aes(x = quality, y = total.sulfur.dioxide)) +\n",
    "    geom_boxplot()\n",
    "\n",
    "plot_ph <- wine_quality_factor %>%  \n",
    "    ggplot(aes(x = quality, y = pH)) +\n",
    "    geom_boxplot()\n",
    "\n",
    "plot_den <- wine_quality_factor %>% \n",
    "    ggplot(aes(x = quality, y = density)) +\n",
    "    geom_boxplot()\n",
    "\n",
    "plot_alc <- wine_quality_factor %>% \n",
    "    ggplot(aes(x = quality, y = alcohol)) +\n",
    "    geom_boxplot()\n",
    "\n",
    "plot_sulp <- wine_quality_factor %>% \n",
    "    ggplot(aes(x = quality, y = sulphates)) +\n",
    "    geom_boxplot()\n",
    "\n",
    "\n",
    "grid.arrange(plot_fa, plot_va, plot_ca, plot_rs, plot_cl, plot_fsd, plot_tsd, plot_ph, plot_den, plot_alc, plot_sulp, ncol = 4)"
   ]
  },
  {
   "cell_type": "code",
   "execution_count": 80,
   "metadata": {},
   "outputs": [],
   "source": [
    "set.seed(100)\n",
    "\n",
    "training_set <- wine_scaled %>% \n",
    "    select(quality) %>% \n",
    "    unlist() %>% \n",
    "    createDataPartition(p = 0.80, list = FALSE)\n",
    "\n",
    "X_train <- wine_scaled %>% \n",
    "    select(-quality) %>% \n",
    "    slice(training_set) %>% \n",
    "    data.frame()\n",
    "\n",
    "Y_train <- wine_scaled %>% \n",
    "    select(quality) %>% \n",
    "    slice(training_set) %>% \n",
    "    unlist()\n",
    "\n",
    "X_test <- wine_scaled %>% \n",
    "    select(-quality) %>% \n",
    "    slice(-training_set) %>% \n",
    "    data.frame()\n",
    "\n",
    "Y_test <- wine_scaled %>% \n",
    "    select(quality) %>% \n",
    "    slice(-training_set) %>% \n",
    "    unlist()"
   ]
  },
  {
   "cell_type": "code",
   "execution_count": 81,
   "metadata": {},
   "outputs": [
    {
     "data": {
      "text/plain": [
       "k-Nearest Neighbors \n",
       "\n",
       "5199 samples\n",
       "  11 predictor\n",
       "\n",
       "No pre-processing\n",
       "Resampling: Cross-Validated (10 fold) \n",
       "Summary of sample sizes: 4679, 4679, 4680, 4679, 4679, 4680, ... \n",
       "Resampling results across tuning parameters:\n",
       "\n",
       "  k    RMSE       Rsquared   MAE      \n",
       "    1  0.8171025  0.3118837  0.4797143\n",
       "    2  0.7696201  0.3040434  0.5352664\n",
       "    3  0.7557993  0.2992710  0.5475742\n",
       "    4  0.7456174  0.3012091  0.5528122\n",
       "    5  0.7372792  0.3057874  0.5559126\n",
       "    6  0.7316567  0.3082911  0.5575756\n",
       "    7  0.7311063  0.3060243  0.5606138\n",
       "    8  0.7285399  0.3083163  0.5610320\n",
       "    9  0.7259098  0.3111975  0.5593424\n",
       "   10  0.7262560  0.3097519  0.5609385\n",
       "   11  0.7248373  0.3113960  0.5618890\n",
       "   12  0.7260506  0.3086235  0.5639612\n",
       "   13  0.7276222  0.3054416  0.5661678\n",
       "   14  0.7280074  0.3047053  0.5677305\n",
       "   15  0.7260200  0.3083327  0.5678542\n",
       "   16  0.7255055  0.3093734  0.5682200\n",
       "   17  0.7249908  0.3104328  0.5680114\n",
       "   18  0.7259554  0.3087168  0.5686474\n",
       "   19  0.7267922  0.3072817  0.5698147\n",
       "   20  0.7284938  0.3042358  0.5718749\n",
       "   21  0.7294466  0.3025972  0.5726288\n",
       "   22  0.7292988  0.3032447  0.5724385\n",
       "   23  0.7304491  0.3012240  0.5733587\n",
       "   24  0.7299227  0.3026887  0.5733178\n",
       "   25  0.7307303  0.3012326  0.5739057\n",
       "   26  0.7301746  0.3027096  0.5740314\n",
       "   27  0.7302400  0.3030372  0.5743014\n",
       "   28  0.7306347  0.3028115  0.5746542\n",
       "   29  0.7315107  0.3013710  0.5754579\n",
       "   30  0.7326562  0.2992503  0.5765333\n",
       "   31  0.7332536  0.2983208  0.5771944\n",
       "   32  0.7334173  0.2983725  0.5774170\n",
       "   33  0.7336754  0.2981419  0.5780719\n",
       "   34  0.7335800  0.2987989  0.5782885\n",
       "   35  0.7335242  0.2994107  0.5783516\n",
       "   36  0.7339237  0.2987342  0.5788082\n",
       "   37  0.7345616  0.2978301  0.5797330\n",
       "   38  0.7354791  0.2960286  0.5808700\n",
       "   39  0.7361066  0.2948953  0.5815544\n",
       "   40  0.7366442  0.2939765  0.5821006\n",
       "   41  0.7376050  0.2921332  0.5830000\n",
       "   42  0.7380479  0.2914700  0.5831844\n",
       "   43  0.7382691  0.2913128  0.5837058\n",
       "   44  0.7387963  0.2904681  0.5840695\n",
       "   45  0.7389328  0.2904315  0.5845142\n",
       "   46  0.7391495  0.2903818  0.5845919\n",
       "   47  0.7394485  0.2900589  0.5848880\n",
       "   48  0.7397574  0.2897195  0.5853173\n",
       "   49  0.7400414  0.2893915  0.5855755\n",
       "   50  0.7399771  0.2900042  0.5854782\n",
       "   51  0.7400043  0.2903906  0.5857213\n",
       "   52  0.7399393  0.2908672  0.5855812\n",
       "   53  0.7402476  0.2905413  0.5857659\n",
       "   54  0.7405087  0.2902069  0.5859245\n",
       "   55  0.7414659  0.2882860  0.5866719\n",
       "   56  0.7417090  0.2880326  0.5868611\n",
       "   57  0.7420911  0.2874238  0.5870690\n",
       "   58  0.7425205  0.2867377  0.5871801\n",
       "   59  0.7425473  0.2870305  0.5872204\n",
       "   60  0.7431700  0.2858827  0.5877407\n",
       "   61  0.7436084  0.2851654  0.5883029\n",
       "   62  0.7439007  0.2847625  0.5884794\n",
       "   63  0.7443294  0.2840684  0.5889038\n",
       "   64  0.7445680  0.2838660  0.5889681\n",
       "   65  0.7446134  0.2840001  0.5889680\n",
       "   66  0.7447693  0.2839740  0.5891229\n",
       "   67  0.7448754  0.2839086  0.5891226\n",
       "   68  0.7453365  0.2831736  0.5896037\n",
       "   69  0.7458754  0.2822897  0.5898844\n",
       "   70  0.7459702  0.2823843  0.5898768\n",
       "   71  0.7459178  0.2828893  0.5898411\n",
       "   72  0.7462857  0.2822868  0.5900914\n",
       "   73  0.7462959  0.2826218  0.5901276\n",
       "   74  0.7465107  0.2823085  0.5904644\n",
       "   75  0.7466340  0.2822864  0.5905825\n",
       "   76  0.7466667  0.2825316  0.5904737\n",
       "   77  0.7470263  0.2820124  0.5909396\n",
       "   78  0.7470568  0.2822189  0.5910460\n",
       "   79  0.7474344  0.2816658  0.5913857\n",
       "   80  0.7476925  0.2812886  0.5916437\n",
       "   81  0.7477931  0.2814705  0.5918682\n",
       "   82  0.7480383  0.2811830  0.5921960\n",
       "   83  0.7482485  0.2810523  0.5922201\n",
       "   84  0.7485962  0.2805108  0.5925044\n",
       "   85  0.7488423  0.2803166  0.5927896\n",
       "   86  0.7491132  0.2798660  0.5930487\n",
       "   87  0.7492525  0.2798995  0.5929597\n",
       "   88  0.7493644  0.2799414  0.5931890\n",
       "   89  0.7495089  0.2799111  0.5930908\n",
       "   90  0.7499890  0.2790293  0.5934522\n",
       "   91  0.7502297  0.2787256  0.5934820\n",
       "   92  0.7505308  0.2781355  0.5937337\n",
       "   93  0.7508224  0.2777250  0.5939250\n",
       "   94  0.7510655  0.2773915  0.5941317\n",
       "   95  0.7512436  0.2772671  0.5941546\n",
       "   96  0.7516487  0.2765356  0.5944953\n",
       "   97  0.7519371  0.2761646  0.5946841\n",
       "   98  0.7522730  0.2755514  0.5949938\n",
       "   99  0.7525074  0.2752659  0.5951461\n",
       "  100  0.7524172  0.2758804  0.5949788\n",
       "\n",
       "RMSE was used to select the optimal model using the smallest value.\n",
       "The final value used for the model was k = 11."
      ]
     },
     "metadata": {},
     "output_type": "display_data"
    }
   ],
   "source": [
    "set.seed(100)\n",
    "\n",
    "train_control <- trainControl(method = \"cv\", number = 10)\n",
    "\n",
    "k_wine = data.frame(k = seq(from = 1, to = 100, by = 1))\n",
    "\n",
    "knn_wine <- train(x = X_train, y = Y_train, method = \"knn\", tuneGrid = k_wine, trControl = train_control)\n",
    "\n",
    "knn_wine"
   ]
  },
  {
   "cell_type": "code",
   "execution_count": 83,
   "metadata": {},
   "outputs": [
    {
     "data": {
      "text/plain": [
       "k-Nearest Neighbors \n",
       "\n",
       "5199 samples\n",
       "  11 predictor\n",
       "\n",
       "No pre-processing\n",
       "Resampling: Bootstrapped (25 reps) \n",
       "Summary of sample sizes: 5199, 5199, 5199, 5199, 5199, 5199, ... \n",
       "Resampling results:\n",
       "\n",
       "  RMSE       Rsquared   MAE      \n",
       "  0.7558807  0.2650248  0.5824466\n",
       "\n",
       "Tuning parameter 'k' was held constant at a value of 11"
      ]
     },
     "metadata": {},
     "output_type": "display_data"
    }
   ],
   "source": [
    "set.seed(100)\n",
    "\n",
    "k_best <- data.frame(k = 11)\n",
    "knn_wine <- train(x = X_train, y = Y_train, method = \"knn\", tuneGrid = k_best)\n",
    "knn_wine"
   ]
  },
  {
   "cell_type": "code",
   "execution_count": 84,
   "metadata": {},
   "outputs": [
    {
     "data": {
      "text/html": [
       "<table>\n",
       "<thead><tr><th></th><th scope=col>obs</th><th scope=col>pred</th></tr></thead>\n",
       "<tbody>\n",
       "\t<tr><th scope=row>quality1</th><td>6       </td><td>5.454545</td></tr>\n",
       "\t<tr><th scope=row>quality2</th><td>6       </td><td>5.545455</td></tr>\n",
       "\t<tr><th scope=row>quality3</th><td>5       </td><td>5.583333</td></tr>\n",
       "\t<tr><th scope=row>quality4</th><td>6       </td><td>5.909091</td></tr>\n",
       "\t<tr><th scope=row>quality5</th><td>6       </td><td>5.666667</td></tr>\n",
       "\t<tr><th scope=row>quality6</th><td>6       </td><td>6.272727</td></tr>\n",
       "\t<tr><th scope=row>quality7</th><td>5       </td><td>5.333333</td></tr>\n",
       "\t<tr><th scope=row>quality8</th><td>6       </td><td>5.666667</td></tr>\n",
       "\t<tr><th scope=row>quality9</th><td>6       </td><td>5.666667</td></tr>\n",
       "\t<tr><th scope=row>quality10</th><td>6       </td><td>6.272727</td></tr>\n",
       "</tbody>\n",
       "</table>\n"
      ],
      "text/latex": [
       "\\begin{tabular}{r|ll}\n",
       "  & obs & pred\\\\\n",
       "\\hline\n",
       "\tquality1 & 6        & 5.454545\\\\\n",
       "\tquality2 & 6        & 5.545455\\\\\n",
       "\tquality3 & 5        & 5.583333\\\\\n",
       "\tquality4 & 6        & 5.909091\\\\\n",
       "\tquality5 & 6        & 5.666667\\\\\n",
       "\tquality6 & 6        & 6.272727\\\\\n",
       "\tquality7 & 5        & 5.333333\\\\\n",
       "\tquality8 & 6        & 5.666667\\\\\n",
       "\tquality9 & 6        & 5.666667\\\\\n",
       "\tquality10 & 6        & 6.272727\\\\\n",
       "\\end{tabular}\n"
      ],
      "text/markdown": [
       "\n",
       "| <!--/--> | obs | pred | \n",
       "|---|---|---|---|---|---|---|---|---|---|\n",
       "| quality1 | 6        | 5.454545 | \n",
       "| quality2 | 6        | 5.545455 | \n",
       "| quality3 | 5        | 5.583333 | \n",
       "| quality4 | 6        | 5.909091 | \n",
       "| quality5 | 6        | 5.666667 | \n",
       "| quality6 | 6        | 6.272727 | \n",
       "| quality7 | 5        | 5.333333 | \n",
       "| quality8 | 6        | 5.666667 | \n",
       "| quality9 | 6        | 5.666667 | \n",
       "| quality10 | 6        | 6.272727 | \n",
       "\n",
       "\n"
      ],
      "text/plain": [
       "          obs pred    \n",
       "quality1  6   5.454545\n",
       "quality2  6   5.545455\n",
       "quality3  5   5.583333\n",
       "quality4  6   5.909091\n",
       "quality5  6   5.666667\n",
       "quality6  6   6.272727\n",
       "quality7  5   5.333333\n",
       "quality8  6   5.666667\n",
       "quality9  6   5.666667\n",
       "quality10 6   6.272727"
      ]
     },
     "metadata": {},
     "output_type": "display_data"
    },
    {
     "data": {
      "text/html": [
       "<dl class=dl-horizontal>\n",
       "\t<dt>RMSE</dt>\n",
       "\t\t<dd>0.740199413034186</dd>\n",
       "\t<dt>Rsquared</dt>\n",
       "\t\t<dd>0.295062461428352</dd>\n",
       "\t<dt>MAE</dt>\n",
       "\t\t<dd>0.569860891548103</dd>\n",
       "</dl>\n"
      ],
      "text/latex": [
       "\\begin{description*}\n",
       "\\item[RMSE] 0.740199413034186\n",
       "\\item[Rsquared] 0.295062461428352\n",
       "\\item[MAE] 0.569860891548103\n",
       "\\end{description*}\n"
      ],
      "text/markdown": [
       "RMSE\n",
       ":   0.740199413034186Rsquared\n",
       ":   0.295062461428352MAE\n",
       ":   0.569860891548103\n",
       "\n"
      ],
      "text/plain": [
       "     RMSE  Rsquared       MAE \n",
       "0.7401994 0.2950625 0.5698609 "
      ]
     },
     "metadata": {},
     "output_type": "display_data"
    }
   ],
   "source": [
    "set.seed(100)\n",
    "\n",
    "test <- predict(knn_wine, X_test)\n",
    "\n",
    "predictions <- data.frame(obs = Y_test, pred = test)\n",
    "\n",
    "head(predictions, n = 10)\n",
    "test_error <- defaultSummary(predictions)\n",
    "test_error"
   ]
  },
  {
   "cell_type": "markdown",
   "metadata": {},
   "source": [
    "Combining the two wine data sets together and performing knn regression is WORSE than doing them separately, showing that there is a difference in the predictors between red and white wine. "
   ]
  },
  {
   "cell_type": "markdown",
   "metadata": {},
   "source": [
    "### 2.2. Linear Regression"
   ]
  },
  {
   "cell_type": "markdown",
   "metadata": {},
   "source": [
    " - Red Wine"
   ]
  },
  {
   "cell_type": "markdown",
   "metadata": {},
   "source": [
    " - White Wine"
   ]
  },
  {
   "cell_type": "markdown",
   "metadata": {},
   "source": [
    " %% creates a visualization of the classification, regression  or clustering analysis "
   ]
  },
  {
   "cell_type": "markdown",
   "metadata": {},
   "source": [
    "## 3. Discussion"
   ]
  },
  {
   "cell_type": "markdown",
   "metadata": {},
   "source": [
    "%% summarize what you found \n",
    "%% discuss whether this is what you expected to find?\n",
    "%% discuss what impact could such findings have?\n",
    "%% discuss what future questions could this lead to?"
   ]
  },
  {
   "cell_type": "markdown",
   "metadata": {},
   "source": [
    "## 4. Reference"
   ]
  },
  {
   "cell_type": "code",
   "execution_count": null,
   "metadata": {},
   "outputs": [],
   "source": []
  }
 ],
 "metadata": {
  "kernelspec": {
   "display_name": "R",
   "language": "R",
   "name": "ir"
  },
  "language_info": {
   "codemirror_mode": "r",
   "file_extension": ".r",
   "mimetype": "text/x-r-source",
   "name": "R",
   "pygments_lexer": "r",
   "version": "3.4.1"
  }
 },
 "nbformat": 4,
 "nbformat_minor": 2
}
