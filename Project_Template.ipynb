{
 "cells": [
  {
   "cell_type": "markdown",
   "metadata": {},
   "source": [
    "# Quality prediction of white wine and red wine based on physicochemical tests\n"
   ]
  },
  {
   "cell_type": "markdown",
   "metadata": {},
   "source": [
    "## 1. Introduction\n"
   ]
  },
  {
   "cell_type": "markdown",
   "metadata": {},
   "source": [
    "   Wine is an alcoholic beverage made from grapes. White wine and red wine are two variants of wine that is widely known. Red wine is made from dark-colored grape varieties, while white wine is made from non-colored grape pulp (source: Wikipedia https://en.wikipedia.org/wiki/Wine). Physicochemical properties, such as pH and acidity,  influence the tasting and quality of wine. We will focus on predicting the quality of white wine and red wine based on results of physicochemical tests.\n",
    "Two separated datasets will be used in this research, which are related to red and white variants of the Portuguese \"Vinho Verde\" wine. One contains 11 physicochemical parameters (fixed acidity, volatile acidity, citric acid, residual sugar, chlorides, free sulfur dioxide, total sulfur dioxide, density, pH,  sulphates, alcohol) and the quality index (0-10), the other contains the data of red wine.\n"
   ]
  },
  {
   "cell_type": "markdown",
   "metadata": {},
   "source": [
    "## 2. Finding/Conclusion"
   ]
  },
  {
   "cell_type": "markdown",
   "metadata": {},
   "source": [
    " - Best fit model\n"
   ]
  },
  {
   "cell_type": "markdown",
   "metadata": {},
   "source": [
    "## 3. Data "
   ]
  },
  {
   "cell_type": "code",
   "execution_count": 6,
   "metadata": {},
   "outputs": [
    {
     "name": "stderr",
     "output_type": "stream",
     "text": [
      "Updating HTML index of packages in '.Library'\n",
      "Making 'packages.html' ... done\n",
      "Updating HTML index of packages in '.Library'\n",
      "Making 'packages.html' ... done\n",
      "\n",
      "Attaching package: ‘GGally’\n",
      "\n",
      "The following object is masked from ‘package:dplyr’:\n",
      "\n",
      "    nasa\n",
      "\n"
     ]
    }
   ],
   "source": [
    "library(tidyverse)\n",
    "library(testthat)\n",
    "library(digest)\n",
    "library(repr)\n",
    "library(caret)\n",
    "install.packages(\"e1071\")\n",
    "install.packages(\"GGally\")\n",
    "library(e1071)\n",
    "library(GGally)"
   ]
  },
  {
   "cell_type": "code",
   "execution_count": 3,
   "metadata": {},
   "outputs": [
    {
     "data": {
      "text/html": [
       "<table>\n",
       "<thead><tr><th scope=col>fixed.acidity</th><th scope=col>volatile.acidity</th><th scope=col>citric.acid</th><th scope=col>residual.sugar</th><th scope=col>chlorides</th><th scope=col>free.sulfur.dioxide</th><th scope=col>total.sulfur.dioxide</th><th scope=col>density</th><th scope=col>pH</th><th scope=col>sulphates</th><th scope=col>alcohol</th><th scope=col>quality</th></tr></thead>\n",
       "<tbody>\n",
       "\t<tr><td> 7.4  </td><td>0.70  </td><td>0.00  </td><td>1.9   </td><td>0.076 </td><td>11    </td><td>34    </td><td>0.9978</td><td>3.51  </td><td>0.56  </td><td>9.4   </td><td>5     </td></tr>\n",
       "\t<tr><td> 7.8  </td><td>0.88  </td><td>0.00  </td><td>2.6   </td><td>0.098 </td><td>25    </td><td>67    </td><td>0.9968</td><td>3.20  </td><td>0.68  </td><td>9.8   </td><td>5     </td></tr>\n",
       "\t<tr><td> 7.8  </td><td>0.76  </td><td>0.04  </td><td>2.3   </td><td>0.092 </td><td>15    </td><td>54    </td><td>0.9970</td><td>3.26  </td><td>0.65  </td><td>9.8   </td><td>5     </td></tr>\n",
       "\t<tr><td>11.2  </td><td>0.28  </td><td>0.56  </td><td>1.9   </td><td>0.075 </td><td>17    </td><td>60    </td><td>0.9980</td><td>3.16  </td><td>0.58  </td><td>9.8   </td><td>6     </td></tr>\n",
       "\t<tr><td> 7.4  </td><td>0.70  </td><td>0.00  </td><td>1.9   </td><td>0.076 </td><td>11    </td><td>34    </td><td>0.9978</td><td>3.51  </td><td>0.56  </td><td>9.4   </td><td>5     </td></tr>\n",
       "\t<tr><td> 7.4  </td><td>0.66  </td><td>0.00  </td><td>1.8   </td><td>0.075 </td><td>13    </td><td>40    </td><td>0.9978</td><td>3.51  </td><td>0.56  </td><td>9.4   </td><td>5     </td></tr>\n",
       "</tbody>\n",
       "</table>\n"
      ],
      "text/latex": [
       "\\begin{tabular}{r|llllllllllll}\n",
       " fixed.acidity & volatile.acidity & citric.acid & residual.sugar & chlorides & free.sulfur.dioxide & total.sulfur.dioxide & density & pH & sulphates & alcohol & quality\\\\\n",
       "\\hline\n",
       "\t  7.4   & 0.70   & 0.00   & 1.9    & 0.076  & 11     & 34     & 0.9978 & 3.51   & 0.56   & 9.4    & 5     \\\\\n",
       "\t  7.8   & 0.88   & 0.00   & 2.6    & 0.098  & 25     & 67     & 0.9968 & 3.20   & 0.68   & 9.8    & 5     \\\\\n",
       "\t  7.8   & 0.76   & 0.04   & 2.3    & 0.092  & 15     & 54     & 0.9970 & 3.26   & 0.65   & 9.8    & 5     \\\\\n",
       "\t 11.2   & 0.28   & 0.56   & 1.9    & 0.075  & 17     & 60     & 0.9980 & 3.16   & 0.58   & 9.8    & 6     \\\\\n",
       "\t  7.4   & 0.70   & 0.00   & 1.9    & 0.076  & 11     & 34     & 0.9978 & 3.51   & 0.56   & 9.4    & 5     \\\\\n",
       "\t  7.4   & 0.66   & 0.00   & 1.8    & 0.075  & 13     & 40     & 0.9978 & 3.51   & 0.56   & 9.4    & 5     \\\\\n",
       "\\end{tabular}\n"
      ],
      "text/markdown": [
       "\n",
       "fixed.acidity | volatile.acidity | citric.acid | residual.sugar | chlorides | free.sulfur.dioxide | total.sulfur.dioxide | density | pH | sulphates | alcohol | quality | \n",
       "|---|---|---|---|---|---|\n",
       "|  7.4   | 0.70   | 0.00   | 1.9    | 0.076  | 11     | 34     | 0.9978 | 3.51   | 0.56   | 9.4    | 5      | \n",
       "|  7.8   | 0.88   | 0.00   | 2.6    | 0.098  | 25     | 67     | 0.9968 | 3.20   | 0.68   | 9.8    | 5      | \n",
       "|  7.8   | 0.76   | 0.04   | 2.3    | 0.092  | 15     | 54     | 0.9970 | 3.26   | 0.65   | 9.8    | 5      | \n",
       "| 11.2   | 0.28   | 0.56   | 1.9    | 0.075  | 17     | 60     | 0.9980 | 3.16   | 0.58   | 9.8    | 6      | \n",
       "|  7.4   | 0.70   | 0.00   | 1.9    | 0.076  | 11     | 34     | 0.9978 | 3.51   | 0.56   | 9.4    | 5      | \n",
       "|  7.4   | 0.66   | 0.00   | 1.8    | 0.075  | 13     | 40     | 0.9978 | 3.51   | 0.56   | 9.4    | 5      | \n",
       "\n",
       "\n"
      ],
      "text/plain": [
       "  fixed.acidity volatile.acidity citric.acid residual.sugar chlorides\n",
       "1  7.4          0.70             0.00        1.9            0.076    \n",
       "2  7.8          0.88             0.00        2.6            0.098    \n",
       "3  7.8          0.76             0.04        2.3            0.092    \n",
       "4 11.2          0.28             0.56        1.9            0.075    \n",
       "5  7.4          0.70             0.00        1.9            0.076    \n",
       "6  7.4          0.66             0.00        1.8            0.075    \n",
       "  free.sulfur.dioxide total.sulfur.dioxide density pH   sulphates alcohol\n",
       "1 11                  34                   0.9978  3.51 0.56      9.4    \n",
       "2 25                  67                   0.9968  3.20 0.68      9.8    \n",
       "3 15                  54                   0.9970  3.26 0.65      9.8    \n",
       "4 17                  60                   0.9980  3.16 0.58      9.8    \n",
       "5 11                  34                   0.9978  3.51 0.56      9.4    \n",
       "6 13                  40                   0.9978  3.51 0.56      9.4    \n",
       "  quality\n",
       "1 5      \n",
       "2 5      \n",
       "3 5      \n",
       "4 6      \n",
       "5 5      \n",
       "6 5      "
      ]
     },
     "metadata": {},
     "output_type": "display_data"
    },
    {
     "data": {
      "text/html": [
       "<table>\n",
       "<thead><tr><th scope=col>fixed.acidity</th><th scope=col>volatile.acidity</th><th scope=col>citric.acid</th><th scope=col>residual.sugar</th><th scope=col>chlorides</th><th scope=col>free.sulfur.dioxide</th><th scope=col>total.sulfur.dioxide</th><th scope=col>density</th><th scope=col>pH</th><th scope=col>sulphates</th><th scope=col>alcohol</th><th scope=col>quality</th></tr></thead>\n",
       "<tbody>\n",
       "\t<tr><td>7.0   </td><td>0.27  </td><td>0.36  </td><td>20.7  </td><td>0.045 </td><td>45    </td><td>170   </td><td>1.0010</td><td>3.00  </td><td>0.45  </td><td> 8.8  </td><td>6     </td></tr>\n",
       "\t<tr><td>6.3   </td><td>0.30  </td><td>0.34  </td><td> 1.6  </td><td>0.049 </td><td>14    </td><td>132   </td><td>0.9940</td><td>3.30  </td><td>0.49  </td><td> 9.5  </td><td>6     </td></tr>\n",
       "\t<tr><td>8.1   </td><td>0.28  </td><td>0.40  </td><td> 6.9  </td><td>0.050 </td><td>30    </td><td> 97   </td><td>0.9951</td><td>3.26  </td><td>0.44  </td><td>10.1  </td><td>6     </td></tr>\n",
       "\t<tr><td>7.2   </td><td>0.23  </td><td>0.32  </td><td> 8.5  </td><td>0.058 </td><td>47    </td><td>186   </td><td>0.9956</td><td>3.19  </td><td>0.40  </td><td> 9.9  </td><td>6     </td></tr>\n",
       "\t<tr><td>7.2   </td><td>0.23  </td><td>0.32  </td><td> 8.5  </td><td>0.058 </td><td>47    </td><td>186   </td><td>0.9956</td><td>3.19  </td><td>0.40  </td><td> 9.9  </td><td>6     </td></tr>\n",
       "\t<tr><td>8.1   </td><td>0.28  </td><td>0.40  </td><td> 6.9  </td><td>0.050 </td><td>30    </td><td> 97   </td><td>0.9951</td><td>3.26  </td><td>0.44  </td><td>10.1  </td><td>6     </td></tr>\n",
       "</tbody>\n",
       "</table>\n"
      ],
      "text/latex": [
       "\\begin{tabular}{r|llllllllllll}\n",
       " fixed.acidity & volatile.acidity & citric.acid & residual.sugar & chlorides & free.sulfur.dioxide & total.sulfur.dioxide & density & pH & sulphates & alcohol & quality\\\\\n",
       "\\hline\n",
       "\t 7.0    & 0.27   & 0.36   & 20.7   & 0.045  & 45     & 170    & 1.0010 & 3.00   & 0.45   &  8.8   & 6     \\\\\n",
       "\t 6.3    & 0.30   & 0.34   &  1.6   & 0.049  & 14     & 132    & 0.9940 & 3.30   & 0.49   &  9.5   & 6     \\\\\n",
       "\t 8.1    & 0.28   & 0.40   &  6.9   & 0.050  & 30     &  97    & 0.9951 & 3.26   & 0.44   & 10.1   & 6     \\\\\n",
       "\t 7.2    & 0.23   & 0.32   &  8.5   & 0.058  & 47     & 186    & 0.9956 & 3.19   & 0.40   &  9.9   & 6     \\\\\n",
       "\t 7.2    & 0.23   & 0.32   &  8.5   & 0.058  & 47     & 186    & 0.9956 & 3.19   & 0.40   &  9.9   & 6     \\\\\n",
       "\t 8.1    & 0.28   & 0.40   &  6.9   & 0.050  & 30     &  97    & 0.9951 & 3.26   & 0.44   & 10.1   & 6     \\\\\n",
       "\\end{tabular}\n"
      ],
      "text/markdown": [
       "\n",
       "fixed.acidity | volatile.acidity | citric.acid | residual.sugar | chlorides | free.sulfur.dioxide | total.sulfur.dioxide | density | pH | sulphates | alcohol | quality | \n",
       "|---|---|---|---|---|---|\n",
       "| 7.0    | 0.27   | 0.36   | 20.7   | 0.045  | 45     | 170    | 1.0010 | 3.00   | 0.45   |  8.8   | 6      | \n",
       "| 6.3    | 0.30   | 0.34   |  1.6   | 0.049  | 14     | 132    | 0.9940 | 3.30   | 0.49   |  9.5   | 6      | \n",
       "| 8.1    | 0.28   | 0.40   |  6.9   | 0.050  | 30     |  97    | 0.9951 | 3.26   | 0.44   | 10.1   | 6      | \n",
       "| 7.2    | 0.23   | 0.32   |  8.5   | 0.058  | 47     | 186    | 0.9956 | 3.19   | 0.40   |  9.9   | 6      | \n",
       "| 7.2    | 0.23   | 0.32   |  8.5   | 0.058  | 47     | 186    | 0.9956 | 3.19   | 0.40   |  9.9   | 6      | \n",
       "| 8.1    | 0.28   | 0.40   |  6.9   | 0.050  | 30     |  97    | 0.9951 | 3.26   | 0.44   | 10.1   | 6      | \n",
       "\n",
       "\n"
      ],
      "text/plain": [
       "  fixed.acidity volatile.acidity citric.acid residual.sugar chlorides\n",
       "1 7.0           0.27             0.36        20.7           0.045    \n",
       "2 6.3           0.30             0.34         1.6           0.049    \n",
       "3 8.1           0.28             0.40         6.9           0.050    \n",
       "4 7.2           0.23             0.32         8.5           0.058    \n",
       "5 7.2           0.23             0.32         8.5           0.058    \n",
       "6 8.1           0.28             0.40         6.9           0.050    \n",
       "  free.sulfur.dioxide total.sulfur.dioxide density pH   sulphates alcohol\n",
       "1 45                  170                  1.0010  3.00 0.45       8.8   \n",
       "2 14                  132                  0.9940  3.30 0.49       9.5   \n",
       "3 30                   97                  0.9951  3.26 0.44      10.1   \n",
       "4 47                  186                  0.9956  3.19 0.40       9.9   \n",
       "5 47                  186                  0.9956  3.19 0.40       9.9   \n",
       "6 30                   97                  0.9951  3.26 0.44      10.1   \n",
       "  quality\n",
       "1 6      \n",
       "2 6      \n",
       "3 6      \n",
       "4 6      \n",
       "5 6      \n",
       "6 6      "
      ]
     },
     "metadata": {},
     "output_type": "display_data"
    }
   ],
   "source": [
    "# Import Red wine data\n",
    "red_data <- read.csv(\"winequality-red.csv\", sep = \";\") \n",
    "head(red_data)\n",
    "# Import white wine data\n",
    "white_data <- read.csv(\"winequality-white.csv\", sep = \";\")\n",
    "head(white_data)"
   ]
  },
  {
   "cell_type": "code",
   "execution_count": 14,
   "metadata": {},
   "outputs": [
    {
     "data": {
      "text/html": [
       "<table>\n",
       "<thead><tr><th scope=col>quality</th><th scope=col>fixed.acidity</th><th scope=col>volatile.acidity</th><th scope=col>citric.acid</th><th scope=col>residual.sugar</th><th scope=col>chlorides</th><th scope=col>free.sulfur.dioxide</th><th scope=col>total.sulfur.dioxide</th><th scope=col>density</th><th scope=col>pH</th><th scope=col>sulphates</th><th scope=col>alcohol</th></tr></thead>\n",
       "<tbody>\n",
       "\t<tr><td>5        </td><td>0.8703407</td><td>1.255555 </td><td>0.0000000</td><td>0.6541052</td><td>0.7649761</td><td>0.5784783</td><td>0.5970695</td><td>1.0007419</td><td>1.0585855</td><td>0.8237400</td><td>0.8968984</td></tr>\n",
       "\t<tr><td>5        </td><td>0.9173862</td><td>1.578412 </td><td>0.0000000</td><td>0.8950914</td><td>0.9864165</td><td>1.3147233</td><td>1.1765782</td><td>0.9997389</td><td>0.9650922</td><td>1.0002557</td><td>0.9350642</td></tr>\n",
       "\t<tr><td>5        </td><td>0.9173862</td><td>1.363174 </td><td>0.1198329</td><td>0.7918116</td><td>0.9260236</td><td>0.7888340</td><td>0.9482869</td><td>0.9999395</td><td>0.9831877</td><td>0.9561268</td><td>0.9350642</td></tr>\n",
       "\t<tr><td>6        </td><td>1.3172725</td><td>0.502222 </td><td>1.6776605</td><td>0.6541052</td><td>0.7549106</td><td>0.8940119</td><td>1.0536521</td><td>1.0009425</td><td>0.9530286</td><td>0.8531593</td><td>0.9350642</td></tr>\n",
       "\t<tr><td>5        </td><td>0.8703407</td><td>1.255555 </td><td>0.0000000</td><td>0.6541052</td><td>0.7649761</td><td>0.5784783</td><td>0.5970695</td><td>1.0007419</td><td>1.0585855</td><td>0.8237400</td><td>0.8968984</td></tr>\n",
       "\t<tr><td>5        </td><td>0.8703407</td><td>1.183809 </td><td>0.0000000</td><td>0.6196787</td><td>0.7549106</td><td>0.6836561</td><td>0.7024347</td><td>1.0007419</td><td>1.0585855</td><td>0.8237400</td><td>0.8968984</td></tr>\n",
       "</tbody>\n",
       "</table>\n"
      ],
      "text/latex": [
       "\\begin{tabular}{r|llllllllllll}\n",
       " quality & fixed.acidity & volatile.acidity & citric.acid & residual.sugar & chlorides & free.sulfur.dioxide & total.sulfur.dioxide & density & pH & sulphates & alcohol\\\\\n",
       "\\hline\n",
       "\t 5         & 0.8703407 & 1.255555  & 0.0000000 & 0.6541052 & 0.7649761 & 0.5784783 & 0.5970695 & 1.0007419 & 1.0585855 & 0.8237400 & 0.8968984\\\\\n",
       "\t 5         & 0.9173862 & 1.578412  & 0.0000000 & 0.8950914 & 0.9864165 & 1.3147233 & 1.1765782 & 0.9997389 & 0.9650922 & 1.0002557 & 0.9350642\\\\\n",
       "\t 5         & 0.9173862 & 1.363174  & 0.1198329 & 0.7918116 & 0.9260236 & 0.7888340 & 0.9482869 & 0.9999395 & 0.9831877 & 0.9561268 & 0.9350642\\\\\n",
       "\t 6         & 1.3172725 & 0.502222  & 1.6776605 & 0.6541052 & 0.7549106 & 0.8940119 & 1.0536521 & 1.0009425 & 0.9530286 & 0.8531593 & 0.9350642\\\\\n",
       "\t 5         & 0.8703407 & 1.255555  & 0.0000000 & 0.6541052 & 0.7649761 & 0.5784783 & 0.5970695 & 1.0007419 & 1.0585855 & 0.8237400 & 0.8968984\\\\\n",
       "\t 5         & 0.8703407 & 1.183809  & 0.0000000 & 0.6196787 & 0.7549106 & 0.6836561 & 0.7024347 & 1.0007419 & 1.0585855 & 0.8237400 & 0.8968984\\\\\n",
       "\\end{tabular}\n"
      ],
      "text/markdown": [
       "\n",
       "quality | fixed.acidity | volatile.acidity | citric.acid | residual.sugar | chlorides | free.sulfur.dioxide | total.sulfur.dioxide | density | pH | sulphates | alcohol | \n",
       "|---|---|---|---|---|---|\n",
       "| 5         | 0.8703407 | 1.255555  | 0.0000000 | 0.6541052 | 0.7649761 | 0.5784783 | 0.5970695 | 1.0007419 | 1.0585855 | 0.8237400 | 0.8968984 | \n",
       "| 5         | 0.9173862 | 1.578412  | 0.0000000 | 0.8950914 | 0.9864165 | 1.3147233 | 1.1765782 | 0.9997389 | 0.9650922 | 1.0002557 | 0.9350642 | \n",
       "| 5         | 0.9173862 | 1.363174  | 0.1198329 | 0.7918116 | 0.9260236 | 0.7888340 | 0.9482869 | 0.9999395 | 0.9831877 | 0.9561268 | 0.9350642 | \n",
       "| 6         | 1.3172725 | 0.502222  | 1.6776605 | 0.6541052 | 0.7549106 | 0.8940119 | 1.0536521 | 1.0009425 | 0.9530286 | 0.8531593 | 0.9350642 | \n",
       "| 5         | 0.8703407 | 1.255555  | 0.0000000 | 0.6541052 | 0.7649761 | 0.5784783 | 0.5970695 | 1.0007419 | 1.0585855 | 0.8237400 | 0.8968984 | \n",
       "| 5         | 0.8703407 | 1.183809  | 0.0000000 | 0.6196787 | 0.7549106 | 0.6836561 | 0.7024347 | 1.0007419 | 1.0585855 | 0.8237400 | 0.8968984 | \n",
       "\n",
       "\n"
      ],
      "text/plain": [
       "  quality fixed.acidity volatile.acidity citric.acid residual.sugar chlorides\n",
       "1 5       0.8703407     1.255555         0.0000000   0.6541052      0.7649761\n",
       "2 5       0.9173862     1.578412         0.0000000   0.8950914      0.9864165\n",
       "3 5       0.9173862     1.363174         0.1198329   0.7918116      0.9260236\n",
       "4 6       1.3172725     0.502222         1.6776605   0.6541052      0.7549106\n",
       "5 5       0.8703407     1.255555         0.0000000   0.6541052      0.7649761\n",
       "6 5       0.8703407     1.183809         0.0000000   0.6196787      0.7549106\n",
       "  free.sulfur.dioxide total.sulfur.dioxide density   pH        sulphates\n",
       "1 0.5784783           0.5970695            1.0007419 1.0585855 0.8237400\n",
       "2 1.3147233           1.1765782            0.9997389 0.9650922 1.0002557\n",
       "3 0.7888340           0.9482869            0.9999395 0.9831877 0.9561268\n",
       "4 0.8940119           1.0536521            1.0009425 0.9530286 0.8531593\n",
       "5 0.5784783           0.5970695            1.0007419 1.0585855 0.8237400\n",
       "6 0.6836561           0.7024347            1.0007419 1.0585855 0.8237400\n",
       "  alcohol  \n",
       "1 0.8968984\n",
       "2 0.9350642\n",
       "3 0.9350642\n",
       "4 0.9350642\n",
       "5 0.8968984\n",
       "6 0.8968984"
      ]
     },
     "metadata": {},
     "output_type": "display_data"
    },
    {
     "data": {
      "text/html": [
       "<table>\n",
       "<thead><tr><th scope=col>quality</th><th scope=col>fixed.acidity</th><th scope=col>volatile.acidity</th><th scope=col>citric.acid</th><th scope=col>residual.sugar</th><th scope=col>chlorides</th><th scope=col>free.sulfur.dioxide</th><th scope=col>total.sulfur.dioxide</th><th scope=col>density</th><th scope=col>pH</th><th scope=col>sulphates</th><th scope=col>alcohol</th></tr></thead>\n",
       "<tbody>\n",
       "\t<tr><td>6        </td><td>1.0134309</td><td>0.9122795</td><td>1.0127692</td><td>2.5367895</td><td>0.8871633</td><td>1.1481392</td><td>1.1744078</td><td>1.0069072</td><td>0.9398009</td><td>0.8946063</td><td>0.8311998</td></tr>\n",
       "\t<tr><td>6        </td><td>0.9120878</td><td>1.0136438</td><td>0.9565042</td><td>0.1960804</td><td>0.9660223</td><td>0.3571989</td><td>0.9118931</td><td>0.9998658</td><td>1.0337810</td><td>0.9741268</td><td>0.8973179</td></tr>\n",
       "\t<tr><td>6        </td><td>1.1726843</td><td>0.9460676</td><td>1.1252991</td><td>0.8455965</td><td>0.9857370</td><td>0.7654261</td><td>0.6701032</td><td>1.0009723</td><td>1.0212503</td><td>0.8747261</td><td>0.9539906</td></tr>\n",
       "\t<tr><td>6        </td><td>1.0423861</td><td>0.7771269</td><td>0.9002393</td><td>1.0416769</td><td>1.1434550</td><td>1.1991676</td><td>1.2849402</td><td>1.0014753</td><td>0.9993216</td><td>0.7952056</td><td>0.9350997</td></tr>\n",
       "\t<tr><td>6        </td><td>1.0423861</td><td>0.7771269</td><td>0.9002393</td><td>1.0416769</td><td>1.1434550</td><td>1.1991676</td><td>1.2849402</td><td>1.0014753</td><td>0.9993216</td><td>0.7952056</td><td>0.9350997</td></tr>\n",
       "\t<tr><td>6        </td><td>1.1726843</td><td>0.9460676</td><td>1.1252991</td><td>0.8455965</td><td>0.9857370</td><td>0.7654261</td><td>0.6701032</td><td>1.0009723</td><td>1.0212503</td><td>0.8747261</td><td>0.9539906</td></tr>\n",
       "</tbody>\n",
       "</table>\n"
      ],
      "text/latex": [
       "\\begin{tabular}{r|llllllllllll}\n",
       " quality & fixed.acidity & volatile.acidity & citric.acid & residual.sugar & chlorides & free.sulfur.dioxide & total.sulfur.dioxide & density & pH & sulphates & alcohol\\\\\n",
       "\\hline\n",
       "\t 6         & 1.0134309 & 0.9122795 & 1.0127692 & 2.5367895 & 0.8871633 & 1.1481392 & 1.1744078 & 1.0069072 & 0.9398009 & 0.8946063 & 0.8311998\\\\\n",
       "\t 6         & 0.9120878 & 1.0136438 & 0.9565042 & 0.1960804 & 0.9660223 & 0.3571989 & 0.9118931 & 0.9998658 & 1.0337810 & 0.9741268 & 0.8973179\\\\\n",
       "\t 6         & 1.1726843 & 0.9460676 & 1.1252991 & 0.8455965 & 0.9857370 & 0.7654261 & 0.6701032 & 1.0009723 & 1.0212503 & 0.8747261 & 0.9539906\\\\\n",
       "\t 6         & 1.0423861 & 0.7771269 & 0.9002393 & 1.0416769 & 1.1434550 & 1.1991676 & 1.2849402 & 1.0014753 & 0.9993216 & 0.7952056 & 0.9350997\\\\\n",
       "\t 6         & 1.0423861 & 0.7771269 & 0.9002393 & 1.0416769 & 1.1434550 & 1.1991676 & 1.2849402 & 1.0014753 & 0.9993216 & 0.7952056 & 0.9350997\\\\\n",
       "\t 6         & 1.1726843 & 0.9460676 & 1.1252991 & 0.8455965 & 0.9857370 & 0.7654261 & 0.6701032 & 1.0009723 & 1.0212503 & 0.8747261 & 0.9539906\\\\\n",
       "\\end{tabular}\n"
      ],
      "text/markdown": [
       "\n",
       "quality | fixed.acidity | volatile.acidity | citric.acid | residual.sugar | chlorides | free.sulfur.dioxide | total.sulfur.dioxide | density | pH | sulphates | alcohol | \n",
       "|---|---|---|---|---|---|\n",
       "| 6         | 1.0134309 | 0.9122795 | 1.0127692 | 2.5367895 | 0.8871633 | 1.1481392 | 1.1744078 | 1.0069072 | 0.9398009 | 0.8946063 | 0.8311998 | \n",
       "| 6         | 0.9120878 | 1.0136438 | 0.9565042 | 0.1960804 | 0.9660223 | 0.3571989 | 0.9118931 | 0.9998658 | 1.0337810 | 0.9741268 | 0.8973179 | \n",
       "| 6         | 1.1726843 | 0.9460676 | 1.1252991 | 0.8455965 | 0.9857370 | 0.7654261 | 0.6701032 | 1.0009723 | 1.0212503 | 0.8747261 | 0.9539906 | \n",
       "| 6         | 1.0423861 | 0.7771269 | 0.9002393 | 1.0416769 | 1.1434550 | 1.1991676 | 1.2849402 | 1.0014753 | 0.9993216 | 0.7952056 | 0.9350997 | \n",
       "| 6         | 1.0423861 | 0.7771269 | 0.9002393 | 1.0416769 | 1.1434550 | 1.1991676 | 1.2849402 | 1.0014753 | 0.9993216 | 0.7952056 | 0.9350997 | \n",
       "| 6         | 1.1726843 | 0.9460676 | 1.1252991 | 0.8455965 | 0.9857370 | 0.7654261 | 0.6701032 | 1.0009723 | 1.0212503 | 0.8747261 | 0.9539906 | \n",
       "\n",
       "\n"
      ],
      "text/plain": [
       "  quality fixed.acidity volatile.acidity citric.acid residual.sugar chlorides\n",
       "1 6       1.0134309     0.9122795        1.0127692   2.5367895      0.8871633\n",
       "2 6       0.9120878     1.0136438        0.9565042   0.1960804      0.9660223\n",
       "3 6       1.1726843     0.9460676        1.1252991   0.8455965      0.9857370\n",
       "4 6       1.0423861     0.7771269        0.9002393   1.0416769      1.1434550\n",
       "5 6       1.0423861     0.7771269        0.9002393   1.0416769      1.1434550\n",
       "6 6       1.1726843     0.9460676        1.1252991   0.8455965      0.9857370\n",
       "  free.sulfur.dioxide total.sulfur.dioxide density   pH        sulphates\n",
       "1 1.1481392           1.1744078            1.0069072 0.9398009 0.8946063\n",
       "2 0.3571989           0.9118931            0.9998658 1.0337810 0.9741268\n",
       "3 0.7654261           0.6701032            1.0009723 1.0212503 0.8747261\n",
       "4 1.1991676           1.2849402            1.0014753 0.9993216 0.7952056\n",
       "5 1.1991676           1.2849402            1.0014753 0.9993216 0.7952056\n",
       "6 0.7654261           0.6701032            1.0009723 1.0212503 0.8747261\n",
       "  alcohol  \n",
       "1 0.8311998\n",
       "2 0.8973179\n",
       "3 0.9539906\n",
       "4 0.9350997\n",
       "5 0.9350997\n",
       "6 0.9539906"
      ]
     },
     "metadata": {},
     "output_type": "display_data"
    }
   ],
   "source": [
    "# Scale the data\n",
    "red_scaled <- red_data %>% \n",
    "  select(-quality) %>% \n",
    "  scale(center = FALSE) \n",
    "red_scaled <- data.frame(quality = red_data$quality, red_scaled)\n",
    "head(red_scaled)\n",
    "white_scaled <- white_data %>% \n",
    "  select(-quality) %>% \n",
    "  scale(center = FALSE) \n",
    "white_scaled <- data.frame(quality = white_data$quality, white_scaled)\n",
    "head(white_scaled)"
   ]
  },
  {
   "cell_type": "code",
   "execution_count": 9,
   "metadata": {},
   "outputs": [
    {
     "data": {
      "text/html": [
       "<table>\n",
       "<thead><tr><th scope=col>quality</th><th scope=col>n</th></tr></thead>\n",
       "<tbody>\n",
       "\t<tr><td>3  </td><td> 10</td></tr>\n",
       "\t<tr><td>4  </td><td> 53</td></tr>\n",
       "\t<tr><td>5  </td><td>681</td></tr>\n",
       "\t<tr><td>6  </td><td>638</td></tr>\n",
       "\t<tr><td>7  </td><td>199</td></tr>\n",
       "\t<tr><td>8  </td><td> 18</td></tr>\n",
       "</tbody>\n",
       "</table>\n"
      ],
      "text/latex": [
       "\\begin{tabular}{r|ll}\n",
       " quality & n\\\\\n",
       "\\hline\n",
       "\t 3   &  10\\\\\n",
       "\t 4   &  53\\\\\n",
       "\t 5   & 681\\\\\n",
       "\t 6   & 638\\\\\n",
       "\t 7   & 199\\\\\n",
       "\t 8   &  18\\\\\n",
       "\\end{tabular}\n"
      ],
      "text/markdown": [
       "\n",
       "quality | n | \n",
       "|---|---|---|---|---|---|\n",
       "| 3   |  10 | \n",
       "| 4   |  53 | \n",
       "| 5   | 681 | \n",
       "| 6   | 638 | \n",
       "| 7   | 199 | \n",
       "| 8   |  18 | \n",
       "\n",
       "\n"
      ],
      "text/plain": [
       "  quality n  \n",
       "1 3        10\n",
       "2 4        53\n",
       "3 5       681\n",
       "4 6       638\n",
       "5 7       199\n",
       "6 8        18"
      ]
     },
     "metadata": {},
     "output_type": "display_data"
    },
    {
     "data": {
      "text/html": [
       "1599"
      ],
      "text/latex": [
       "1599"
      ],
      "text/markdown": [
       "1599"
      ],
      "text/plain": [
       "[1] 1599"
      ]
     },
     "metadata": {},
     "output_type": "display_data"
    },
    {
     "data": {
      "text/html": [
       "<table>\n",
       "<thead><tr><th scope=col>quality</th><th scope=col>n</th></tr></thead>\n",
       "<tbody>\n",
       "\t<tr><td>3   </td><td>  20</td></tr>\n",
       "\t<tr><td>4   </td><td> 163</td></tr>\n",
       "\t<tr><td>5   </td><td>1457</td></tr>\n",
       "\t<tr><td>6   </td><td>2198</td></tr>\n",
       "\t<tr><td>7   </td><td> 880</td></tr>\n",
       "\t<tr><td>8   </td><td> 175</td></tr>\n",
       "\t<tr><td>9   </td><td>   5</td></tr>\n",
       "</tbody>\n",
       "</table>\n"
      ],
      "text/latex": [
       "\\begin{tabular}{r|ll}\n",
       " quality & n\\\\\n",
       "\\hline\n",
       "\t 3    &   20\\\\\n",
       "\t 4    &  163\\\\\n",
       "\t 5    & 1457\\\\\n",
       "\t 6    & 2198\\\\\n",
       "\t 7    &  880\\\\\n",
       "\t 8    &  175\\\\\n",
       "\t 9    &    5\\\\\n",
       "\\end{tabular}\n"
      ],
      "text/markdown": [
       "\n",
       "quality | n | \n",
       "|---|---|---|---|---|---|---|\n",
       "| 3    |   20 | \n",
       "| 4    |  163 | \n",
       "| 5    | 1457 | \n",
       "| 6    | 2198 | \n",
       "| 7    |  880 | \n",
       "| 8    |  175 | \n",
       "| 9    |    5 | \n",
       "\n",
       "\n"
      ],
      "text/plain": [
       "  quality n   \n",
       "1 3         20\n",
       "2 4        163\n",
       "3 5       1457\n",
       "4 6       2198\n",
       "5 7        880\n",
       "6 8        175\n",
       "7 9          5"
      ]
     },
     "metadata": {},
     "output_type": "display_data"
    },
    {
     "data": {
      "text/html": [
       "4898"
      ],
      "text/latex": [
       "4898"
      ],
      "text/markdown": [
       "4898"
      ],
      "text/plain": [
       "[1] 4898"
      ]
     },
     "metadata": {},
     "output_type": "display_data"
    }
   ],
   "source": [
    "# See the distribution of quality level\n",
    "red_data %>% \n",
    "    group_by(quality) %>%\n",
    "    summarize(n = n()) \n",
    "nrow(red_data)\n",
    "white_data %>%\n",
    "    group_by(quality) %>%\n",
    "    summarize(n=n()) \n",
    "nrow(white_data)\n"
   ]
  },
  {
   "cell_type": "markdown",
   "metadata": {},
   "source": [
    "From the table above we can see that every observation has a quality level (i.e. no observation with quality unknown)."
   ]
  },
  {
   "cell_type": "markdown",
   "metadata": {},
   "source": [
    "## 3.  Knn Regression "
   ]
  },
  {
   "cell_type": "markdown",
   "metadata": {},
   "source": [
    " - Red Wine"
   ]
  },
  {
   "cell_type": "markdown",
   "metadata": {},
   "source": [
    " - White Wine"
   ]
  },
  {
   "cell_type": "markdown",
   "metadata": {},
   "source": [
    "## 4. Linear Regression"
   ]
  },
  {
   "cell_type": "markdown",
   "metadata": {},
   "source": [
    " - Red Wine"
   ]
  },
  {
   "cell_type": "markdown",
   "metadata": {},
   "source": [
    " - White Wine"
   ]
  },
  {
   "cell_type": "code",
   "execution_count": null,
   "metadata": {},
   "outputs": [],
   "source": []
  }
 ],
 "metadata": {
  "kernelspec": {
   "display_name": "R",
   "language": "R",
   "name": "ir"
  },
  "language_info": {
   "codemirror_mode": "r",
   "file_extension": ".r",
   "mimetype": "text/x-r-source",
   "name": "R",
   "pygments_lexer": "r",
   "version": "3.4.1"
  }
 },
 "nbformat": 4,
 "nbformat_minor": 2
}
