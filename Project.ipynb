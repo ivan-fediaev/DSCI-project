{
 "cells": [
  {
   "cell_type": "code",
   "execution_count": 2,
   "metadata": {},
   "outputs": [
    {
     "name": "stderr",
     "output_type": "stream",
     "text": [
      "Loading tidyverse: ggplot2\n",
      "Loading tidyverse: tibble\n",
      "Loading tidyverse: tidyr\n",
      "Loading tidyverse: readr\n",
      "Loading tidyverse: purrr\n",
      "Loading tidyverse: dplyr\n",
      "Conflicts with tidy packages ---------------------------------------------------\n",
      "filter(): dplyr, stats\n",
      "lag():    dplyr, stats\n",
      "\n",
      "Attaching package: ‘testthat’\n",
      "\n",
      "The following object is masked from ‘package:dplyr’:\n",
      "\n",
      "    matches\n",
      "\n",
      "The following object is masked from ‘package:purrr’:\n",
      "\n",
      "    is_null\n",
      "\n",
      "Loading required package: lattice\n",
      "\n",
      "Attaching package: ‘caret’\n",
      "\n",
      "The following object is masked from ‘package:purrr’:\n",
      "\n",
      "    lift\n",
      "\n",
      "Updating HTML index of packages in '.Library'\n",
      "Making 'packages.html' ... done\n"
     ]
    }
   ],
   "source": [
    "library(tidyverse)\n",
    "library(testthat)\n",
    "library(digest)\n",
    "library(repr)\n",
    "library(caret)\n",
    "install.packages(\"e1071\")"
   ]
  },
  {
   "cell_type": "markdown",
   "metadata": {},
   "source": [
    "Reading the data into R using read.csv with a comma delimiter. "
   ]
  },
  {
   "cell_type": "code",
   "execution_count": 3,
   "metadata": {},
   "outputs": [
    {
     "data": {
      "text/html": [
       "<table>\n",
       "<thead><tr><th scope=col>fixed.acidity</th><th scope=col>volatile.acidity</th><th scope=col>citric.acid</th><th scope=col>residual.sugar</th><th scope=col>chlorides</th><th scope=col>free.sulfur.dioxide</th><th scope=col>total.sulfur.dioxide</th><th scope=col>density</th><th scope=col>pH</th><th scope=col>sulphates</th><th scope=col>alcohol</th><th scope=col>quality</th></tr></thead>\n",
       "<tbody>\n",
       "\t<tr><td> 7.4  </td><td>0.70  </td><td>0.00  </td><td>1.9   </td><td>0.076 </td><td>11    </td><td>34    </td><td>0.9978</td><td>3.51  </td><td>0.56  </td><td>9.4   </td><td>5     </td></tr>\n",
       "\t<tr><td> 7.8  </td><td>0.88  </td><td>0.00  </td><td>2.6   </td><td>0.098 </td><td>25    </td><td>67    </td><td>0.9968</td><td>3.20  </td><td>0.68  </td><td>9.8   </td><td>5     </td></tr>\n",
       "\t<tr><td> 7.8  </td><td>0.76  </td><td>0.04  </td><td>2.3   </td><td>0.092 </td><td>15    </td><td>54    </td><td>0.9970</td><td>3.26  </td><td>0.65  </td><td>9.8   </td><td>5     </td></tr>\n",
       "\t<tr><td>11.2  </td><td>0.28  </td><td>0.56  </td><td>1.9   </td><td>0.075 </td><td>17    </td><td>60    </td><td>0.9980</td><td>3.16  </td><td>0.58  </td><td>9.8   </td><td>6     </td></tr>\n",
       "\t<tr><td> 7.4  </td><td>0.70  </td><td>0.00  </td><td>1.9   </td><td>0.076 </td><td>11    </td><td>34    </td><td>0.9978</td><td>3.51  </td><td>0.56  </td><td>9.4   </td><td>5     </td></tr>\n",
       "\t<tr><td> 7.4  </td><td>0.66  </td><td>0.00  </td><td>1.8   </td><td>0.075 </td><td>13    </td><td>40    </td><td>0.9978</td><td>3.51  </td><td>0.56  </td><td>9.4   </td><td>5     </td></tr>\n",
       "</tbody>\n",
       "</table>\n"
      ],
      "text/latex": [
       "\\begin{tabular}{r|llllllllllll}\n",
       " fixed.acidity & volatile.acidity & citric.acid & residual.sugar & chlorides & free.sulfur.dioxide & total.sulfur.dioxide & density & pH & sulphates & alcohol & quality\\\\\n",
       "\\hline\n",
       "\t  7.4   & 0.70   & 0.00   & 1.9    & 0.076  & 11     & 34     & 0.9978 & 3.51   & 0.56   & 9.4    & 5     \\\\\n",
       "\t  7.8   & 0.88   & 0.00   & 2.6    & 0.098  & 25     & 67     & 0.9968 & 3.20   & 0.68   & 9.8    & 5     \\\\\n",
       "\t  7.8   & 0.76   & 0.04   & 2.3    & 0.092  & 15     & 54     & 0.9970 & 3.26   & 0.65   & 9.8    & 5     \\\\\n",
       "\t 11.2   & 0.28   & 0.56   & 1.9    & 0.075  & 17     & 60     & 0.9980 & 3.16   & 0.58   & 9.8    & 6     \\\\\n",
       "\t  7.4   & 0.70   & 0.00   & 1.9    & 0.076  & 11     & 34     & 0.9978 & 3.51   & 0.56   & 9.4    & 5     \\\\\n",
       "\t  7.4   & 0.66   & 0.00   & 1.8    & 0.075  & 13     & 40     & 0.9978 & 3.51   & 0.56   & 9.4    & 5     \\\\\n",
       "\\end{tabular}\n"
      ],
      "text/markdown": [
       "\n",
       "fixed.acidity | volatile.acidity | citric.acid | residual.sugar | chlorides | free.sulfur.dioxide | total.sulfur.dioxide | density | pH | sulphates | alcohol | quality | \n",
       "|---|---|---|---|---|---|\n",
       "|  7.4   | 0.70   | 0.00   | 1.9    | 0.076  | 11     | 34     | 0.9978 | 3.51   | 0.56   | 9.4    | 5      | \n",
       "|  7.8   | 0.88   | 0.00   | 2.6    | 0.098  | 25     | 67     | 0.9968 | 3.20   | 0.68   | 9.8    | 5      | \n",
       "|  7.8   | 0.76   | 0.04   | 2.3    | 0.092  | 15     | 54     | 0.9970 | 3.26   | 0.65   | 9.8    | 5      | \n",
       "| 11.2   | 0.28   | 0.56   | 1.9    | 0.075  | 17     | 60     | 0.9980 | 3.16   | 0.58   | 9.8    | 6      | \n",
       "|  7.4   | 0.70   | 0.00   | 1.9    | 0.076  | 11     | 34     | 0.9978 | 3.51   | 0.56   | 9.4    | 5      | \n",
       "|  7.4   | 0.66   | 0.00   | 1.8    | 0.075  | 13     | 40     | 0.9978 | 3.51   | 0.56   | 9.4    | 5      | \n",
       "\n",
       "\n"
      ],
      "text/plain": [
       "  fixed.acidity volatile.acidity citric.acid residual.sugar chlorides\n",
       "1  7.4          0.70             0.00        1.9            0.076    \n",
       "2  7.8          0.88             0.00        2.6            0.098    \n",
       "3  7.8          0.76             0.04        2.3            0.092    \n",
       "4 11.2          0.28             0.56        1.9            0.075    \n",
       "5  7.4          0.70             0.00        1.9            0.076    \n",
       "6  7.4          0.66             0.00        1.8            0.075    \n",
       "  free.sulfur.dioxide total.sulfur.dioxide density pH   sulphates alcohol\n",
       "1 11                  34                   0.9978  3.51 0.56      9.4    \n",
       "2 25                  67                   0.9968  3.20 0.68      9.8    \n",
       "3 15                  54                   0.9970  3.26 0.65      9.8    \n",
       "4 17                  60                   0.9980  3.16 0.58      9.8    \n",
       "5 11                  34                   0.9978  3.51 0.56      9.4    \n",
       "6 13                  40                   0.9978  3.51 0.56      9.4    \n",
       "  quality\n",
       "1 5      \n",
       "2 5      \n",
       "3 5      \n",
       "4 6      \n",
       "5 5      \n",
       "6 5      "
      ]
     },
     "metadata": {},
     "output_type": "display_data"
    }
   ],
   "source": [
    "red_data <- read.csv(\"winequality-red.csv\", sep = \";\") \n",
    "head(red_data)"
   ]
  },
  {
   "cell_type": "markdown",
   "metadata": {},
   "source": [
    "The data is already tidy, so there is no need to do anything to it."
   ]
  },
  {
   "cell_type": "markdown",
   "metadata": {},
   "source": [
    "Partitioning the data into training and testing sets. "
   ]
  },
  {
   "cell_type": "code",
   "execution_count": 4,
   "metadata": {},
   "outputs": [],
   "source": [
    "set.seed(100)\n",
    "\n",
    "training_set <- red_data %>% \n",
    "    select(quality) %>% \n",
    "    unlist() %>% \n",
    "    createDataPartition(p = 0.75, list = FALSE)\n",
    "\n",
    "X_train <- red_data %>% \n",
    "    select(-density, -quality) %>% \n",
    "    slice(training_set) %>% \n",
    "    data.frame()\n",
    "\n",
    "Y_train <- red_data %>% \n",
    "    select(quality) %>% \n",
    "    slice(training_set) %>% \n",
    "    unlist()\n",
    "\n",
    "X_test <- red_data %>% \n",
    "    select(-density, -quality) %>% \n",
    "    slice(-training_set) %>% \n",
    "    data.frame()\n",
    "\n",
    "Y_test <- red_data %>% \n",
    "    select(quality) %>% \n",
    "    slice(-training_set) %>% \n",
    "    unlist()\n",
    "\n",
    "citric <- red_data %>% \n",
    "    select(citric.acid) %>% \n",
    "    min() %>% \n",
    "    max() %>% \n",
    "    mean() %>% \n",
    "    median()\n",
    "\n",
    "citric <- red_data %>% \n",
    "    select(citric.acid) %>% \n",
    "    max()\n"
   ]
  },
  {
   "cell_type": "markdown",
   "metadata": {},
   "source": [
    "Selecting the best value of k to use."
   ]
  },
  {
   "cell_type": "code",
   "execution_count": 5,
   "metadata": {},
   "outputs": [
    {
     "data": {
      "text/plain": [
       "k-Nearest Neighbors \n",
       "\n",
       "1200 samples\n",
       "  10 predictor\n",
       "\n",
       "No pre-processing\n",
       "Resampling: Cross-Validated (10 fold) \n",
       "Summary of sample sizes: 1080, 1080, 1080, 1079, 1080, 1080, ... \n",
       "Resampling results across tuning parameters:\n",
       "\n",
       "  k    RMSE       Rsquared    MAE      \n",
       "    1  0.8622696  0.17627422  0.5333063\n",
       "    2  0.7869634  0.17569629  0.5595983\n",
       "    3  0.7713734  0.16383159  0.5710962\n",
       "    4  0.7648516  0.15536581  0.5796962\n",
       "    5  0.7515361  0.16144076  0.5778731\n",
       "    6  0.7474851  0.16131368  0.5793297\n",
       "    7  0.7471562  0.15843604  0.5798052\n",
       "    8  0.7487238  0.15262095  0.5818425\n",
       "    9  0.7457168  0.15364922  0.5774423\n",
       "   10  0.7448809  0.15168333  0.5797007\n",
       "   11  0.7420889  0.15596624  0.5790597\n",
       "   12  0.7406330  0.15845307  0.5793459\n",
       "   13  0.7425765  0.15331659  0.5813389\n",
       "   14  0.7403749  0.15687714  0.5781765\n",
       "   15  0.7419765  0.15311638  0.5792016\n",
       "   16  0.7428998  0.15032830  0.5810589\n",
       "   17  0.7421178  0.15260770  0.5810477\n",
       "   18  0.7406806  0.15536631  0.5812315\n",
       "   19  0.7416701  0.15390857  0.5824398\n",
       "   20  0.7408004  0.15674067  0.5832641\n",
       "   21  0.7395969  0.15964309  0.5828084\n",
       "   22  0.7400833  0.15896866  0.5828599\n",
       "   23  0.7405385  0.15768367  0.5843535\n",
       "   24  0.7405924  0.15715601  0.5854783\n",
       "   25  0.7424484  0.15359466  0.5869704\n",
       "   26  0.7426330  0.15249475  0.5867579\n",
       "   27  0.7420824  0.15359621  0.5867263\n",
       "   28  0.7431101  0.15109725  0.5872516\n",
       "   29  0.7422003  0.15400351  0.5866917\n",
       "   30  0.7446248  0.14716624  0.5885616\n",
       "   31  0.7460046  0.14382296  0.5901378\n",
       "   32  0.7467278  0.14276304  0.5912845\n",
       "   33  0.7467793  0.14373278  0.5923025\n",
       "   34  0.7470561  0.14320092  0.5927040\n",
       "   35  0.7475202  0.14280070  0.5931594\n",
       "   36  0.7496488  0.13741465  0.5943745\n",
       "   37  0.7496847  0.13701387  0.5949202\n",
       "   38  0.7496795  0.13668177  0.5949396\n",
       "   39  0.7496948  0.13707063  0.5957030\n",
       "   40  0.7499114  0.13690331  0.5963758\n",
       "   41  0.7496557  0.13766101  0.5958362\n",
       "   42  0.7501098  0.13611867  0.5967164\n",
       "   43  0.7496463  0.13764807  0.5962611\n",
       "   44  0.7505057  0.13527359  0.5971711\n",
       "   45  0.7508604  0.13438781  0.5977805\n",
       "   46  0.7510651  0.13383393  0.5978377\n",
       "   47  0.7510754  0.13372266  0.5982046\n",
       "   48  0.7511854  0.13360441  0.5985582\n",
       "   49  0.7521103  0.13058854  0.5988831\n",
       "   50  0.7524929  0.12972414  0.5993624\n",
       "   51  0.7534793  0.12632877  0.5999536\n",
       "   52  0.7534236  0.12680909  0.6007535\n",
       "   53  0.7542530  0.12452471  0.6015867\n",
       "   54  0.7546661  0.12338722  0.6018213\n",
       "   55  0.7542702  0.12484223  0.6017692\n",
       "   56  0.7541000  0.12538550  0.6022412\n",
       "   57  0.7550384  0.12267483  0.6033964\n",
       "   58  0.7555281  0.12155857  0.6042769\n",
       "   59  0.7557696  0.12038486  0.6044161\n",
       "   60  0.7558495  0.12048805  0.6046987\n",
       "   61  0.7561909  0.11995004  0.6053868\n",
       "   62  0.7571488  0.11771676  0.6063095\n",
       "   63  0.7572875  0.11714535  0.6061501\n",
       "   64  0.7571826  0.11749941  0.6059634\n",
       "   65  0.7576747  0.11590513  0.6065878\n",
       "   66  0.7580689  0.11482581  0.6067244\n",
       "   67  0.7581020  0.11495774  0.6069039\n",
       "   68  0.7584664  0.11415961  0.6070429\n",
       "   69  0.7589948  0.11257971  0.6076159\n",
       "   70  0.7593640  0.11163354  0.6084532\n",
       "   71  0.7592087  0.11229776  0.6087602\n",
       "   72  0.7598181  0.11092352  0.6091942\n",
       "   73  0.7596757  0.11148650  0.6090628\n",
       "   74  0.7595654  0.11217863  0.6091748\n",
       "   75  0.7598631  0.11139579  0.6097862\n",
       "   76  0.7601923  0.11076200  0.6103921\n",
       "   77  0.7606121  0.10989528  0.6107333\n",
       "   78  0.7612755  0.10819733  0.6117598\n",
       "   79  0.7617953  0.10679168  0.6122700\n",
       "   80  0.7615846  0.10741447  0.6122117\n",
       "   81  0.7616653  0.10727798  0.6123864\n",
       "   82  0.7622995  0.10587523  0.6129499\n",
       "   83  0.7624451  0.10544231  0.6132714\n",
       "   84  0.7632496  0.10355683  0.6141955\n",
       "   85  0.7633499  0.10346237  0.6146032\n",
       "   86  0.7632281  0.10403456  0.6147839\n",
       "   87  0.7635436  0.10332121  0.6151791\n",
       "   88  0.7638077  0.10305484  0.6154684\n",
       "   89  0.7642900  0.10158736  0.6161709\n",
       "   90  0.7645794  0.10062714  0.6164180\n",
       "   91  0.7648388  0.09979482  0.6166451\n",
       "   92  0.7651345  0.09920027  0.6171472\n",
       "   93  0.7651490  0.09921379  0.6174802\n",
       "   94  0.7658847  0.09718660  0.6184412\n",
       "   95  0.7663021  0.09598980  0.6190813\n",
       "   96  0.7665465  0.09517378  0.6192754\n",
       "   97  0.7667724  0.09503615  0.6198093\n",
       "   98  0.7669173  0.09497623  0.6202752\n",
       "   99  0.7676273  0.09275368  0.6210842\n",
       "  100  0.7677154  0.09233167  0.6212273\n",
       "\n",
       "RMSE was used to select the optimal model using the smallest value.\n",
       "The final value used for the model was k = 21."
      ]
     },
     "metadata": {},
     "output_type": "display_data"
    }
   ],
   "source": [
    "train_control <- trainControl(method = \"cv\", number = 10)\n",
    "k = data.frame(k = seq(from = 1, to = 100, by = 1))\n",
    "\n",
    "knn <- train(x = X_train, y = Y_train, method = \"knn\", tuneGrid = k, trControl = train_control)\n",
    "knn"
   ]
  },
  {
   "cell_type": "markdown",
   "metadata": {},
   "source": [
    "The plot of k vs RMSE"
   ]
  },
  {
   "cell_type": "code",
   "execution_count": 6,
   "metadata": {},
   "outputs": [
    {
     "data": {},
     "metadata": {},
     "output_type": "display_data"
    },
    {
     "data": {
      "image/png": "[encoded data removed]",
      "text/plain": [
       "plot without title"
      ]
     },
     "metadata": {},
     "output_type": "display_data"
    }
   ],
   "source": [
    "options(repr.plot.width = 4, repr.plot.height = 4)\n",
    "\n",
    "k_accuracies <- knn$results\n",
    "\n",
    "RMSE_plot <- knn %>% \n",
    "    ggplot(aes(x = k, y = RMSE)) + \n",
    "    geom_point() +\n",
    "    geom_line() +\n",
    "    xlab(\"K Value\") + \n",
    "    ylab(\"RMSE\")\n",
    "\n",
    "RMSE_plot"
   ]
  },
  {
   "cell_type": "markdown",
   "metadata": {},
   "source": [
    "We will select k = 21 to train our model because k is the smallest k value that give the smallest RMSE."
   ]
  },
  {
   "cell_type": "code",
   "execution_count": 7,
   "metadata": {},
   "outputs": [
    {
     "data": {
      "text/plain": [
       "k-Nearest Neighbors \n",
       "\n",
       "1200 samples\n",
       "  10 predictor\n",
       "\n",
       "No pre-processing\n",
       "Resampling: Bootstrapped (25 reps) \n",
       "Summary of sample sizes: 1200, 1200, 1200, 1200, 1200, 1200, ... \n",
       "Resampling results:\n",
       "\n",
       "  RMSE     Rsquared   MAE      \n",
       "  0.78228  0.1191443  0.6005299\n",
       "\n",
       "Tuning parameter 'k' was held constant at a value of 7"
      ]
     },
     "metadata": {},
     "output_type": "display_data"
    }
   ],
   "source": [
    "k_best <- data.frame(k = 7)\n",
    "knn_red <- train(x = X_train, y = Y_train, method = \"knn\", tuneGrid = k_best)\n",
    "knn_red"
   ]
  },
  {
   "cell_type": "markdown",
   "metadata": {},
   "source": [
    "Testing the model onto the test data."
   ]
  },
  {
   "cell_type": "code",
   "execution_count": 8,
   "metadata": {
    "scrolled": true
   },
   "outputs": [
    {
     "data": {
      "text/html": [
       "<table>\n",
       "<thead><tr><th></th><th scope=col>obs</th><th scope=col>pred</th></tr></thead>\n",
       "<tbody>\n",
       "\t<tr><th scope=row>quality1</th><td>5       </td><td>5.476190</td></tr>\n",
       "\t<tr><th scope=row>quality2</th><td>5       </td><td>5.428571</td></tr>\n",
       "\t<tr><th scope=row>quality3</th><td>5       </td><td>5.363636</td></tr>\n",
       "\t<tr><th scope=row>quality4</th><td>5       </td><td>5.428571</td></tr>\n",
       "\t<tr><th scope=row>quality5</th><td>5       </td><td>5.523810</td></tr>\n",
       "\t<tr><th scope=row>quality6</th><td>7       </td><td>5.285714</td></tr>\n",
       "\t<tr><th scope=row>quality7</th><td>4       </td><td>5.476190</td></tr>\n",
       "\t<tr><th scope=row>quality8</th><td>5       </td><td>5.476190</td></tr>\n",
       "\t<tr><th scope=row>quality9</th><td>5       </td><td>5.333333</td></tr>\n",
       "\t<tr><th scope=row>quality10</th><td>6       </td><td>5.590909</td></tr>\n",
       "</tbody>\n",
       "</table>\n"
      ],
      "text/latex": [
       "\\begin{tabular}{r|ll}\n",
       "  & obs & pred\\\\\n",
       "\\hline\n",
       "\tquality1 & 5        & 5.476190\\\\\n",
       "\tquality2 & 5        & 5.428571\\\\\n",
       "\tquality3 & 5        & 5.363636\\\\\n",
       "\tquality4 & 5        & 5.428571\\\\\n",
       "\tquality5 & 5        & 5.523810\\\\\n",
       "\tquality6 & 7        & 5.285714\\\\\n",
       "\tquality7 & 4        & 5.476190\\\\\n",
       "\tquality8 & 5        & 5.476190\\\\\n",
       "\tquality9 & 5        & 5.333333\\\\\n",
       "\tquality10 & 6        & 5.590909\\\\\n",
       "\\end{tabular}\n"
      ],
      "text/markdown": [
       "\n",
       "| <!--/--> | obs | pred | \n",
       "|---|---|---|---|---|---|---|---|---|---|\n",
       "| quality1 | 5        | 5.476190 | \n",
       "| quality2 | 5        | 5.428571 | \n",
       "| quality3 | 5        | 5.363636 | \n",
       "| quality4 | 5        | 5.428571 | \n",
       "| quality5 | 5        | 5.523810 | \n",
       "| quality6 | 7        | 5.285714 | \n",
       "| quality7 | 4        | 5.476190 | \n",
       "| quality8 | 5        | 5.476190 | \n",
       "| quality9 | 5        | 5.333333 | \n",
       "| quality10 | 6        | 5.590909 | \n",
       "\n",
       "\n"
      ],
      "text/plain": [
       "          obs pred    \n",
       "quality1  5   5.476190\n",
       "quality2  5   5.428571\n",
       "quality3  5   5.363636\n",
       "quality4  5   5.428571\n",
       "quality5  5   5.523810\n",
       "quality6  7   5.285714\n",
       "quality7  4   5.476190\n",
       "quality8  5   5.476190\n",
       "quality9  5   5.333333\n",
       "quality10 6   5.590909"
      ]
     },
     "metadata": {},
     "output_type": "display_data"
    }
   ],
   "source": [
    "k <- data.frame(k = 21)\n",
    "knn_21 <- train(x = X_train, y = Y_train, method = \"knn\", tuneGrid = k)\n",
    "\n",
    "test <- predict(knn_21, X_test)\n",
    "\n",
    "predictions <- data.frame(obs = Y_test, pred = test)\n",
    "\n",
    "head(predictions, n = 10)"
   ]
  },
  {
   "cell_type": "code",
   "execution_count": 9,
   "metadata": {},
   "outputs": [
    {
     "data": {
      "text/html": [
       "<dl class=dl-horizontal>\n",
       "\t<dt>RMSE</dt>\n",
       "\t\t<dd>0.750092009457794</dd>\n",
       "\t<dt>Rsquared</dt>\n",
       "\t\t<dd>0.173536054588473</dd>\n",
       "\t<dt>MAE</dt>\n",
       "\t\t<dd>0.58644210752743</dd>\n",
       "</dl>\n"
      ],
      "text/latex": [
       "\\begin{description*}\n",
       "\\item[RMSE] 0.750092009457794\n",
       "\\item[Rsquared] 0.173536054588473\n",
       "\\item[MAE] 0.58644210752743\n",
       "\\end{description*}\n"
      ],
      "text/markdown": [
       "RMSE\n",
       ":   0.750092009457794Rsquared\n",
       ":   0.173536054588473MAE\n",
       ":   0.58644210752743\n",
       "\n"
      ],
      "text/plain": [
       "     RMSE  Rsquared       MAE \n",
       "0.7500920 0.1735361 0.5864421 "
      ]
     },
     "metadata": {},
     "output_type": "display_data"
    }
   ],
   "source": [
    "test_error <- defaultSummary(predictions)\n",
    "test_error"
   ]
  },
  {
   "cell_type": "markdown",
   "metadata": {},
   "source": [
    "The min and max wine qualities in the testing set. "
   ]
  },
  {
   "cell_type": "code",
   "execution_count": 10,
   "metadata": {},
   "outputs": [
    {
     "data": {
      "text/html": [
       "3"
      ],
      "text/latex": [
       "3"
      ],
      "text/markdown": [
       "3"
      ],
      "text/plain": [
       "[1] 3"
      ]
     },
     "metadata": {},
     "output_type": "display_data"
    },
    {
     "data": {
      "text/html": [
       "8"
      ],
      "text/latex": [
       "8"
      ],
      "text/markdown": [
       "8"
      ],
      "text/plain": [
       "[1] 8"
      ]
     },
     "metadata": {},
     "output_type": "display_data"
    },
    {
     "data": {
      "text/html": [
       "0.150018401891559"
      ],
      "text/latex": [
       "0.150018401891559"
      ],
      "text/markdown": [
       "0.150018401891559"
      ],
      "text/plain": [
       "[1] 0.1500184"
      ]
     },
     "metadata": {},
     "output_type": "display_data"
    }
   ],
   "source": [
    "min(Y_test)\n",
    "max(Y_test)\n",
    "\n",
    "error_ratio <- 0.750092009457794/(8-3)\n",
    "error_ratio"
   ]
  },
  {
   "cell_type": "markdown",
   "metadata": {},
   "source": [
    "Let's try to reduce this error. "
   ]
  },
  {
   "cell_type": "code",
   "execution_count": 11,
   "metadata": {},
   "outputs": [
    {
     "data": {
      "text/html": [
       "<table>\n",
       "<thead><tr><th scope=col>quality</th><th scope=col>residual.sugar</th><th scope=col>chlorides</th><th scope=col>pH</th><th scope=col>sulphates</th><th scope=col>acidity.ratio</th><th scope=col>sulfur.dioxide.ratio</th><th scope=col>alcohol.percent</th></tr></thead>\n",
       "<tbody>\n",
       "\t<tr><td>5        </td><td>0.6541052</td><td>0.7649761</td><td>1.0585855</td><td>0.8237400</td><td>1.2983699</td><td>0.7841759</td><td>0.8968984</td></tr>\n",
       "\t<tr><td>5        </td><td>0.8950914</td><td>0.9864165</td><td>0.9650922</td><td>1.0002557</td><td>1.5485320</td><td>0.9044091</td><td>0.9350642</td></tr>\n",
       "\t<tr><td>5        </td><td>0.7918116</td><td>0.9260236</td><td>0.9831877</td><td>0.9561268</td><td>1.3373685</td><td>0.6732824</td><td>0.9350642</td></tr>\n",
       "\t<tr><td>6        </td><td>0.6541052</td><td>0.7549106</td><td>0.9530286</td><td>0.8531593</td><td>0.3431406</td><td>0.6867480</td><td>0.9350642</td></tr>\n",
       "\t<tr><td>5        </td><td>0.6541052</td><td>0.7649761</td><td>1.0585855</td><td>0.8237400</td><td>1.2983699</td><td>0.7841759</td><td>0.8968984</td></tr>\n",
       "\t<tr><td>5        </td><td>0.6196787</td><td>0.7549106</td><td>1.0585855</td><td>0.8237400</td><td>1.2241773</td><td>0.7877404</td><td>0.8968984</td></tr>\n",
       "</tbody>\n",
       "</table>\n"
      ],
      "text/latex": [
       "\\begin{tabular}{r|llllllll}\n",
       " quality & residual.sugar & chlorides & pH & sulphates & acidity.ratio & sulfur.dioxide.ratio & alcohol.percent\\\\\n",
       "\\hline\n",
       "\t 5         & 0.6541052 & 0.7649761 & 1.0585855 & 0.8237400 & 1.2983699 & 0.7841759 & 0.8968984\\\\\n",
       "\t 5         & 0.8950914 & 0.9864165 & 0.9650922 & 1.0002557 & 1.5485320 & 0.9044091 & 0.9350642\\\\\n",
       "\t 5         & 0.7918116 & 0.9260236 & 0.9831877 & 0.9561268 & 1.3373685 & 0.6732824 & 0.9350642\\\\\n",
       "\t 6         & 0.6541052 & 0.7549106 & 0.9530286 & 0.8531593 & 0.3431406 & 0.6867480 & 0.9350642\\\\\n",
       "\t 5         & 0.6541052 & 0.7649761 & 1.0585855 & 0.8237400 & 1.2983699 & 0.7841759 & 0.8968984\\\\\n",
       "\t 5         & 0.6196787 & 0.7549106 & 1.0585855 & 0.8237400 & 1.2241773 & 0.7877404 & 0.8968984\\\\\n",
       "\\end{tabular}\n"
      ],
      "text/markdown": [
       "\n",
       "quality | residual.sugar | chlorides | pH | sulphates | acidity.ratio | sulfur.dioxide.ratio | alcohol.percent | \n",
       "|---|---|---|---|---|---|\n",
       "| 5         | 0.6541052 | 0.7649761 | 1.0585855 | 0.8237400 | 1.2983699 | 0.7841759 | 0.8968984 | \n",
       "| 5         | 0.8950914 | 0.9864165 | 0.9650922 | 1.0002557 | 1.5485320 | 0.9044091 | 0.9350642 | \n",
       "| 5         | 0.7918116 | 0.9260236 | 0.9831877 | 0.9561268 | 1.3373685 | 0.6732824 | 0.9350642 | \n",
       "| 6         | 0.6541052 | 0.7549106 | 0.9530286 | 0.8531593 | 0.3431406 | 0.6867480 | 0.9350642 | \n",
       "| 5         | 0.6541052 | 0.7649761 | 1.0585855 | 0.8237400 | 1.2983699 | 0.7841759 | 0.8968984 | \n",
       "| 5         | 0.6196787 | 0.7549106 | 1.0585855 | 0.8237400 | 1.2241773 | 0.7877404 | 0.8968984 | \n",
       "\n",
       "\n"
      ],
      "text/plain": [
       "  quality residual.sugar chlorides pH        sulphates acidity.ratio\n",
       "1 5       0.6541052      0.7649761 1.0585855 0.8237400 1.2983699    \n",
       "2 5       0.8950914      0.9864165 0.9650922 1.0002557 1.5485320    \n",
       "3 5       0.7918116      0.9260236 0.9831877 0.9561268 1.3373685    \n",
       "4 6       0.6541052      0.7549106 0.9530286 0.8531593 0.3431406    \n",
       "5 5       0.6541052      0.7649761 1.0585855 0.8237400 1.2983699    \n",
       "6 5       0.6196787      0.7549106 1.0585855 0.8237400 1.2241773    \n",
       "  sulfur.dioxide.ratio alcohol.percent\n",
       "1 0.7841759            0.8968984      \n",
       "2 0.9044091            0.9350642      \n",
       "3 0.6732824            0.9350642      \n",
       "4 0.6867480            0.9350642      \n",
       "5 0.7841759            0.8968984      \n",
       "6 0.7877404            0.8968984      "
      ]
     },
     "metadata": {},
     "output_type": "display_data"
    }
   ],
   "source": [
    "red_data_new <- red_data %>% \n",
    "    mutate(acidity.ratio = volatile.acidity/fixed.acidity) %>% \n",
    "    mutate(sulfur.dioxide.ratio = free.sulfur.dioxide/total.sulfur.dioxide) %>% \n",
    "    mutate(alcohol.percent = alcohol / 100) %>%\n",
    "    select(residual.sugar, chlorides, pH, sulphates, acidity.ratio, sulfur.dioxide.ratio, alcohol.percent, quality)\n",
    "\n",
    "red_scaled <- red_data_new %>% \n",
    "  select(-quality) %>% \n",
    "  scale(center = FALSE) \n",
    "\n",
    "red_scaled <- data.frame(quality = red_data_new$quality, red_scaled)\n",
    "\n",
    "\n",
    "head(red_scaled)"
   ]
  },
  {
   "cell_type": "code",
   "execution_count": 12,
   "metadata": {},
   "outputs": [],
   "source": [
    "scaled_training <- red_scaled %>% \n",
    "    select(quality) %>% \n",
    "    unlist() %>% \n",
    "    createDataPartition(p = 0.75, list = FALSE)\n",
    "\n",
    "X_train_scaled <- red_scaled %>% \n",
    "    select(-quality) %>% \n",
    "    slice(scaled_training) %>% \n",
    "    data.frame()\n",
    "\n",
    "Y_train_scaled <- red_scaled %>% \n",
    "    select(quality) %>% \n",
    "    slice(scaled_training) %>% \n",
    "    unlist()\n",
    "\n",
    "X_test_scaled <- red_scaled %>% \n",
    "    select(-quality) %>% \n",
    "    slice(-scaled_training) %>% \n",
    "    data.frame()\n",
    "\n",
    "Y_test_scaled <- red_scaled %>% \n",
    "    select(quality) %>% \n",
    "    slice(-scaled_training) %>% \n",
    "    unlist()\n"
   ]
  },
  {
   "cell_type": "code",
   "execution_count": 13,
   "metadata": {},
   "outputs": [
    {
     "data": {
      "text/plain": [
       "k-Nearest Neighbors \n",
       "\n",
       "1200 samples\n",
       "   7 predictor\n",
       "\n",
       "No pre-processing\n",
       "Resampling: Cross-Validated (10 fold) \n",
       "Summary of sample sizes: 1080, 1080, 1079, 1081, 1079, 1080, ... \n",
       "Resampling results across tuning parameters:\n",
       "\n",
       "  k    RMSE       Rsquared   MAE      \n",
       "    1  0.8172561  0.2362216  0.4892225\n",
       "    2  0.7315586  0.2627760  0.5112246\n",
       "    3  0.7064718  0.2756695  0.5158191\n",
       "    4  0.6940732  0.2823546  0.5208362\n",
       "    5  0.6934413  0.2782345  0.5272258\n",
       "    6  0.6930565  0.2747148  0.5347977\n",
       "    7  0.6957543  0.2673089  0.5409992\n",
       "    8  0.6917114  0.2712345  0.5380810\n",
       "    9  0.6899355  0.2736233  0.5390304\n",
       "   10  0.6901013  0.2725102  0.5396278\n",
       "   11  0.6871285  0.2775392  0.5403957\n",
       "   12  0.6845870  0.2822221  0.5395412\n",
       "   13  0.6822220  0.2868489  0.5372141\n",
       "   14  0.6818967  0.2875368  0.5387511\n",
       "   15  0.6804674  0.2913263  0.5377497\n",
       "   16  0.6820762  0.2870026  0.5407308\n",
       "   17  0.6814840  0.2890714  0.5405789\n",
       "   18  0.6830342  0.2864845  0.5426574\n",
       "   19  0.6835582  0.2858134  0.5436735\n",
       "   20  0.6833477  0.2867221  0.5454635\n",
       "   21  0.6839691  0.2854381  0.5466550\n",
       "   22  0.6836453  0.2863184  0.5462172\n",
       "   23  0.6844096  0.2842958  0.5480897\n",
       "   24  0.6826741  0.2887370  0.5474082\n",
       "   25  0.6822169  0.2901354  0.5474797\n",
       "   26  0.6832082  0.2883205  0.5483257\n",
       "   27  0.6841324  0.2860415  0.5496373\n",
       "   28  0.6842296  0.2860592  0.5496980\n",
       "   29  0.6856812  0.2827039  0.5509182\n",
       "   30  0.6849302  0.2846545  0.5507602\n",
       "   31  0.6846595  0.2854261  0.5510548\n",
       "   32  0.6844797  0.2860958  0.5506373\n",
       "   33  0.6845514  0.2863586  0.5510558\n",
       "   34  0.6845464  0.2864374  0.5518241\n",
       "   35  0.6847084  0.2860528  0.5525661\n",
       "   36  0.6860428  0.2832778  0.5538698\n",
       "   37  0.6867524  0.2816684  0.5546108\n",
       "   38  0.6865617  0.2821954  0.5548843\n",
       "   39  0.6873040  0.2803289  0.5555908\n",
       "   40  0.6872880  0.2805200  0.5561027\n",
       "   41  0.6878760  0.2798049  0.5565356\n",
       "   42  0.6886404  0.2781264  0.5574123\n",
       "   43  0.6890018  0.2774955  0.5580381\n",
       "   44  0.6898171  0.2757422  0.5585279\n",
       "   45  0.6907443  0.2736076  0.5591829\n",
       "   46  0.6910081  0.2733180  0.5597022\n",
       "   47  0.6912332  0.2729119  0.5596187\n",
       "   48  0.6906705  0.2746194  0.5590686\n",
       "   49  0.6912317  0.2735105  0.5598769\n",
       "   50  0.6913097  0.2735477  0.5598037\n",
       "   51  0.6922659  0.2713726  0.5609252\n",
       "   52  0.6923375  0.2714930  0.5612696\n",
       "   53  0.6918189  0.2729008  0.5611824\n",
       "   54  0.6920793  0.2725074  0.5609609\n",
       "   55  0.6918681  0.2730786  0.5610434\n",
       "   56  0.6922145  0.2725185  0.5615071\n",
       "   57  0.6918810  0.2735718  0.5609438\n",
       "   58  0.6918847  0.2739655  0.5610171\n",
       "   59  0.6919205  0.2741061  0.5610219\n",
       "   60  0.6922567  0.2734470  0.5613671\n",
       "   61  0.6925330  0.2727536  0.5615282\n",
       "   62  0.6924691  0.2730342  0.5613882\n",
       "   63  0.6923239  0.2737030  0.5614445\n",
       "   64  0.6930302  0.2719367  0.5622862\n",
       "   65  0.6930339  0.2721676  0.5622261\n",
       "   66  0.6930827  0.2724223  0.5622916\n",
       "   67  0.6931000  0.2727654  0.5626252\n",
       "   68  0.6931304  0.2728488  0.5626702\n",
       "   69  0.6934661  0.2722060  0.5630669\n",
       "   70  0.6942453  0.2704242  0.5633678\n",
       "   71  0.6945793  0.2699231  0.5634459\n",
       "   72  0.6939351  0.2715742  0.5628929\n",
       "   73  0.6941940  0.2710036  0.5630652\n",
       "   74  0.6946013  0.2702081  0.5633263\n",
       "   75  0.6950428  0.2691573  0.5636286\n",
       "   76  0.6956591  0.2676883  0.5642857\n",
       "   77  0.6957104  0.2680604  0.5641444\n",
       "   78  0.6956257  0.2684163  0.5640649\n",
       "   79  0.6961712  0.2673837  0.5647653\n",
       "   80  0.6960567  0.2680608  0.5649465\n",
       "   81  0.6967239  0.2668073  0.5655310\n",
       "   82  0.6970880  0.2658599  0.5658475\n",
       "   83  0.6972250  0.2658043  0.5658629\n",
       "   84  0.6974794  0.2652931  0.5660458\n",
       "   85  0.6977397  0.2647473  0.5661567\n",
       "   86  0.6977243  0.2650366  0.5662082\n",
       "   87  0.6978520  0.2648410  0.5662401\n",
       "   88  0.6974277  0.2664287  0.5658321\n",
       "   89  0.6976742  0.2659323  0.5659901\n",
       "   90  0.6979501  0.2656211  0.5660586\n",
       "   91  0.6977526  0.2663535  0.5660062\n",
       "   92  0.6975372  0.2672787  0.5658346\n",
       "   93  0.6976374  0.2670900  0.5659961\n",
       "   94  0.6980963  0.2661816  0.5664040\n",
       "   95  0.6980197  0.2665497  0.5663643\n",
       "   96  0.6980700  0.2667265  0.5663630\n",
       "   97  0.6981329  0.2668994  0.5663197\n",
       "   98  0.6981712  0.2669477  0.5663106\n",
       "   99  0.6984716  0.2662671  0.5667957\n",
       "  100  0.6982852  0.2670485  0.5663465\n",
       "\n",
       "RMSE was used to select the optimal model using the smallest value.\n",
       "The final value used for the model was k = 15."
      ]
     },
     "metadata": {},
     "output_type": "display_data"
    }
   ],
   "source": [
    "train_control <- trainControl(method = \"cv\", number = 10)\n",
    "k = data.frame(k = seq(from = 1, to = 100, by = 1))\n",
    "\n",
    "knn_scaled <- train(x = X_train_scaled, y = Y_train_scaled, method = \"knn\", tuneGrid = k, trControl = train_control)\n",
    "knn_scaled"
   ]
  },
  {
   "cell_type": "code",
   "execution_count": 14,
   "metadata": {},
   "outputs": [
    {
     "data": {
      "text/plain": [
       "k-Nearest Neighbors \n",
       "\n",
       "1200 samples\n",
       "   7 predictor\n",
       "\n",
       "No pre-processing\n",
       "Resampling: Bootstrapped (25 reps) \n",
       "Summary of sample sizes: 1200, 1200, 1200, 1200, 1200, 1200, ... \n",
       "Resampling results:\n",
       "\n",
       "  RMSE       Rsquared  MAE      \n",
       "  0.6924878  0.251399  0.5533574\n",
       "\n",
       "Tuning parameter 'k' was held constant at a value of 26"
      ]
     },
     "metadata": {},
     "output_type": "display_data"
    }
   ],
   "source": [
    "k_best_scaled = data.frame(k = 26)\n",
    "\n",
    "knn_scaled <- train(x = X_train_scaled, y = Y_train_scaled, method = \"knn\", tuneGrid = k_best_scaled)\n",
    "\n",
    "knn_scaled\n"
   ]
  },
  {
   "cell_type": "code",
   "execution_count": 15,
   "metadata": {},
   "outputs": [
    {
     "data": {
      "text/html": [
       "<table>\n",
       "<thead><tr><th></th><th scope=col>obs</th><th scope=col>pred</th></tr></thead>\n",
       "<tbody>\n",
       "\t<tr><th scope=row>quality1</th><td>7       </td><td>5.346154</td></tr>\n",
       "\t<tr><th scope=row>quality2</th><td>5       </td><td>5.615385</td></tr>\n",
       "\t<tr><th scope=row>quality3</th><td>5       </td><td>5.461538</td></tr>\n",
       "\t<tr><th scope=row>quality4</th><td>7       </td><td>5.923077</td></tr>\n",
       "\t<tr><th scope=row>quality5</th><td>6       </td><td>5.500000</td></tr>\n",
       "\t<tr><th scope=row>quality6</th><td>5       </td><td>5.500000</td></tr>\n",
       "\t<tr><th scope=row>quality7</th><td>6       </td><td>5.615385</td></tr>\n",
       "\t<tr><th scope=row>quality8</th><td>5       </td><td>5.769231</td></tr>\n",
       "\t<tr><th scope=row>quality9</th><td>4       </td><td>5.192308</td></tr>\n",
       "\t<tr><th scope=row>quality10</th><td>5       </td><td>5.500000</td></tr>\n",
       "</tbody>\n",
       "</table>\n"
      ],
      "text/latex": [
       "\\begin{tabular}{r|ll}\n",
       "  & obs & pred\\\\\n",
       "\\hline\n",
       "\tquality1 & 7        & 5.346154\\\\\n",
       "\tquality2 & 5        & 5.615385\\\\\n",
       "\tquality3 & 5        & 5.461538\\\\\n",
       "\tquality4 & 7        & 5.923077\\\\\n",
       "\tquality5 & 6        & 5.500000\\\\\n",
       "\tquality6 & 5        & 5.500000\\\\\n",
       "\tquality7 & 6        & 5.615385\\\\\n",
       "\tquality8 & 5        & 5.769231\\\\\n",
       "\tquality9 & 4        & 5.192308\\\\\n",
       "\tquality10 & 5        & 5.500000\\\\\n",
       "\\end{tabular}\n"
      ],
      "text/markdown": [
       "\n",
       "| <!--/--> | obs | pred | \n",
       "|---|---|---|---|---|---|---|---|---|---|\n",
       "| quality1 | 7        | 5.346154 | \n",
       "| quality2 | 5        | 5.615385 | \n",
       "| quality3 | 5        | 5.461538 | \n",
       "| quality4 | 7        | 5.923077 | \n",
       "| quality5 | 6        | 5.500000 | \n",
       "| quality6 | 5        | 5.500000 | \n",
       "| quality7 | 6        | 5.615385 | \n",
       "| quality8 | 5        | 5.769231 | \n",
       "| quality9 | 4        | 5.192308 | \n",
       "| quality10 | 5        | 5.500000 | \n",
       "\n",
       "\n"
      ],
      "text/plain": [
       "          obs pred    \n",
       "quality1  7   5.346154\n",
       "quality2  5   5.615385\n",
       "quality3  5   5.461538\n",
       "quality4  7   5.923077\n",
       "quality5  6   5.500000\n",
       "quality6  5   5.500000\n",
       "quality7  6   5.615385\n",
       "quality8  5   5.769231\n",
       "quality9  4   5.192308\n",
       "quality10 5   5.500000"
      ]
     },
     "metadata": {},
     "output_type": "display_data"
    },
    {
     "data": {},
     "metadata": {},
     "output_type": "display_data"
    },
    {
     "data": {
      "image/png": "[encoded data removed]",
      "text/plain": [
       "plot without title"
      ]
     },
     "metadata": {},
     "output_type": "display_data"
    }
   ],
   "source": [
    "k <- data.frame(k = 26)\n",
    "\n",
    "knn_final_s <- train(x = X_train_scaled, y = Y_train_scaled, method = \"knn\", tuneGrid = k)\n",
    "\n",
    "test_scaled <- predict(knn_final_s, X_test_scaled)\n",
    "\n",
    "predictions_scaled <- data.frame(obs = Y_test_scaled, pred = test_scaled)\n",
    "\n",
    "head(predictions_scaled, n = 10)\n",
    "\n",
    "plot <- predictions_scaled %>% \n",
    "    ggplot(aes(x = pred, y = obs)) +\n",
    "    geom_point() + \n",
    "    xlab(\"Predicted Quality\") + \n",
    "    ylab(\"Observed Quality\")\n",
    "\n",
    "plot"
   ]
  },
  {
   "cell_type": "code",
   "execution_count": 16,
   "metadata": {},
   "outputs": [
    {
     "data": {
      "text/html": [
       "<dl class=dl-horizontal>\n",
       "\t<dt>RMSE</dt>\n",
       "\t\t<dd>0.668357599773319</dd>\n",
       "\t<dt>Rsquared</dt>\n",
       "\t\t<dd>0.325461533343304</dd>\n",
       "\t<dt>MAE</dt>\n",
       "\t\t<dd>0.538444452604854</dd>\n",
       "</dl>\n"
      ],
      "text/latex": [
       "\\begin{description*}\n",
       "\\item[RMSE] 0.668357599773319\n",
       "\\item[Rsquared] 0.325461533343304\n",
       "\\item[MAE] 0.538444452604854\n",
       "\\end{description*}\n"
      ],
      "text/markdown": [
       "RMSE\n",
       ":   0.668357599773319Rsquared\n",
       ":   0.325461533343304MAE\n",
       ":   0.538444452604854\n",
       "\n"
      ],
      "text/plain": [
       "     RMSE  Rsquared       MAE \n",
       "0.6683576 0.3254615 0.5384445 "
      ]
     },
     "metadata": {},
     "output_type": "display_data"
    },
    {
     "data": {
      "text/html": [
       "0.13422663261464"
      ],
      "text/latex": [
       "0.13422663261464"
      ],
      "text/markdown": [
       "0.13422663261464"
      ],
      "text/plain": [
       "[1] 0.1342266"
      ]
     },
     "metadata": {},
     "output_type": "display_data"
    }
   ],
   "source": [
    "test_error <- defaultSummary(predictions_scaled)\n",
    "test_error\n",
    "\n",
    "error_ratio <- 0.671133163073198/(8-3)\n",
    "error_ratio"
   ]
  },
  {
   "cell_type": "markdown",
   "metadata": {},
   "source": [
    "# Ivan's Workspace"
   ]
  },
  {
   "cell_type": "code",
   "execution_count": 17,
   "metadata": {},
   "outputs": [
    {
     "data": {
      "text/html": [
       "<table>\n",
       "<thead><tr><th scope=col>fixed.acidity</th><th scope=col>volatile.acidity</th><th scope=col>citric.acid</th><th scope=col>residual.sugar</th><th scope=col>chlorides</th><th scope=col>free.sulfur.dioxide</th><th scope=col>total.sulfur.dioxide</th><th scope=col>density</th><th scope=col>pH</th><th scope=col>sulphates</th><th scope=col>alcohol</th><th scope=col>quality</th></tr></thead>\n",
       "<tbody>\n",
       "\t<tr><td> 7.4  </td><td>0.70  </td><td>0.00  </td><td>1.9   </td><td>0.076 </td><td>11    </td><td>34    </td><td>0.9978</td><td>3.51  </td><td>0.56  </td><td>9.4   </td><td>5     </td></tr>\n",
       "\t<tr><td> 7.8  </td><td>0.88  </td><td>0.00  </td><td>2.6   </td><td>0.098 </td><td>25    </td><td>67    </td><td>0.9968</td><td>3.20  </td><td>0.68  </td><td>9.8   </td><td>5     </td></tr>\n",
       "\t<tr><td> 7.8  </td><td>0.76  </td><td>0.04  </td><td>2.3   </td><td>0.092 </td><td>15    </td><td>54    </td><td>0.9970</td><td>3.26  </td><td>0.65  </td><td>9.8   </td><td>5     </td></tr>\n",
       "\t<tr><td>11.2  </td><td>0.28  </td><td>0.56  </td><td>1.9   </td><td>0.075 </td><td>17    </td><td>60    </td><td>0.9980</td><td>3.16  </td><td>0.58  </td><td>9.8   </td><td>6     </td></tr>\n",
       "\t<tr><td> 7.4  </td><td>0.70  </td><td>0.00  </td><td>1.9   </td><td>0.076 </td><td>11    </td><td>34    </td><td>0.9978</td><td>3.51  </td><td>0.56  </td><td>9.4   </td><td>5     </td></tr>\n",
       "\t<tr><td> 7.4  </td><td>0.66  </td><td>0.00  </td><td>1.8   </td><td>0.075 </td><td>13    </td><td>40    </td><td>0.9978</td><td>3.51  </td><td>0.56  </td><td>9.4   </td><td>5     </td></tr>\n",
       "</tbody>\n",
       "</table>\n"
      ],
      "text/latex": [
       "\\begin{tabular}{r|llllllllllll}\n",
       " fixed.acidity & volatile.acidity & citric.acid & residual.sugar & chlorides & free.sulfur.dioxide & total.sulfur.dioxide & density & pH & sulphates & alcohol & quality\\\\\n",
       "\\hline\n",
       "\t  7.4   & 0.70   & 0.00   & 1.9    & 0.076  & 11     & 34     & 0.9978 & 3.51   & 0.56   & 9.4    & 5     \\\\\n",
       "\t  7.8   & 0.88   & 0.00   & 2.6    & 0.098  & 25     & 67     & 0.9968 & 3.20   & 0.68   & 9.8    & 5     \\\\\n",
       "\t  7.8   & 0.76   & 0.04   & 2.3    & 0.092  & 15     & 54     & 0.9970 & 3.26   & 0.65   & 9.8    & 5     \\\\\n",
       "\t 11.2   & 0.28   & 0.56   & 1.9    & 0.075  & 17     & 60     & 0.9980 & 3.16   & 0.58   & 9.8    & 6     \\\\\n",
       "\t  7.4   & 0.70   & 0.00   & 1.9    & 0.076  & 11     & 34     & 0.9978 & 3.51   & 0.56   & 9.4    & 5     \\\\\n",
       "\t  7.4   & 0.66   & 0.00   & 1.8    & 0.075  & 13     & 40     & 0.9978 & 3.51   & 0.56   & 9.4    & 5     \\\\\n",
       "\\end{tabular}\n"
      ],
      "text/markdown": [
       "\n",
       "fixed.acidity | volatile.acidity | citric.acid | residual.sugar | chlorides | free.sulfur.dioxide | total.sulfur.dioxide | density | pH | sulphates | alcohol | quality | \n",
       "|---|---|---|---|---|---|\n",
       "|  7.4   | 0.70   | 0.00   | 1.9    | 0.076  | 11     | 34     | 0.9978 | 3.51   | 0.56   | 9.4    | 5      | \n",
       "|  7.8   | 0.88   | 0.00   | 2.6    | 0.098  | 25     | 67     | 0.9968 | 3.20   | 0.68   | 9.8    | 5      | \n",
       "|  7.8   | 0.76   | 0.04   | 2.3    | 0.092  | 15     | 54     | 0.9970 | 3.26   | 0.65   | 9.8    | 5      | \n",
       "| 11.2   | 0.28   | 0.56   | 1.9    | 0.075  | 17     | 60     | 0.9980 | 3.16   | 0.58   | 9.8    | 6      | \n",
       "|  7.4   | 0.70   | 0.00   | 1.9    | 0.076  | 11     | 34     | 0.9978 | 3.51   | 0.56   | 9.4    | 5      | \n",
       "|  7.4   | 0.66   | 0.00   | 1.8    | 0.075  | 13     | 40     | 0.9978 | 3.51   | 0.56   | 9.4    | 5      | \n",
       "\n",
       "\n"
      ],
      "text/plain": [
       "  fixed.acidity volatile.acidity citric.acid residual.sugar chlorides\n",
       "1  7.4          0.70             0.00        1.9            0.076    \n",
       "2  7.8          0.88             0.00        2.6            0.098    \n",
       "3  7.8          0.76             0.04        2.3            0.092    \n",
       "4 11.2          0.28             0.56        1.9            0.075    \n",
       "5  7.4          0.70             0.00        1.9            0.076    \n",
       "6  7.4          0.66             0.00        1.8            0.075    \n",
       "  free.sulfur.dioxide total.sulfur.dioxide density pH   sulphates alcohol\n",
       "1 11                  34                   0.9978  3.51 0.56      9.4    \n",
       "2 25                  67                   0.9968  3.20 0.68      9.8    \n",
       "3 15                  54                   0.9970  3.26 0.65      9.8    \n",
       "4 17                  60                   0.9980  3.16 0.58      9.8    \n",
       "5 11                  34                   0.9978  3.51 0.56      9.4    \n",
       "6 13                  40                   0.9978  3.51 0.56      9.4    \n",
       "  quality\n",
       "1 5      \n",
       "2 5      \n",
       "3 5      \n",
       "4 6      \n",
       "5 5      \n",
       "6 5      "
      ]
     },
     "metadata": {},
     "output_type": "display_data"
    },
    {
     "data": {},
     "metadata": {},
     "output_type": "display_data"
    },
    {
     "data": {},
     "metadata": {},
     "output_type": "display_data"
    },
    {
     "data": {
      "image/png": "[encoded data removed]",
      "text/plain": [
       "plot without title"
      ]
     },
     "metadata": {},
     "output_type": "display_data"
    },
    {
     "data": {},
     "metadata": {},
     "output_type": "display_data"
    },
    {
     "data": {
      "image/png": "[encoded data removed]",
      "text/plain": [
       "plot without title"
      ]
     },
     "metadata": {},
     "output_type": "display_data"
    },
    {
     "data": {
      "image/png": "[encoded data removed]",
      "text/plain": [
       "plot without title"
      ]
     },
     "metadata": {},
     "output_type": "display_data"
    }
   ],
   "source": [
    "#fixed.acidity volatile.acidity citric.acid residual.sugar chlorides free.sulfur.dioxide total.sulfur.dioxide density pH sulphates alcohol quality\n",
    "options(repr.plot.width = 5, repr.plot.height = 4)\n",
    "\n",
    "head(red_data)\n",
    "\n",
    "plot_fa <- red_data %>% \n",
    "    ggplot(aes(x = fixed.acidity, y = quality)) + \n",
    "    geom_point()\n",
    "plot_fa\n",
    "\n",
    "plot_va <- red_data %>% \n",
    "    ggplot(aes(x = volatile.acidity, y = quality)) +\n",
    "    geom_point()\n",
    "plot_va\n",
    "\n",
    "plot_ca <- red_data %>% \n",
    "    ggplot(aes(x = citric.acid, y = quality)) +\n",
    "    geom_point()\n",
    "plot_ca\n",
    "    "
   ]
  },
  {
   "cell_type": "markdown",
   "metadata": {},
   "source": [
    "# Yeying's Workspace"
   ]
  },
  {
   "cell_type": "code",
   "execution_count": 18,
   "metadata": {},
   "outputs": [],
   "source": [
    "# Working on three variables: chlorides,free.sulfur.dioxide\t,total.sulfur.dioxide"
   ]
  },
  {
   "cell_type": "code",
   "execution_count": 19,
   "metadata": {},
   "outputs": [
    {
     "name": "stderr",
     "output_type": "stream",
     "text": [
      "also installing the dependencies ‘progress’, ‘reshape’\n",
      "\n",
      "Updating HTML index of packages in '.Library'\n",
      "Making 'packages.html' ... done\n",
      "\n",
      "Attaching package: ‘GGally’\n",
      "\n",
      "The following object is masked from ‘package:dplyr’:\n",
      "\n",
      "    nasa\n",
      "\n"
     ]
    }
   ],
   "source": [
    "install.packages(\"GGally\")\n",
    "library(GGally)"
   ]
  },
  {
   "cell_type": "code",
   "execution_count": 4,
   "metadata": {},
   "outputs": [
    {
     "data": {
      "text/html": [
       "<table>\n",
       "<thead><tr><th scope=col>fixed.acidity</th><th scope=col>volatile.acidity</th><th scope=col>citric.acid</th><th scope=col>residual.sugar</th><th scope=col>chlorides</th><th scope=col>free.sulfur.dioxide</th><th scope=col>total.sulfur.dioxide</th><th scope=col>density</th><th scope=col>pH</th><th scope=col>sulphates</th><th scope=col>alcohol</th><th scope=col>quality</th></tr></thead>\n",
       "<tbody>\n",
       "\t<tr><td>7.0   </td><td>0.27  </td><td>0.36  </td><td>20.7  </td><td>0.045 </td><td>45    </td><td>170   </td><td>1.0010</td><td>3.00  </td><td>0.45  </td><td> 8.8  </td><td>6     </td></tr>\n",
       "\t<tr><td>6.3   </td><td>0.30  </td><td>0.34  </td><td> 1.6  </td><td>0.049 </td><td>14    </td><td>132   </td><td>0.9940</td><td>3.30  </td><td>0.49  </td><td> 9.5  </td><td>6     </td></tr>\n",
       "\t<tr><td>8.1   </td><td>0.28  </td><td>0.40  </td><td> 6.9  </td><td>0.050 </td><td>30    </td><td> 97   </td><td>0.9951</td><td>3.26  </td><td>0.44  </td><td>10.1  </td><td>6     </td></tr>\n",
       "\t<tr><td>7.2   </td><td>0.23  </td><td>0.32  </td><td> 8.5  </td><td>0.058 </td><td>47    </td><td>186   </td><td>0.9956</td><td>3.19  </td><td>0.40  </td><td> 9.9  </td><td>6     </td></tr>\n",
       "\t<tr><td>7.2   </td><td>0.23  </td><td>0.32  </td><td> 8.5  </td><td>0.058 </td><td>47    </td><td>186   </td><td>0.9956</td><td>3.19  </td><td>0.40  </td><td> 9.9  </td><td>6     </td></tr>\n",
       "\t<tr><td>8.1   </td><td>0.28  </td><td>0.40  </td><td> 6.9  </td><td>0.050 </td><td>30    </td><td> 97   </td><td>0.9951</td><td>3.26  </td><td>0.44  </td><td>10.1  </td><td>6     </td></tr>\n",
       "</tbody>\n",
       "</table>\n"
      ],
      "text/latex": [
       "\\begin{tabular}{r|llllllllllll}\n",
       " fixed.acidity & volatile.acidity & citric.acid & residual.sugar & chlorides & free.sulfur.dioxide & total.sulfur.dioxide & density & pH & sulphates & alcohol & quality\\\\\n",
       "\\hline\n",
       "\t 7.0    & 0.27   & 0.36   & 20.7   & 0.045  & 45     & 170    & 1.0010 & 3.00   & 0.45   &  8.8   & 6     \\\\\n",
       "\t 6.3    & 0.30   & 0.34   &  1.6   & 0.049  & 14     & 132    & 0.9940 & 3.30   & 0.49   &  9.5   & 6     \\\\\n",
       "\t 8.1    & 0.28   & 0.40   &  6.9   & 0.050  & 30     &  97    & 0.9951 & 3.26   & 0.44   & 10.1   & 6     \\\\\n",
       "\t 7.2    & 0.23   & 0.32   &  8.5   & 0.058  & 47     & 186    & 0.9956 & 3.19   & 0.40   &  9.9   & 6     \\\\\n",
       "\t 7.2    & 0.23   & 0.32   &  8.5   & 0.058  & 47     & 186    & 0.9956 & 3.19   & 0.40   &  9.9   & 6     \\\\\n",
       "\t 8.1    & 0.28   & 0.40   &  6.9   & 0.050  & 30     &  97    & 0.9951 & 3.26   & 0.44   & 10.1   & 6     \\\\\n",
       "\\end{tabular}\n"
      ],
      "text/markdown": [
       "\n",
       "fixed.acidity | volatile.acidity | citric.acid | residual.sugar | chlorides | free.sulfur.dioxide | total.sulfur.dioxide | density | pH | sulphates | alcohol | quality | \n",
       "|---|---|---|---|---|---|\n",
       "| 7.0    | 0.27   | 0.36   | 20.7   | 0.045  | 45     | 170    | 1.0010 | 3.00   | 0.45   |  8.8   | 6      | \n",
       "| 6.3    | 0.30   | 0.34   |  1.6   | 0.049  | 14     | 132    | 0.9940 | 3.30   | 0.49   |  9.5   | 6      | \n",
       "| 8.1    | 0.28   | 0.40   |  6.9   | 0.050  | 30     |  97    | 0.9951 | 3.26   | 0.44   | 10.1   | 6      | \n",
       "| 7.2    | 0.23   | 0.32   |  8.5   | 0.058  | 47     | 186    | 0.9956 | 3.19   | 0.40   |  9.9   | 6      | \n",
       "| 7.2    | 0.23   | 0.32   |  8.5   | 0.058  | 47     | 186    | 0.9956 | 3.19   | 0.40   |  9.9   | 6      | \n",
       "| 8.1    | 0.28   | 0.40   |  6.9   | 0.050  | 30     |  97    | 0.9951 | 3.26   | 0.44   | 10.1   | 6      | \n",
       "\n",
       "\n"
      ],
      "text/plain": [
       "  fixed.acidity volatile.acidity citric.acid residual.sugar chlorides\n",
       "1 7.0           0.27             0.36        20.7           0.045    \n",
       "2 6.3           0.30             0.34         1.6           0.049    \n",
       "3 8.1           0.28             0.40         6.9           0.050    \n",
       "4 7.2           0.23             0.32         8.5           0.058    \n",
       "5 7.2           0.23             0.32         8.5           0.058    \n",
       "6 8.1           0.28             0.40         6.9           0.050    \n",
       "  free.sulfur.dioxide total.sulfur.dioxide density pH   sulphates alcohol\n",
       "1 45                  170                  1.0010  3.00 0.45       8.8   \n",
       "2 14                  132                  0.9940  3.30 0.49       9.5   \n",
       "3 30                   97                  0.9951  3.26 0.44      10.1   \n",
       "4 47                  186                  0.9956  3.19 0.40       9.9   \n",
       "5 47                  186                  0.9956  3.19 0.40       9.9   \n",
       "6 30                   97                  0.9951  3.26 0.44      10.1   \n",
       "  quality\n",
       "1 6      \n",
       "2 6      \n",
       "3 6      \n",
       "4 6      \n",
       "5 6      \n",
       "6 6      "
      ]
     },
     "metadata": {},
     "output_type": "display_data"
    }
   ],
   "source": [
    "# Import white wine data\n",
    "white_data <- read.csv(\"winequality-white.csv\", sep = \";\")\n",
    "head(white_data)"
   ]
  },
  {
   "cell_type": "code",
   "execution_count": 21,
   "metadata": {},
   "outputs": [
    {
     "data": {
      "text/html": [
       "<table>\n",
       "<thead><tr><th scope=col>quality</th><th scope=col>n</th></tr></thead>\n",
       "<tbody>\n",
       "\t<tr><td>3  </td><td> 10</td></tr>\n",
       "\t<tr><td>4  </td><td> 53</td></tr>\n",
       "\t<tr><td>5  </td><td>681</td></tr>\n",
       "\t<tr><td>6  </td><td>638</td></tr>\n",
       "\t<tr><td>7  </td><td>199</td></tr>\n",
       "\t<tr><td>8  </td><td> 18</td></tr>\n",
       "</tbody>\n",
       "</table>\n"
      ],
      "text/latex": [
       "\\begin{tabular}{r|ll}\n",
       " quality & n\\\\\n",
       "\\hline\n",
       "\t 3   &  10\\\\\n",
       "\t 4   &  53\\\\\n",
       "\t 5   & 681\\\\\n",
       "\t 6   & 638\\\\\n",
       "\t 7   & 199\\\\\n",
       "\t 8   &  18\\\\\n",
       "\\end{tabular}\n"
      ],
      "text/markdown": [
       "\n",
       "quality | n | \n",
       "|---|---|---|---|---|---|\n",
       "| 3   |  10 | \n",
       "| 4   |  53 | \n",
       "| 5   | 681 | \n",
       "| 6   | 638 | \n",
       "| 7   | 199 | \n",
       "| 8   |  18 | \n",
       "\n",
       "\n"
      ],
      "text/plain": [
       "  quality n  \n",
       "1 3        10\n",
       "2 4        53\n",
       "3 5       681\n",
       "4 6       638\n",
       "5 7       199\n",
       "6 8        18"
      ]
     },
     "metadata": {},
     "output_type": "display_data"
    },
    {
     "data": {
      "text/html": [
       "<table>\n",
       "<thead><tr><th scope=col>quality</th><th scope=col>n</th></tr></thead>\n",
       "<tbody>\n",
       "\t<tr><td>3   </td><td>  20</td></tr>\n",
       "\t<tr><td>4   </td><td> 163</td></tr>\n",
       "\t<tr><td>5   </td><td>1457</td></tr>\n",
       "\t<tr><td>6   </td><td>2198</td></tr>\n",
       "\t<tr><td>7   </td><td> 880</td></tr>\n",
       "\t<tr><td>8   </td><td> 175</td></tr>\n",
       "\t<tr><td>9   </td><td>   5</td></tr>\n",
       "</tbody>\n",
       "</table>\n"
      ],
      "text/latex": [
       "\\begin{tabular}{r|ll}\n",
       " quality & n\\\\\n",
       "\\hline\n",
       "\t 3    &   20\\\\\n",
       "\t 4    &  163\\\\\n",
       "\t 5    & 1457\\\\\n",
       "\t 6    & 2198\\\\\n",
       "\t 7    &  880\\\\\n",
       "\t 8    &  175\\\\\n",
       "\t 9    &    5\\\\\n",
       "\\end{tabular}\n"
      ],
      "text/markdown": [
       "\n",
       "quality | n | \n",
       "|---|---|---|---|---|---|---|\n",
       "| 3    |   20 | \n",
       "| 4    |  163 | \n",
       "| 5    | 1457 | \n",
       "| 6    | 2198 | \n",
       "| 7    |  880 | \n",
       "| 8    |  175 | \n",
       "| 9    |    5 | \n",
       "\n",
       "\n"
      ],
      "text/plain": [
       "  quality n   \n",
       "1 3         20\n",
       "2 4        163\n",
       "3 5       1457\n",
       "4 6       2198\n",
       "5 7        880\n",
       "6 8        175\n",
       "7 9          5"
      ]
     },
     "metadata": {},
     "output_type": "display_data"
    }
   ],
   "source": [
    "# See the rough distribution of quality level\n",
    "red_data %>% \n",
    "    group_by(quality) %>%\n",
    "    summarize(n = n())\n",
    "white_data %>%\n",
    "    group_by(quality) %>%\n",
    "    summarize(n=n())"
   ]
  },
  {
   "cell_type": "markdown",
   "metadata": {},
   "source": [
    "We can easily see that the data of quality is imbalanced."
   ]
  },
  {
   "cell_type": "code",
   "execution_count": 22,
   "metadata": {},
   "outputs": [
    {
     "ename": "ERROR",
     "evalue": "Error in eval(lhs, parent, parent): object 'white_var' not found\n",
     "output_type": "error",
     "traceback": [
      "Error in eval(lhs, parent, parent): object 'white_var' not found\nTraceback:\n",
      "1. white_var %>% select(chlorides:total.sulfur.dioxide, quality)",
      "2. eval(lhs, parent, parent)",
      "3. eval(lhs, parent, parent)"
     ]
    }
   ],
   "source": [
    "#See the relationship between quality and the three variables\n",
    "red_var <- red_data %>%\n",
    "    select(chlorides:total.sulfur.dioxide, quality) \n",
    "red_var$quality <- as.factor(red_var$quality)\n",
    "\n",
    "white_var <- white_var %>%\n",
    "    select(chlorides:total.sulfur.dioxide, quality) \n",
    "white_var$quality <- as.factor(white_var$quality)\n",
    "\n",
    "ggpairs(red_var, mapping = ggplot2::aes(colour = quality))\n",
    "ggpairs(white_var, mapping = ggplot2::aes(colour = quality))\n"
   ]
  },
  {
   "cell_type": "code",
   "execution_count": null,
   "metadata": {},
   "outputs": [],
   "source": [
    "# Scaled the variables\n",
    "red_scaled_var <- red_var %>%\n",
    "    mutate(scaled_chlorides = scale(chlorides, center = FALSE),scaled_free.sulfur.dioxide = scale(free.sulfur.dioxide, center = FALSE),scaled_total.sulfur.dioxide = scale(total.sulfur.dioxide\t, center = FALSE))%>%\n",
    "    select(scaled_chlorides:scaled_total.sulfur.dioxide, quality) \n",
    "red_scaled_var$scaled_chlorides <- as.vector( red_scaled_var$scaled_chlorides )\n",
    "\n",
    "glimpse(red_scaled_var)\n",
    "\n",
    "white_scaled_var <- white_var %>%\n",
    "    mutate(scaled_chlorides = scale(chlorides, center = FALSE),scaled_free.sulfur.dioxide = scale(free.sulfur.dioxide, center = FALSE),scaled_total.sulfur.dioxide = scale(total.sulfur.dioxide\t, center = FALSE)) %>%\n",
    "    select(scaled_chlorides:scaled_total.sulfur.dioxide, quality) \n",
    "glimpse(white_scaled_var)\n"
   ]
  },
  {
   "cell_type": "markdown",
   "metadata": {},
   "source": [
    "Next, plot the scaled variables against quality"
   ]
  },
  {
   "cell_type": "code",
   "execution_count": null,
   "metadata": {},
   "outputs": [],
   "source": [
    "# Red wine \n",
    "options(repr.plot.width = 4, repr.plot.height = 3)\n",
    "\n",
    "r_scaled_chlorides_plot <- red_scaled_var %>%\n",
    "    ggplot(aes(x = quality,y = scaled_chlorides)) +\n",
    "    geom_point()\n",
    "r_scaled_chlorides_plot\n",
    "\n",
    "r_scaled_free.sulfur.dioxide_plot <- red_scaled_var %>%\n",
    "    ggplot(aes(x = quality,y = scaled_free.sulfur.dioxide)) +\n",
    "    geom_point()\n",
    "r_scaled_free.sulfur.dioxide_plot\n",
    "\n",
    "r_scaled_total.sulfur.dioxide_plot <- red_scaled_var %>%\n",
    "    ggplot(aes(x = quality,y = scaled_total.sulfur.dioxide)) +\n",
    "    geom_point()\n",
    "r_scaled_total.sulfur.dioxide_plot\n",
    "\n",
    "\n",
    "\n",
    "\n"
   ]
  },
  {
   "cell_type": "code",
   "execution_count": null,
   "metadata": {},
   "outputs": [],
   "source": [
    "options(repr.plot.width = 4, repr.plot.height = 3)\n",
    "\n",
    "# White wine \n",
    "\n",
    "w_scaled_chlorides_plot <- white_scaled_var %>%\n",
    "    ggplot(aes(x = quality,y = scaled_chlorides)) +\n",
    "    geom_point()\n",
    "w_scaled_chlorides_plot\n",
    "\n",
    "w_scaled_free.sulfur.dioxide_plot <- white_scaled_var %>%\n",
    "    ggplot(aes(x = quality,y = scaled_free.sulfur.dioxide)) +\n",
    "    geom_point()\n",
    "w_scaled_free.sulfur.dioxide_plot\n",
    "\n",
    "w_scaled_total.sulfur.dioxide_plot <- white_scaled_var %>%\n",
    "    ggplot(aes(x = quality,y = scaled_total.sulfur.dioxide)) +\n",
    "    geom_point()\n",
    "w_scaled_total.sulfur.dioxide_plot\n"
   ]
  },
  {
   "cell_type": "code",
   "execution_count": null,
   "metadata": {},
   "outputs": [],
   "source": [
    "head(red_data_new)"
   ]
  },
  {
   "cell_type": "code",
   "execution_count": null,
   "metadata": {},
   "outputs": [],
   "source": [
    "# Try new variable sulfur dioxide ratio \n",
    "# use red_data_new \n",
    "ggplot(red_data_new,aes(x = quality, y = sulfur.dioxide.ratio)) +\n",
    "    geom_point()\n"
   ]
  },
  {
   "cell_type": "markdown",
   "metadata": {},
   "source": [
    "# Prayansh's Workspace"
   ]
  },
  {
   "cell_type": "code",
   "execution_count": 23,
   "metadata": {},
   "outputs": [
    {
     "data": {
      "text/html": [
       "<table>\n",
       "<thead><tr><th scope=col>fixed.acidity</th><th scope=col>volatile.acidity</th><th scope=col>citric.acid</th><th scope=col>residual.sugar</th><th scope=col>chlorides</th><th scope=col>free.sulfur.dioxide</th><th scope=col>total.sulfur.dioxide</th><th scope=col>density</th><th scope=col>pH</th><th scope=col>sulphates</th><th scope=col>alcohol</th><th scope=col>quality</th></tr></thead>\n",
       "<tbody>\n",
       "\t<tr><td> 7.4  </td><td>0.70  </td><td>0.00  </td><td>1.9   </td><td>0.076 </td><td>11    </td><td>34    </td><td>0.9978</td><td>3.51  </td><td>0.56  </td><td>9.4   </td><td>5     </td></tr>\n",
       "\t<tr><td> 7.8  </td><td>0.88  </td><td>0.00  </td><td>2.6   </td><td>0.098 </td><td>25    </td><td>67    </td><td>0.9968</td><td>3.20  </td><td>0.68  </td><td>9.8   </td><td>5     </td></tr>\n",
       "\t<tr><td> 7.8  </td><td>0.76  </td><td>0.04  </td><td>2.3   </td><td>0.092 </td><td>15    </td><td>54    </td><td>0.9970</td><td>3.26  </td><td>0.65  </td><td>9.8   </td><td>5     </td></tr>\n",
       "\t<tr><td>11.2  </td><td>0.28  </td><td>0.56  </td><td>1.9   </td><td>0.075 </td><td>17    </td><td>60    </td><td>0.9980</td><td>3.16  </td><td>0.58  </td><td>9.8   </td><td>6     </td></tr>\n",
       "\t<tr><td> 7.4  </td><td>0.70  </td><td>0.00  </td><td>1.9   </td><td>0.076 </td><td>11    </td><td>34    </td><td>0.9978</td><td>3.51  </td><td>0.56  </td><td>9.4   </td><td>5     </td></tr>\n",
       "\t<tr><td> 7.4  </td><td>0.66  </td><td>0.00  </td><td>1.8   </td><td>0.075 </td><td>13    </td><td>40    </td><td>0.9978</td><td>3.51  </td><td>0.56  </td><td>9.4   </td><td>5     </td></tr>\n",
       "</tbody>\n",
       "</table>\n"
      ],
      "text/latex": [
       "\\begin{tabular}{r|llllllllllll}\n",
       " fixed.acidity & volatile.acidity & citric.acid & residual.sugar & chlorides & free.sulfur.dioxide & total.sulfur.dioxide & density & pH & sulphates & alcohol & quality\\\\\n",
       "\\hline\n",
       "\t  7.4   & 0.70   & 0.00   & 1.9    & 0.076  & 11     & 34     & 0.9978 & 3.51   & 0.56   & 9.4    & 5     \\\\\n",
       "\t  7.8   & 0.88   & 0.00   & 2.6    & 0.098  & 25     & 67     & 0.9968 & 3.20   & 0.68   & 9.8    & 5     \\\\\n",
       "\t  7.8   & 0.76   & 0.04   & 2.3    & 0.092  & 15     & 54     & 0.9970 & 3.26   & 0.65   & 9.8    & 5     \\\\\n",
       "\t 11.2   & 0.28   & 0.56   & 1.9    & 0.075  & 17     & 60     & 0.9980 & 3.16   & 0.58   & 9.8    & 6     \\\\\n",
       "\t  7.4   & 0.70   & 0.00   & 1.9    & 0.076  & 11     & 34     & 0.9978 & 3.51   & 0.56   & 9.4    & 5     \\\\\n",
       "\t  7.4   & 0.66   & 0.00   & 1.8    & 0.075  & 13     & 40     & 0.9978 & 3.51   & 0.56   & 9.4    & 5     \\\\\n",
       "\\end{tabular}\n"
      ],
      "text/markdown": [
       "\n",
       "fixed.acidity | volatile.acidity | citric.acid | residual.sugar | chlorides | free.sulfur.dioxide | total.sulfur.dioxide | density | pH | sulphates | alcohol | quality | \n",
       "|---|---|---|---|---|---|\n",
       "|  7.4   | 0.70   | 0.00   | 1.9    | 0.076  | 11     | 34     | 0.9978 | 3.51   | 0.56   | 9.4    | 5      | \n",
       "|  7.8   | 0.88   | 0.00   | 2.6    | 0.098  | 25     | 67     | 0.9968 | 3.20   | 0.68   | 9.8    | 5      | \n",
       "|  7.8   | 0.76   | 0.04   | 2.3    | 0.092  | 15     | 54     | 0.9970 | 3.26   | 0.65   | 9.8    | 5      | \n",
       "| 11.2   | 0.28   | 0.56   | 1.9    | 0.075  | 17     | 60     | 0.9980 | 3.16   | 0.58   | 9.8    | 6      | \n",
       "|  7.4   | 0.70   | 0.00   | 1.9    | 0.076  | 11     | 34     | 0.9978 | 3.51   | 0.56   | 9.4    | 5      | \n",
       "|  7.4   | 0.66   | 0.00   | 1.8    | 0.075  | 13     | 40     | 0.9978 | 3.51   | 0.56   | 9.4    | 5      | \n",
       "\n",
       "\n"
      ],
      "text/plain": [
       "  fixed.acidity volatile.acidity citric.acid residual.sugar chlorides\n",
       "1  7.4          0.70             0.00        1.9            0.076    \n",
       "2  7.8          0.88             0.00        2.6            0.098    \n",
       "3  7.8          0.76             0.04        2.3            0.092    \n",
       "4 11.2          0.28             0.56        1.9            0.075    \n",
       "5  7.4          0.70             0.00        1.9            0.076    \n",
       "6  7.4          0.66             0.00        1.8            0.075    \n",
       "  free.sulfur.dioxide total.sulfur.dioxide density pH   sulphates alcohol\n",
       "1 11                  34                   0.9978  3.51 0.56      9.4    \n",
       "2 25                  67                   0.9968  3.20 0.68      9.8    \n",
       "3 15                  54                   0.9970  3.26 0.65      9.8    \n",
       "4 17                  60                   0.9980  3.16 0.58      9.8    \n",
       "5 11                  34                   0.9978  3.51 0.56      9.4    \n",
       "6 13                  40                   0.9978  3.51 0.56      9.4    \n",
       "  quality\n",
       "1 5      \n",
       "2 5      \n",
       "3 5      \n",
       "4 6      \n",
       "5 5      \n",
       "6 5      "
      ]
     },
     "metadata": {},
     "output_type": "display_data"
    },
    {
     "data": {
      "text/html": [
       "<table>\n",
       "<thead><tr><th scope=col>fixed.acidity</th><th scope=col>volatile.acidity</th><th scope=col>citric.acid</th><th scope=col>residual.sugar</th><th scope=col>chlorides</th><th scope=col>free.sulfur.dioxide</th><th scope=col>total.sulfur.dioxide</th><th scope=col>density</th><th scope=col>pH</th><th scope=col>sulphates</th><th scope=col>alcohol</th><th scope=col>quality</th></tr></thead>\n",
       "<tbody>\n",
       "\t<tr><td>7.0   </td><td>0.27  </td><td>0.36  </td><td>20.7  </td><td>0.045 </td><td>45    </td><td>170   </td><td>1.0010</td><td>3.00  </td><td>0.45  </td><td> 8.8  </td><td>6     </td></tr>\n",
       "\t<tr><td>6.3   </td><td>0.30  </td><td>0.34  </td><td> 1.6  </td><td>0.049 </td><td>14    </td><td>132   </td><td>0.9940</td><td>3.30  </td><td>0.49  </td><td> 9.5  </td><td>6     </td></tr>\n",
       "\t<tr><td>8.1   </td><td>0.28  </td><td>0.40  </td><td> 6.9  </td><td>0.050 </td><td>30    </td><td> 97   </td><td>0.9951</td><td>3.26  </td><td>0.44  </td><td>10.1  </td><td>6     </td></tr>\n",
       "\t<tr><td>7.2   </td><td>0.23  </td><td>0.32  </td><td> 8.5  </td><td>0.058 </td><td>47    </td><td>186   </td><td>0.9956</td><td>3.19  </td><td>0.40  </td><td> 9.9  </td><td>6     </td></tr>\n",
       "\t<tr><td>7.2   </td><td>0.23  </td><td>0.32  </td><td> 8.5  </td><td>0.058 </td><td>47    </td><td>186   </td><td>0.9956</td><td>3.19  </td><td>0.40  </td><td> 9.9  </td><td>6     </td></tr>\n",
       "\t<tr><td>8.1   </td><td>0.28  </td><td>0.40  </td><td> 6.9  </td><td>0.050 </td><td>30    </td><td> 97   </td><td>0.9951</td><td>3.26  </td><td>0.44  </td><td>10.1  </td><td>6     </td></tr>\n",
       "</tbody>\n",
       "</table>\n"
      ],
      "text/latex": [
       "\\begin{tabular}{r|llllllllllll}\n",
       " fixed.acidity & volatile.acidity & citric.acid & residual.sugar & chlorides & free.sulfur.dioxide & total.sulfur.dioxide & density & pH & sulphates & alcohol & quality\\\\\n",
       "\\hline\n",
       "\t 7.0    & 0.27   & 0.36   & 20.7   & 0.045  & 45     & 170    & 1.0010 & 3.00   & 0.45   &  8.8   & 6     \\\\\n",
       "\t 6.3    & 0.30   & 0.34   &  1.6   & 0.049  & 14     & 132    & 0.9940 & 3.30   & 0.49   &  9.5   & 6     \\\\\n",
       "\t 8.1    & 0.28   & 0.40   &  6.9   & 0.050  & 30     &  97    & 0.9951 & 3.26   & 0.44   & 10.1   & 6     \\\\\n",
       "\t 7.2    & 0.23   & 0.32   &  8.5   & 0.058  & 47     & 186    & 0.9956 & 3.19   & 0.40   &  9.9   & 6     \\\\\n",
       "\t 7.2    & 0.23   & 0.32   &  8.5   & 0.058  & 47     & 186    & 0.9956 & 3.19   & 0.40   &  9.9   & 6     \\\\\n",
       "\t 8.1    & 0.28   & 0.40   &  6.9   & 0.050  & 30     &  97    & 0.9951 & 3.26   & 0.44   & 10.1   & 6     \\\\\n",
       "\\end{tabular}\n"
      ],
      "text/markdown": [
       "\n",
       "fixed.acidity | volatile.acidity | citric.acid | residual.sugar | chlorides | free.sulfur.dioxide | total.sulfur.dioxide | density | pH | sulphates | alcohol | quality | \n",
       "|---|---|---|---|---|---|\n",
       "| 7.0    | 0.27   | 0.36   | 20.7   | 0.045  | 45     | 170    | 1.0010 | 3.00   | 0.45   |  8.8   | 6      | \n",
       "| 6.3    | 0.30   | 0.34   |  1.6   | 0.049  | 14     | 132    | 0.9940 | 3.30   | 0.49   |  9.5   | 6      | \n",
       "| 8.1    | 0.28   | 0.40   |  6.9   | 0.050  | 30     |  97    | 0.9951 | 3.26   | 0.44   | 10.1   | 6      | \n",
       "| 7.2    | 0.23   | 0.32   |  8.5   | 0.058  | 47     | 186    | 0.9956 | 3.19   | 0.40   |  9.9   | 6      | \n",
       "| 7.2    | 0.23   | 0.32   |  8.5   | 0.058  | 47     | 186    | 0.9956 | 3.19   | 0.40   |  9.9   | 6      | \n",
       "| 8.1    | 0.28   | 0.40   |  6.9   | 0.050  | 30     |  97    | 0.9951 | 3.26   | 0.44   | 10.1   | 6      | \n",
       "\n",
       "\n"
      ],
      "text/plain": [
       "  fixed.acidity volatile.acidity citric.acid residual.sugar chlorides\n",
       "1 7.0           0.27             0.36        20.7           0.045    \n",
       "2 6.3           0.30             0.34         1.6           0.049    \n",
       "3 8.1           0.28             0.40         6.9           0.050    \n",
       "4 7.2           0.23             0.32         8.5           0.058    \n",
       "5 7.2           0.23             0.32         8.5           0.058    \n",
       "6 8.1           0.28             0.40         6.9           0.050    \n",
       "  free.sulfur.dioxide total.sulfur.dioxide density pH   sulphates alcohol\n",
       "1 45                  170                  1.0010  3.00 0.45       8.8   \n",
       "2 14                  132                  0.9940  3.30 0.49       9.5   \n",
       "3 30                   97                  0.9951  3.26 0.44      10.1   \n",
       "4 47                  186                  0.9956  3.19 0.40       9.9   \n",
       "5 47                  186                  0.9956  3.19 0.40       9.9   \n",
       "6 30                   97                  0.9951  3.26 0.44      10.1   \n",
       "  quality\n",
       "1 6      \n",
       "2 6      \n",
       "3 6      \n",
       "4 6      \n",
       "5 6      \n",
       "6 6      "
      ]
     },
     "metadata": {},
     "output_type": "display_data"
    }
   ],
   "source": [
    "head(red_data)\n",
    "head(white_data)"
   ]
  },
  {
   "cell_type": "code",
   "execution_count": 27,
   "metadata": {
    "scrolled": true
   },
   "outputs": [
    {
     "data": {},
     "metadata": {},
     "output_type": "display_data"
    },
    {
     "data": {},
     "metadata": {},
     "output_type": "display_data"
    },
    {
     "data": {
      "image/png": "[encoded data removed]",
      "text/plain": [
       "plot without title"
      ]
     },
     "metadata": {},
     "output_type": "display_data"
    },
    {
     "data": {},
     "metadata": {},
     "output_type": "display_data"
    },
    {
     "data": {
      "image/png": "[encoded data removed]",
      "text/plain": [
       "plot without title"
      ]
     },
     "metadata": {},
     "output_type": "display_data"
    },
    {
     "data": {},
     "metadata": {},
     "output_type": "display_data"
    },
    {
     "data": {
      "image/png": "[encoded data removed]",
      "text/plain": [
       "plot without title"
      ]
     },
     "metadata": {},
     "output_type": "display_data"
    },
    {
     "data": {
      "image/png": "[encoded data removed]",
      "text/plain": [
       "plot without title"
      ]
     },
     "metadata": {},
     "output_type": "display_data"
    }
   ],
   "source": [
    "plot_ph_quality <- red_data %>% \n",
    "    ggplot(aes(x=quality, y=pH)) +\n",
    "    geom_point()\n",
    "plot_ph_quality\n",
    "plot_density_quality <- red_data %>% \n",
    "    ggplot(aes(x=quality, y=density)) +\n",
    "    geom_point()\n",
    "plot_density_quality\n",
    "plot_sulphates_quality <- red_data %>% \n",
    "    ggplot(aes(x=quality, y=sulphates)) +\n",
    "    geom_point()\n",
    "plot_sulphates_quality\n",
    "plot_alcohol_quality <- red_data %>% \n",
    "    ggplot(aes(x=quality, y=alcohol)) +\n",
    "    geom_point()\n",
    "plot_alcohol_quality"
   ]
  },
  {
   "cell_type": "code",
   "execution_count": 34,
   "metadata": {},
   "outputs": [
    {
     "data": {},
     "metadata": {},
     "output_type": "display_data"
    },
    {
     "data": {},
     "metadata": {},
     "output_type": "display_data"
    },
    {
     "data": {
      "image/png": "[encoded data removed]",
      "text/plain": [
       "plot without title"
      ]
     },
     "metadata": {},
     "output_type": "display_data"
    },
    {
     "data": {},
     "metadata": {},
     "output_type": "display_data"
    },
    {
     "data": {
      "image/png": "[encoded data removed]",
      "text/plain": [
       "plot without title"
      ]
     },
     "metadata": {},
     "output_type": "display_data"
    },
    {
     "data": {},
     "metadata": {},
     "output_type": "display_data"
    },
    {
     "data": {
      "image/png": "[encoded data removed]",
      "text/plain": [
       "plot without title"
      ]
     },
     "metadata": {},
     "output_type": "display_data"
    },
    {
     "data": {
      "image/png": "[encoded data removed]",
      "text/plain": [
       "plot without title"
      ]
     },
     "metadata": {},
     "output_type": "display_data"
    }
   ],
   "source": [
    "plot_ph_quality_white <- white_data %>% \n",
    "    ggplot(aes(x=quality, y=pH)) +\n",
    "    geom_point()\n",
    "plot_ph_quality_white\n",
    "plot_density_quality_white <- white_data %>% \n",
    "    ggplot(aes(x=quality, y=density)) +\n",
    "    geom_point()\n",
    "plot_density_quality_white\n",
    "plot_sulphates_quality_white <- white_data %>% \n",
    "    ggplot(aes(x=quality, y=sulphates)) +\n",
    "    geom_point()\n",
    "plot_sulphates_quality_white\n",
    "plot_alcohol_quality_white <- white_data %>% \n",
    "    ggplot(aes(x=quality, y=alcohol)) +\n",
    "    geom_point()\n",
    "plot_alcohol_quality_white"
   ]
  },
  {
   "cell_type": "markdown",
   "metadata": {},
   "source": [
    "# Plotting data using BoxPlot"
   ]
  },
  {
   "cell_type": "code",
   "execution_count": 16,
   "metadata": {
    "scrolled": false
   },
   "outputs": [
    {
     "data": {},
     "metadata": {},
     "output_type": "display_data"
    },
    {
     "data": {},
     "metadata": {},
     "output_type": "display_data"
    },
    {
     "data": {
      "image/png": "[encoded data removed]",
      "text/plain": [
       "plot without title"
      ]
     },
     "metadata": {},
     "output_type": "display_data"
    },
    {
     "data": {},
     "metadata": {},
     "output_type": "display_data"
    },
    {
     "data": {
      "image/png": "[encoded data removed]",
      "text/plain": [
       "plot without title"
      ]
     },
     "metadata": {},
     "output_type": "display_data"
    },
    {
     "data": {},
     "metadata": {},
     "output_type": "display_data"
    },
    {
     "data": {
      "image/png": "[encoded data removed]",
      "text/plain": [
       "plot without title"
      ]
     },
     "metadata": {},
     "output_type": "display_data"
    },
    {
     "data": {
      "image/png": "[encoded data removed]",
      "text/plain": [
       "plot without title"
      ]
     },
     "metadata": {},
     "output_type": "display_data"
    }
   ],
   "source": [
    "white_data_quality_factor <- white_data %>% mutate(quality = as.factor(quality))\n",
    "options(repr.plot.width = 2, repr.plot.height = 2)\n",
    "white_data_quality_factor %>% \n",
    "    ggplot(aes(x=quality, y=pH)) +\n",
    "    geom_boxplot()\n",
    "white_data_quality_factor %>% \n",
    "    ggplot(aes(x=quality, y=density)) +\n",
    "    geom_boxplot()\n",
    "white_data_quality_factor %>% \n",
    "    ggplot(aes(x=quality, y=alcohol)) +\n",
    "    geom_boxplot()\n",
    "white_data_quality_factor %>% \n",
    "    ggplot(aes(x=quality, y=sulphates)) +\n",
    "    geom_boxplot()"
   ]
  },
  {
   "cell_type": "code",
   "execution_count": null,
   "metadata": {},
   "outputs": [],
   "source": []
  }
 ],
 "metadata": {
  "kernelspec": {
   "display_name": "R",
   "language": "R",
   "name": "ir"
  },
  "language_info": {
   "codemirror_mode": "r",
   "file_extension": ".r",
   "mimetype": "text/x-r-source",
   "name": "R",
   "pygments_lexer": "r",
   "version": "3.4.1"
  }
 },
 "nbformat": 4,
 "nbformat_minor": 2
}
