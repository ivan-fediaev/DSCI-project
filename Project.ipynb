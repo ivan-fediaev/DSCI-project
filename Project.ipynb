{
 "cells": [
  {
   "cell_type": "code",
   "execution_count": 1,
   "metadata": {},
   "outputs": [
    {
     "name": "stderr",
     "output_type": "stream",
     "text": [
      "Loading tidyverse: ggplot2\n",
      "Loading tidyverse: tibble\n",
      "Loading tidyverse: tidyr\n",
      "Loading tidyverse: readr\n",
      "Loading tidyverse: purrr\n",
      "Loading tidyverse: dplyr\n",
      "Conflicts with tidy packages ---------------------------------------------------\n",
      "filter(): dplyr, stats\n",
      "lag():    dplyr, stats\n",
      "\n",
      "Attaching package: ‘testthat’\n",
      "\n",
      "The following object is masked from ‘package:dplyr’:\n",
      "\n",
      "    matches\n",
      "\n",
      "The following object is masked from ‘package:purrr’:\n",
      "\n",
      "    is_null\n",
      "\n",
      "Loading required package: lattice\n",
      "\n",
      "Attaching package: ‘caret’\n",
      "\n",
      "The following object is masked from ‘package:purrr’:\n",
      "\n",
      "    lift\n",
      "\n",
      "Updating HTML index of packages in '.Library'\n",
      "Making 'packages.html' ... done\n"
     ]
    }
   ],
   "source": [
    "library(tidyverse)\n",
    "library(testthat)\n",
    "library(digest)\n",
    "library(repr)\n",
    "library(caret)\n",
    "install.packages(\"e1071\")"
   ]
  },
  {
   "cell_type": "markdown",
   "metadata": {},
   "source": [
    "Reading the data into R using read.csv with a comma delimiter. "
   ]
  },
  {
   "cell_type": "code",
   "execution_count": 2,
   "metadata": {},
   "outputs": [
    {
     "ename": "ERROR",
     "evalue": "Error in parse(text = x, srcfile = src): <text>:4:12: unexpected symbol\n3: \n4: white_data read.csv\n              ^\n",
     "output_type": "error",
     "traceback": [
      "Error in parse(text = x, srcfile = src): <text>:4:12: unexpected symbol\n3: \n4: white_data read.csv\n              ^\nTraceback:\n"
     ]
    }
   ],
   "source": [
    "red_data <- read.csv(\"winequality-red.csv\", sep = \";\") \n",
    "head(red_data)\n",
    "\n",
    "white_data read.csv(\"wine-quality-white.csv,\", sep = \";\")\n",
    "head(white_data)"
   ]
  },
  {
   "cell_type": "markdown",
   "metadata": {},
   "source": [
    "The data is already tidy, so there is no need to do anything to it."
   ]
  },
  {
   "cell_type": "markdown",
   "metadata": {},
   "source": [
    "Partitioning the data into training and testing sets. "
   ]
  },
  {
   "cell_type": "code",
   "execution_count": 5,
   "metadata": {},
   "outputs": [],
   "source": [
    "set.seed(100)\n",
    "\n",
    "training_set <- red_data %>% \n",
    "    select(quality) %>% \n",
    "    unlist() %>% \n",
    "    createDataPartition(p = 0.75, list = FALSE)\n",
    "\n",
    "X_train <- red_data %>% \n",
    "    select(-density, -quality) %>% \n",
    "    slice(training_set) %>% \n",
    "    data.frame()\n",
    "\n",
    "Y_train <- red_data %>% \n",
    "    select(quality) %>% \n",
    "    slice(training_set) %>% \n",
    "    unlist()\n",
    "\n",
    "X_test <- red_data %>% \n",
    "    select(-density, -quality) %>% \n",
    "    slice(-training_set) %>% \n",
    "    data.frame()\n",
    "\n",
    "Y_test <- red_data %>% \n",
    "    select(quality) %>% \n",
    "    slice(-training_set) %>% \n",
    "    unlist()\n",
    "\n",
    "citric <- red_data %>% \n",
    "    select(citric.acid) %>% \n",
    "    min() %>% \n",
    "    max() %>% \n",
    "    mean() %>% \n",
    "    median()\n",
    "\n",
    "citric <- red_data %>% \n",
    "    select(citric.acid) %>% \n",
    "    max()\n"
   ]
  },
  {
   "cell_type": "markdown",
   "metadata": {},
   "source": [
    "Selecting the best value of k to use."
   ]
  },
  {
   "cell_type": "code",
   "execution_count": 6,
   "metadata": {},
   "outputs": [
    {
     "data": {
      "text/plain": [
       "k-Nearest Neighbors \n",
       "\n",
       "1200 samples\n",
       "  10 predictor\n",
       "\n",
       "No pre-processing\n",
       "Resampling: Cross-Validated (10 fold) \n",
       "Summary of sample sizes: 1080, 1080, 1080, 1079, 1080, 1080, ... \n",
       "Resampling results across tuning parameters:\n",
       "\n",
       "  k    RMSE       Rsquared    MAE      \n",
       "    1  0.8622696  0.17627422  0.5333063\n",
       "    2  0.7869634  0.17569629  0.5595983\n",
       "    3  0.7713734  0.16383159  0.5710962\n",
       "    4  0.7648516  0.15536581  0.5796962\n",
       "    5  0.7515361  0.16144076  0.5778731\n",
       "    6  0.7474851  0.16131368  0.5793297\n",
       "    7  0.7471562  0.15843604  0.5798052\n",
       "    8  0.7487238  0.15262095  0.5818425\n",
       "    9  0.7457168  0.15364922  0.5774423\n",
       "   10  0.7448809  0.15168333  0.5797007\n",
       "   11  0.7420889  0.15596624  0.5790597\n",
       "   12  0.7406330  0.15845307  0.5793459\n",
       "   13  0.7425765  0.15331659  0.5813389\n",
       "   14  0.7403749  0.15687714  0.5781765\n",
       "   15  0.7419765  0.15311638  0.5792016\n",
       "   16  0.7428998  0.15032830  0.5810589\n",
       "   17  0.7421178  0.15260770  0.5810477\n",
       "   18  0.7406806  0.15536631  0.5812315\n",
       "   19  0.7416701  0.15390857  0.5824398\n",
       "   20  0.7408004  0.15674067  0.5832641\n",
       "   21  0.7395969  0.15964309  0.5828084\n",
       "   22  0.7400833  0.15896866  0.5828599\n",
       "   23  0.7405385  0.15768367  0.5843535\n",
       "   24  0.7405924  0.15715601  0.5854783\n",
       "   25  0.7424484  0.15359466  0.5869704\n",
       "   26  0.7426330  0.15249475  0.5867579\n",
       "   27  0.7420824  0.15359621  0.5867263\n",
       "   28  0.7431101  0.15109725  0.5872516\n",
       "   29  0.7422003  0.15400351  0.5866917\n",
       "   30  0.7446248  0.14716624  0.5885616\n",
       "   31  0.7460046  0.14382296  0.5901378\n",
       "   32  0.7467278  0.14276304  0.5912845\n",
       "   33  0.7467793  0.14373278  0.5923025\n",
       "   34  0.7470561  0.14320092  0.5927040\n",
       "   35  0.7475202  0.14280070  0.5931594\n",
       "   36  0.7496488  0.13741465  0.5943745\n",
       "   37  0.7496847  0.13701387  0.5949202\n",
       "   38  0.7496795  0.13668177  0.5949396\n",
       "   39  0.7496948  0.13707063  0.5957030\n",
       "   40  0.7499114  0.13690331  0.5963758\n",
       "   41  0.7496557  0.13766101  0.5958362\n",
       "   42  0.7501098  0.13611867  0.5967164\n",
       "   43  0.7496463  0.13764807  0.5962611\n",
       "   44  0.7505057  0.13527359  0.5971711\n",
       "   45  0.7508604  0.13438781  0.5977805\n",
       "   46  0.7510651  0.13383393  0.5978377\n",
       "   47  0.7510754  0.13372266  0.5982046\n",
       "   48  0.7511854  0.13360441  0.5985582\n",
       "   49  0.7521103  0.13058854  0.5988831\n",
       "   50  0.7524929  0.12972414  0.5993624\n",
       "   51  0.7534793  0.12632877  0.5999536\n",
       "   52  0.7534236  0.12680909  0.6007535\n",
       "   53  0.7542530  0.12452471  0.6015867\n",
       "   54  0.7546661  0.12338722  0.6018213\n",
       "   55  0.7542702  0.12484223  0.6017692\n",
       "   56  0.7541000  0.12538550  0.6022412\n",
       "   57  0.7550384  0.12267483  0.6033964\n",
       "   58  0.7555281  0.12155857  0.6042769\n",
       "   59  0.7557696  0.12038486  0.6044161\n",
       "   60  0.7558495  0.12048805  0.6046987\n",
       "   61  0.7561909  0.11995004  0.6053868\n",
       "   62  0.7571488  0.11771676  0.6063095\n",
       "   63  0.7572875  0.11714535  0.6061501\n",
       "   64  0.7571826  0.11749941  0.6059634\n",
       "   65  0.7576747  0.11590513  0.6065878\n",
       "   66  0.7580689  0.11482581  0.6067244\n",
       "   67  0.7581020  0.11495774  0.6069039\n",
       "   68  0.7584664  0.11415961  0.6070429\n",
       "   69  0.7589948  0.11257971  0.6076159\n",
       "   70  0.7593640  0.11163354  0.6084532\n",
       "   71  0.7592087  0.11229776  0.6087602\n",
       "   72  0.7598181  0.11092352  0.6091942\n",
       "   73  0.7596757  0.11148650  0.6090628\n",
       "   74  0.7595654  0.11217863  0.6091748\n",
       "   75  0.7598631  0.11139579  0.6097862\n",
       "   76  0.7601923  0.11076200  0.6103921\n",
       "   77  0.7606121  0.10989528  0.6107333\n",
       "   78  0.7612755  0.10819733  0.6117598\n",
       "   79  0.7617953  0.10679168  0.6122700\n",
       "   80  0.7615846  0.10741447  0.6122117\n",
       "   81  0.7616653  0.10727798  0.6123864\n",
       "   82  0.7622995  0.10587523  0.6129499\n",
       "   83  0.7624451  0.10544231  0.6132714\n",
       "   84  0.7632496  0.10355683  0.6141955\n",
       "   85  0.7633499  0.10346237  0.6146032\n",
       "   86  0.7632281  0.10403456  0.6147839\n",
       "   87  0.7635436  0.10332121  0.6151791\n",
       "   88  0.7638077  0.10305484  0.6154684\n",
       "   89  0.7642900  0.10158736  0.6161709\n",
       "   90  0.7645794  0.10062714  0.6164180\n",
       "   91  0.7648388  0.09979482  0.6166451\n",
       "   92  0.7651345  0.09920027  0.6171472\n",
       "   93  0.7651490  0.09921379  0.6174802\n",
       "   94  0.7658847  0.09718660  0.6184412\n",
       "   95  0.7663021  0.09598980  0.6190813\n",
       "   96  0.7665465  0.09517378  0.6192754\n",
       "   97  0.7667724  0.09503615  0.6198093\n",
       "   98  0.7669173  0.09497623  0.6202752\n",
       "   99  0.7676273  0.09275368  0.6210842\n",
       "  100  0.7677154  0.09233167  0.6212273\n",
       "\n",
       "RMSE was used to select the optimal model using the smallest value.\n",
       "The final value used for the model was k = 21."
      ]
     },
     "metadata": {},
     "output_type": "display_data"
    }
   ],
   "source": [
    "train_control <- trainControl(method = \"cv\", number = 10)\n",
    "k = data.frame(k = seq(from = 1, to = 100, by = 1))\n",
    "\n",
    "knn <- train(x = X_train, y = Y_train, method = \"knn\", tuneGrid = k, trControl = train_control)\n",
    "knn"
   ]
  },
  {
   "cell_type": "markdown",
   "metadata": {},
   "source": [
    "The plot of k vs RMSE"
   ]
  },
  {
   "cell_type": "code",
   "execution_count": 8,
   "metadata": {},
   "outputs": [
    {
     "data": {},
     "metadata": {},
     "output_type": "display_data"
    },
    {
     "data": {
      "image/png": "[encoded data removed]",
      "text/plain": [
       "plot without title"
      ]
     },
     "metadata": {},
     "output_type": "display_data"
    }
   ],
   "source": [
    "options(repr.plot.width = 4, repr.plot.height = 4)\n",
    "\n",
    "k_accuracies <- knn$results\n",
    "\n",
    "RMSE_plot <- knn %>% \n",
    "    ggplot(aes(x = k, y = RMSE)) + \n",
    "    geom_point() +\n",
    "    geom_line() +\n",
    "    xlab(\"K Value\") + \n",
    "    ylab(\"RMSE\")\n",
    "\n",
    "RMSE_plot"
   ]
  },
  {
   "cell_type": "markdown",
   "metadata": {},
   "source": [
    "We will select k = 21 to train our model because k is the smallest k value that give the smallest RMSE."
   ]
  },
  {
   "cell_type": "code",
   "execution_count": 90,
   "metadata": {},
   "outputs": [
    {
     "data": {
      "text/plain": [
       "k-Nearest Neighbors \n",
       "\n",
       "1200 samples\n",
       "  10 predictor\n",
       "\n",
       "No pre-processing\n",
       "Resampling: Bootstrapped (25 reps) \n",
       "Summary of sample sizes: 1200, 1200, 1200, 1200, 1200, 1200, ... \n",
       "Resampling results:\n",
       "\n",
       "  RMSE     Rsquared   MAE      \n",
       "  0.78228  0.1191443  0.6005299\n",
       "\n",
       "Tuning parameter 'k' was held constant at a value of 7"
      ]
     },
     "metadata": {},
     "output_type": "display_data"
    }
   ],
   "source": [
    "k_best <- data.frame(k = 7)\n",
    "knn_red <- train(x = X_train, y = Y_train, method = \"knn\", tuneGrid = k_best)\n",
    "knn_red"
   ]
  },
  {
   "cell_type": "markdown",
   "metadata": {},
   "source": [
    "Testing the model onto the test data."
   ]
  },
  {
   "cell_type": "code",
   "execution_count": 11,
   "metadata": {
    "scrolled": true
   },
   "outputs": [
    {
     "data": {
      "text/html": [
       "<table>\n",
       "<thead><tr><th></th><th scope=col>obs</th><th scope=col>pred</th></tr></thead>\n",
       "<tbody>\n",
       "\t<tr><th scope=row>quality1</th><td>5       </td><td>5.476190</td></tr>\n",
       "\t<tr><th scope=row>quality2</th><td>5       </td><td>5.428571</td></tr>\n",
       "\t<tr><th scope=row>quality3</th><td>5       </td><td>5.363636</td></tr>\n",
       "\t<tr><th scope=row>quality4</th><td>5       </td><td>5.428571</td></tr>\n",
       "\t<tr><th scope=row>quality5</th><td>5       </td><td>5.523810</td></tr>\n",
       "\t<tr><th scope=row>quality6</th><td>7       </td><td>5.285714</td></tr>\n",
       "\t<tr><th scope=row>quality7</th><td>4       </td><td>5.476190</td></tr>\n",
       "\t<tr><th scope=row>quality8</th><td>5       </td><td>5.476190</td></tr>\n",
       "\t<tr><th scope=row>quality9</th><td>5       </td><td>5.333333</td></tr>\n",
       "\t<tr><th scope=row>quality10</th><td>6       </td><td>5.590909</td></tr>\n",
       "</tbody>\n",
       "</table>\n"
      ],
      "text/latex": [
       "\\begin{tabular}{r|ll}\n",
       "  & obs & pred\\\\\n",
       "\\hline\n",
       "\tquality1 & 5        & 5.476190\\\\\n",
       "\tquality2 & 5        & 5.428571\\\\\n",
       "\tquality3 & 5        & 5.363636\\\\\n",
       "\tquality4 & 5        & 5.428571\\\\\n",
       "\tquality5 & 5        & 5.523810\\\\\n",
       "\tquality6 & 7        & 5.285714\\\\\n",
       "\tquality7 & 4        & 5.476190\\\\\n",
       "\tquality8 & 5        & 5.476190\\\\\n",
       "\tquality9 & 5        & 5.333333\\\\\n",
       "\tquality10 & 6        & 5.590909\\\\\n",
       "\\end{tabular}\n"
      ],
      "text/markdown": [
       "\n",
       "| <!--/--> | obs | pred | \n",
       "|---|---|---|---|---|---|---|---|---|---|\n",
       "| quality1 | 5        | 5.476190 | \n",
       "| quality2 | 5        | 5.428571 | \n",
       "| quality3 | 5        | 5.363636 | \n",
       "| quality4 | 5        | 5.428571 | \n",
       "| quality5 | 5        | 5.523810 | \n",
       "| quality6 | 7        | 5.285714 | \n",
       "| quality7 | 4        | 5.476190 | \n",
       "| quality8 | 5        | 5.476190 | \n",
       "| quality9 | 5        | 5.333333 | \n",
       "| quality10 | 6        | 5.590909 | \n",
       "\n",
       "\n"
      ],
      "text/plain": [
       "          obs pred    \n",
       "quality1  5   5.476190\n",
       "quality2  5   5.428571\n",
       "quality3  5   5.363636\n",
       "quality4  5   5.428571\n",
       "quality5  5   5.523810\n",
       "quality6  7   5.285714\n",
       "quality7  4   5.476190\n",
       "quality8  5   5.476190\n",
       "quality9  5   5.333333\n",
       "quality10 6   5.590909"
      ]
     },
     "metadata": {},
     "output_type": "display_data"
    }
   ],
   "source": [
    "k <- data.frame(k = 21)\n",
    "knn_21 <- train(x = X_train, y = Y_train, method = \"knn\", tuneGrid = k)\n",
    "\n",
    "test <- predict(knn_21, X_test)\n",
    "\n",
    "predictions <- data.frame(obs = Y_test, pred = test)\n",
    "\n",
    "head(predictions, n = 10)"
   ]
  },
  {
   "cell_type": "code",
   "execution_count": 12,
   "metadata": {},
   "outputs": [
    {
     "data": {
      "text/html": [
       "<dl class=dl-horizontal>\n",
       "\t<dt>RMSE</dt>\n",
       "\t\t<dd>0.750092009457794</dd>\n",
       "\t<dt>Rsquared</dt>\n",
       "\t\t<dd>0.173536054588473</dd>\n",
       "\t<dt>MAE</dt>\n",
       "\t\t<dd>0.58644210752743</dd>\n",
       "</dl>\n"
      ],
      "text/latex": [
       "\\begin{description*}\n",
       "\\item[RMSE] 0.750092009457794\n",
       "\\item[Rsquared] 0.173536054588473\n",
       "\\item[MAE] 0.58644210752743\n",
       "\\end{description*}\n"
      ],
      "text/markdown": [
       "RMSE\n",
       ":   0.750092009457794Rsquared\n",
       ":   0.173536054588473MAE\n",
       ":   0.58644210752743\n",
       "\n"
      ],
      "text/plain": [
       "     RMSE  Rsquared       MAE \n",
       "0.7500920 0.1735361 0.5864421 "
      ]
     },
     "metadata": {},
     "output_type": "display_data"
    }
   ],
   "source": [
    "test_error <- defaultSummary(predictions)\n",
    "test_error"
   ]
  },
  {
   "cell_type": "markdown",
   "metadata": {},
   "source": [
    "The min and max wine qualities in the testing set. "
   ]
  },
  {
   "cell_type": "code",
   "execution_count": 14,
   "metadata": {},
   "outputs": [
    {
     "data": {
      "text/html": [
       "3"
      ],
      "text/latex": [
       "3"
      ],
      "text/markdown": [
       "3"
      ],
      "text/plain": [
       "[1] 3"
      ]
     },
     "metadata": {},
     "output_type": "display_data"
    },
    {
     "data": {
      "text/html": [
       "8"
      ],
      "text/latex": [
       "8"
      ],
      "text/markdown": [
       "8"
      ],
      "text/plain": [
       "[1] 8"
      ]
     },
     "metadata": {},
     "output_type": "display_data"
    },
    {
     "data": {
      "text/html": [
       "0.150018401891559"
      ],
      "text/latex": [
       "0.150018401891559"
      ],
      "text/markdown": [
       "0.150018401891559"
      ],
      "text/plain": [
       "[1] 0.1500184"
      ]
     },
     "metadata": {},
     "output_type": "display_data"
    }
   ],
   "source": [
    "min(Y_test)\n",
    "max(Y_test)\n",
    "\n",
    "error_ratio <- 0.750092009457794/(8-3)\n",
    "error_ratio"
   ]
  },
  {
   "cell_type": "markdown",
   "metadata": {},
   "source": [
    "Let's try to reduce this error. "
   ]
  },
  {
   "cell_type": "code",
   "execution_count": 15,
   "metadata": {},
   "outputs": [
    {
     "data": {
      "text/html": [
       "<table>\n",
       "<thead><tr><th scope=col>quality</th><th scope=col>residual.sugar</th><th scope=col>chlorides</th><th scope=col>pH</th><th scope=col>sulphates</th><th scope=col>acidity.ratio</th><th scope=col>sulfur.dioxide.ratio</th><th scope=col>alcohol.percent</th></tr></thead>\n",
       "<tbody>\n",
       "\t<tr><td>5        </td><td>0.6541052</td><td>0.7649761</td><td>1.0585855</td><td>0.8237400</td><td>1.2983699</td><td>0.7841759</td><td>0.8968984</td></tr>\n",
       "\t<tr><td>5        </td><td>0.8950914</td><td>0.9864165</td><td>0.9650922</td><td>1.0002557</td><td>1.5485320</td><td>0.9044091</td><td>0.9350642</td></tr>\n",
       "\t<tr><td>5        </td><td>0.7918116</td><td>0.9260236</td><td>0.9831877</td><td>0.9561268</td><td>1.3373685</td><td>0.6732824</td><td>0.9350642</td></tr>\n",
       "\t<tr><td>6        </td><td>0.6541052</td><td>0.7549106</td><td>0.9530286</td><td>0.8531593</td><td>0.3431406</td><td>0.6867480</td><td>0.9350642</td></tr>\n",
       "\t<tr><td>5        </td><td>0.6541052</td><td>0.7649761</td><td>1.0585855</td><td>0.8237400</td><td>1.2983699</td><td>0.7841759</td><td>0.8968984</td></tr>\n",
       "\t<tr><td>5        </td><td>0.6196787</td><td>0.7549106</td><td>1.0585855</td><td>0.8237400</td><td>1.2241773</td><td>0.7877404</td><td>0.8968984</td></tr>\n",
       "</tbody>\n",
       "</table>\n"
      ],
      "text/latex": [
       "\\begin{tabular}{r|llllllll}\n",
       " quality & residual.sugar & chlorides & pH & sulphates & acidity.ratio & sulfur.dioxide.ratio & alcohol.percent\\\\\n",
       "\\hline\n",
       "\t 5         & 0.6541052 & 0.7649761 & 1.0585855 & 0.8237400 & 1.2983699 & 0.7841759 & 0.8968984\\\\\n",
       "\t 5         & 0.8950914 & 0.9864165 & 0.9650922 & 1.0002557 & 1.5485320 & 0.9044091 & 0.9350642\\\\\n",
       "\t 5         & 0.7918116 & 0.9260236 & 0.9831877 & 0.9561268 & 1.3373685 & 0.6732824 & 0.9350642\\\\\n",
       "\t 6         & 0.6541052 & 0.7549106 & 0.9530286 & 0.8531593 & 0.3431406 & 0.6867480 & 0.9350642\\\\\n",
       "\t 5         & 0.6541052 & 0.7649761 & 1.0585855 & 0.8237400 & 1.2983699 & 0.7841759 & 0.8968984\\\\\n",
       "\t 5         & 0.6196787 & 0.7549106 & 1.0585855 & 0.8237400 & 1.2241773 & 0.7877404 & 0.8968984\\\\\n",
       "\\end{tabular}\n"
      ],
      "text/markdown": [
       "\n",
       "quality | residual.sugar | chlorides | pH | sulphates | acidity.ratio | sulfur.dioxide.ratio | alcohol.percent | \n",
       "|---|---|---|---|---|---|\n",
       "| 5         | 0.6541052 | 0.7649761 | 1.0585855 | 0.8237400 | 1.2983699 | 0.7841759 | 0.8968984 | \n",
       "| 5         | 0.8950914 | 0.9864165 | 0.9650922 | 1.0002557 | 1.5485320 | 0.9044091 | 0.9350642 | \n",
       "| 5         | 0.7918116 | 0.9260236 | 0.9831877 | 0.9561268 | 1.3373685 | 0.6732824 | 0.9350642 | \n",
       "| 6         | 0.6541052 | 0.7549106 | 0.9530286 | 0.8531593 | 0.3431406 | 0.6867480 | 0.9350642 | \n",
       "| 5         | 0.6541052 | 0.7649761 | 1.0585855 | 0.8237400 | 1.2983699 | 0.7841759 | 0.8968984 | \n",
       "| 5         | 0.6196787 | 0.7549106 | 1.0585855 | 0.8237400 | 1.2241773 | 0.7877404 | 0.8968984 | \n",
       "\n",
       "\n"
      ],
      "text/plain": [
       "  quality residual.sugar chlorides pH        sulphates acidity.ratio\n",
       "1 5       0.6541052      0.7649761 1.0585855 0.8237400 1.2983699    \n",
       "2 5       0.8950914      0.9864165 0.9650922 1.0002557 1.5485320    \n",
       "3 5       0.7918116      0.9260236 0.9831877 0.9561268 1.3373685    \n",
       "4 6       0.6541052      0.7549106 0.9530286 0.8531593 0.3431406    \n",
       "5 5       0.6541052      0.7649761 1.0585855 0.8237400 1.2983699    \n",
       "6 5       0.6196787      0.7549106 1.0585855 0.8237400 1.2241773    \n",
       "  sulfur.dioxide.ratio alcohol.percent\n",
       "1 0.7841759            0.8968984      \n",
       "2 0.9044091            0.9350642      \n",
       "3 0.6732824            0.9350642      \n",
       "4 0.6867480            0.9350642      \n",
       "5 0.7841759            0.8968984      \n",
       "6 0.7877404            0.8968984      "
      ]
     },
     "metadata": {},
     "output_type": "display_data"
    }
   ],
   "source": [
    "red_data_new <- red_data %>% \n",
    "    mutate(acidity.ratio = volatile.acidity/fixed.acidity) %>% \n",
    "    mutate(sulfur.dioxide.ratio = free.sulfur.dioxide/total.sulfur.dioxide) %>% \n",
    "    mutate(alcohol.percent = alcohol / 100) %>%\n",
    "    select(residual.sugar, chlorides, pH, sulphates, acidity.ratio, sulfur.dioxide.ratio, alcohol.percent, quality)\n",
    "\n",
    "red_scaled <- red_data_new %>% \n",
    "  select(-quality) %>% \n",
    "  scale(center = FALSE) \n",
    "\n",
    "red_scaled <- data.frame(quality = red_data_new$quality, red_scaled)\n",
    "\n",
    "\n",
    "head(red_scaled)"
   ]
  },
  {
   "cell_type": "code",
   "execution_count": 16,
   "metadata": {},
   "outputs": [],
   "source": [
    "scaled_training <- red_scaled %>% \n",
    "    select(quality) %>% \n",
    "    unlist() %>% \n",
    "    createDataPartition(p = 0.75, list = FALSE)\n",
    "\n",
    "X_train_scaled <- red_scaled %>% \n",
    "    select(-quality) %>% \n",
    "    slice(scaled_training) %>% \n",
    "    data.frame()\n",
    "\n",
    "Y_train_scaled <- red_scaled %>% \n",
    "    select(quality) %>% \n",
    "    slice(scaled_training) %>% \n",
    "    unlist()\n",
    "\n",
    "X_test_scaled <- red_scaled %>% \n",
    "    select(-quality) %>% \n",
    "    slice(-scaled_training) %>% \n",
    "    data.frame()\n",
    "\n",
    "Y_test_scaled <- red_scaled %>% \n",
    "    select(quality) %>% \n",
    "    slice(-scaled_training) %>% \n",
    "    unlist()\n"
   ]
  },
  {
   "cell_type": "code",
   "execution_count": 17,
   "metadata": {},
   "outputs": [
    {
     "data": {
      "text/plain": [
       "k-Nearest Neighbors \n",
       "\n",
       "1200 samples\n",
       "   7 predictor\n",
       "\n",
       "No pre-processing\n",
       "Resampling: Cross-Validated (10 fold) \n",
       "Summary of sample sizes: 1080, 1080, 1080, 1080, 1080, 1079, ... \n",
       "Resampling results across tuning parameters:\n",
       "\n",
       "  k    RMSE       Rsquared   MAE      \n",
       "    1  0.7816862  0.2767084  0.4582365\n",
       "    2  0.7414771  0.2681052  0.5216998\n",
       "    3  0.7245404  0.2648313  0.5293627\n",
       "    4  0.7109858  0.2666888  0.5297685\n",
       "    5  0.7119799  0.2541996  0.5369366\n",
       "    6  0.7011559  0.2662887  0.5321627\n",
       "    7  0.7046043  0.2582094  0.5409280\n",
       "    8  0.7011626  0.2590453  0.5401962\n",
       "    9  0.6988850  0.2609281  0.5403839\n",
       "   10  0.6969819  0.2634710  0.5397774\n",
       "   11  0.6919621  0.2720553  0.5367005\n",
       "   12  0.6888503  0.2779782  0.5345136\n",
       "   13  0.6879204  0.2800307  0.5346607\n",
       "   14  0.6870292  0.2813755  0.5356328\n",
       "   15  0.6903895  0.2747170  0.5394909\n",
       "   16  0.6902599  0.2751704  0.5404713\n",
       "   17  0.6874199  0.2812519  0.5387491\n",
       "   18  0.6872942  0.2814943  0.5392699\n",
       "   19  0.6873961  0.2814611  0.5395941\n",
       "   20  0.6863799  0.2840992  0.5392088\n",
       "   21  0.6863549  0.2846028  0.5408313\n",
       "   22  0.6863250  0.2848645  0.5401244\n",
       "   23  0.6846362  0.2891179  0.5394665\n",
       "   24  0.6849339  0.2886253  0.5396587\n",
       "   25  0.6861348  0.2866675  0.5398925\n",
       "   26  0.6856945  0.2882588  0.5409670\n",
       "   27  0.6847708  0.2905071  0.5401771\n",
       "   28  0.6836589  0.2935297  0.5401447\n",
       "   29  0.6836602  0.2935238  0.5405115\n",
       "   30  0.6852524  0.2896778  0.5421354\n",
       "   31  0.6851527  0.2900385  0.5425612\n",
       "   32  0.6847470  0.2912836  0.5424755\n",
       "   33  0.6863760  0.2874383  0.5437770\n",
       "   34  0.6875062  0.2847625  0.5448260\n",
       "   35  0.6878919  0.2841337  0.5456808\n",
       "   36  0.6886088  0.2827823  0.5464432\n",
       "   37  0.6897415  0.2799835  0.5465966\n",
       "   38  0.6896125  0.2805820  0.5473177\n",
       "   39  0.6897041  0.2807000  0.5477510\n",
       "   40  0.6900519  0.2804818  0.5479560\n",
       "   41  0.6898306  0.2812840  0.5483964\n",
       "   42  0.6906947  0.2796552  0.5496787\n",
       "   43  0.6909238  0.2792912  0.5501453\n",
       "   44  0.6912875  0.2785632  0.5506809\n",
       "   45  0.6909564  0.2796351  0.5504360\n",
       "   46  0.6912538  0.2790783  0.5504137\n",
       "   47  0.6908755  0.2802721  0.5499818\n",
       "   48  0.6909684  0.2800807  0.5497405\n",
       "   49  0.6905585  0.2810717  0.5491567\n",
       "   50  0.6913819  0.2793183  0.5499972\n",
       "   51  0.6912958  0.2798667  0.5499959\n",
       "   52  0.6916606  0.2790180  0.5505298\n",
       "   53  0.6920394  0.2784626  0.5510667\n",
       "   54  0.6921382  0.2784324  0.5509467\n",
       "   55  0.6928090  0.2772859  0.5516384\n",
       "   56  0.6929224  0.2771584  0.5520478\n",
       "   57  0.6925540  0.2783450  0.5516508\n",
       "   58  0.6928377  0.2777798  0.5518115\n",
       "   59  0.6935002  0.2764424  0.5523065\n",
       "   60  0.6938491  0.2758515  0.5525931\n",
       "   61  0.6939254  0.2759860  0.5531694\n",
       "   62  0.6943677  0.2750100  0.5531197\n",
       "   63  0.6944762  0.2751306  0.5532904\n",
       "   64  0.6947971  0.2743934  0.5533352\n",
       "   65  0.6951829  0.2733878  0.5535141\n",
       "   66  0.6953269  0.2729669  0.5534137\n",
       "   67  0.6956827  0.2720964  0.5538990\n",
       "   68  0.6958927  0.2717814  0.5543486\n",
       "   69  0.6959680  0.2715477  0.5542523\n",
       "   70  0.6960080  0.2714159  0.5544468\n",
       "   71  0.6961490  0.2713801  0.5546640\n",
       "   72  0.6965784  0.2704712  0.5549238\n",
       "   73  0.6967897  0.2701507  0.5550156\n",
       "   74  0.6972976  0.2692009  0.5553467\n",
       "   75  0.6976364  0.2684819  0.5556542\n",
       "   76  0.6974591  0.2691206  0.5553521\n",
       "   77  0.6974981  0.2692109  0.5554594\n",
       "   78  0.6976115  0.2692015  0.5556019\n",
       "   79  0.6974259  0.2697709  0.5555318\n",
       "   80  0.6975814  0.2693892  0.5559627\n",
       "   81  0.6975728  0.2696929  0.5559707\n",
       "   82  0.6979880  0.2689201  0.5563759\n",
       "   83  0.6984456  0.2681697  0.5569622\n",
       "   84  0.6984849  0.2680413  0.5569805\n",
       "   85  0.6993534  0.2658984  0.5574959\n",
       "   86  0.6994555  0.2656805  0.5576107\n",
       "   87  0.6998418  0.2649673  0.5578849\n",
       "   88  0.6999436  0.2647856  0.5581016\n",
       "   89  0.7002870  0.2640170  0.5586912\n",
       "   90  0.7009851  0.2624335  0.5592941\n",
       "   91  0.7010315  0.2623619  0.5591551\n",
       "   92  0.7012549  0.2618721  0.5594274\n",
       "   93  0.7009632  0.2629698  0.5590983\n",
       "   94  0.7007258  0.2637325  0.5585769\n",
       "   95  0.7009356  0.2633892  0.5587441\n",
       "   96  0.7010786  0.2632733  0.5589283\n",
       "   97  0.7010652  0.2634696  0.5590872\n",
       "   98  0.7015460  0.2622687  0.5596983\n",
       "   99  0.7018795  0.2615677  0.5600256\n",
       "  100  0.7018129  0.2619544  0.5598046\n",
       "\n",
       "RMSE was used to select the optimal model using the smallest value.\n",
       "The final value used for the model was k = 28."
      ]
     },
     "metadata": {},
     "output_type": "display_data"
    }
   ],
   "source": [
    "train_control <- trainControl(method = \"cv\", number = 10)\n",
    "k = data.frame(k = seq(from = 1, to = 100, by = 1))\n",
    "\n",
    "knn_scaled <- train(x = X_train_scaled, y = Y_train_scaled, method = \"knn\", tuneGrid = k, trControl = train_control)\n",
    "knn_scaled"
   ]
  },
  {
   "cell_type": "code",
   "execution_count": 100,
   "metadata": {},
   "outputs": [
    {
     "data": {
      "text/plain": [
       "k-Nearest Neighbors \n",
       "\n",
       "1200 samples\n",
       "   7 predictor\n",
       "\n",
       "No pre-processing\n",
       "Resampling: Bootstrapped (25 reps) \n",
       "Summary of sample sizes: 1200, 1200, 1200, 1200, 1200, 1200, ... \n",
       "Resampling results:\n",
       "\n",
       "  RMSE       Rsquared  MAE      \n",
       "  0.6975325  0.27102   0.5524058\n",
       "\n",
       "Tuning parameter 'k' was held constant at a value of 26"
      ]
     },
     "metadata": {},
     "output_type": "display_data"
    }
   ],
   "source": [
    "k_best_scaled = data.frame(k = 26)\n",
    "\n",
    "knn_scaled <- train(x = X_train_scaled, y = Y_train_scaled, method = \"knn\", tuneGrid = k_best_scaled)\n",
    "\n",
    "knn_scaled\n"
   ]
  },
  {
   "cell_type": "code",
   "execution_count": 19,
   "metadata": {},
   "outputs": [
    {
     "data": {
      "text/html": [
       "<table>\n",
       "<thead><tr><th></th><th scope=col>obs</th><th scope=col>pred</th></tr></thead>\n",
       "<tbody>\n",
       "\t<tr><th scope=row>quality1</th><td>5       </td><td>5.000000</td></tr>\n",
       "\t<tr><th scope=row>quality2</th><td>5       </td><td>5.692308</td></tr>\n",
       "\t<tr><th scope=row>quality3</th><td>5       </td><td>5.576923</td></tr>\n",
       "\t<tr><th scope=row>quality4</th><td>5       </td><td>5.461538</td></tr>\n",
       "\t<tr><th scope=row>quality5</th><td>4       </td><td>5.269231</td></tr>\n",
       "\t<tr><th scope=row>quality6</th><td>6       </td><td>5.461538</td></tr>\n",
       "\t<tr><th scope=row>quality7</th><td>6       </td><td>5.576923</td></tr>\n",
       "\t<tr><th scope=row>quality8</th><td>5       </td><td>5.111111</td></tr>\n",
       "\t<tr><th scope=row>quality9</th><td>5       </td><td>5.153846</td></tr>\n",
       "\t<tr><th scope=row>quality10</th><td>6       </td><td>5.785714</td></tr>\n",
       "</tbody>\n",
       "</table>\n"
      ],
      "text/latex": [
       "\\begin{tabular}{r|ll}\n",
       "  & obs & pred\\\\\n",
       "\\hline\n",
       "\tquality1 & 5        & 5.000000\\\\\n",
       "\tquality2 & 5        & 5.692308\\\\\n",
       "\tquality3 & 5        & 5.576923\\\\\n",
       "\tquality4 & 5        & 5.461538\\\\\n",
       "\tquality5 & 4        & 5.269231\\\\\n",
       "\tquality6 & 6        & 5.461538\\\\\n",
       "\tquality7 & 6        & 5.576923\\\\\n",
       "\tquality8 & 5        & 5.111111\\\\\n",
       "\tquality9 & 5        & 5.153846\\\\\n",
       "\tquality10 & 6        & 5.785714\\\\\n",
       "\\end{tabular}\n"
      ],
      "text/markdown": [
       "\n",
       "| <!--/--> | obs | pred | \n",
       "|---|---|---|---|---|---|---|---|---|---|\n",
       "| quality1 | 5        | 5.000000 | \n",
       "| quality2 | 5        | 5.692308 | \n",
       "| quality3 | 5        | 5.576923 | \n",
       "| quality4 | 5        | 5.461538 | \n",
       "| quality5 | 4        | 5.269231 | \n",
       "| quality6 | 6        | 5.461538 | \n",
       "| quality7 | 6        | 5.576923 | \n",
       "| quality8 | 5        | 5.111111 | \n",
       "| quality9 | 5        | 5.153846 | \n",
       "| quality10 | 6        | 5.785714 | \n",
       "\n",
       "\n"
      ],
      "text/plain": [
       "          obs pred    \n",
       "quality1  5   5.000000\n",
       "quality2  5   5.692308\n",
       "quality3  5   5.576923\n",
       "quality4  5   5.461538\n",
       "quality5  4   5.269231\n",
       "quality6  6   5.461538\n",
       "quality7  6   5.576923\n",
       "quality8  5   5.111111\n",
       "quality9  5   5.153846\n",
       "quality10 6   5.785714"
      ]
     },
     "metadata": {},
     "output_type": "display_data"
    },
    {
     "data": {},
     "metadata": {},
     "output_type": "display_data"
    },
    {
     "data": {
      "image/png": "[encoded data removed]",
      "text/plain": [
       "plot without title"
      ]
     },
     "metadata": {},
     "output_type": "display_data"
    }
   ],
   "source": [
    "k <- data.frame(k = 26)\n",
    "\n",
    "knn_final_s <- train(x = X_train_scaled, y = Y_train_scaled, method = \"knn\", tuneGrid = k)\n",
    "\n",
    "test_scaled <- predict(knn_final_s, X_test_scaled)\n",
    "\n",
    "predictions_scaled <- data.frame(obs = Y_test_scaled, pred = test_scaled)\n",
    "\n",
    "head(predictions_scaled, n = 10)\n",
    "\n",
    "plot <- predictions_scaled %>% \n",
    "    ggplot(aes(x = pred, y = obs)) +\n",
    "    geom_point() + \n",
    "    xlab(\"Predicted Quality\") + \n",
    "    ylab(\"Observed Quality\")\n",
    "\n",
    "plot"
   ]
  },
  {
   "cell_type": "code",
   "execution_count": 21,
   "metadata": {},
   "outputs": [
    {
     "data": {
      "text/html": [
       "<dl class=dl-horizontal>\n",
       "\t<dt>RMSE</dt>\n",
       "\t\t<dd>0.671133163073198</dd>\n",
       "\t<dt>Rsquared</dt>\n",
       "\t\t<dd>0.294384712815262</dd>\n",
       "\t<dt>MAE</dt>\n",
       "\t\t<dd>0.535262658069676</dd>\n",
       "</dl>\n"
      ],
      "text/latex": [
       "\\begin{description*}\n",
       "\\item[RMSE] 0.671133163073198\n",
       "\\item[Rsquared] 0.294384712815262\n",
       "\\item[MAE] 0.535262658069676\n",
       "\\end{description*}\n"
      ],
      "text/markdown": [
       "RMSE\n",
       ":   0.671133163073198Rsquared\n",
       ":   0.294384712815262MAE\n",
       ":   0.535262658069676\n",
       "\n"
      ],
      "text/plain": [
       "     RMSE  Rsquared       MAE \n",
       "0.6711332 0.2943847 0.5352627 "
      ]
     },
     "metadata": {},
     "output_type": "display_data"
    },
    {
     "data": {
      "text/html": [
       "0.13422663261464"
      ],
      "text/latex": [
       "0.13422663261464"
      ],
      "text/markdown": [
       "0.13422663261464"
      ],
      "text/plain": [
       "[1] 0.1342266"
      ]
     },
     "metadata": {},
     "output_type": "display_data"
    }
   ],
   "source": [
    "test_error <- defaultSummary(predictions_scaled)\n",
    "test_error\n",
    "\n",
    "error_ratio <- 0.671133163073198/(8-3)\n",
    "error_ratio"
   ]
  },
  {
   "cell_type": "markdown",
   "metadata": {},
   "source": [
    "# Ivan's Workspace"
   ]
  },
  {
   "cell_type": "code",
   "execution_count": 15,
   "metadata": {},
   "outputs": [
    {
     "data": {
      "text/html": [
       "<table>\n",
       "<thead><tr><th scope=col>fixed.acidity</th><th scope=col>volatile.acidity</th><th scope=col>citric.acid</th><th scope=col>residual.sugar</th><th scope=col>chlorides</th><th scope=col>free.sulfur.dioxide</th><th scope=col>total.sulfur.dioxide</th><th scope=col>density</th><th scope=col>pH</th><th scope=col>sulphates</th><th scope=col>alcohol</th><th scope=col>quality</th></tr></thead>\n",
       "<tbody>\n",
       "\t<tr><td> 7.4  </td><td>0.70  </td><td>0.00  </td><td>1.9   </td><td>0.076 </td><td>11    </td><td>34    </td><td>0.9978</td><td>3.51  </td><td>0.56  </td><td>9.4   </td><td>5     </td></tr>\n",
       "\t<tr><td> 7.8  </td><td>0.88  </td><td>0.00  </td><td>2.6   </td><td>0.098 </td><td>25    </td><td>67    </td><td>0.9968</td><td>3.20  </td><td>0.68  </td><td>9.8   </td><td>5     </td></tr>\n",
       "\t<tr><td> 7.8  </td><td>0.76  </td><td>0.04  </td><td>2.3   </td><td>0.092 </td><td>15    </td><td>54    </td><td>0.9970</td><td>3.26  </td><td>0.65  </td><td>9.8   </td><td>5     </td></tr>\n",
       "\t<tr><td>11.2  </td><td>0.28  </td><td>0.56  </td><td>1.9   </td><td>0.075 </td><td>17    </td><td>60    </td><td>0.9980</td><td>3.16  </td><td>0.58  </td><td>9.8   </td><td>6     </td></tr>\n",
       "\t<tr><td> 7.4  </td><td>0.70  </td><td>0.00  </td><td>1.9   </td><td>0.076 </td><td>11    </td><td>34    </td><td>0.9978</td><td>3.51  </td><td>0.56  </td><td>9.4   </td><td>5     </td></tr>\n",
       "\t<tr><td> 7.4  </td><td>0.66  </td><td>0.00  </td><td>1.8   </td><td>0.075 </td><td>13    </td><td>40    </td><td>0.9978</td><td>3.51  </td><td>0.56  </td><td>9.4   </td><td>5     </td></tr>\n",
       "</tbody>\n",
       "</table>\n"
      ],
      "text/latex": [
       "\\begin{tabular}{r|llllllllllll}\n",
       " fixed.acidity & volatile.acidity & citric.acid & residual.sugar & chlorides & free.sulfur.dioxide & total.sulfur.dioxide & density & pH & sulphates & alcohol & quality\\\\\n",
       "\\hline\n",
       "\t  7.4   & 0.70   & 0.00   & 1.9    & 0.076  & 11     & 34     & 0.9978 & 3.51   & 0.56   & 9.4    & 5     \\\\\n",
       "\t  7.8   & 0.88   & 0.00   & 2.6    & 0.098  & 25     & 67     & 0.9968 & 3.20   & 0.68   & 9.8    & 5     \\\\\n",
       "\t  7.8   & 0.76   & 0.04   & 2.3    & 0.092  & 15     & 54     & 0.9970 & 3.26   & 0.65   & 9.8    & 5     \\\\\n",
       "\t 11.2   & 0.28   & 0.56   & 1.9    & 0.075  & 17     & 60     & 0.9980 & 3.16   & 0.58   & 9.8    & 6     \\\\\n",
       "\t  7.4   & 0.70   & 0.00   & 1.9    & 0.076  & 11     & 34     & 0.9978 & 3.51   & 0.56   & 9.4    & 5     \\\\\n",
       "\t  7.4   & 0.66   & 0.00   & 1.8    & 0.075  & 13     & 40     & 0.9978 & 3.51   & 0.56   & 9.4    & 5     \\\\\n",
       "\\end{tabular}\n"
      ],
      "text/markdown": [
       "\n",
       "fixed.acidity | volatile.acidity | citric.acid | residual.sugar | chlorides | free.sulfur.dioxide | total.sulfur.dioxide | density | pH | sulphates | alcohol | quality | \n",
       "|---|---|---|---|---|---|\n",
       "|  7.4   | 0.70   | 0.00   | 1.9    | 0.076  | 11     | 34     | 0.9978 | 3.51   | 0.56   | 9.4    | 5      | \n",
       "|  7.8   | 0.88   | 0.00   | 2.6    | 0.098  | 25     | 67     | 0.9968 | 3.20   | 0.68   | 9.8    | 5      | \n",
       "|  7.8   | 0.76   | 0.04   | 2.3    | 0.092  | 15     | 54     | 0.9970 | 3.26   | 0.65   | 9.8    | 5      | \n",
       "| 11.2   | 0.28   | 0.56   | 1.9    | 0.075  | 17     | 60     | 0.9980 | 3.16   | 0.58   | 9.8    | 6      | \n",
       "|  7.4   | 0.70   | 0.00   | 1.9    | 0.076  | 11     | 34     | 0.9978 | 3.51   | 0.56   | 9.4    | 5      | \n",
       "|  7.4   | 0.66   | 0.00   | 1.8    | 0.075  | 13     | 40     | 0.9978 | 3.51   | 0.56   | 9.4    | 5      | \n",
       "\n",
       "\n"
      ],
      "text/plain": [
       "  fixed.acidity volatile.acidity citric.acid residual.sugar chlorides\n",
       "1  7.4          0.70             0.00        1.9            0.076    \n",
       "2  7.8          0.88             0.00        2.6            0.098    \n",
       "3  7.8          0.76             0.04        2.3            0.092    \n",
       "4 11.2          0.28             0.56        1.9            0.075    \n",
       "5  7.4          0.70             0.00        1.9            0.076    \n",
       "6  7.4          0.66             0.00        1.8            0.075    \n",
       "  free.sulfur.dioxide total.sulfur.dioxide density pH   sulphates alcohol\n",
       "1 11                  34                   0.9978  3.51 0.56      9.4    \n",
       "2 25                  67                   0.9968  3.20 0.68      9.8    \n",
       "3 15                  54                   0.9970  3.26 0.65      9.8    \n",
       "4 17                  60                   0.9980  3.16 0.58      9.8    \n",
       "5 11                  34                   0.9978  3.51 0.56      9.4    \n",
       "6 13                  40                   0.9978  3.51 0.56      9.4    \n",
       "  quality\n",
       "1 5      \n",
       "2 5      \n",
       "3 5      \n",
       "4 6      \n",
       "5 5      \n",
       "6 5      "
      ]
     },
     "metadata": {},
     "output_type": "display_data"
    },
    {
     "data": {},
     "metadata": {},
     "output_type": "display_data"
    },
    {
     "data": {},
     "metadata": {},
     "output_type": "display_data"
    },
    {
     "data": {
      "image/png": "[encoded data removed]",
      "text/plain": [
       "plot without title"
      ]
     },
     "metadata": {},
     "output_type": "display_data"
    },
    {
     "data": {},
     "metadata": {},
     "output_type": "display_data"
    },
    {
     "data": {
      "image/png": "[encoded data removed]",
      "text/plain": [
       "plot without title"
      ]
     },
     "metadata": {},
     "output_type": "display_data"
    },
    {
     "data": {
      "image/png": "[encoded data removed]",
      "text/plain": [
       "plot without title"
      ]
     },
     "metadata": {},
     "output_type": "display_data"
    }
   ],
   "source": [
    "#fixed.acidity volatile.acidity citric.acid residual.sugar chlorides free.sulfur.dioxide total.sulfur.dioxide density pH sulphates alcohol quality\n",
    "options(repr.plot.width = 5, repr.plot.height = 4)\n",
    "\n",
    "head(red_data)\n",
    "\n",
    "plot_fa <- red_data %>% \n",
    "    ggplot(aes(x = fixed.acidity, y = quality)) + \n",
    "    geom_point()\n",
    "plot_fa\n",
    "\n",
    "plot_va <- red_data %>% \n",
    "    ggplot(aes(x = volatile.acidity, y = quality)) +\n",
    "    geom_point()\n",
    "plot_va\n",
    "\n",
    "plot_ca <- red_data %>% \n",
    "    ggplot(aes(x = citric.acid, y = quality)) +\n",
    "    geom_point()\n",
    "plot_ca\n",
    "    "
   ]
  },
  {
   "cell_type": "markdown",
   "metadata": {},
   "source": [
    "# Yeying's Workspace"
   ]
  },
  {
   "cell_type": "code",
   "execution_count": null,
   "metadata": {},
   "outputs": [],
   "source": []
  },
  {
   "cell_type": "markdown",
   "metadata": {},
   "source": [
    "# Prayansh's Workspace"
   ]
  },
  {
   "cell_type": "code",
   "execution_count": null,
   "metadata": {},
   "outputs": [],
   "source": []
  }
 ],
 "metadata": {
  "kernelspec": {
   "display_name": "R",
   "language": "R",
   "name": "ir"
  },
  "language_info": {
   "codemirror_mode": "r",
   "file_extension": ".r",
   "mimetype": "text/x-r-source",
   "name": "R",
   "pygments_lexer": "r",
   "version": "3.4.1"
  }
 },
 "nbformat": 4,
 "nbformat_minor": 2
}
